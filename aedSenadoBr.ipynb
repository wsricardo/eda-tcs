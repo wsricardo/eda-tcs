{
 "cells": [
  {
   "cell_type": "markdown",
   "id": "2d236b99-8ebe-4f26-967b-b4ecc20f1897",
   "metadata": {},
   "source": [
    "# Dados Abertos - Senado Brasileiro, CEAPS"
   ]
  },
  {
   "cell_type": "markdown",
   "id": "648090f5-d812-4d39-a4cd-a638f3caf962",
   "metadata": {},
   "source": [
    "## Carregando módulos usados na análise."
   ]
  },
  {
   "cell_type": "code",
   "execution_count": 1,
   "id": "31fd6a4e-ec51-4d5f-bdc2-33482a4b234c",
   "metadata": {},
   "outputs": [],
   "source": [
    "import numpy as np\n",
    "import pandas as pd\n",
    "import matplotlib.pyplot as plt\n",
    "import plotly.express as px\n",
    "import re\n",
    "import csv\n",
    "import glob\n",
    "%matplotlib inline\n",
    "\n",
    "pd.options.plotting.backend = \"plotly\""
   ]
  },
  {
   "cell_type": "markdown",
   "id": "329d6dcf-899f-4489-954c-b5cfbf9655e6",
   "metadata": {},
   "source": [
    "## Carregando Dados"
   ]
  },
  {
   "cell_type": "markdown",
   "id": "49d6a818-c65e-4cee-89e6-c5e1014d4a8c",
   "metadata": {},
   "source": [
    "### Ano de 2022"
   ]
  },
  {
   "cell_type": "code",
   "execution_count": 2,
   "id": "34bbd83b-2ef7-4825-aa09-986b1357f1eb",
   "metadata": {},
   "outputs": [
    {
     "data": {
      "text/html": [
       "<div>\n",
       "<style scoped>\n",
       "    .dataframe tbody tr th:only-of-type {\n",
       "        vertical-align: middle;\n",
       "    }\n",
       "\n",
       "    .dataframe tbody tr th {\n",
       "        vertical-align: top;\n",
       "    }\n",
       "\n",
       "    .dataframe thead th {\n",
       "        text-align: right;\n",
       "    }\n",
       "</style>\n",
       "<table border=\"1\" class=\"dataframe\">\n",
       "  <thead>\n",
       "    <tr style=\"text-align: right;\">\n",
       "      <th></th>\n",
       "      <th>ANO</th>\n",
       "      <th>MES</th>\n",
       "      <th>SENADOR</th>\n",
       "      <th>TIPO_DESPESA</th>\n",
       "      <th>CNPJ_CPF</th>\n",
       "      <th>FORNECEDOR</th>\n",
       "      <th>DOCUMENTO</th>\n",
       "      <th>DATA</th>\n",
       "      <th>DETALHAMENTO</th>\n",
       "      <th>VALOR_REEMBOLSADO</th>\n",
       "      <th>COD_DOCUMENTO</th>\n",
       "    </tr>\n",
       "  </thead>\n",
       "  <tbody>\n",
       "    <tr>\n",
       "      <th>0</th>\n",
       "      <td>2022</td>\n",
       "      <td>1</td>\n",
       "      <td>ACIR GURGACZ</td>\n",
       "      <td>Aluguel de imóveis para escritório político, c...</td>\n",
       "      <td>004.948.028-63</td>\n",
       "      <td>GILBERTO PISELO DO NASCIMENTO</td>\n",
       "      <td>001/22</td>\n",
       "      <td>03/01/2022</td>\n",
       "      <td>Despesa com pagamento de aluguel de imóvel par...</td>\n",
       "      <td>6000</td>\n",
       "      <td>2173614</td>\n",
       "    </tr>\n",
       "    <tr>\n",
       "      <th>1</th>\n",
       "      <td>2022</td>\n",
       "      <td>1</td>\n",
       "      <td>ACIR GURGACZ</td>\n",
       "      <td>Divulgação da atividade parlamentar</td>\n",
       "      <td>26.320.603/0001-64</td>\n",
       "      <td>INFORMANAHORA</td>\n",
       "      <td>000000000000310/A</td>\n",
       "      <td>04/01/2022</td>\n",
       "      <td>Despesa com divulgação da atividade parlamenta...</td>\n",
       "      <td>1500</td>\n",
       "      <td>2173615</td>\n",
       "    </tr>\n",
       "    <tr>\n",
       "      <th>2</th>\n",
       "      <td>2022</td>\n",
       "      <td>1</td>\n",
       "      <td>ACIR GURGACZ</td>\n",
       "      <td>Divulgação da atividade parlamentar</td>\n",
       "      <td>13.659.201/0001-47</td>\n",
       "      <td>LINHA PURPURA FOTO E VIDEO LTDA</td>\n",
       "      <td>107</td>\n",
       "      <td>14/01/2022</td>\n",
       "      <td>Despesa com produção de texto e edição de víde...</td>\n",
       "      <td>6000</td>\n",
       "      <td>2173616</td>\n",
       "    </tr>\n",
       "    <tr>\n",
       "      <th>3</th>\n",
       "      <td>2022</td>\n",
       "      <td>1</td>\n",
       "      <td>ACIR GURGACZ</td>\n",
       "      <td>Divulgação da atividade parlamentar</td>\n",
       "      <td>23.652.846/0001-01</td>\n",
       "      <td>ROBERTO GUTIERREZ DA ROCHA M.E.I.</td>\n",
       "      <td>187</td>\n",
       "      <td>18/01/2022</td>\n",
       "      <td>Divulgação da atividade parlamentar</td>\n",
       "      <td>1000</td>\n",
       "      <td>2173618</td>\n",
       "    </tr>\n",
       "    <tr>\n",
       "      <th>4</th>\n",
       "      <td>2022</td>\n",
       "      <td>1</td>\n",
       "      <td>ACIR GURGACZ</td>\n",
       "      <td>Divulgação da atividade parlamentar</td>\n",
       "      <td>08.941.827/0001-01</td>\n",
       "      <td>RONDONIA DINÂMICA COM. E SERV. DE INFORMÁTICA ...</td>\n",
       "      <td>000000000001772/A</td>\n",
       "      <td>17/01/2022</td>\n",
       "      <td>Divulgação da atividade parlamentar</td>\n",
       "      <td>2000</td>\n",
       "      <td>2173617</td>\n",
       "    </tr>\n",
       "  </tbody>\n",
       "</table>\n",
       "</div>"
      ],
      "text/plain": [
       "    ANO  MES       SENADOR                                       TIPO_DESPESA  \\\n",
       "0  2022    1  ACIR GURGACZ  Aluguel de imóveis para escritório político, c...   \n",
       "1  2022    1  ACIR GURGACZ                Divulgação da atividade parlamentar   \n",
       "2  2022    1  ACIR GURGACZ                Divulgação da atividade parlamentar   \n",
       "3  2022    1  ACIR GURGACZ                Divulgação da atividade parlamentar   \n",
       "4  2022    1  ACIR GURGACZ                Divulgação da atividade parlamentar   \n",
       "\n",
       "             CNPJ_CPF                                         FORNECEDOR  \\\n",
       "0      004.948.028-63                      GILBERTO PISELO DO NASCIMENTO   \n",
       "1  26.320.603/0001-64                                      INFORMANAHORA   \n",
       "2  13.659.201/0001-47                    LINHA PURPURA FOTO E VIDEO LTDA   \n",
       "3  23.652.846/0001-01                  ROBERTO GUTIERREZ DA ROCHA M.E.I.   \n",
       "4  08.941.827/0001-01  RONDONIA DINÂMICA COM. E SERV. DE INFORMÁTICA ...   \n",
       "\n",
       "           DOCUMENTO        DATA  \\\n",
       "0             001/22  03/01/2022   \n",
       "1  000000000000310/A  04/01/2022   \n",
       "2                107  14/01/2022   \n",
       "3                187  18/01/2022   \n",
       "4  000000000001772/A  17/01/2022   \n",
       "\n",
       "                                        DETALHAMENTO VALOR_REEMBOLSADO  \\\n",
       "0  Despesa com pagamento de aluguel de imóvel par...              6000   \n",
       "1  Despesa com divulgação da atividade parlamenta...              1500   \n",
       "2  Despesa com produção de texto e edição de víde...              6000   \n",
       "3                Divulgação da atividade parlamentar              1000   \n",
       "4                Divulgação da atividade parlamentar              2000   \n",
       "\n",
       "   COD_DOCUMENTO  \n",
       "0        2173614  \n",
       "1        2173615  \n",
       "2        2173616  \n",
       "3        2173618  \n",
       "4        2173617  "
      ]
     },
     "execution_count": 2,
     "metadata": {},
     "output_type": "execute_result"
    }
   ],
   "source": [
    "# header=1 -> ignore first line header\n",
    "df = pd.read_csv('data/despesa_ceaps_2022.csv', delimiter=';', header=1, encoding='iso-8859-1')\n",
    "df.head()"
   ]
  },
  {
   "cell_type": "markdown",
   "id": "130c8c64-a27a-40e2-8177-29fc75a8972e",
   "metadata": {},
   "source": [
    "### Outros Anos"
   ]
  },
  {
   "cell_type": "code",
   "execution_count": 3,
   "id": "56671e69-a300-4f86-9115-03527493b235",
   "metadata": {},
   "outputs": [
    {
     "name": "stdout",
     "output_type": "stream",
     "text": [
      ">,  data/despesa_ceaps_2008.csv\n",
      ">,  data/despesa_ceaps_2009.csv\n",
      ">,  data/despesa_ceaps_2010.csv\n",
      ">,  data/despesa_ceaps_2011.csv\n",
      ">,  data/despesa_ceaps_2012.csv\n",
      ">,  data/despesa_ceaps_2013.csv\n",
      ">,  data/despesa_ceaps_2014.csv\n",
      ">,  data/despesa_ceaps_2015.csv\n",
      ">,  data/despesa_ceaps_2016.csv\n",
      ">,  data/despesa_ceaps_2017.csv\n",
      ">,  data/despesa_ceaps_2018.csv\n",
      ">,  data/despesa_ceaps_2019.csv\n",
      ">,  data/despesa_ceaps_2020.csv\n",
      ">,  data/despesa_ceaps_2021.csv\n",
      ">,  data/despesa_ceaps_2022.csv\n"
     ]
    }
   ],
   "source": [
    "datas = {}\n",
    "for file in sorted(glob.glob('data/*.csv')):\n",
    "    \n",
    "    if re.search(r'[0-9]+(.csv)', file):\n",
    "        print('>, ', file)\n",
    "        datas[ re.search(r'[0-9]+', file ).group(0) ] = pd.read_csv(file, delimiter=';', header=1, encoding='iso-8859-1')"
   ]
  },
  {
   "cell_type": "code",
   "execution_count": 4,
   "id": "2354861d-39ce-4016-99a0-6a3de5371e9a",
   "metadata": {},
   "outputs": [
    {
     "data": {
      "text/html": [
       "<div>\n",
       "<style scoped>\n",
       "    .dataframe tbody tr th:only-of-type {\n",
       "        vertical-align: middle;\n",
       "    }\n",
       "\n",
       "    .dataframe tbody tr th {\n",
       "        vertical-align: top;\n",
       "    }\n",
       "\n",
       "    .dataframe thead th {\n",
       "        text-align: right;\n",
       "    }\n",
       "</style>\n",
       "<table border=\"1\" class=\"dataframe\">\n",
       "  <thead>\n",
       "    <tr style=\"text-align: right;\">\n",
       "      <th></th>\n",
       "      <th>ANO</th>\n",
       "      <th>MES</th>\n",
       "      <th>SENADOR</th>\n",
       "      <th>TIPO_DESPESA</th>\n",
       "      <th>CNPJ_CPF</th>\n",
       "      <th>FORNECEDOR</th>\n",
       "      <th>DOCUMENTO</th>\n",
       "      <th>DATA</th>\n",
       "      <th>DETALHAMENTO</th>\n",
       "      <th>VALOR_REEMBOLSADO</th>\n",
       "      <th>COD_DOCUMENTO</th>\n",
       "    </tr>\n",
       "  </thead>\n",
       "  <tbody>\n",
       "    <tr>\n",
       "      <th>0</th>\n",
       "      <td>2008</td>\n",
       "      <td>9</td>\n",
       "      <td>ADA MELLO</td>\n",
       "      <td>Contratação de consultorias, assessorias, pesq...</td>\n",
       "      <td>NaN</td>\n",
       "      <td>NaN</td>\n",
       "      <td>NaN</td>\n",
       "      <td>NaN</td>\n",
       "      <td>NaN</td>\n",
       "      <td>12351,52</td>\n",
       "      <td>2.008091e+12</td>\n",
       "    </tr>\n",
       "    <tr>\n",
       "      <th>1</th>\n",
       "      <td>2008</td>\n",
       "      <td>9</td>\n",
       "      <td>ADA MELLO</td>\n",
       "      <td>Locomoção, hospedagem, alimentação, combustíve...</td>\n",
       "      <td>NaN</td>\n",
       "      <td>NaN</td>\n",
       "      <td>NaN</td>\n",
       "      <td>NaN</td>\n",
       "      <td>NaN</td>\n",
       "      <td>386,6</td>\n",
       "      <td>2.008091e+12</td>\n",
       "    </tr>\n",
       "    <tr>\n",
       "      <th>2</th>\n",
       "      <td>2008</td>\n",
       "      <td>10</td>\n",
       "      <td>ADA MELLO</td>\n",
       "      <td>Contratação de consultorias, assessorias, pesq...</td>\n",
       "      <td>NaN</td>\n",
       "      <td>NaN</td>\n",
       "      <td>NaN</td>\n",
       "      <td>NaN</td>\n",
       "      <td>NaN</td>\n",
       "      <td>12351,52</td>\n",
       "      <td>2.008101e+12</td>\n",
       "    </tr>\n",
       "    <tr>\n",
       "      <th>3</th>\n",
       "      <td>2008</td>\n",
       "      <td>10</td>\n",
       "      <td>ADA MELLO</td>\n",
       "      <td>Locomoção, hospedagem, alimentação, combustíve...</td>\n",
       "      <td>NaN</td>\n",
       "      <td>NaN</td>\n",
       "      <td>NaN</td>\n",
       "      <td>NaN</td>\n",
       "      <td>NaN</td>\n",
       "      <td>2610,68</td>\n",
       "      <td>2.008101e+12</td>\n",
       "    </tr>\n",
       "    <tr>\n",
       "      <th>4</th>\n",
       "      <td>2008</td>\n",
       "      <td>11</td>\n",
       "      <td>ADA MELLO</td>\n",
       "      <td>Contratação de consultorias, assessorias, pesq...</td>\n",
       "      <td>NaN</td>\n",
       "      <td>NaN</td>\n",
       "      <td>NaN</td>\n",
       "      <td>NaN</td>\n",
       "      <td>NaN</td>\n",
       "      <td>12351,52</td>\n",
       "      <td>2.008111e+12</td>\n",
       "    </tr>\n",
       "    <tr>\n",
       "      <th>...</th>\n",
       "      <td>...</td>\n",
       "      <td>...</td>\n",
       "      <td>...</td>\n",
       "      <td>...</td>\n",
       "      <td>...</td>\n",
       "      <td>...</td>\n",
       "      <td>...</td>\n",
       "      <td>...</td>\n",
       "      <td>...</td>\n",
       "      <td>...</td>\n",
       "      <td>...</td>\n",
       "    </tr>\n",
       "    <tr>\n",
       "      <th>317774</th>\n",
       "      <td>2022</td>\n",
       "      <td>12</td>\n",
       "      <td>ZEQUINHA MARINHO</td>\n",
       "      <td>Passagens aéreas, aquáticas e terrestres nacio...</td>\n",
       "      <td>22.052.777/0001-32</td>\n",
       "      <td>Exceller Tour</td>\n",
       "      <td>WIXHAI</td>\n",
       "      <td>06/12/2022</td>\n",
       "      <td>Companhia Aérea: LATAM, Localizador: WIXHAI. P...</td>\n",
       "      <td>2893,04</td>\n",
       "      <td>2.191398e+06</td>\n",
       "    </tr>\n",
       "    <tr>\n",
       "      <th>317775</th>\n",
       "      <td>2022</td>\n",
       "      <td>12</td>\n",
       "      <td>ZEQUINHA MARINHO</td>\n",
       "      <td>Passagens aéreas, aquáticas e terrestres nacio...</td>\n",
       "      <td>22.052.777/0001-32</td>\n",
       "      <td>Exceller Tour</td>\n",
       "      <td>WITOLM</td>\n",
       "      <td>09/12/2022</td>\n",
       "      <td>Companhia Aérea: GOL, Localizador: WITOLM. Pas...</td>\n",
       "      <td>1180,19</td>\n",
       "      <td>2.192272e+06</td>\n",
       "    </tr>\n",
       "    <tr>\n",
       "      <th>317776</th>\n",
       "      <td>2022</td>\n",
       "      <td>12</td>\n",
       "      <td>ZEQUINHA MARINHO</td>\n",
       "      <td>Passagens aéreas, aquáticas e terrestres nacio...</td>\n",
       "      <td>22.052.777/0001-32</td>\n",
       "      <td>Exceller Tour</td>\n",
       "      <td>THPKVQ</td>\n",
       "      <td>20/12/2022</td>\n",
       "      <td>Companhia Aérea: TAM, Localizador: THPKVQ. Pas...</td>\n",
       "      <td>2671,9</td>\n",
       "      <td>2.192274e+06</td>\n",
       "    </tr>\n",
       "    <tr>\n",
       "      <th>317777</th>\n",
       "      <td>2022</td>\n",
       "      <td>12</td>\n",
       "      <td>ZEQUINHA MARINHO</td>\n",
       "      <td>Passagens aéreas, aquáticas e terrestres nacio...</td>\n",
       "      <td>22.052.777/0001-32</td>\n",
       "      <td>Exceller Tour</td>\n",
       "      <td>QNN9HX</td>\n",
       "      <td>21/12/2022</td>\n",
       "      <td>Companhia Aérea: AZUL, Localizador: QNN9HX. Pa...</td>\n",
       "      <td>1334,31</td>\n",
       "      <td>2.192244e+06</td>\n",
       "    </tr>\n",
       "    <tr>\n",
       "      <th>317778</th>\n",
       "      <td>2022</td>\n",
       "      <td>12</td>\n",
       "      <td>ZEQUINHA MARINHO</td>\n",
       "      <td>Passagens aéreas, aquáticas e terrestres nacio...</td>\n",
       "      <td>22.052.777/0001-32</td>\n",
       "      <td>Exceller Tour</td>\n",
       "      <td>WMQWBX</td>\n",
       "      <td>30/12/2022</td>\n",
       "      <td>Companhia Aérea: TAM, Localizador: WMQWBX. Pas...</td>\n",
       "      <td>2250,72</td>\n",
       "      <td>2.193622e+06</td>\n",
       "    </tr>\n",
       "  </tbody>\n",
       "</table>\n",
       "<p>317779 rows × 11 columns</p>\n",
       "</div>"
      ],
      "text/plain": [
       "         ANO  MES           SENADOR  \\\n",
       "0       2008    9         ADA MELLO   \n",
       "1       2008    9         ADA MELLO   \n",
       "2       2008   10         ADA MELLO   \n",
       "3       2008   10         ADA MELLO   \n",
       "4       2008   11         ADA MELLO   \n",
       "...      ...  ...               ...   \n",
       "317774  2022   12  ZEQUINHA MARINHO   \n",
       "317775  2022   12  ZEQUINHA MARINHO   \n",
       "317776  2022   12  ZEQUINHA MARINHO   \n",
       "317777  2022   12  ZEQUINHA MARINHO   \n",
       "317778  2022   12  ZEQUINHA MARINHO   \n",
       "\n",
       "                                             TIPO_DESPESA            CNPJ_CPF  \\\n",
       "0       Contratação de consultorias, assessorias, pesq...                 NaN   \n",
       "1       Locomoção, hospedagem, alimentação, combustíve...                 NaN   \n",
       "2       Contratação de consultorias, assessorias, pesq...                 NaN   \n",
       "3       Locomoção, hospedagem, alimentação, combustíve...                 NaN   \n",
       "4       Contratação de consultorias, assessorias, pesq...                 NaN   \n",
       "...                                                   ...                 ...   \n",
       "317774  Passagens aéreas, aquáticas e terrestres nacio...  22.052.777/0001-32   \n",
       "317775  Passagens aéreas, aquáticas e terrestres nacio...  22.052.777/0001-32   \n",
       "317776  Passagens aéreas, aquáticas e terrestres nacio...  22.052.777/0001-32   \n",
       "317777  Passagens aéreas, aquáticas e terrestres nacio...  22.052.777/0001-32   \n",
       "317778  Passagens aéreas, aquáticas e terrestres nacio...  22.052.777/0001-32   \n",
       "\n",
       "           FORNECEDOR DOCUMENTO        DATA  \\\n",
       "0                 NaN       NaN         NaN   \n",
       "1                 NaN       NaN         NaN   \n",
       "2                 NaN       NaN         NaN   \n",
       "3                 NaN       NaN         NaN   \n",
       "4                 NaN       NaN         NaN   \n",
       "...               ...       ...         ...   \n",
       "317774  Exceller Tour    WIXHAI  06/12/2022   \n",
       "317775  Exceller Tour    WITOLM  09/12/2022   \n",
       "317776  Exceller Tour    THPKVQ  20/12/2022   \n",
       "317777  Exceller Tour    QNN9HX  21/12/2022   \n",
       "317778  Exceller Tour    WMQWBX  30/12/2022   \n",
       "\n",
       "                                             DETALHAMENTO VALOR_REEMBOLSADO  \\\n",
       "0                                                     NaN          12351,52   \n",
       "1                                                     NaN             386,6   \n",
       "2                                                     NaN          12351,52   \n",
       "3                                                     NaN           2610,68   \n",
       "4                                                     NaN          12351,52   \n",
       "...                                                   ...               ...   \n",
       "317774  Companhia Aérea: LATAM, Localizador: WIXHAI. P...           2893,04   \n",
       "317775  Companhia Aérea: GOL, Localizador: WITOLM. Pas...           1180,19   \n",
       "317776  Companhia Aérea: TAM, Localizador: THPKVQ. Pas...            2671,9   \n",
       "317777  Companhia Aérea: AZUL, Localizador: QNN9HX. Pa...           1334,31   \n",
       "317778  Companhia Aérea: TAM, Localizador: WMQWBX. Pas...           2250,72   \n",
       "\n",
       "        COD_DOCUMENTO  \n",
       "0        2.008091e+12  \n",
       "1        2.008091e+12  \n",
       "2        2.008101e+12  \n",
       "3        2.008101e+12  \n",
       "4        2.008111e+12  \n",
       "...               ...  \n",
       "317774   2.191398e+06  \n",
       "317775   2.192272e+06  \n",
       "317776   2.192274e+06  \n",
       "317777   2.192244e+06  \n",
       "317778   2.193622e+06  \n",
       "\n",
       "[317779 rows x 11 columns]"
      ]
     },
     "execution_count": 4,
     "metadata": {},
     "output_type": "execute_result"
    }
   ],
   "source": [
    "dff = pd.concat(datas, ignore_index=True)\n",
    "dff"
   ]
  },
  {
   "cell_type": "code",
   "execution_count": 5,
   "id": "e2d41c7e-e666-44ce-b99c-30ea8acee634",
   "metadata": {},
   "outputs": [
    {
     "data": {
      "text/plain": [
       "0         12351,52\n",
       "1            386,6\n",
       "2         12351,52\n",
       "3          2610,68\n",
       "4         12351,52\n",
       "            ...   \n",
       "317774     2893,04\n",
       "317775     1180,19\n",
       "317776      2671,9\n",
       "317777     1334,31\n",
       "317778     2250,72\n",
       "Name: VALOR_REEMBOLSADO, Length: 317779, dtype: object"
      ]
     },
     "execution_count": 5,
     "metadata": {},
     "output_type": "execute_result"
    }
   ],
   "source": [
    "#func = lamda l: \n",
    "#datas[ano]['VALOR_REEMBOLSADO'] = s.mask( re.search(r'[0-9]+(\\,)[0-9]+|[0-9]+(\\.)[0-9]+', s) != None , 0 )\n",
    "#dff.mask( pd.isna( dff['VALOR_REEMBOLSADO']), 0) \n",
    "dff['VALOR_REEMBOLSADO'].fillna(0.0)"
   ]
  },
  {
   "cell_type": "code",
   "execution_count": 6,
   "id": "36acd96e-40a9-4483-8a92-94199fcd7fe2",
   "metadata": {},
   "outputs": [],
   "source": [
    "dff = dff.dropna(subset=['DATA'])"
   ]
  },
  {
   "cell_type": "code",
   "execution_count": 7,
   "id": "bb99c926-ecad-448d-b99c-daed38663a0a",
   "metadata": {},
   "outputs": [
    {
     "data": {
      "text/html": [
       "<div>\n",
       "<style scoped>\n",
       "    .dataframe tbody tr th:only-of-type {\n",
       "        vertical-align: middle;\n",
       "    }\n",
       "\n",
       "    .dataframe tbody tr th {\n",
       "        vertical-align: top;\n",
       "    }\n",
       "\n",
       "    .dataframe thead th {\n",
       "        text-align: right;\n",
       "    }\n",
       "</style>\n",
       "<table border=\"1\" class=\"dataframe\">\n",
       "  <thead>\n",
       "    <tr style=\"text-align: right;\">\n",
       "      <th></th>\n",
       "      <th>ANO</th>\n",
       "      <th>MES</th>\n",
       "      <th>SENADOR</th>\n",
       "      <th>TIPO_DESPESA</th>\n",
       "      <th>CNPJ_CPF</th>\n",
       "      <th>FORNECEDOR</th>\n",
       "      <th>DOCUMENTO</th>\n",
       "      <th>DATA</th>\n",
       "      <th>DETALHAMENTO</th>\n",
       "      <th>VALOR_REEMBOLSADO</th>\n",
       "      <th>COD_DOCUMENTO</th>\n",
       "    </tr>\n",
       "  </thead>\n",
       "  <tbody>\n",
       "    <tr>\n",
       "      <th>2449</th>\n",
       "      <td>2009</td>\n",
       "      <td>12</td>\n",
       "      <td>ACIR GURGACZ</td>\n",
       "      <td>Aluguel de imóveis para escritório político, c...</td>\n",
       "      <td>004.948.028-63</td>\n",
       "      <td>GILBERTO PISELO DO NASCIMENTO</td>\n",
       "      <td>NaN</td>\n",
       "      <td>11/12/2009</td>\n",
       "      <td>NaN</td>\n",
       "      <td>5000</td>\n",
       "      <td>222467.0</td>\n",
       "    </tr>\n",
       "    <tr>\n",
       "      <th>2450</th>\n",
       "      <td>2009</td>\n",
       "      <td>12</td>\n",
       "      <td>ACIR GURGACZ</td>\n",
       "      <td>Divulgação da atividade parlamentar</td>\n",
       "      <td>02.831.112/0002-09</td>\n",
       "      <td>INTERCOM INTERMEDIAÇÕES E COMUNICAÇÃO INTEGRAD...</td>\n",
       "      <td>000330</td>\n",
       "      <td>09/12/2009</td>\n",
       "      <td>NaN</td>\n",
       "      <td>12620</td>\n",
       "      <td>222466.0</td>\n",
       "    </tr>\n",
       "    <tr>\n",
       "      <th>2456</th>\n",
       "      <td>2009</td>\n",
       "      <td>4</td>\n",
       "      <td>ADELMIR SANTANA</td>\n",
       "      <td>Locomoção, hospedagem, alimentação, combustíve...</td>\n",
       "      <td>00.306.597/0016-83</td>\n",
       "      <td>Cascol combustíveis para veículos Ltda</td>\n",
       "      <td>106471</td>\n",
       "      <td>12/04/2009</td>\n",
       "      <td>NaN</td>\n",
       "      <td>179,01</td>\n",
       "      <td>165740.0</td>\n",
       "    </tr>\n",
       "    <tr>\n",
       "      <th>2457</th>\n",
       "      <td>2009</td>\n",
       "      <td>4</td>\n",
       "      <td>ADELMIR SANTANA</td>\n",
       "      <td>Locomoção, hospedagem, alimentação, combustíve...</td>\n",
       "      <td>00.358.192/0001-02</td>\n",
       "      <td>Ribeiro e Pereira Ltda</td>\n",
       "      <td>77472</td>\n",
       "      <td>04/04/2009</td>\n",
       "      <td>NaN</td>\n",
       "      <td>30</td>\n",
       "      <td>165739.0</td>\n",
       "    </tr>\n",
       "    <tr>\n",
       "      <th>2458</th>\n",
       "      <td>2009</td>\n",
       "      <td>4</td>\n",
       "      <td>ADELMIR SANTANA</td>\n",
       "      <td>Locomoção, hospedagem, alimentação, combustíve...</td>\n",
       "      <td>06.098.111/0001-69</td>\n",
       "      <td>Tudo de Bom Comércio de alimentos Ltda</td>\n",
       "      <td>10169</td>\n",
       "      <td>14/04/2009</td>\n",
       "      <td>NaN</td>\n",
       "      <td>215,8</td>\n",
       "      <td>165741.0</td>\n",
       "    </tr>\n",
       "    <tr>\n",
       "      <th>...</th>\n",
       "      <td>...</td>\n",
       "      <td>...</td>\n",
       "      <td>...</td>\n",
       "      <td>...</td>\n",
       "      <td>...</td>\n",
       "      <td>...</td>\n",
       "      <td>...</td>\n",
       "      <td>...</td>\n",
       "      <td>...</td>\n",
       "      <td>...</td>\n",
       "      <td>...</td>\n",
       "    </tr>\n",
       "    <tr>\n",
       "      <th>317774</th>\n",
       "      <td>2022</td>\n",
       "      <td>12</td>\n",
       "      <td>ZEQUINHA MARINHO</td>\n",
       "      <td>Passagens aéreas, aquáticas e terrestres nacio...</td>\n",
       "      <td>22.052.777/0001-32</td>\n",
       "      <td>Exceller Tour</td>\n",
       "      <td>WIXHAI</td>\n",
       "      <td>06/12/2022</td>\n",
       "      <td>Companhia Aérea: LATAM, Localizador: WIXHAI. P...</td>\n",
       "      <td>2893,04</td>\n",
       "      <td>2191398.0</td>\n",
       "    </tr>\n",
       "    <tr>\n",
       "      <th>317775</th>\n",
       "      <td>2022</td>\n",
       "      <td>12</td>\n",
       "      <td>ZEQUINHA MARINHO</td>\n",
       "      <td>Passagens aéreas, aquáticas e terrestres nacio...</td>\n",
       "      <td>22.052.777/0001-32</td>\n",
       "      <td>Exceller Tour</td>\n",
       "      <td>WITOLM</td>\n",
       "      <td>09/12/2022</td>\n",
       "      <td>Companhia Aérea: GOL, Localizador: WITOLM. Pas...</td>\n",
       "      <td>1180,19</td>\n",
       "      <td>2192272.0</td>\n",
       "    </tr>\n",
       "    <tr>\n",
       "      <th>317776</th>\n",
       "      <td>2022</td>\n",
       "      <td>12</td>\n",
       "      <td>ZEQUINHA MARINHO</td>\n",
       "      <td>Passagens aéreas, aquáticas e terrestres nacio...</td>\n",
       "      <td>22.052.777/0001-32</td>\n",
       "      <td>Exceller Tour</td>\n",
       "      <td>THPKVQ</td>\n",
       "      <td>20/12/2022</td>\n",
       "      <td>Companhia Aérea: TAM, Localizador: THPKVQ. Pas...</td>\n",
       "      <td>2671,9</td>\n",
       "      <td>2192274.0</td>\n",
       "    </tr>\n",
       "    <tr>\n",
       "      <th>317777</th>\n",
       "      <td>2022</td>\n",
       "      <td>12</td>\n",
       "      <td>ZEQUINHA MARINHO</td>\n",
       "      <td>Passagens aéreas, aquáticas e terrestres nacio...</td>\n",
       "      <td>22.052.777/0001-32</td>\n",
       "      <td>Exceller Tour</td>\n",
       "      <td>QNN9HX</td>\n",
       "      <td>21/12/2022</td>\n",
       "      <td>Companhia Aérea: AZUL, Localizador: QNN9HX. Pa...</td>\n",
       "      <td>1334,31</td>\n",
       "      <td>2192244.0</td>\n",
       "    </tr>\n",
       "    <tr>\n",
       "      <th>317778</th>\n",
       "      <td>2022</td>\n",
       "      <td>12</td>\n",
       "      <td>ZEQUINHA MARINHO</td>\n",
       "      <td>Passagens aéreas, aquáticas e terrestres nacio...</td>\n",
       "      <td>22.052.777/0001-32</td>\n",
       "      <td>Exceller Tour</td>\n",
       "      <td>WMQWBX</td>\n",
       "      <td>30/12/2022</td>\n",
       "      <td>Companhia Aérea: TAM, Localizador: WMQWBX. Pas...</td>\n",
       "      <td>2250,72</td>\n",
       "      <td>2193622.0</td>\n",
       "    </tr>\n",
       "  </tbody>\n",
       "</table>\n",
       "<p>314635 rows × 11 columns</p>\n",
       "</div>"
      ],
      "text/plain": [
       "         ANO  MES           SENADOR  \\\n",
       "2449    2009   12      ACIR GURGACZ   \n",
       "2450    2009   12      ACIR GURGACZ   \n",
       "2456    2009    4   ADELMIR SANTANA   \n",
       "2457    2009    4   ADELMIR SANTANA   \n",
       "2458    2009    4   ADELMIR SANTANA   \n",
       "...      ...  ...               ...   \n",
       "317774  2022   12  ZEQUINHA MARINHO   \n",
       "317775  2022   12  ZEQUINHA MARINHO   \n",
       "317776  2022   12  ZEQUINHA MARINHO   \n",
       "317777  2022   12  ZEQUINHA MARINHO   \n",
       "317778  2022   12  ZEQUINHA MARINHO   \n",
       "\n",
       "                                             TIPO_DESPESA            CNPJ_CPF  \\\n",
       "2449    Aluguel de imóveis para escritório político, c...      004.948.028-63   \n",
       "2450                  Divulgação da atividade parlamentar  02.831.112/0002-09   \n",
       "2456    Locomoção, hospedagem, alimentação, combustíve...  00.306.597/0016-83   \n",
       "2457    Locomoção, hospedagem, alimentação, combustíve...  00.358.192/0001-02   \n",
       "2458    Locomoção, hospedagem, alimentação, combustíve...  06.098.111/0001-69   \n",
       "...                                                   ...                 ...   \n",
       "317774  Passagens aéreas, aquáticas e terrestres nacio...  22.052.777/0001-32   \n",
       "317775  Passagens aéreas, aquáticas e terrestres nacio...  22.052.777/0001-32   \n",
       "317776  Passagens aéreas, aquáticas e terrestres nacio...  22.052.777/0001-32   \n",
       "317777  Passagens aéreas, aquáticas e terrestres nacio...  22.052.777/0001-32   \n",
       "317778  Passagens aéreas, aquáticas e terrestres nacio...  22.052.777/0001-32   \n",
       "\n",
       "                                               FORNECEDOR DOCUMENTO  \\\n",
       "2449                        GILBERTO PISELO DO NASCIMENTO       NaN   \n",
       "2450    INTERCOM INTERMEDIAÇÕES E COMUNICAÇÃO INTEGRAD...    000330   \n",
       "2456               Cascol combustíveis para veículos Ltda    106471   \n",
       "2457                               Ribeiro e Pereira Ltda     77472   \n",
       "2458               Tudo de Bom Comércio de alimentos Ltda     10169   \n",
       "...                                                   ...       ...   \n",
       "317774                                      Exceller Tour    WIXHAI   \n",
       "317775                                      Exceller Tour    WITOLM   \n",
       "317776                                      Exceller Tour    THPKVQ   \n",
       "317777                                      Exceller Tour    QNN9HX   \n",
       "317778                                      Exceller Tour    WMQWBX   \n",
       "\n",
       "              DATA                                       DETALHAMENTO  \\\n",
       "2449    11/12/2009                                                NaN   \n",
       "2450    09/12/2009                                                NaN   \n",
       "2456    12/04/2009                                                NaN   \n",
       "2457    04/04/2009                                                NaN   \n",
       "2458    14/04/2009                                                NaN   \n",
       "...            ...                                                ...   \n",
       "317774  06/12/2022  Companhia Aérea: LATAM, Localizador: WIXHAI. P...   \n",
       "317775  09/12/2022  Companhia Aérea: GOL, Localizador: WITOLM. Pas...   \n",
       "317776  20/12/2022  Companhia Aérea: TAM, Localizador: THPKVQ. Pas...   \n",
       "317777  21/12/2022  Companhia Aérea: AZUL, Localizador: QNN9HX. Pa...   \n",
       "317778  30/12/2022  Companhia Aérea: TAM, Localizador: WMQWBX. Pas...   \n",
       "\n",
       "       VALOR_REEMBOLSADO  COD_DOCUMENTO  \n",
       "2449                5000       222467.0  \n",
       "2450               12620       222466.0  \n",
       "2456              179,01       165740.0  \n",
       "2457                  30       165739.0  \n",
       "2458               215,8       165741.0  \n",
       "...                  ...            ...  \n",
       "317774           2893,04      2191398.0  \n",
       "317775           1180,19      2192272.0  \n",
       "317776            2671,9      2192274.0  \n",
       "317777           1334,31      2192244.0  \n",
       "317778           2250,72      2193622.0  \n",
       "\n",
       "[314635 rows x 11 columns]"
      ]
     },
     "execution_count": 7,
     "metadata": {},
     "output_type": "execute_result"
    }
   ],
   "source": [
    "dff"
   ]
  },
  {
   "cell_type": "code",
   "execution_count": 8,
   "id": "1af5c6b0-e040-4c4c-a11d-6f209a6158b8",
   "metadata": {},
   "outputs": [],
   "source": [
    "\n",
    "s = dff['VALOR_REEMBOLSADO'].apply(lambda x: True if re.search(r'[0-9]+(,)[0-9]+|[0-9]+(.)[0-9]+|[0-9]+', x ) == None else False)\n",
    "#dff.mask( dff.apply( lambda x: True if re.search(r'[0-9]+(\\,)[0-9]+|[0-9]+(\\.)[0-9]+', x) == None else False), 0 )"
   ]
  },
  {
   "cell_type": "code",
   "execution_count": 9,
   "id": "76c459af-1ca0-4192-96e9-990e194aa0fa",
   "metadata": {},
   "outputs": [
    {
     "data": {
      "text/html": [
       "<div>\n",
       "<style scoped>\n",
       "    .dataframe tbody tr th:only-of-type {\n",
       "        vertical-align: middle;\n",
       "    }\n",
       "\n",
       "    .dataframe tbody tr th {\n",
       "        vertical-align: top;\n",
       "    }\n",
       "\n",
       "    .dataframe thead th {\n",
       "        text-align: right;\n",
       "    }\n",
       "</style>\n",
       "<table border=\"1\" class=\"dataframe\">\n",
       "  <thead>\n",
       "    <tr style=\"text-align: right;\">\n",
       "      <th></th>\n",
       "      <th>ANO</th>\n",
       "      <th>MES</th>\n",
       "      <th>SENADOR</th>\n",
       "      <th>TIPO_DESPESA</th>\n",
       "      <th>CNPJ_CPF</th>\n",
       "      <th>FORNECEDOR</th>\n",
       "      <th>DOCUMENTO</th>\n",
       "      <th>DATA</th>\n",
       "      <th>DETALHAMENTO</th>\n",
       "      <th>VALOR_REEMBOLSADO</th>\n",
       "      <th>COD_DOCUMENTO</th>\n",
       "    </tr>\n",
       "  </thead>\n",
       "  <tbody>\n",
       "    <tr>\n",
       "      <th>2449</th>\n",
       "      <td>2009</td>\n",
       "      <td>12</td>\n",
       "      <td>ACIR GURGACZ</td>\n",
       "      <td>Aluguel de imóveis para escritório político, c...</td>\n",
       "      <td>004.948.028-63</td>\n",
       "      <td>GILBERTO PISELO DO NASCIMENTO</td>\n",
       "      <td>NaN</td>\n",
       "      <td>11/12/2009</td>\n",
       "      <td>NaN</td>\n",
       "      <td>5000</td>\n",
       "      <td>222467.0</td>\n",
       "    </tr>\n",
       "    <tr>\n",
       "      <th>2450</th>\n",
       "      <td>2009</td>\n",
       "      <td>12</td>\n",
       "      <td>ACIR GURGACZ</td>\n",
       "      <td>Divulgação da atividade parlamentar</td>\n",
       "      <td>02.831.112/0002-09</td>\n",
       "      <td>INTERCOM INTERMEDIAÇÕES E COMUNICAÇÃO INTEGRAD...</td>\n",
       "      <td>000330</td>\n",
       "      <td>09/12/2009</td>\n",
       "      <td>NaN</td>\n",
       "      <td>12620</td>\n",
       "      <td>222466.0</td>\n",
       "    </tr>\n",
       "    <tr>\n",
       "      <th>2456</th>\n",
       "      <td>2009</td>\n",
       "      <td>4</td>\n",
       "      <td>ADELMIR SANTANA</td>\n",
       "      <td>Locomoção, hospedagem, alimentação, combustíve...</td>\n",
       "      <td>00.306.597/0016-83</td>\n",
       "      <td>Cascol combustíveis para veículos Ltda</td>\n",
       "      <td>106471</td>\n",
       "      <td>12/04/2009</td>\n",
       "      <td>NaN</td>\n",
       "      <td>179,01</td>\n",
       "      <td>165740.0</td>\n",
       "    </tr>\n",
       "    <tr>\n",
       "      <th>2457</th>\n",
       "      <td>2009</td>\n",
       "      <td>4</td>\n",
       "      <td>ADELMIR SANTANA</td>\n",
       "      <td>Locomoção, hospedagem, alimentação, combustíve...</td>\n",
       "      <td>00.358.192/0001-02</td>\n",
       "      <td>Ribeiro e Pereira Ltda</td>\n",
       "      <td>77472</td>\n",
       "      <td>04/04/2009</td>\n",
       "      <td>NaN</td>\n",
       "      <td>30</td>\n",
       "      <td>165739.0</td>\n",
       "    </tr>\n",
       "    <tr>\n",
       "      <th>2458</th>\n",
       "      <td>2009</td>\n",
       "      <td>4</td>\n",
       "      <td>ADELMIR SANTANA</td>\n",
       "      <td>Locomoção, hospedagem, alimentação, combustíve...</td>\n",
       "      <td>06.098.111/0001-69</td>\n",
       "      <td>Tudo de Bom Comércio de alimentos Ltda</td>\n",
       "      <td>10169</td>\n",
       "      <td>14/04/2009</td>\n",
       "      <td>NaN</td>\n",
       "      <td>215,8</td>\n",
       "      <td>165741.0</td>\n",
       "    </tr>\n",
       "    <tr>\n",
       "      <th>...</th>\n",
       "      <td>...</td>\n",
       "      <td>...</td>\n",
       "      <td>...</td>\n",
       "      <td>...</td>\n",
       "      <td>...</td>\n",
       "      <td>...</td>\n",
       "      <td>...</td>\n",
       "      <td>...</td>\n",
       "      <td>...</td>\n",
       "      <td>...</td>\n",
       "      <td>...</td>\n",
       "    </tr>\n",
       "    <tr>\n",
       "      <th>317774</th>\n",
       "      <td>2022</td>\n",
       "      <td>12</td>\n",
       "      <td>ZEQUINHA MARINHO</td>\n",
       "      <td>Passagens aéreas, aquáticas e terrestres nacio...</td>\n",
       "      <td>22.052.777/0001-32</td>\n",
       "      <td>Exceller Tour</td>\n",
       "      <td>WIXHAI</td>\n",
       "      <td>06/12/2022</td>\n",
       "      <td>Companhia Aérea: LATAM, Localizador: WIXHAI. P...</td>\n",
       "      <td>2893,04</td>\n",
       "      <td>2191398.0</td>\n",
       "    </tr>\n",
       "    <tr>\n",
       "      <th>317775</th>\n",
       "      <td>2022</td>\n",
       "      <td>12</td>\n",
       "      <td>ZEQUINHA MARINHO</td>\n",
       "      <td>Passagens aéreas, aquáticas e terrestres nacio...</td>\n",
       "      <td>22.052.777/0001-32</td>\n",
       "      <td>Exceller Tour</td>\n",
       "      <td>WITOLM</td>\n",
       "      <td>09/12/2022</td>\n",
       "      <td>Companhia Aérea: GOL, Localizador: WITOLM. Pas...</td>\n",
       "      <td>1180,19</td>\n",
       "      <td>2192272.0</td>\n",
       "    </tr>\n",
       "    <tr>\n",
       "      <th>317776</th>\n",
       "      <td>2022</td>\n",
       "      <td>12</td>\n",
       "      <td>ZEQUINHA MARINHO</td>\n",
       "      <td>Passagens aéreas, aquáticas e terrestres nacio...</td>\n",
       "      <td>22.052.777/0001-32</td>\n",
       "      <td>Exceller Tour</td>\n",
       "      <td>THPKVQ</td>\n",
       "      <td>20/12/2022</td>\n",
       "      <td>Companhia Aérea: TAM, Localizador: THPKVQ. Pas...</td>\n",
       "      <td>2671,9</td>\n",
       "      <td>2192274.0</td>\n",
       "    </tr>\n",
       "    <tr>\n",
       "      <th>317777</th>\n",
       "      <td>2022</td>\n",
       "      <td>12</td>\n",
       "      <td>ZEQUINHA MARINHO</td>\n",
       "      <td>Passagens aéreas, aquáticas e terrestres nacio...</td>\n",
       "      <td>22.052.777/0001-32</td>\n",
       "      <td>Exceller Tour</td>\n",
       "      <td>QNN9HX</td>\n",
       "      <td>21/12/2022</td>\n",
       "      <td>Companhia Aérea: AZUL, Localizador: QNN9HX. Pa...</td>\n",
       "      <td>1334,31</td>\n",
       "      <td>2192244.0</td>\n",
       "    </tr>\n",
       "    <tr>\n",
       "      <th>317778</th>\n",
       "      <td>2022</td>\n",
       "      <td>12</td>\n",
       "      <td>ZEQUINHA MARINHO</td>\n",
       "      <td>Passagens aéreas, aquáticas e terrestres nacio...</td>\n",
       "      <td>22.052.777/0001-32</td>\n",
       "      <td>Exceller Tour</td>\n",
       "      <td>WMQWBX</td>\n",
       "      <td>30/12/2022</td>\n",
       "      <td>Companhia Aérea: TAM, Localizador: WMQWBX. Pas...</td>\n",
       "      <td>2250,72</td>\n",
       "      <td>2193622.0</td>\n",
       "    </tr>\n",
       "  </tbody>\n",
       "</table>\n",
       "<p>314635 rows × 11 columns</p>\n",
       "</div>"
      ],
      "text/plain": [
       "         ANO  MES           SENADOR  \\\n",
       "2449    2009   12      ACIR GURGACZ   \n",
       "2450    2009   12      ACIR GURGACZ   \n",
       "2456    2009    4   ADELMIR SANTANA   \n",
       "2457    2009    4   ADELMIR SANTANA   \n",
       "2458    2009    4   ADELMIR SANTANA   \n",
       "...      ...  ...               ...   \n",
       "317774  2022   12  ZEQUINHA MARINHO   \n",
       "317775  2022   12  ZEQUINHA MARINHO   \n",
       "317776  2022   12  ZEQUINHA MARINHO   \n",
       "317777  2022   12  ZEQUINHA MARINHO   \n",
       "317778  2022   12  ZEQUINHA MARINHO   \n",
       "\n",
       "                                             TIPO_DESPESA            CNPJ_CPF  \\\n",
       "2449    Aluguel de imóveis para escritório político, c...      004.948.028-63   \n",
       "2450                  Divulgação da atividade parlamentar  02.831.112/0002-09   \n",
       "2456    Locomoção, hospedagem, alimentação, combustíve...  00.306.597/0016-83   \n",
       "2457    Locomoção, hospedagem, alimentação, combustíve...  00.358.192/0001-02   \n",
       "2458    Locomoção, hospedagem, alimentação, combustíve...  06.098.111/0001-69   \n",
       "...                                                   ...                 ...   \n",
       "317774  Passagens aéreas, aquáticas e terrestres nacio...  22.052.777/0001-32   \n",
       "317775  Passagens aéreas, aquáticas e terrestres nacio...  22.052.777/0001-32   \n",
       "317776  Passagens aéreas, aquáticas e terrestres nacio...  22.052.777/0001-32   \n",
       "317777  Passagens aéreas, aquáticas e terrestres nacio...  22.052.777/0001-32   \n",
       "317778  Passagens aéreas, aquáticas e terrestres nacio...  22.052.777/0001-32   \n",
       "\n",
       "                                               FORNECEDOR DOCUMENTO  \\\n",
       "2449                        GILBERTO PISELO DO NASCIMENTO       NaN   \n",
       "2450    INTERCOM INTERMEDIAÇÕES E COMUNICAÇÃO INTEGRAD...    000330   \n",
       "2456               Cascol combustíveis para veículos Ltda    106471   \n",
       "2457                               Ribeiro e Pereira Ltda     77472   \n",
       "2458               Tudo de Bom Comércio de alimentos Ltda     10169   \n",
       "...                                                   ...       ...   \n",
       "317774                                      Exceller Tour    WIXHAI   \n",
       "317775                                      Exceller Tour    WITOLM   \n",
       "317776                                      Exceller Tour    THPKVQ   \n",
       "317777                                      Exceller Tour    QNN9HX   \n",
       "317778                                      Exceller Tour    WMQWBX   \n",
       "\n",
       "              DATA                                       DETALHAMENTO  \\\n",
       "2449    11/12/2009                                                NaN   \n",
       "2450    09/12/2009                                                NaN   \n",
       "2456    12/04/2009                                                NaN   \n",
       "2457    04/04/2009                                                NaN   \n",
       "2458    14/04/2009                                                NaN   \n",
       "...            ...                                                ...   \n",
       "317774  06/12/2022  Companhia Aérea: LATAM, Localizador: WIXHAI. P...   \n",
       "317775  09/12/2022  Companhia Aérea: GOL, Localizador: WITOLM. Pas...   \n",
       "317776  20/12/2022  Companhia Aérea: TAM, Localizador: THPKVQ. Pas...   \n",
       "317777  21/12/2022  Companhia Aérea: AZUL, Localizador: QNN9HX. Pa...   \n",
       "317778  30/12/2022  Companhia Aérea: TAM, Localizador: WMQWBX. Pas...   \n",
       "\n",
       "       VALOR_REEMBOLSADO  COD_DOCUMENTO  \n",
       "2449                5000       222467.0  \n",
       "2450               12620       222466.0  \n",
       "2456              179,01       165740.0  \n",
       "2457                  30       165739.0  \n",
       "2458               215,8       165741.0  \n",
       "...                  ...            ...  \n",
       "317774           2893,04      2191398.0  \n",
       "317775           1180,19      2192272.0  \n",
       "317776            2671,9      2192274.0  \n",
       "317777           1334,31      2192244.0  \n",
       "317778           2250,72      2193622.0  \n",
       "\n",
       "[314635 rows x 11 columns]"
      ]
     },
     "execution_count": 9,
     "metadata": {},
     "output_type": "execute_result"
    }
   ],
   "source": [
    "dff = dff.mask(s, 0.0)\n",
    "dff"
   ]
  },
  {
   "cell_type": "code",
   "execution_count": 10,
   "id": "f6fbbe02-692e-4d24-bfa4-6156cf2a8268",
   "metadata": {},
   "outputs": [],
   "source": [
    "dff['VALOR_REEMBOLSADO'] = dff['VALOR_REEMBOLSADO'].apply( lambda x: x.strip(' ') )\n",
    "dff['VALOR_REEMBOLSADO'] = dff['VALOR_REEMBOLSADO'].apply( lambda x: x.replace('\\n\\t','') )"
   ]
  },
  {
   "cell_type": "code",
   "execution_count": 11,
   "id": "abc6c960-a778-4c2a-b04c-252d6537b858",
   "metadata": {},
   "outputs": [
    {
     "data": {
      "text/html": [
       "<div>\n",
       "<style scoped>\n",
       "    .dataframe tbody tr th:only-of-type {\n",
       "        vertical-align: middle;\n",
       "    }\n",
       "\n",
       "    .dataframe tbody tr th {\n",
       "        vertical-align: top;\n",
       "    }\n",
       "\n",
       "    .dataframe thead th {\n",
       "        text-align: right;\n",
       "    }\n",
       "</style>\n",
       "<table border=\"1\" class=\"dataframe\">\n",
       "  <thead>\n",
       "    <tr style=\"text-align: right;\">\n",
       "      <th></th>\n",
       "      <th>ANO</th>\n",
       "      <th>MES</th>\n",
       "      <th>SENADOR</th>\n",
       "      <th>TIPO_DESPESA</th>\n",
       "      <th>CNPJ_CPF</th>\n",
       "      <th>FORNECEDOR</th>\n",
       "      <th>DOCUMENTO</th>\n",
       "      <th>DATA</th>\n",
       "      <th>DETALHAMENTO</th>\n",
       "      <th>VALOR_REEMBOLSADO</th>\n",
       "      <th>COD_DOCUMENTO</th>\n",
       "    </tr>\n",
       "  </thead>\n",
       "  <tbody>\n",
       "    <tr>\n",
       "      <th>2449</th>\n",
       "      <td>2009</td>\n",
       "      <td>12</td>\n",
       "      <td>ACIR GURGACZ</td>\n",
       "      <td>Aluguel de imóveis para escritório político, c...</td>\n",
       "      <td>004.948.028-63</td>\n",
       "      <td>GILBERTO PISELO DO NASCIMENTO</td>\n",
       "      <td>NaN</td>\n",
       "      <td>11/12/2009</td>\n",
       "      <td>NaN</td>\n",
       "      <td>5000</td>\n",
       "      <td>222467.0</td>\n",
       "    </tr>\n",
       "    <tr>\n",
       "      <th>2450</th>\n",
       "      <td>2009</td>\n",
       "      <td>12</td>\n",
       "      <td>ACIR GURGACZ</td>\n",
       "      <td>Divulgação da atividade parlamentar</td>\n",
       "      <td>02.831.112/0002-09</td>\n",
       "      <td>INTERCOM INTERMEDIAÇÕES E COMUNICAÇÃO INTEGRAD...</td>\n",
       "      <td>000330</td>\n",
       "      <td>09/12/2009</td>\n",
       "      <td>NaN</td>\n",
       "      <td>12620</td>\n",
       "      <td>222466.0</td>\n",
       "    </tr>\n",
       "    <tr>\n",
       "      <th>2456</th>\n",
       "      <td>2009</td>\n",
       "      <td>4</td>\n",
       "      <td>ADELMIR SANTANA</td>\n",
       "      <td>Locomoção, hospedagem, alimentação, combustíve...</td>\n",
       "      <td>00.306.597/0016-83</td>\n",
       "      <td>Cascol combustíveis para veículos Ltda</td>\n",
       "      <td>106471</td>\n",
       "      <td>12/04/2009</td>\n",
       "      <td>NaN</td>\n",
       "      <td>179.01</td>\n",
       "      <td>165740.0</td>\n",
       "    </tr>\n",
       "    <tr>\n",
       "      <th>2457</th>\n",
       "      <td>2009</td>\n",
       "      <td>4</td>\n",
       "      <td>ADELMIR SANTANA</td>\n",
       "      <td>Locomoção, hospedagem, alimentação, combustíve...</td>\n",
       "      <td>00.358.192/0001-02</td>\n",
       "      <td>Ribeiro e Pereira Ltda</td>\n",
       "      <td>77472</td>\n",
       "      <td>04/04/2009</td>\n",
       "      <td>NaN</td>\n",
       "      <td>30</td>\n",
       "      <td>165739.0</td>\n",
       "    </tr>\n",
       "    <tr>\n",
       "      <th>2458</th>\n",
       "      <td>2009</td>\n",
       "      <td>4</td>\n",
       "      <td>ADELMIR SANTANA</td>\n",
       "      <td>Locomoção, hospedagem, alimentação, combustíve...</td>\n",
       "      <td>06.098.111/0001-69</td>\n",
       "      <td>Tudo de Bom Comércio de alimentos Ltda</td>\n",
       "      <td>10169</td>\n",
       "      <td>14/04/2009</td>\n",
       "      <td>NaN</td>\n",
       "      <td>215.8</td>\n",
       "      <td>165741.0</td>\n",
       "    </tr>\n",
       "    <tr>\n",
       "      <th>...</th>\n",
       "      <td>...</td>\n",
       "      <td>...</td>\n",
       "      <td>...</td>\n",
       "      <td>...</td>\n",
       "      <td>...</td>\n",
       "      <td>...</td>\n",
       "      <td>...</td>\n",
       "      <td>...</td>\n",
       "      <td>...</td>\n",
       "      <td>...</td>\n",
       "      <td>...</td>\n",
       "    </tr>\n",
       "    <tr>\n",
       "      <th>317774</th>\n",
       "      <td>2022</td>\n",
       "      <td>12</td>\n",
       "      <td>ZEQUINHA MARINHO</td>\n",
       "      <td>Passagens aéreas, aquáticas e terrestres nacio...</td>\n",
       "      <td>22.052.777/0001-32</td>\n",
       "      <td>Exceller Tour</td>\n",
       "      <td>WIXHAI</td>\n",
       "      <td>06/12/2022</td>\n",
       "      <td>Companhia Aérea: LATAM, Localizador: WIXHAI. P...</td>\n",
       "      <td>2893.04</td>\n",
       "      <td>2191398.0</td>\n",
       "    </tr>\n",
       "    <tr>\n",
       "      <th>317775</th>\n",
       "      <td>2022</td>\n",
       "      <td>12</td>\n",
       "      <td>ZEQUINHA MARINHO</td>\n",
       "      <td>Passagens aéreas, aquáticas e terrestres nacio...</td>\n",
       "      <td>22.052.777/0001-32</td>\n",
       "      <td>Exceller Tour</td>\n",
       "      <td>WITOLM</td>\n",
       "      <td>09/12/2022</td>\n",
       "      <td>Companhia Aérea: GOL, Localizador: WITOLM. Pas...</td>\n",
       "      <td>1180.19</td>\n",
       "      <td>2192272.0</td>\n",
       "    </tr>\n",
       "    <tr>\n",
       "      <th>317776</th>\n",
       "      <td>2022</td>\n",
       "      <td>12</td>\n",
       "      <td>ZEQUINHA MARINHO</td>\n",
       "      <td>Passagens aéreas, aquáticas e terrestres nacio...</td>\n",
       "      <td>22.052.777/0001-32</td>\n",
       "      <td>Exceller Tour</td>\n",
       "      <td>THPKVQ</td>\n",
       "      <td>20/12/2022</td>\n",
       "      <td>Companhia Aérea: TAM, Localizador: THPKVQ. Pas...</td>\n",
       "      <td>2671.9</td>\n",
       "      <td>2192274.0</td>\n",
       "    </tr>\n",
       "    <tr>\n",
       "      <th>317777</th>\n",
       "      <td>2022</td>\n",
       "      <td>12</td>\n",
       "      <td>ZEQUINHA MARINHO</td>\n",
       "      <td>Passagens aéreas, aquáticas e terrestres nacio...</td>\n",
       "      <td>22.052.777/0001-32</td>\n",
       "      <td>Exceller Tour</td>\n",
       "      <td>QNN9HX</td>\n",
       "      <td>21/12/2022</td>\n",
       "      <td>Companhia Aérea: AZUL, Localizador: QNN9HX. Pa...</td>\n",
       "      <td>1334.31</td>\n",
       "      <td>2192244.0</td>\n",
       "    </tr>\n",
       "    <tr>\n",
       "      <th>317778</th>\n",
       "      <td>2022</td>\n",
       "      <td>12</td>\n",
       "      <td>ZEQUINHA MARINHO</td>\n",
       "      <td>Passagens aéreas, aquáticas e terrestres nacio...</td>\n",
       "      <td>22.052.777/0001-32</td>\n",
       "      <td>Exceller Tour</td>\n",
       "      <td>WMQWBX</td>\n",
       "      <td>30/12/2022</td>\n",
       "      <td>Companhia Aérea: TAM, Localizador: WMQWBX. Pas...</td>\n",
       "      <td>2250.72</td>\n",
       "      <td>2193622.0</td>\n",
       "    </tr>\n",
       "  </tbody>\n",
       "</table>\n",
       "<p>314635 rows × 11 columns</p>\n",
       "</div>"
      ],
      "text/plain": [
       "         ANO  MES           SENADOR  \\\n",
       "2449    2009   12      ACIR GURGACZ   \n",
       "2450    2009   12      ACIR GURGACZ   \n",
       "2456    2009    4   ADELMIR SANTANA   \n",
       "2457    2009    4   ADELMIR SANTANA   \n",
       "2458    2009    4   ADELMIR SANTANA   \n",
       "...      ...  ...               ...   \n",
       "317774  2022   12  ZEQUINHA MARINHO   \n",
       "317775  2022   12  ZEQUINHA MARINHO   \n",
       "317776  2022   12  ZEQUINHA MARINHO   \n",
       "317777  2022   12  ZEQUINHA MARINHO   \n",
       "317778  2022   12  ZEQUINHA MARINHO   \n",
       "\n",
       "                                             TIPO_DESPESA            CNPJ_CPF  \\\n",
       "2449    Aluguel de imóveis para escritório político, c...      004.948.028-63   \n",
       "2450                  Divulgação da atividade parlamentar  02.831.112/0002-09   \n",
       "2456    Locomoção, hospedagem, alimentação, combustíve...  00.306.597/0016-83   \n",
       "2457    Locomoção, hospedagem, alimentação, combustíve...  00.358.192/0001-02   \n",
       "2458    Locomoção, hospedagem, alimentação, combustíve...  06.098.111/0001-69   \n",
       "...                                                   ...                 ...   \n",
       "317774  Passagens aéreas, aquáticas e terrestres nacio...  22.052.777/0001-32   \n",
       "317775  Passagens aéreas, aquáticas e terrestres nacio...  22.052.777/0001-32   \n",
       "317776  Passagens aéreas, aquáticas e terrestres nacio...  22.052.777/0001-32   \n",
       "317777  Passagens aéreas, aquáticas e terrestres nacio...  22.052.777/0001-32   \n",
       "317778  Passagens aéreas, aquáticas e terrestres nacio...  22.052.777/0001-32   \n",
       "\n",
       "                                               FORNECEDOR DOCUMENTO  \\\n",
       "2449                        GILBERTO PISELO DO NASCIMENTO       NaN   \n",
       "2450    INTERCOM INTERMEDIAÇÕES E COMUNICAÇÃO INTEGRAD...    000330   \n",
       "2456               Cascol combustíveis para veículos Ltda    106471   \n",
       "2457                               Ribeiro e Pereira Ltda     77472   \n",
       "2458               Tudo de Bom Comércio de alimentos Ltda     10169   \n",
       "...                                                   ...       ...   \n",
       "317774                                      Exceller Tour    WIXHAI   \n",
       "317775                                      Exceller Tour    WITOLM   \n",
       "317776                                      Exceller Tour    THPKVQ   \n",
       "317777                                      Exceller Tour    QNN9HX   \n",
       "317778                                      Exceller Tour    WMQWBX   \n",
       "\n",
       "              DATA                                       DETALHAMENTO  \\\n",
       "2449    11/12/2009                                                NaN   \n",
       "2450    09/12/2009                                                NaN   \n",
       "2456    12/04/2009                                                NaN   \n",
       "2457    04/04/2009                                                NaN   \n",
       "2458    14/04/2009                                                NaN   \n",
       "...            ...                                                ...   \n",
       "317774  06/12/2022  Companhia Aérea: LATAM, Localizador: WIXHAI. P...   \n",
       "317775  09/12/2022  Companhia Aérea: GOL, Localizador: WITOLM. Pas...   \n",
       "317776  20/12/2022  Companhia Aérea: TAM, Localizador: THPKVQ. Pas...   \n",
       "317777  21/12/2022  Companhia Aérea: AZUL, Localizador: QNN9HX. Pa...   \n",
       "317778  30/12/2022  Companhia Aérea: TAM, Localizador: WMQWBX. Pas...   \n",
       "\n",
       "       VALOR_REEMBOLSADO  COD_DOCUMENTO  \n",
       "2449                5000       222467.0  \n",
       "2450               12620       222466.0  \n",
       "2456              179.01       165740.0  \n",
       "2457                  30       165739.0  \n",
       "2458               215.8       165741.0  \n",
       "...                  ...            ...  \n",
       "317774           2893.04      2191398.0  \n",
       "317775           1180.19      2192272.0  \n",
       "317776            2671.9      2192274.0  \n",
       "317777           1334.31      2192244.0  \n",
       "317778           2250.72      2193622.0  \n",
       "\n",
       "[314635 rows x 11 columns]"
      ]
     },
     "execution_count": 11,
     "metadata": {},
     "output_type": "execute_result"
    }
   ],
   "source": [
    "dff['VALOR_REEMBOLSADO'] = dff['VALOR_REEMBOLSADO'].replace( regex={r'(,)':'.'} )\n",
    "#dfs['VALOR_REEMBOLSADO'] = pd.to_numeric(dff['VALOR_REEMBOLSADO'], downcast='float')\n",
    "dff"
   ]
  },
  {
   "cell_type": "code",
   "execution_count": 12,
   "id": "0ca00f7d-959c-45f3-9dc6-9dc27ca1597c",
   "metadata": {},
   "outputs": [
    {
     "data": {
      "text/html": [
       "<div>\n",
       "<style scoped>\n",
       "    .dataframe tbody tr th:only-of-type {\n",
       "        vertical-align: middle;\n",
       "    }\n",
       "\n",
       "    .dataframe tbody tr th {\n",
       "        vertical-align: top;\n",
       "    }\n",
       "\n",
       "    .dataframe thead th {\n",
       "        text-align: right;\n",
       "    }\n",
       "</style>\n",
       "<table border=\"1\" class=\"dataframe\">\n",
       "  <thead>\n",
       "    <tr style=\"text-align: right;\">\n",
       "      <th></th>\n",
       "      <th>ANO</th>\n",
       "      <th>MES</th>\n",
       "      <th>SENADOR</th>\n",
       "      <th>TIPO_DESPESA</th>\n",
       "      <th>CNPJ_CPF</th>\n",
       "      <th>FORNECEDOR</th>\n",
       "      <th>DOCUMENTO</th>\n",
       "      <th>DATA</th>\n",
       "      <th>DETALHAMENTO</th>\n",
       "      <th>VALOR_REEMBOLSADO</th>\n",
       "      <th>COD_DOCUMENTO</th>\n",
       "    </tr>\n",
       "  </thead>\n",
       "  <tbody>\n",
       "    <tr>\n",
       "      <th>2449</th>\n",
       "      <td>2009</td>\n",
       "      <td>12</td>\n",
       "      <td>ACIR GURGACZ</td>\n",
       "      <td>Aluguel de imóveis para escritório político, c...</td>\n",
       "      <td>004.948.028-63</td>\n",
       "      <td>GILBERTO PISELO DO NASCIMENTO</td>\n",
       "      <td>NaN</td>\n",
       "      <td>11/12/2009</td>\n",
       "      <td>NaN</td>\n",
       "      <td>5000.00</td>\n",
       "      <td>222467.0</td>\n",
       "    </tr>\n",
       "    <tr>\n",
       "      <th>2450</th>\n",
       "      <td>2009</td>\n",
       "      <td>12</td>\n",
       "      <td>ACIR GURGACZ</td>\n",
       "      <td>Divulgação da atividade parlamentar</td>\n",
       "      <td>02.831.112/0002-09</td>\n",
       "      <td>INTERCOM INTERMEDIAÇÕES E COMUNICAÇÃO INTEGRAD...</td>\n",
       "      <td>000330</td>\n",
       "      <td>09/12/2009</td>\n",
       "      <td>NaN</td>\n",
       "      <td>12620.00</td>\n",
       "      <td>222466.0</td>\n",
       "    </tr>\n",
       "    <tr>\n",
       "      <th>2456</th>\n",
       "      <td>2009</td>\n",
       "      <td>4</td>\n",
       "      <td>ADELMIR SANTANA</td>\n",
       "      <td>Locomoção, hospedagem, alimentação, combustíve...</td>\n",
       "      <td>00.306.597/0016-83</td>\n",
       "      <td>Cascol combustíveis para veículos Ltda</td>\n",
       "      <td>106471</td>\n",
       "      <td>12/04/2009</td>\n",
       "      <td>NaN</td>\n",
       "      <td>179.01</td>\n",
       "      <td>165740.0</td>\n",
       "    </tr>\n",
       "    <tr>\n",
       "      <th>2457</th>\n",
       "      <td>2009</td>\n",
       "      <td>4</td>\n",
       "      <td>ADELMIR SANTANA</td>\n",
       "      <td>Locomoção, hospedagem, alimentação, combustíve...</td>\n",
       "      <td>00.358.192/0001-02</td>\n",
       "      <td>Ribeiro e Pereira Ltda</td>\n",
       "      <td>77472</td>\n",
       "      <td>04/04/2009</td>\n",
       "      <td>NaN</td>\n",
       "      <td>30.00</td>\n",
       "      <td>165739.0</td>\n",
       "    </tr>\n",
       "    <tr>\n",
       "      <th>2458</th>\n",
       "      <td>2009</td>\n",
       "      <td>4</td>\n",
       "      <td>ADELMIR SANTANA</td>\n",
       "      <td>Locomoção, hospedagem, alimentação, combustíve...</td>\n",
       "      <td>06.098.111/0001-69</td>\n",
       "      <td>Tudo de Bom Comércio de alimentos Ltda</td>\n",
       "      <td>10169</td>\n",
       "      <td>14/04/2009</td>\n",
       "      <td>NaN</td>\n",
       "      <td>215.80</td>\n",
       "      <td>165741.0</td>\n",
       "    </tr>\n",
       "    <tr>\n",
       "      <th>...</th>\n",
       "      <td>...</td>\n",
       "      <td>...</td>\n",
       "      <td>...</td>\n",
       "      <td>...</td>\n",
       "      <td>...</td>\n",
       "      <td>...</td>\n",
       "      <td>...</td>\n",
       "      <td>...</td>\n",
       "      <td>...</td>\n",
       "      <td>...</td>\n",
       "      <td>...</td>\n",
       "    </tr>\n",
       "    <tr>\n",
       "      <th>317774</th>\n",
       "      <td>2022</td>\n",
       "      <td>12</td>\n",
       "      <td>ZEQUINHA MARINHO</td>\n",
       "      <td>Passagens aéreas, aquáticas e terrestres nacio...</td>\n",
       "      <td>22.052.777/0001-32</td>\n",
       "      <td>Exceller Tour</td>\n",
       "      <td>WIXHAI</td>\n",
       "      <td>06/12/2022</td>\n",
       "      <td>Companhia Aérea: LATAM, Localizador: WIXHAI. P...</td>\n",
       "      <td>2893.04</td>\n",
       "      <td>2191398.0</td>\n",
       "    </tr>\n",
       "    <tr>\n",
       "      <th>317775</th>\n",
       "      <td>2022</td>\n",
       "      <td>12</td>\n",
       "      <td>ZEQUINHA MARINHO</td>\n",
       "      <td>Passagens aéreas, aquáticas e terrestres nacio...</td>\n",
       "      <td>22.052.777/0001-32</td>\n",
       "      <td>Exceller Tour</td>\n",
       "      <td>WITOLM</td>\n",
       "      <td>09/12/2022</td>\n",
       "      <td>Companhia Aérea: GOL, Localizador: WITOLM. Pas...</td>\n",
       "      <td>1180.19</td>\n",
       "      <td>2192272.0</td>\n",
       "    </tr>\n",
       "    <tr>\n",
       "      <th>317776</th>\n",
       "      <td>2022</td>\n",
       "      <td>12</td>\n",
       "      <td>ZEQUINHA MARINHO</td>\n",
       "      <td>Passagens aéreas, aquáticas e terrestres nacio...</td>\n",
       "      <td>22.052.777/0001-32</td>\n",
       "      <td>Exceller Tour</td>\n",
       "      <td>THPKVQ</td>\n",
       "      <td>20/12/2022</td>\n",
       "      <td>Companhia Aérea: TAM, Localizador: THPKVQ. Pas...</td>\n",
       "      <td>2671.90</td>\n",
       "      <td>2192274.0</td>\n",
       "    </tr>\n",
       "    <tr>\n",
       "      <th>317777</th>\n",
       "      <td>2022</td>\n",
       "      <td>12</td>\n",
       "      <td>ZEQUINHA MARINHO</td>\n",
       "      <td>Passagens aéreas, aquáticas e terrestres nacio...</td>\n",
       "      <td>22.052.777/0001-32</td>\n",
       "      <td>Exceller Tour</td>\n",
       "      <td>QNN9HX</td>\n",
       "      <td>21/12/2022</td>\n",
       "      <td>Companhia Aérea: AZUL, Localizador: QNN9HX. Pa...</td>\n",
       "      <td>1334.31</td>\n",
       "      <td>2192244.0</td>\n",
       "    </tr>\n",
       "    <tr>\n",
       "      <th>317778</th>\n",
       "      <td>2022</td>\n",
       "      <td>12</td>\n",
       "      <td>ZEQUINHA MARINHO</td>\n",
       "      <td>Passagens aéreas, aquáticas e terrestres nacio...</td>\n",
       "      <td>22.052.777/0001-32</td>\n",
       "      <td>Exceller Tour</td>\n",
       "      <td>WMQWBX</td>\n",
       "      <td>30/12/2022</td>\n",
       "      <td>Companhia Aérea: TAM, Localizador: WMQWBX. Pas...</td>\n",
       "      <td>2250.72</td>\n",
       "      <td>2193622.0</td>\n",
       "    </tr>\n",
       "  </tbody>\n",
       "</table>\n",
       "<p>314635 rows × 11 columns</p>\n",
       "</div>"
      ],
      "text/plain": [
       "         ANO  MES           SENADOR  \\\n",
       "2449    2009   12      ACIR GURGACZ   \n",
       "2450    2009   12      ACIR GURGACZ   \n",
       "2456    2009    4   ADELMIR SANTANA   \n",
       "2457    2009    4   ADELMIR SANTANA   \n",
       "2458    2009    4   ADELMIR SANTANA   \n",
       "...      ...  ...               ...   \n",
       "317774  2022   12  ZEQUINHA MARINHO   \n",
       "317775  2022   12  ZEQUINHA MARINHO   \n",
       "317776  2022   12  ZEQUINHA MARINHO   \n",
       "317777  2022   12  ZEQUINHA MARINHO   \n",
       "317778  2022   12  ZEQUINHA MARINHO   \n",
       "\n",
       "                                             TIPO_DESPESA            CNPJ_CPF  \\\n",
       "2449    Aluguel de imóveis para escritório político, c...      004.948.028-63   \n",
       "2450                  Divulgação da atividade parlamentar  02.831.112/0002-09   \n",
       "2456    Locomoção, hospedagem, alimentação, combustíve...  00.306.597/0016-83   \n",
       "2457    Locomoção, hospedagem, alimentação, combustíve...  00.358.192/0001-02   \n",
       "2458    Locomoção, hospedagem, alimentação, combustíve...  06.098.111/0001-69   \n",
       "...                                                   ...                 ...   \n",
       "317774  Passagens aéreas, aquáticas e terrestres nacio...  22.052.777/0001-32   \n",
       "317775  Passagens aéreas, aquáticas e terrestres nacio...  22.052.777/0001-32   \n",
       "317776  Passagens aéreas, aquáticas e terrestres nacio...  22.052.777/0001-32   \n",
       "317777  Passagens aéreas, aquáticas e terrestres nacio...  22.052.777/0001-32   \n",
       "317778  Passagens aéreas, aquáticas e terrestres nacio...  22.052.777/0001-32   \n",
       "\n",
       "                                               FORNECEDOR DOCUMENTO  \\\n",
       "2449                        GILBERTO PISELO DO NASCIMENTO       NaN   \n",
       "2450    INTERCOM INTERMEDIAÇÕES E COMUNICAÇÃO INTEGRAD...    000330   \n",
       "2456               Cascol combustíveis para veículos Ltda    106471   \n",
       "2457                               Ribeiro e Pereira Ltda     77472   \n",
       "2458               Tudo de Bom Comércio de alimentos Ltda     10169   \n",
       "...                                                   ...       ...   \n",
       "317774                                      Exceller Tour    WIXHAI   \n",
       "317775                                      Exceller Tour    WITOLM   \n",
       "317776                                      Exceller Tour    THPKVQ   \n",
       "317777                                      Exceller Tour    QNN9HX   \n",
       "317778                                      Exceller Tour    WMQWBX   \n",
       "\n",
       "              DATA                                       DETALHAMENTO  \\\n",
       "2449    11/12/2009                                                NaN   \n",
       "2450    09/12/2009                                                NaN   \n",
       "2456    12/04/2009                                                NaN   \n",
       "2457    04/04/2009                                                NaN   \n",
       "2458    14/04/2009                                                NaN   \n",
       "...            ...                                                ...   \n",
       "317774  06/12/2022  Companhia Aérea: LATAM, Localizador: WIXHAI. P...   \n",
       "317775  09/12/2022  Companhia Aérea: GOL, Localizador: WITOLM. Pas...   \n",
       "317776  20/12/2022  Companhia Aérea: TAM, Localizador: THPKVQ. Pas...   \n",
       "317777  21/12/2022  Companhia Aérea: AZUL, Localizador: QNN9HX. Pa...   \n",
       "317778  30/12/2022  Companhia Aérea: TAM, Localizador: WMQWBX. Pas...   \n",
       "\n",
       "        VALOR_REEMBOLSADO  COD_DOCUMENTO  \n",
       "2449              5000.00       222467.0  \n",
       "2450             12620.00       222466.0  \n",
       "2456               179.01       165740.0  \n",
       "2457                30.00       165739.0  \n",
       "2458               215.80       165741.0  \n",
       "...                   ...            ...  \n",
       "317774            2893.04      2191398.0  \n",
       "317775            1180.19      2192272.0  \n",
       "317776            2671.90      2192274.0  \n",
       "317777            1334.31      2192244.0  \n",
       "317778            2250.72      2193622.0  \n",
       "\n",
       "[314635 rows x 11 columns]"
      ]
     },
     "execution_count": 12,
     "metadata": {},
     "output_type": "execute_result"
    }
   ],
   "source": [
    "dff['VALOR_REEMBOLSADO'] = pd.to_numeric(dff['VALOR_REEMBOLSADO'], downcast='float', errors='coerce').dropna()\n",
    "dff"
   ]
  },
  {
   "cell_type": "code",
   "execution_count": 13,
   "id": "f75a0107-257d-473e-8c51-96bc725b8c93",
   "metadata": {},
   "outputs": [
    {
     "data": {
      "text/html": [
       "<div>\n",
       "<style scoped>\n",
       "    .dataframe tbody tr th:only-of-type {\n",
       "        vertical-align: middle;\n",
       "    }\n",
       "\n",
       "    .dataframe tbody tr th {\n",
       "        vertical-align: top;\n",
       "    }\n",
       "\n",
       "    .dataframe thead th {\n",
       "        text-align: right;\n",
       "    }\n",
       "</style>\n",
       "<table border=\"1\" class=\"dataframe\">\n",
       "  <thead>\n",
       "    <tr style=\"text-align: right;\">\n",
       "      <th></th>\n",
       "      <th>ANO</th>\n",
       "      <th>MES</th>\n",
       "      <th>SENADOR</th>\n",
       "      <th>TIPO_DESPESA</th>\n",
       "      <th>CNPJ_CPF</th>\n",
       "      <th>FORNECEDOR</th>\n",
       "      <th>DOCUMENTO</th>\n",
       "      <th>DATA</th>\n",
       "      <th>DETALHAMENTO</th>\n",
       "      <th>VALOR_REEMBOLSADO</th>\n",
       "      <th>COD_DOCUMENTO</th>\n",
       "    </tr>\n",
       "  </thead>\n",
       "  <tbody>\n",
       "    <tr>\n",
       "      <th>2449</th>\n",
       "      <td>2009</td>\n",
       "      <td>12</td>\n",
       "      <td>ACIR GURGACZ</td>\n",
       "      <td>Aluguel de imóveis para escritório político, c...</td>\n",
       "      <td>004.948.028-63</td>\n",
       "      <td>GILBERTO PISELO DO NASCIMENTO</td>\n",
       "      <td>NaN</td>\n",
       "      <td>11/12/2009</td>\n",
       "      <td>NaN</td>\n",
       "      <td>5000.00</td>\n",
       "      <td>222467.0</td>\n",
       "    </tr>\n",
       "    <tr>\n",
       "      <th>2450</th>\n",
       "      <td>2009</td>\n",
       "      <td>12</td>\n",
       "      <td>ACIR GURGACZ</td>\n",
       "      <td>Divulgação da atividade parlamentar</td>\n",
       "      <td>02.831.112/0002-09</td>\n",
       "      <td>INTERCOM INTERMEDIAÇÕES E COMUNICAÇÃO INTEGRAD...</td>\n",
       "      <td>000330</td>\n",
       "      <td>09/12/2009</td>\n",
       "      <td>NaN</td>\n",
       "      <td>12620.00</td>\n",
       "      <td>222466.0</td>\n",
       "    </tr>\n",
       "    <tr>\n",
       "      <th>2456</th>\n",
       "      <td>2009</td>\n",
       "      <td>4</td>\n",
       "      <td>ADELMIR SANTANA</td>\n",
       "      <td>Locomoção, hospedagem, alimentação, combustíve...</td>\n",
       "      <td>00.306.597/0016-83</td>\n",
       "      <td>Cascol combustíveis para veículos Ltda</td>\n",
       "      <td>106471</td>\n",
       "      <td>12/04/2009</td>\n",
       "      <td>NaN</td>\n",
       "      <td>179.01</td>\n",
       "      <td>165740.0</td>\n",
       "    </tr>\n",
       "    <tr>\n",
       "      <th>2457</th>\n",
       "      <td>2009</td>\n",
       "      <td>4</td>\n",
       "      <td>ADELMIR SANTANA</td>\n",
       "      <td>Locomoção, hospedagem, alimentação, combustíve...</td>\n",
       "      <td>00.358.192/0001-02</td>\n",
       "      <td>Ribeiro e Pereira Ltda</td>\n",
       "      <td>77472</td>\n",
       "      <td>04/04/2009</td>\n",
       "      <td>NaN</td>\n",
       "      <td>30.00</td>\n",
       "      <td>165739.0</td>\n",
       "    </tr>\n",
       "    <tr>\n",
       "      <th>2458</th>\n",
       "      <td>2009</td>\n",
       "      <td>4</td>\n",
       "      <td>ADELMIR SANTANA</td>\n",
       "      <td>Locomoção, hospedagem, alimentação, combustíve...</td>\n",
       "      <td>06.098.111/0001-69</td>\n",
       "      <td>Tudo de Bom Comércio de alimentos Ltda</td>\n",
       "      <td>10169</td>\n",
       "      <td>14/04/2009</td>\n",
       "      <td>NaN</td>\n",
       "      <td>215.80</td>\n",
       "      <td>165741.0</td>\n",
       "    </tr>\n",
       "    <tr>\n",
       "      <th>...</th>\n",
       "      <td>...</td>\n",
       "      <td>...</td>\n",
       "      <td>...</td>\n",
       "      <td>...</td>\n",
       "      <td>...</td>\n",
       "      <td>...</td>\n",
       "      <td>...</td>\n",
       "      <td>...</td>\n",
       "      <td>...</td>\n",
       "      <td>...</td>\n",
       "      <td>...</td>\n",
       "    </tr>\n",
       "    <tr>\n",
       "      <th>317774</th>\n",
       "      <td>2022</td>\n",
       "      <td>12</td>\n",
       "      <td>ZEQUINHA MARINHO</td>\n",
       "      <td>Passagens aéreas, aquáticas e terrestres nacio...</td>\n",
       "      <td>22.052.777/0001-32</td>\n",
       "      <td>Exceller Tour</td>\n",
       "      <td>WIXHAI</td>\n",
       "      <td>06/12/2022</td>\n",
       "      <td>Companhia Aérea: LATAM, Localizador: WIXHAI. P...</td>\n",
       "      <td>2893.04</td>\n",
       "      <td>2191398.0</td>\n",
       "    </tr>\n",
       "    <tr>\n",
       "      <th>317775</th>\n",
       "      <td>2022</td>\n",
       "      <td>12</td>\n",
       "      <td>ZEQUINHA MARINHO</td>\n",
       "      <td>Passagens aéreas, aquáticas e terrestres nacio...</td>\n",
       "      <td>22.052.777/0001-32</td>\n",
       "      <td>Exceller Tour</td>\n",
       "      <td>WITOLM</td>\n",
       "      <td>09/12/2022</td>\n",
       "      <td>Companhia Aérea: GOL, Localizador: WITOLM. Pas...</td>\n",
       "      <td>1180.19</td>\n",
       "      <td>2192272.0</td>\n",
       "    </tr>\n",
       "    <tr>\n",
       "      <th>317776</th>\n",
       "      <td>2022</td>\n",
       "      <td>12</td>\n",
       "      <td>ZEQUINHA MARINHO</td>\n",
       "      <td>Passagens aéreas, aquáticas e terrestres nacio...</td>\n",
       "      <td>22.052.777/0001-32</td>\n",
       "      <td>Exceller Tour</td>\n",
       "      <td>THPKVQ</td>\n",
       "      <td>20/12/2022</td>\n",
       "      <td>Companhia Aérea: TAM, Localizador: THPKVQ. Pas...</td>\n",
       "      <td>2671.90</td>\n",
       "      <td>2192274.0</td>\n",
       "    </tr>\n",
       "    <tr>\n",
       "      <th>317777</th>\n",
       "      <td>2022</td>\n",
       "      <td>12</td>\n",
       "      <td>ZEQUINHA MARINHO</td>\n",
       "      <td>Passagens aéreas, aquáticas e terrestres nacio...</td>\n",
       "      <td>22.052.777/0001-32</td>\n",
       "      <td>Exceller Tour</td>\n",
       "      <td>QNN9HX</td>\n",
       "      <td>21/12/2022</td>\n",
       "      <td>Companhia Aérea: AZUL, Localizador: QNN9HX. Pa...</td>\n",
       "      <td>1334.31</td>\n",
       "      <td>2192244.0</td>\n",
       "    </tr>\n",
       "    <tr>\n",
       "      <th>317778</th>\n",
       "      <td>2022</td>\n",
       "      <td>12</td>\n",
       "      <td>ZEQUINHA MARINHO</td>\n",
       "      <td>Passagens aéreas, aquáticas e terrestres nacio...</td>\n",
       "      <td>22.052.777/0001-32</td>\n",
       "      <td>Exceller Tour</td>\n",
       "      <td>WMQWBX</td>\n",
       "      <td>30/12/2022</td>\n",
       "      <td>Companhia Aérea: TAM, Localizador: WMQWBX. Pas...</td>\n",
       "      <td>2250.72</td>\n",
       "      <td>2193622.0</td>\n",
       "    </tr>\n",
       "  </tbody>\n",
       "</table>\n",
       "<p>314635 rows × 11 columns</p>\n",
       "</div>"
      ],
      "text/plain": [
       "         ANO  MES           SENADOR  \\\n",
       "2449    2009   12      ACIR GURGACZ   \n",
       "2450    2009   12      ACIR GURGACZ   \n",
       "2456    2009    4   ADELMIR SANTANA   \n",
       "2457    2009    4   ADELMIR SANTANA   \n",
       "2458    2009    4   ADELMIR SANTANA   \n",
       "...      ...  ...               ...   \n",
       "317774  2022   12  ZEQUINHA MARINHO   \n",
       "317775  2022   12  ZEQUINHA MARINHO   \n",
       "317776  2022   12  ZEQUINHA MARINHO   \n",
       "317777  2022   12  ZEQUINHA MARINHO   \n",
       "317778  2022   12  ZEQUINHA MARINHO   \n",
       "\n",
       "                                             TIPO_DESPESA            CNPJ_CPF  \\\n",
       "2449    Aluguel de imóveis para escritório político, c...      004.948.028-63   \n",
       "2450                  Divulgação da atividade parlamentar  02.831.112/0002-09   \n",
       "2456    Locomoção, hospedagem, alimentação, combustíve...  00.306.597/0016-83   \n",
       "2457    Locomoção, hospedagem, alimentação, combustíve...  00.358.192/0001-02   \n",
       "2458    Locomoção, hospedagem, alimentação, combustíve...  06.098.111/0001-69   \n",
       "...                                                   ...                 ...   \n",
       "317774  Passagens aéreas, aquáticas e terrestres nacio...  22.052.777/0001-32   \n",
       "317775  Passagens aéreas, aquáticas e terrestres nacio...  22.052.777/0001-32   \n",
       "317776  Passagens aéreas, aquáticas e terrestres nacio...  22.052.777/0001-32   \n",
       "317777  Passagens aéreas, aquáticas e terrestres nacio...  22.052.777/0001-32   \n",
       "317778  Passagens aéreas, aquáticas e terrestres nacio...  22.052.777/0001-32   \n",
       "\n",
       "                                               FORNECEDOR DOCUMENTO  \\\n",
       "2449                        GILBERTO PISELO DO NASCIMENTO       NaN   \n",
       "2450    INTERCOM INTERMEDIAÇÕES E COMUNICAÇÃO INTEGRAD...    000330   \n",
       "2456               Cascol combustíveis para veículos Ltda    106471   \n",
       "2457                               Ribeiro e Pereira Ltda     77472   \n",
       "2458               Tudo de Bom Comércio de alimentos Ltda     10169   \n",
       "...                                                   ...       ...   \n",
       "317774                                      Exceller Tour    WIXHAI   \n",
       "317775                                      Exceller Tour    WITOLM   \n",
       "317776                                      Exceller Tour    THPKVQ   \n",
       "317777                                      Exceller Tour    QNN9HX   \n",
       "317778                                      Exceller Tour    WMQWBX   \n",
       "\n",
       "              DATA                                       DETALHAMENTO  \\\n",
       "2449    11/12/2009                                                NaN   \n",
       "2450    09/12/2009                                                NaN   \n",
       "2456    12/04/2009                                                NaN   \n",
       "2457    04/04/2009                                                NaN   \n",
       "2458    14/04/2009                                                NaN   \n",
       "...            ...                                                ...   \n",
       "317774  06/12/2022  Companhia Aérea: LATAM, Localizador: WIXHAI. P...   \n",
       "317775  09/12/2022  Companhia Aérea: GOL, Localizador: WITOLM. Pas...   \n",
       "317776  20/12/2022  Companhia Aérea: TAM, Localizador: THPKVQ. Pas...   \n",
       "317777  21/12/2022  Companhia Aérea: AZUL, Localizador: QNN9HX. Pa...   \n",
       "317778  30/12/2022  Companhia Aérea: TAM, Localizador: WMQWBX. Pas...   \n",
       "\n",
       "        VALOR_REEMBOLSADO  COD_DOCUMENTO  \n",
       "2449              5000.00       222467.0  \n",
       "2450             12620.00       222466.0  \n",
       "2456               179.01       165740.0  \n",
       "2457                30.00       165739.0  \n",
       "2458               215.80       165741.0  \n",
       "...                   ...            ...  \n",
       "317774            2893.04      2191398.0  \n",
       "317775            1180.19      2192272.0  \n",
       "317776            2671.90      2192274.0  \n",
       "317777            1334.31      2192244.0  \n",
       "317778            2250.72      2193622.0  \n",
       "\n",
       "[314635 rows x 11 columns]"
      ]
     },
     "execution_count": 13,
     "metadata": {},
     "output_type": "execute_result"
    }
   ],
   "source": [
    "s = dff['DATA'].apply( lambda x: True if re.search(r'[0-9]{2}(/)[0-9]{2}(/)[0-9]{4}$', x) != None else False )\n",
    "dff['DATA'].mask(s, pd.NA)\n",
    "dff['DATA'].dropna()\n",
    "dff"
   ]
  },
  {
   "cell_type": "code",
   "execution_count": 14,
   "id": "fa101ab6-08ec-412a-85f1-ac2c0413729b",
   "metadata": {},
   "outputs": [
    {
     "data": {
      "text/plain": [
       "2449      False\n",
       "2450      False\n",
       "2456      False\n",
       "2457      False\n",
       "2458      False\n",
       "          ...  \n",
       "317774    False\n",
       "317775    False\n",
       "317776    False\n",
       "317777    False\n",
       "317778    False\n",
       "Name: DATA, Length: 314635, dtype: bool"
      ]
     },
     "execution_count": 16,
     "metadata": {},
     "output_type": "execute_result"
    }
   ],
   "source": [
    "dff['DATA'] = pd.to_datetime(dff['DATA'], dayfirst=True)\n",
    "dff"
   ]
  },
  {
   "cell_type": "markdown",
   "id": "e41c424f-ecd1-4721-b0c2-7efe46a6a7e2",
   "metadata": {},
   "source": [
    "## Tratamento e Limpeza dos Dados (Data Wrangling)"
   ]
  },
  {
   "cell_type": "markdown",
   "id": "5ad9f0ee-d317-440f-8962-f08b462e3840",
   "metadata": {},
   "source": [
    "No campo 'VALOR_REEMBOLSADO' trocar virgula por ponto e converter para tipo numérico (float)."
   ]
  },
  {
   "cell_type": "code",
   "execution_count": 23,
   "id": "45de4a2a-7aa1-4b31-a6bf-97068df2de28",
   "metadata": {},
   "outputs": [],
   "source": [
    "df['VALOR_REEMBOLSADO'] = pd.to_numeric( df['VALOR_REEMBOLSADO'].replace(regex=r'(,)', value='.'), downcast='float')\n"
   ]
  },
  {
   "cell_type": "code",
   "execution_count": 24,
   "id": "9d73cb12-3b1d-4aa7-abfd-71d770f5fe37",
   "metadata": {},
   "outputs": [
    {
     "data": {
      "text/html": [
       "<div>\n",
       "<style scoped>\n",
       "    .dataframe tbody tr th:only-of-type {\n",
       "        vertical-align: middle;\n",
       "    }\n",
       "\n",
       "    .dataframe tbody tr th {\n",
       "        vertical-align: top;\n",
       "    }\n",
       "\n",
       "    .dataframe thead th {\n",
       "        text-align: right;\n",
       "    }\n",
       "</style>\n",
       "<table border=\"1\" class=\"dataframe\">\n",
       "  <thead>\n",
       "    <tr style=\"text-align: right;\">\n",
       "      <th></th>\n",
       "      <th>ANO</th>\n",
       "      <th>MES</th>\n",
       "      <th>SENADOR</th>\n",
       "      <th>TIPO_DESPESA</th>\n",
       "      <th>CNPJ_CPF</th>\n",
       "      <th>FORNECEDOR</th>\n",
       "      <th>DOCUMENTO</th>\n",
       "      <th>DATA</th>\n",
       "      <th>DETALHAMENTO</th>\n",
       "      <th>VALOR_REEMBOLSADO</th>\n",
       "      <th>COD_DOCUMENTO</th>\n",
       "    </tr>\n",
       "  </thead>\n",
       "  <tbody>\n",
       "    <tr>\n",
       "      <th>0</th>\n",
       "      <td>2022</td>\n",
       "      <td>1</td>\n",
       "      <td>ACIR GURGACZ</td>\n",
       "      <td>Aluguel de imóveis para escritório político, c...</td>\n",
       "      <td>004.948.028-63</td>\n",
       "      <td>GILBERTO PISELO DO NASCIMENTO</td>\n",
       "      <td>001/22</td>\n",
       "      <td>03/01/2022</td>\n",
       "      <td>Despesa com pagamento de aluguel de imóvel par...</td>\n",
       "      <td>6000.0</td>\n",
       "      <td>2173614</td>\n",
       "    </tr>\n",
       "    <tr>\n",
       "      <th>1</th>\n",
       "      <td>2022</td>\n",
       "      <td>1</td>\n",
       "      <td>ACIR GURGACZ</td>\n",
       "      <td>Divulgação da atividade parlamentar</td>\n",
       "      <td>26.320.603/0001-64</td>\n",
       "      <td>INFORMANAHORA</td>\n",
       "      <td>000000000000310/A</td>\n",
       "      <td>04/01/2022</td>\n",
       "      <td>Despesa com divulgação da atividade parlamenta...</td>\n",
       "      <td>1500.0</td>\n",
       "      <td>2173615</td>\n",
       "    </tr>\n",
       "    <tr>\n",
       "      <th>2</th>\n",
       "      <td>2022</td>\n",
       "      <td>1</td>\n",
       "      <td>ACIR GURGACZ</td>\n",
       "      <td>Divulgação da atividade parlamentar</td>\n",
       "      <td>13.659.201/0001-47</td>\n",
       "      <td>LINHA PURPURA FOTO E VIDEO LTDA</td>\n",
       "      <td>107</td>\n",
       "      <td>14/01/2022</td>\n",
       "      <td>Despesa com produção de texto e edição de víde...</td>\n",
       "      <td>6000.0</td>\n",
       "      <td>2173616</td>\n",
       "    </tr>\n",
       "    <tr>\n",
       "      <th>3</th>\n",
       "      <td>2022</td>\n",
       "      <td>1</td>\n",
       "      <td>ACIR GURGACZ</td>\n",
       "      <td>Divulgação da atividade parlamentar</td>\n",
       "      <td>23.652.846/0001-01</td>\n",
       "      <td>ROBERTO GUTIERREZ DA ROCHA M.E.I.</td>\n",
       "      <td>187</td>\n",
       "      <td>18/01/2022</td>\n",
       "      <td>Divulgação da atividade parlamentar</td>\n",
       "      <td>1000.0</td>\n",
       "      <td>2173618</td>\n",
       "    </tr>\n",
       "    <tr>\n",
       "      <th>4</th>\n",
       "      <td>2022</td>\n",
       "      <td>1</td>\n",
       "      <td>ACIR GURGACZ</td>\n",
       "      <td>Divulgação da atividade parlamentar</td>\n",
       "      <td>08.941.827/0001-01</td>\n",
       "      <td>RONDONIA DINÂMICA COM. E SERV. DE INFORMÁTICA ...</td>\n",
       "      <td>000000000001772/A</td>\n",
       "      <td>17/01/2022</td>\n",
       "      <td>Divulgação da atividade parlamentar</td>\n",
       "      <td>2000.0</td>\n",
       "      <td>2173617</td>\n",
       "    </tr>\n",
       "  </tbody>\n",
       "</table>\n",
       "</div>"
      ],
      "text/plain": [
       "    ANO  MES       SENADOR                                       TIPO_DESPESA  \\\n",
       "0  2022    1  ACIR GURGACZ  Aluguel de imóveis para escritório político, c...   \n",
       "1  2022    1  ACIR GURGACZ                Divulgação da atividade parlamentar   \n",
       "2  2022    1  ACIR GURGACZ                Divulgação da atividade parlamentar   \n",
       "3  2022    1  ACIR GURGACZ                Divulgação da atividade parlamentar   \n",
       "4  2022    1  ACIR GURGACZ                Divulgação da atividade parlamentar   \n",
       "\n",
       "             CNPJ_CPF                                         FORNECEDOR  \\\n",
       "0      004.948.028-63                      GILBERTO PISELO DO NASCIMENTO   \n",
       "1  26.320.603/0001-64                                      INFORMANAHORA   \n",
       "2  13.659.201/0001-47                    LINHA PURPURA FOTO E VIDEO LTDA   \n",
       "3  23.652.846/0001-01                  ROBERTO GUTIERREZ DA ROCHA M.E.I.   \n",
       "4  08.941.827/0001-01  RONDONIA DINÂMICA COM. E SERV. DE INFORMÁTICA ...   \n",
       "\n",
       "           DOCUMENTO        DATA  \\\n",
       "0             001/22  03/01/2022   \n",
       "1  000000000000310/A  04/01/2022   \n",
       "2                107  14/01/2022   \n",
       "3                187  18/01/2022   \n",
       "4  000000000001772/A  17/01/2022   \n",
       "\n",
       "                                        DETALHAMENTO  VALOR_REEMBOLSADO  \\\n",
       "0  Despesa com pagamento de aluguel de imóvel par...             6000.0   \n",
       "1  Despesa com divulgação da atividade parlamenta...             1500.0   \n",
       "2  Despesa com produção de texto e edição de víde...             6000.0   \n",
       "3                Divulgação da atividade parlamentar             1000.0   \n",
       "4                Divulgação da atividade parlamentar             2000.0   \n",
       "\n",
       "   COD_DOCUMENTO  \n",
       "0        2173614  \n",
       "1        2173615  \n",
       "2        2173616  \n",
       "3        2173618  \n",
       "4        2173617  "
      ]
     },
     "execution_count": 24,
     "metadata": {},
     "output_type": "execute_result"
    }
   ],
   "source": [
    "df.head()"
   ]
  },
  {
   "cell_type": "markdown",
   "id": "381f17ff-9a08-43bc-8f04-18ec6fea6372",
   "metadata": {},
   "source": [
    "Converter campo 'DATA' do tipo string para tipo Date"
   ]
  },
  {
   "cell_type": "code",
   "execution_count": 25,
   "id": "c870339d-2db6-490e-8c62-56a89c1cf4a4",
   "metadata": {},
   "outputs": [],
   "source": [
    "# Converter DATA para tipo Date\n",
    "df['DATA'] = pd.to_datetime(df['DATA'], dayfirst=True)"
   ]
  },
  {
   "cell_type": "code",
   "execution_count": null,
   "id": "98c757f9-ce59-4a21-8993-01147e51a237",
   "metadata": {},
   "outputs": [],
   "source": []
  },
  {
   "cell_type": "code",
   "execution_count": 26,
   "id": "8df02057-aa9f-4ff7-8544-f7fe81b49e6f",
   "metadata": {},
   "outputs": [
    {
     "data": {
      "text/html": [
       "<div>\n",
       "<style scoped>\n",
       "    .dataframe tbody tr th:only-of-type {\n",
       "        vertical-align: middle;\n",
       "    }\n",
       "\n",
       "    .dataframe tbody tr th {\n",
       "        vertical-align: top;\n",
       "    }\n",
       "\n",
       "    .dataframe thead th {\n",
       "        text-align: right;\n",
       "    }\n",
       "</style>\n",
       "<table border=\"1\" class=\"dataframe\">\n",
       "  <thead>\n",
       "    <tr style=\"text-align: right;\">\n",
       "      <th></th>\n",
       "      <th>ANO</th>\n",
       "      <th>MES</th>\n",
       "      <th>SENADOR</th>\n",
       "      <th>TIPO_DESPESA</th>\n",
       "      <th>CNPJ_CPF</th>\n",
       "      <th>FORNECEDOR</th>\n",
       "      <th>DOCUMENTO</th>\n",
       "      <th>DATA</th>\n",
       "      <th>DETALHAMENTO</th>\n",
       "      <th>VALOR_REEMBOLSADO</th>\n",
       "      <th>COD_DOCUMENTO</th>\n",
       "    </tr>\n",
       "  </thead>\n",
       "  <tbody>\n",
       "    <tr>\n",
       "      <th>0</th>\n",
       "      <td>2022</td>\n",
       "      <td>1</td>\n",
       "      <td>ACIR GURGACZ</td>\n",
       "      <td>Aluguel de imóveis para escritório político, c...</td>\n",
       "      <td>004.948.028-63</td>\n",
       "      <td>GILBERTO PISELO DO NASCIMENTO</td>\n",
       "      <td>001/22</td>\n",
       "      <td>2022-01-03</td>\n",
       "      <td>Despesa com pagamento de aluguel de imóvel par...</td>\n",
       "      <td>6000.00</td>\n",
       "      <td>2173614</td>\n",
       "    </tr>\n",
       "    <tr>\n",
       "      <th>1</th>\n",
       "      <td>2022</td>\n",
       "      <td>1</td>\n",
       "      <td>ACIR GURGACZ</td>\n",
       "      <td>Divulgação da atividade parlamentar</td>\n",
       "      <td>26.320.603/0001-64</td>\n",
       "      <td>INFORMANAHORA</td>\n",
       "      <td>000000000000310/A</td>\n",
       "      <td>2022-01-04</td>\n",
       "      <td>Despesa com divulgação da atividade parlamenta...</td>\n",
       "      <td>1500.00</td>\n",
       "      <td>2173615</td>\n",
       "    </tr>\n",
       "    <tr>\n",
       "      <th>2</th>\n",
       "      <td>2022</td>\n",
       "      <td>1</td>\n",
       "      <td>ACIR GURGACZ</td>\n",
       "      <td>Divulgação da atividade parlamentar</td>\n",
       "      <td>13.659.201/0001-47</td>\n",
       "      <td>LINHA PURPURA FOTO E VIDEO LTDA</td>\n",
       "      <td>107</td>\n",
       "      <td>2022-01-14</td>\n",
       "      <td>Despesa com produção de texto e edição de víde...</td>\n",
       "      <td>6000.00</td>\n",
       "      <td>2173616</td>\n",
       "    </tr>\n",
       "    <tr>\n",
       "      <th>3</th>\n",
       "      <td>2022</td>\n",
       "      <td>1</td>\n",
       "      <td>ACIR GURGACZ</td>\n",
       "      <td>Divulgação da atividade parlamentar</td>\n",
       "      <td>23.652.846/0001-01</td>\n",
       "      <td>ROBERTO GUTIERREZ DA ROCHA M.E.I.</td>\n",
       "      <td>187</td>\n",
       "      <td>2022-01-18</td>\n",
       "      <td>Divulgação da atividade parlamentar</td>\n",
       "      <td>1000.00</td>\n",
       "      <td>2173618</td>\n",
       "    </tr>\n",
       "    <tr>\n",
       "      <th>4</th>\n",
       "      <td>2022</td>\n",
       "      <td>1</td>\n",
       "      <td>ACIR GURGACZ</td>\n",
       "      <td>Divulgação da atividade parlamentar</td>\n",
       "      <td>08.941.827/0001-01</td>\n",
       "      <td>RONDONIA DINÂMICA COM. E SERV. DE INFORMÁTICA ...</td>\n",
       "      <td>000000000001772/A</td>\n",
       "      <td>2022-01-17</td>\n",
       "      <td>Divulgação da atividade parlamentar</td>\n",
       "      <td>2000.00</td>\n",
       "      <td>2173617</td>\n",
       "    </tr>\n",
       "    <tr>\n",
       "      <th>...</th>\n",
       "      <td>...</td>\n",
       "      <td>...</td>\n",
       "      <td>...</td>\n",
       "      <td>...</td>\n",
       "      <td>...</td>\n",
       "      <td>...</td>\n",
       "      <td>...</td>\n",
       "      <td>...</td>\n",
       "      <td>...</td>\n",
       "      <td>...</td>\n",
       "      <td>...</td>\n",
       "    </tr>\n",
       "    <tr>\n",
       "      <th>16593</th>\n",
       "      <td>2022</td>\n",
       "      <td>12</td>\n",
       "      <td>ZEQUINHA MARINHO</td>\n",
       "      <td>Passagens aéreas, aquáticas e terrestres nacio...</td>\n",
       "      <td>22.052.777/0001-32</td>\n",
       "      <td>Exceller Tour</td>\n",
       "      <td>WIXHAI</td>\n",
       "      <td>2022-12-06</td>\n",
       "      <td>Companhia Aérea: LATAM, Localizador: WIXHAI. P...</td>\n",
       "      <td>2893.04</td>\n",
       "      <td>2191398</td>\n",
       "    </tr>\n",
       "    <tr>\n",
       "      <th>16594</th>\n",
       "      <td>2022</td>\n",
       "      <td>12</td>\n",
       "      <td>ZEQUINHA MARINHO</td>\n",
       "      <td>Passagens aéreas, aquáticas e terrestres nacio...</td>\n",
       "      <td>22.052.777/0001-32</td>\n",
       "      <td>Exceller Tour</td>\n",
       "      <td>WITOLM</td>\n",
       "      <td>2022-12-09</td>\n",
       "      <td>Companhia Aérea: GOL, Localizador: WITOLM. Pas...</td>\n",
       "      <td>1180.19</td>\n",
       "      <td>2192272</td>\n",
       "    </tr>\n",
       "    <tr>\n",
       "      <th>16595</th>\n",
       "      <td>2022</td>\n",
       "      <td>12</td>\n",
       "      <td>ZEQUINHA MARINHO</td>\n",
       "      <td>Passagens aéreas, aquáticas e terrestres nacio...</td>\n",
       "      <td>22.052.777/0001-32</td>\n",
       "      <td>Exceller Tour</td>\n",
       "      <td>THPKVQ</td>\n",
       "      <td>2022-12-20</td>\n",
       "      <td>Companhia Aérea: TAM, Localizador: THPKVQ. Pas...</td>\n",
       "      <td>2671.90</td>\n",
       "      <td>2192274</td>\n",
       "    </tr>\n",
       "    <tr>\n",
       "      <th>16596</th>\n",
       "      <td>2022</td>\n",
       "      <td>12</td>\n",
       "      <td>ZEQUINHA MARINHO</td>\n",
       "      <td>Passagens aéreas, aquáticas e terrestres nacio...</td>\n",
       "      <td>22.052.777/0001-32</td>\n",
       "      <td>Exceller Tour</td>\n",
       "      <td>QNN9HX</td>\n",
       "      <td>2022-12-21</td>\n",
       "      <td>Companhia Aérea: AZUL, Localizador: QNN9HX. Pa...</td>\n",
       "      <td>1334.31</td>\n",
       "      <td>2192244</td>\n",
       "    </tr>\n",
       "    <tr>\n",
       "      <th>16597</th>\n",
       "      <td>2022</td>\n",
       "      <td>12</td>\n",
       "      <td>ZEQUINHA MARINHO</td>\n",
       "      <td>Passagens aéreas, aquáticas e terrestres nacio...</td>\n",
       "      <td>22.052.777/0001-32</td>\n",
       "      <td>Exceller Tour</td>\n",
       "      <td>WMQWBX</td>\n",
       "      <td>2022-12-30</td>\n",
       "      <td>Companhia Aérea: TAM, Localizador: WMQWBX. Pas...</td>\n",
       "      <td>2250.72</td>\n",
       "      <td>2193622</td>\n",
       "    </tr>\n",
       "  </tbody>\n",
       "</table>\n",
       "<p>16598 rows × 11 columns</p>\n",
       "</div>"
      ],
      "text/plain": [
       "        ANO  MES           SENADOR  \\\n",
       "0      2022    1      ACIR GURGACZ   \n",
       "1      2022    1      ACIR GURGACZ   \n",
       "2      2022    1      ACIR GURGACZ   \n",
       "3      2022    1      ACIR GURGACZ   \n",
       "4      2022    1      ACIR GURGACZ   \n",
       "...     ...  ...               ...   \n",
       "16593  2022   12  ZEQUINHA MARINHO   \n",
       "16594  2022   12  ZEQUINHA MARINHO   \n",
       "16595  2022   12  ZEQUINHA MARINHO   \n",
       "16596  2022   12  ZEQUINHA MARINHO   \n",
       "16597  2022   12  ZEQUINHA MARINHO   \n",
       "\n",
       "                                            TIPO_DESPESA            CNPJ_CPF  \\\n",
       "0      Aluguel de imóveis para escritório político, c...      004.948.028-63   \n",
       "1                    Divulgação da atividade parlamentar  26.320.603/0001-64   \n",
       "2                    Divulgação da atividade parlamentar  13.659.201/0001-47   \n",
       "3                    Divulgação da atividade parlamentar  23.652.846/0001-01   \n",
       "4                    Divulgação da atividade parlamentar  08.941.827/0001-01   \n",
       "...                                                  ...                 ...   \n",
       "16593  Passagens aéreas, aquáticas e terrestres nacio...  22.052.777/0001-32   \n",
       "16594  Passagens aéreas, aquáticas e terrestres nacio...  22.052.777/0001-32   \n",
       "16595  Passagens aéreas, aquáticas e terrestres nacio...  22.052.777/0001-32   \n",
       "16596  Passagens aéreas, aquáticas e terrestres nacio...  22.052.777/0001-32   \n",
       "16597  Passagens aéreas, aquáticas e terrestres nacio...  22.052.777/0001-32   \n",
       "\n",
       "                                              FORNECEDOR          DOCUMENTO  \\\n",
       "0                          GILBERTO PISELO DO NASCIMENTO             001/22   \n",
       "1                                          INFORMANAHORA  000000000000310/A   \n",
       "2                        LINHA PURPURA FOTO E VIDEO LTDA                107   \n",
       "3                      ROBERTO GUTIERREZ DA ROCHA M.E.I.                187   \n",
       "4      RONDONIA DINÂMICA COM. E SERV. DE INFORMÁTICA ...  000000000001772/A   \n",
       "...                                                  ...                ...   \n",
       "16593                                      Exceller Tour             WIXHAI   \n",
       "16594                                      Exceller Tour             WITOLM   \n",
       "16595                                      Exceller Tour             THPKVQ   \n",
       "16596                                      Exceller Tour             QNN9HX   \n",
       "16597                                      Exceller Tour             WMQWBX   \n",
       "\n",
       "            DATA                                       DETALHAMENTO  \\\n",
       "0     2022-01-03  Despesa com pagamento de aluguel de imóvel par...   \n",
       "1     2022-01-04  Despesa com divulgação da atividade parlamenta...   \n",
       "2     2022-01-14  Despesa com produção de texto e edição de víde...   \n",
       "3     2022-01-18                Divulgação da atividade parlamentar   \n",
       "4     2022-01-17                Divulgação da atividade parlamentar   \n",
       "...          ...                                                ...   \n",
       "16593 2022-12-06  Companhia Aérea: LATAM, Localizador: WIXHAI. P...   \n",
       "16594 2022-12-09  Companhia Aérea: GOL, Localizador: WITOLM. Pas...   \n",
       "16595 2022-12-20  Companhia Aérea: TAM, Localizador: THPKVQ. Pas...   \n",
       "16596 2022-12-21  Companhia Aérea: AZUL, Localizador: QNN9HX. Pa...   \n",
       "16597 2022-12-30  Companhia Aérea: TAM, Localizador: WMQWBX. Pas...   \n",
       "\n",
       "       VALOR_REEMBOLSADO  COD_DOCUMENTO  \n",
       "0                6000.00        2173614  \n",
       "1                1500.00        2173615  \n",
       "2                6000.00        2173616  \n",
       "3                1000.00        2173618  \n",
       "4                2000.00        2173617  \n",
       "...                  ...            ...  \n",
       "16593            2893.04        2191398  \n",
       "16594            1180.19        2192272  \n",
       "16595            2671.90        2192274  \n",
       "16596            1334.31        2192244  \n",
       "16597            2250.72        2193622  \n",
       "\n",
       "[16598 rows x 11 columns]"
      ]
     },
     "execution_count": 26,
     "metadata": {},
     "output_type": "execute_result"
    }
   ],
   "source": [
    "df"
   ]
  },
  {
   "cell_type": "markdown",
   "id": "1a4c260d-8e63-420b-8e8d-731641a5eca0",
   "metadata": {},
   "source": [
    "## Gastos Ano 2022"
   ]
  },
  {
   "cell_type": "code",
   "execution_count": 27,
   "id": "e8cb59aa-c9a0-411a-942c-f12ddff7b6b0",
   "metadata": {},
   "outputs": [],
   "source": [
    "senadores = df['SENADOR'].unique()\n",
    "df_gastos_sn = { 'Senador':[], 'GastoAnual':[], 'RegsSemDocumento':[], 'RegsSemDetalhamentoDoGasto':[] }"
   ]
  },
  {
   "cell_type": "code",
   "execution_count": 28,
   "id": "d8159395-9ac0-44e2-ae8a-930000280c14",
   "metadata": {},
   "outputs": [
    {
     "name": "stderr",
     "output_type": "stream",
     "text": [
      "/tmp/ipykernel_12323/4245188335.py:4: UserWarning:\n",
      "\n",
      "Boolean Series key will be reindexed to match DataFrame index.\n",
      "\n",
      "/tmp/ipykernel_12323/4245188335.py:5: UserWarning:\n",
      "\n",
      "Boolean Series key will be reindexed to match DataFrame index.\n",
      "\n"
     ]
    }
   ],
   "source": [
    "for i in senadores:\n",
    "    df_gastos_sn['Senador'].append(i)\n",
    "    df_gastos_sn['GastoAnual'].append( df[ df['SENADOR'] == i ]['VALOR_REEMBOLSADO'].sum() )\n",
    "    df_gastos_sn['RegsSemDocumento'].append( df[ df['DOCUMENTO'].isna() == True][df['SENADOR'] == i ].isna().sum()['DOCUMENTO'] )\n",
    "    df_gastos_sn['RegsSemDetalhamentoDoGasto'].append( df[ df['DETALHAMENTO'].isna() == True][df['SENADOR'] == i ].isna().sum()['DETALHAMENTO'] )\n"
   ]
  },
  {
   "cell_type": "code",
   "execution_count": 29,
   "id": "49789fb5-af37-4e05-887c-1f3692597ba0",
   "metadata": {},
   "outputs": [
    {
     "data": {
      "text/html": [
       "<div>\n",
       "<style scoped>\n",
       "    .dataframe tbody tr th:only-of-type {\n",
       "        vertical-align: middle;\n",
       "    }\n",
       "\n",
       "    .dataframe tbody tr th {\n",
       "        vertical-align: top;\n",
       "    }\n",
       "\n",
       "    .dataframe thead th {\n",
       "        text-align: right;\n",
       "    }\n",
       "</style>\n",
       "<table border=\"1\" class=\"dataframe\">\n",
       "  <thead>\n",
       "    <tr style=\"text-align: right;\">\n",
       "      <th></th>\n",
       "      <th>Senador</th>\n",
       "      <th>GastoAnual</th>\n",
       "      <th>RegsSemDocumento</th>\n",
       "      <th>RegsSemDetalhamentoDoGasto</th>\n",
       "    </tr>\n",
       "  </thead>\n",
       "  <tbody>\n",
       "    <tr>\n",
       "      <th>50</th>\n",
       "      <td>LUCAS BARRETO</td>\n",
       "      <td>511319.78</td>\n",
       "      <td>0.0</td>\n",
       "      <td>228.0</td>\n",
       "    </tr>\n",
       "    <tr>\n",
       "      <th>90</th>\n",
       "      <td>TELMÁRIO MOTA</td>\n",
       "      <td>488693.40</td>\n",
       "      <td>0.0</td>\n",
       "      <td>249.0</td>\n",
       "    </tr>\n",
       "    <tr>\n",
       "      <th>64</th>\n",
       "      <td>MECIAS DE JESUS</td>\n",
       "      <td>488586.66</td>\n",
       "      <td>0.0</td>\n",
       "      <td>127.0</td>\n",
       "    </tr>\n",
       "    <tr>\n",
       "      <th>68</th>\n",
       "      <td>OMAR AZIZ</td>\n",
       "      <td>487541.24</td>\n",
       "      <td>0.0</td>\n",
       "      <td>0.0</td>\n",
       "    </tr>\n",
       "    <tr>\n",
       "      <th>9</th>\n",
       "      <td>CHICO RODRIGUES</td>\n",
       "      <td>486958.05</td>\n",
       "      <td>0.0</td>\n",
       "      <td>72.0</td>\n",
       "    </tr>\n",
       "    <tr>\n",
       "      <th>...</th>\n",
       "      <td>...</td>\n",
       "      <td>...</td>\n",
       "      <td>...</td>\n",
       "      <td>...</td>\n",
       "    </tr>\n",
       "    <tr>\n",
       "      <th>5</th>\n",
       "      <td>ANTONIO ANASTASIA</td>\n",
       "      <td>19647.13</td>\n",
       "      <td>3.0</td>\n",
       "      <td>15.0</td>\n",
       "    </tr>\n",
       "    <tr>\n",
       "      <th>33</th>\n",
       "      <td>GUARACY SILVEIRA</td>\n",
       "      <td>19285.82</td>\n",
       "      <td>0.0</td>\n",
       "      <td>1.0</td>\n",
       "    </tr>\n",
       "    <tr>\n",
       "      <th>49</th>\n",
       "      <td>LEILA BARROS</td>\n",
       "      <td>10567.64</td>\n",
       "      <td>12.0</td>\n",
       "      <td>12.0</td>\n",
       "    </tr>\n",
       "    <tr>\n",
       "      <th>63</th>\n",
       "      <td>MARIA ELIZA DE AGUIAR E SILVA</td>\n",
       "      <td>10136.42</td>\n",
       "      <td>0.0</td>\n",
       "      <td>0.0</td>\n",
       "    </tr>\n",
       "    <tr>\n",
       "      <th>84</th>\n",
       "      <td>SAMUEL ARAUJO</td>\n",
       "      <td>3233.90</td>\n",
       "      <td>0.0</td>\n",
       "      <td>0.0</td>\n",
       "    </tr>\n",
       "  </tbody>\n",
       "</table>\n",
       "<p>97 rows × 4 columns</p>\n",
       "</div>"
      ],
      "text/plain": [
       "                          Senador  GastoAnual  RegsSemDocumento  \\\n",
       "50                  LUCAS BARRETO   511319.78               0.0   \n",
       "90                  TELMÁRIO MOTA   488693.40               0.0   \n",
       "64                MECIAS DE JESUS   488586.66               0.0   \n",
       "68                      OMAR AZIZ   487541.24               0.0   \n",
       "9                 CHICO RODRIGUES   486958.05               0.0   \n",
       "..                            ...         ...               ...   \n",
       "5               ANTONIO ANASTASIA    19647.13               3.0   \n",
       "33               GUARACY SILVEIRA    19285.82               0.0   \n",
       "49                   LEILA BARROS    10567.64              12.0   \n",
       "63  MARIA ELIZA DE AGUIAR E SILVA    10136.42               0.0   \n",
       "84                  SAMUEL ARAUJO     3233.90               0.0   \n",
       "\n",
       "    RegsSemDetalhamentoDoGasto  \n",
       "50                       228.0  \n",
       "90                       249.0  \n",
       "64                       127.0  \n",
       "68                         0.0  \n",
       "9                         72.0  \n",
       "..                         ...  \n",
       "5                         15.0  \n",
       "33                         1.0  \n",
       "49                        12.0  \n",
       "63                         0.0  \n",
       "84                         0.0  \n",
       "\n",
       "[97 rows x 4 columns]"
      ]
     },
     "execution_count": 29,
     "metadata": {},
     "output_type": "execute_result"
    }
   ],
   "source": [
    "#ds = pd.DataFrame( { 'Senador': df_gastos_sn['Senador'], 'Gastos': df_gastos_sn['GastoAnual'] })\n",
    "ds = pd.DataFrame( df_gastos_sn )\n",
    "ds = ds.sort_values(by=['GastoAnual'], ascending=False)\n",
    "ds"
   ]
  },
  {
   "cell_type": "markdown",
   "id": "52133833-798c-436f-be48-092cf71b537d",
   "metadata": {},
   "source": [
    "### 10 Senadores com Maior Gastos 2022"
   ]
  },
  {
   "cell_type": "code",
   "execution_count": 30,
   "id": "8ca0b0f8-e69b-4507-8663-9644b0ac0923",
   "metadata": {},
   "outputs": [
    {
     "data": {
      "application/vnd.plotly.v1+json": {
       "config": {
        "plotlyServerURL": "https://plot.ly"
       },
       "data": [
        {
         "alignmentgroup": "True",
         "hovertemplate": "Senador=%{x}<br>GastoAnual=%{y}<extra></extra>",
         "legendgroup": "",
         "marker": {
          "color": "#636efa",
          "pattern": {
           "shape": ""
          }
         },
         "name": "",
         "offsetgroup": "",
         "orientation": "v",
         "showlegend": false,
         "textposition": "auto",
         "type": "bar",
         "x": [
          "LUCAS BARRETO",
          "TELMÁRIO MOTA",
          "MECIAS DE JESUS",
          "OMAR AZIZ",
          "CHICO RODRIGUES",
          "DAVI ALCOLUMBRE",
          "ROGÉRIO CARVALHO",
          "MAILZA GOMES",
          "ELMANO FÉRRER",
          "ELIZIANE GAMA"
         ],
         "xaxis": "x",
         "y": [
          511319.78,
          488693.39999999997,
          488586.66,
          487541.24000000005,
          486958.0500000001,
          486554.54000000004,
          479699.27,
          465899.61,
          465194.93000000005,
          444927.92000000004
         ],
         "yaxis": "y"
        }
       ],
       "layout": {
        "autosize": true,
        "barmode": "relative",
        "legend": {
         "tracegroupgap": 0
        },
        "template": {
         "data": {
          "bar": [
           {
            "error_x": {
             "color": "#2a3f5f"
            },
            "error_y": {
             "color": "#2a3f5f"
            },
            "marker": {
             "line": {
              "color": "#E5ECF6",
              "width": 0.5
             },
             "pattern": {
              "fillmode": "overlay",
              "size": 10,
              "solidity": 0.2
             }
            },
            "type": "bar"
           }
          ],
          "barpolar": [
           {
            "marker": {
             "line": {
              "color": "#E5ECF6",
              "width": 0.5
             },
             "pattern": {
              "fillmode": "overlay",
              "size": 10,
              "solidity": 0.2
             }
            },
            "type": "barpolar"
           }
          ],
          "carpet": [
           {
            "aaxis": {
             "endlinecolor": "#2a3f5f",
             "gridcolor": "white",
             "linecolor": "white",
             "minorgridcolor": "white",
             "startlinecolor": "#2a3f5f"
            },
            "baxis": {
             "endlinecolor": "#2a3f5f",
             "gridcolor": "white",
             "linecolor": "white",
             "minorgridcolor": "white",
             "startlinecolor": "#2a3f5f"
            },
            "type": "carpet"
           }
          ],
          "choropleth": [
           {
            "colorbar": {
             "outlinewidth": 0,
             "ticks": ""
            },
            "type": "choropleth"
           }
          ],
          "contour": [
           {
            "colorbar": {
             "outlinewidth": 0,
             "ticks": ""
            },
            "colorscale": [
             [
              0,
              "#0d0887"
             ],
             [
              0.1111111111111111,
              "#46039f"
             ],
             [
              0.2222222222222222,
              "#7201a8"
             ],
             [
              0.3333333333333333,
              "#9c179e"
             ],
             [
              0.4444444444444444,
              "#bd3786"
             ],
             [
              0.5555555555555556,
              "#d8576b"
             ],
             [
              0.6666666666666666,
              "#ed7953"
             ],
             [
              0.7777777777777778,
              "#fb9f3a"
             ],
             [
              0.8888888888888888,
              "#fdca26"
             ],
             [
              1,
              "#f0f921"
             ]
            ],
            "type": "contour"
           }
          ],
          "contourcarpet": [
           {
            "colorbar": {
             "outlinewidth": 0,
             "ticks": ""
            },
            "type": "contourcarpet"
           }
          ],
          "heatmap": [
           {
            "colorbar": {
             "outlinewidth": 0,
             "ticks": ""
            },
            "colorscale": [
             [
              0,
              "#0d0887"
             ],
             [
              0.1111111111111111,
              "#46039f"
             ],
             [
              0.2222222222222222,
              "#7201a8"
             ],
             [
              0.3333333333333333,
              "#9c179e"
             ],
             [
              0.4444444444444444,
              "#bd3786"
             ],
             [
              0.5555555555555556,
              "#d8576b"
             ],
             [
              0.6666666666666666,
              "#ed7953"
             ],
             [
              0.7777777777777778,
              "#fb9f3a"
             ],
             [
              0.8888888888888888,
              "#fdca26"
             ],
             [
              1,
              "#f0f921"
             ]
            ],
            "type": "heatmap"
           }
          ],
          "heatmapgl": [
           {
            "colorbar": {
             "outlinewidth": 0,
             "ticks": ""
            },
            "colorscale": [
             [
              0,
              "#0d0887"
             ],
             [
              0.1111111111111111,
              "#46039f"
             ],
             [
              0.2222222222222222,
              "#7201a8"
             ],
             [
              0.3333333333333333,
              "#9c179e"
             ],
             [
              0.4444444444444444,
              "#bd3786"
             ],
             [
              0.5555555555555556,
              "#d8576b"
             ],
             [
              0.6666666666666666,
              "#ed7953"
             ],
             [
              0.7777777777777778,
              "#fb9f3a"
             ],
             [
              0.8888888888888888,
              "#fdca26"
             ],
             [
              1,
              "#f0f921"
             ]
            ],
            "type": "heatmapgl"
           }
          ],
          "histogram": [
           {
            "marker": {
             "pattern": {
              "fillmode": "overlay",
              "size": 10,
              "solidity": 0.2
             }
            },
            "type": "histogram"
           }
          ],
          "histogram2d": [
           {
            "colorbar": {
             "outlinewidth": 0,
             "ticks": ""
            },
            "colorscale": [
             [
              0,
              "#0d0887"
             ],
             [
              0.1111111111111111,
              "#46039f"
             ],
             [
              0.2222222222222222,
              "#7201a8"
             ],
             [
              0.3333333333333333,
              "#9c179e"
             ],
             [
              0.4444444444444444,
              "#bd3786"
             ],
             [
              0.5555555555555556,
              "#d8576b"
             ],
             [
              0.6666666666666666,
              "#ed7953"
             ],
             [
              0.7777777777777778,
              "#fb9f3a"
             ],
             [
              0.8888888888888888,
              "#fdca26"
             ],
             [
              1,
              "#f0f921"
             ]
            ],
            "type": "histogram2d"
           }
          ],
          "histogram2dcontour": [
           {
            "colorbar": {
             "outlinewidth": 0,
             "ticks": ""
            },
            "colorscale": [
             [
              0,
              "#0d0887"
             ],
             [
              0.1111111111111111,
              "#46039f"
             ],
             [
              0.2222222222222222,
              "#7201a8"
             ],
             [
              0.3333333333333333,
              "#9c179e"
             ],
             [
              0.4444444444444444,
              "#bd3786"
             ],
             [
              0.5555555555555556,
              "#d8576b"
             ],
             [
              0.6666666666666666,
              "#ed7953"
             ],
             [
              0.7777777777777778,
              "#fb9f3a"
             ],
             [
              0.8888888888888888,
              "#fdca26"
             ],
             [
              1,
              "#f0f921"
             ]
            ],
            "type": "histogram2dcontour"
           }
          ],
          "mesh3d": [
           {
            "colorbar": {
             "outlinewidth": 0,
             "ticks": ""
            },
            "type": "mesh3d"
           }
          ],
          "parcoords": [
           {
            "line": {
             "colorbar": {
              "outlinewidth": 0,
              "ticks": ""
             }
            },
            "type": "parcoords"
           }
          ],
          "pie": [
           {
            "automargin": true,
            "type": "pie"
           }
          ],
          "scatter": [
           {
            "fillpattern": {
             "fillmode": "overlay",
             "size": 10,
             "solidity": 0.2
            },
            "type": "scatter"
           }
          ],
          "scatter3d": [
           {
            "line": {
             "colorbar": {
              "outlinewidth": 0,
              "ticks": ""
             }
            },
            "marker": {
             "colorbar": {
              "outlinewidth": 0,
              "ticks": ""
             }
            },
            "type": "scatter3d"
           }
          ],
          "scattercarpet": [
           {
            "marker": {
             "colorbar": {
              "outlinewidth": 0,
              "ticks": ""
             }
            },
            "type": "scattercarpet"
           }
          ],
          "scattergeo": [
           {
            "marker": {
             "colorbar": {
              "outlinewidth": 0,
              "ticks": ""
             }
            },
            "type": "scattergeo"
           }
          ],
          "scattergl": [
           {
            "marker": {
             "colorbar": {
              "outlinewidth": 0,
              "ticks": ""
             }
            },
            "type": "scattergl"
           }
          ],
          "scattermapbox": [
           {
            "marker": {
             "colorbar": {
              "outlinewidth": 0,
              "ticks": ""
             }
            },
            "type": "scattermapbox"
           }
          ],
          "scatterpolar": [
           {
            "marker": {
             "colorbar": {
              "outlinewidth": 0,
              "ticks": ""
             }
            },
            "type": "scatterpolar"
           }
          ],
          "scatterpolargl": [
           {
            "marker": {
             "colorbar": {
              "outlinewidth": 0,
              "ticks": ""
             }
            },
            "type": "scatterpolargl"
           }
          ],
          "scatterternary": [
           {
            "marker": {
             "colorbar": {
              "outlinewidth": 0,
              "ticks": ""
             }
            },
            "type": "scatterternary"
           }
          ],
          "surface": [
           {
            "colorbar": {
             "outlinewidth": 0,
             "ticks": ""
            },
            "colorscale": [
             [
              0,
              "#0d0887"
             ],
             [
              0.1111111111111111,
              "#46039f"
             ],
             [
              0.2222222222222222,
              "#7201a8"
             ],
             [
              0.3333333333333333,
              "#9c179e"
             ],
             [
              0.4444444444444444,
              "#bd3786"
             ],
             [
              0.5555555555555556,
              "#d8576b"
             ],
             [
              0.6666666666666666,
              "#ed7953"
             ],
             [
              0.7777777777777778,
              "#fb9f3a"
             ],
             [
              0.8888888888888888,
              "#fdca26"
             ],
             [
              1,
              "#f0f921"
             ]
            ],
            "type": "surface"
           }
          ],
          "table": [
           {
            "cells": {
             "fill": {
              "color": "#EBF0F8"
             },
             "line": {
              "color": "white"
             }
            },
            "header": {
             "fill": {
              "color": "#C8D4E3"
             },
             "line": {
              "color": "white"
             }
            },
            "type": "table"
           }
          ]
         },
         "layout": {
          "annotationdefaults": {
           "arrowcolor": "#2a3f5f",
           "arrowhead": 0,
           "arrowwidth": 1
          },
          "autotypenumbers": "strict",
          "coloraxis": {
           "colorbar": {
            "outlinewidth": 0,
            "ticks": ""
           }
          },
          "colorscale": {
           "diverging": [
            [
             0,
             "#8e0152"
            ],
            [
             0.1,
             "#c51b7d"
            ],
            [
             0.2,
             "#de77ae"
            ],
            [
             0.3,
             "#f1b6da"
            ],
            [
             0.4,
             "#fde0ef"
            ],
            [
             0.5,
             "#f7f7f7"
            ],
            [
             0.6,
             "#e6f5d0"
            ],
            [
             0.7,
             "#b8e186"
            ],
            [
             0.8,
             "#7fbc41"
            ],
            [
             0.9,
             "#4d9221"
            ],
            [
             1,
             "#276419"
            ]
           ],
           "sequential": [
            [
             0,
             "#0d0887"
            ],
            [
             0.1111111111111111,
             "#46039f"
            ],
            [
             0.2222222222222222,
             "#7201a8"
            ],
            [
             0.3333333333333333,
             "#9c179e"
            ],
            [
             0.4444444444444444,
             "#bd3786"
            ],
            [
             0.5555555555555556,
             "#d8576b"
            ],
            [
             0.6666666666666666,
             "#ed7953"
            ],
            [
             0.7777777777777778,
             "#fb9f3a"
            ],
            [
             0.8888888888888888,
             "#fdca26"
            ],
            [
             1,
             "#f0f921"
            ]
           ],
           "sequentialminus": [
            [
             0,
             "#0d0887"
            ],
            [
             0.1111111111111111,
             "#46039f"
            ],
            [
             0.2222222222222222,
             "#7201a8"
            ],
            [
             0.3333333333333333,
             "#9c179e"
            ],
            [
             0.4444444444444444,
             "#bd3786"
            ],
            [
             0.5555555555555556,
             "#d8576b"
            ],
            [
             0.6666666666666666,
             "#ed7953"
            ],
            [
             0.7777777777777778,
             "#fb9f3a"
            ],
            [
             0.8888888888888888,
             "#fdca26"
            ],
            [
             1,
             "#f0f921"
            ]
           ]
          },
          "colorway": [
           "#636efa",
           "#EF553B",
           "#00cc96",
           "#ab63fa",
           "#FFA15A",
           "#19d3f3",
           "#FF6692",
           "#B6E880",
           "#FF97FF",
           "#FECB52"
          ],
          "font": {
           "color": "#2a3f5f"
          },
          "geo": {
           "bgcolor": "white",
           "lakecolor": "white",
           "landcolor": "#E5ECF6",
           "showlakes": true,
           "showland": true,
           "subunitcolor": "white"
          },
          "hoverlabel": {
           "align": "left"
          },
          "hovermode": "closest",
          "mapbox": {
           "style": "light"
          },
          "paper_bgcolor": "white",
          "plot_bgcolor": "#E5ECF6",
          "polar": {
           "angularaxis": {
            "gridcolor": "white",
            "linecolor": "white",
            "ticks": ""
           },
           "bgcolor": "#E5ECF6",
           "radialaxis": {
            "gridcolor": "white",
            "linecolor": "white",
            "ticks": ""
           }
          },
          "scene": {
           "xaxis": {
            "backgroundcolor": "#E5ECF6",
            "gridcolor": "white",
            "gridwidth": 2,
            "linecolor": "white",
            "showbackground": true,
            "ticks": "",
            "zerolinecolor": "white"
           },
           "yaxis": {
            "backgroundcolor": "#E5ECF6",
            "gridcolor": "white",
            "gridwidth": 2,
            "linecolor": "white",
            "showbackground": true,
            "ticks": "",
            "zerolinecolor": "white"
           },
           "zaxis": {
            "backgroundcolor": "#E5ECF6",
            "gridcolor": "white",
            "gridwidth": 2,
            "linecolor": "white",
            "showbackground": true,
            "ticks": "",
            "zerolinecolor": "white"
           }
          },
          "shapedefaults": {
           "line": {
            "color": "#2a3f5f"
           }
          },
          "ternary": {
           "aaxis": {
            "gridcolor": "white",
            "linecolor": "white",
            "ticks": ""
           },
           "baxis": {
            "gridcolor": "white",
            "linecolor": "white",
            "ticks": ""
           },
           "bgcolor": "#E5ECF6",
           "caxis": {
            "gridcolor": "white",
            "linecolor": "white",
            "ticks": ""
           }
          },
          "title": {
           "x": 0.05
          },
          "xaxis": {
           "automargin": true,
           "gridcolor": "white",
           "linecolor": "white",
           "ticks": "",
           "title": {
            "standoff": 15
           },
           "zerolinecolor": "white",
           "zerolinewidth": 2
          },
          "yaxis": {
           "automargin": true,
           "gridcolor": "white",
           "linecolor": "white",
           "ticks": "",
           "title": {
            "standoff": 15
           },
           "zerolinecolor": "white",
           "zerolinewidth": 2
          }
         }
        },
        "title": {
         "text": "Gastos (R$) Senadores Brasileiros 2022"
        },
        "xaxis": {
         "anchor": "y",
         "autorange": true,
         "domain": [
          0,
          1
         ],
         "range": [
          -0.5,
          9.5
         ],
         "title": {
          "text": "Senador"
         },
         "type": "category"
        },
        "yaxis": {
         "anchor": "x",
         "autorange": true,
         "domain": [
          0,
          1
         ],
         "range": [
          0,
          538231.347368421
         ],
         "title": {
          "text": "GastoAnual"
         },
         "type": "linear"
        }
       }
      },
      "image/png": "[encoded data removed]",
      "text/html": [
       "<div>                            <div id=\"8cacfc55-647c-4363-984d-4501c05052c8\" class=\"plotly-graph-div\" style=\"height:525px; width:100%;\"></div>            <script type=\"text/javascript\">                require([\"plotly\"], function(Plotly) {                    window.PLOTLYENV=window.PLOTLYENV || {};                                    if (document.getElementById(\"8cacfc55-647c-4363-984d-4501c05052c8\")) {                    Plotly.newPlot(                        \"8cacfc55-647c-4363-984d-4501c05052c8\",                        [{\"alignmentgroup\":\"True\",\"hovertemplate\":\"Senador=%{x}<br>GastoAnual=%{y}<extra></extra>\",\"legendgroup\":\"\",\"marker\":{\"color\":\"#636efa\",\"pattern\":{\"shape\":\"\"}},\"name\":\"\",\"offsetgroup\":\"\",\"orientation\":\"v\",\"showlegend\":false,\"textposition\":\"auto\",\"x\":[\"LUCAS BARRETO\",\"TELM\\u00c1RIO MOTA\",\"MECIAS DE JESUS\",\"OMAR AZIZ\",\"CHICO RODRIGUES\",\"DAVI ALCOLUMBRE\",\"ROG\\u00c9RIO CARVALHO\",\"MAILZA GOMES\",\"ELMANO F\\u00c9RRER\",\"ELIZIANE GAMA\"],\"xaxis\":\"x\",\"y\":[511319.78,488693.39999999997,488586.66,487541.24000000005,486958.0500000001,486554.54000000004,479699.27,465899.61,465194.93000000005,444927.92000000004],\"yaxis\":\"y\",\"type\":\"bar\"}],                        {\"template\":{\"data\":{\"histogram2dcontour\":[{\"type\":\"histogram2dcontour\",\"colorbar\":{\"outlinewidth\":0,\"ticks\":\"\"},\"colorscale\":[[0.0,\"#0d0887\"],[0.1111111111111111,\"#46039f\"],[0.2222222222222222,\"#7201a8\"],[0.3333333333333333,\"#9c179e\"],[0.4444444444444444,\"#bd3786\"],[0.5555555555555556,\"#d8576b\"],[0.6666666666666666,\"#ed7953\"],[0.7777777777777778,\"#fb9f3a\"],[0.8888888888888888,\"#fdca26\"],[1.0,\"#f0f921\"]]}],\"choropleth\":[{\"type\":\"choropleth\",\"colorbar\":{\"outlinewidth\":0,\"ticks\":\"\"}}],\"histogram2d\":[{\"type\":\"histogram2d\",\"colorbar\":{\"outlinewidth\":0,\"ticks\":\"\"},\"colorscale\":[[0.0,\"#0d0887\"],[0.1111111111111111,\"#46039f\"],[0.2222222222222222,\"#7201a8\"],[0.3333333333333333,\"#9c179e\"],[0.4444444444444444,\"#bd3786\"],[0.5555555555555556,\"#d8576b\"],[0.6666666666666666,\"#ed7953\"],[0.7777777777777778,\"#fb9f3a\"],[0.8888888888888888,\"#fdca26\"],[1.0,\"#f0f921\"]]}],\"heatmap\":[{\"type\":\"heatmap\",\"colorbar\":{\"outlinewidth\":0,\"ticks\":\"\"},\"colorscale\":[[0.0,\"#0d0887\"],[0.1111111111111111,\"#46039f\"],[0.2222222222222222,\"#7201a8\"],[0.3333333333333333,\"#9c179e\"],[0.4444444444444444,\"#bd3786\"],[0.5555555555555556,\"#d8576b\"],[0.6666666666666666,\"#ed7953\"],[0.7777777777777778,\"#fb9f3a\"],[0.8888888888888888,\"#fdca26\"],[1.0,\"#f0f921\"]]}],\"heatmapgl\":[{\"type\":\"heatmapgl\",\"colorbar\":{\"outlinewidth\":0,\"ticks\":\"\"},\"colorscale\":[[0.0,\"#0d0887\"],[0.1111111111111111,\"#46039f\"],[0.2222222222222222,\"#7201a8\"],[0.3333333333333333,\"#9c179e\"],[0.4444444444444444,\"#bd3786\"],[0.5555555555555556,\"#d8576b\"],[0.6666666666666666,\"#ed7953\"],[0.7777777777777778,\"#fb9f3a\"],[0.8888888888888888,\"#fdca26\"],[1.0,\"#f0f921\"]]}],\"contourcarpet\":[{\"type\":\"contourcarpet\",\"colorbar\":{\"outlinewidth\":0,\"ticks\":\"\"}}],\"contour\":[{\"type\":\"contour\",\"colorbar\":{\"outlinewidth\":0,\"ticks\":\"\"},\"colorscale\":[[0.0,\"#0d0887\"],[0.1111111111111111,\"#46039f\"],[0.2222222222222222,\"#7201a8\"],[0.3333333333333333,\"#9c179e\"],[0.4444444444444444,\"#bd3786\"],[0.5555555555555556,\"#d8576b\"],[0.6666666666666666,\"#ed7953\"],[0.7777777777777778,\"#fb9f3a\"],[0.8888888888888888,\"#fdca26\"],[1.0,\"#f0f921\"]]}],\"surface\":[{\"type\":\"surface\",\"colorbar\":{\"outlinewidth\":0,\"ticks\":\"\"},\"colorscale\":[[0.0,\"#0d0887\"],[0.1111111111111111,\"#46039f\"],[0.2222222222222222,\"#7201a8\"],[0.3333333333333333,\"#9c179e\"],[0.4444444444444444,\"#bd3786\"],[0.5555555555555556,\"#d8576b\"],[0.6666666666666666,\"#ed7953\"],[0.7777777777777778,\"#fb9f3a\"],[0.8888888888888888,\"#fdca26\"],[1.0,\"#f0f921\"]]}],\"mesh3d\":[{\"type\":\"mesh3d\",\"colorbar\":{\"outlinewidth\":0,\"ticks\":\"\"}}],\"scatter\":[{\"fillpattern\":{\"fillmode\":\"overlay\",\"size\":10,\"solidity\":0.2},\"type\":\"scatter\"}],\"parcoords\":[{\"type\":\"parcoords\",\"line\":{\"colorbar\":{\"outlinewidth\":0,\"ticks\":\"\"}}}],\"scatterpolargl\":[{\"type\":\"scatterpolargl\",\"marker\":{\"colorbar\":{\"outlinewidth\":0,\"ticks\":\"\"}}}],\"bar\":[{\"error_x\":{\"color\":\"#2a3f5f\"},\"error_y\":{\"color\":\"#2a3f5f\"},\"marker\":{\"line\":{\"color\":\"#E5ECF6\",\"width\":0.5},\"pattern\":{\"fillmode\":\"overlay\",\"size\":10,\"solidity\":0.2}},\"type\":\"bar\"}],\"scattergeo\":[{\"type\":\"scattergeo\",\"marker\":{\"colorbar\":{\"outlinewidth\":0,\"ticks\":\"\"}}}],\"scatterpolar\":[{\"type\":\"scatterpolar\",\"marker\":{\"colorbar\":{\"outlinewidth\":0,\"ticks\":\"\"}}}],\"histogram\":[{\"marker\":{\"pattern\":{\"fillmode\":\"overlay\",\"size\":10,\"solidity\":0.2}},\"type\":\"histogram\"}],\"scattergl\":[{\"type\":\"scattergl\",\"marker\":{\"colorbar\":{\"outlinewidth\":0,\"ticks\":\"\"}}}],\"scatter3d\":[{\"type\":\"scatter3d\",\"line\":{\"colorbar\":{\"outlinewidth\":0,\"ticks\":\"\"}},\"marker\":{\"colorbar\":{\"outlinewidth\":0,\"ticks\":\"\"}}}],\"scattermapbox\":[{\"type\":\"scattermapbox\",\"marker\":{\"colorbar\":{\"outlinewidth\":0,\"ticks\":\"\"}}}],\"scatterternary\":[{\"type\":\"scatterternary\",\"marker\":{\"colorbar\":{\"outlinewidth\":0,\"ticks\":\"\"}}}],\"scattercarpet\":[{\"type\":\"scattercarpet\",\"marker\":{\"colorbar\":{\"outlinewidth\":0,\"ticks\":\"\"}}}],\"carpet\":[{\"aaxis\":{\"endlinecolor\":\"#2a3f5f\",\"gridcolor\":\"white\",\"linecolor\":\"white\",\"minorgridcolor\":\"white\",\"startlinecolor\":\"#2a3f5f\"},\"baxis\":{\"endlinecolor\":\"#2a3f5f\",\"gridcolor\":\"white\",\"linecolor\":\"white\",\"minorgridcolor\":\"white\",\"startlinecolor\":\"#2a3f5f\"},\"type\":\"carpet\"}],\"table\":[{\"cells\":{\"fill\":{\"color\":\"#EBF0F8\"},\"line\":{\"color\":\"white\"}},\"header\":{\"fill\":{\"color\":\"#C8D4E3\"},\"line\":{\"color\":\"white\"}},\"type\":\"table\"}],\"barpolar\":[{\"marker\":{\"line\":{\"color\":\"#E5ECF6\",\"width\":0.5},\"pattern\":{\"fillmode\":\"overlay\",\"size\":10,\"solidity\":0.2}},\"type\":\"barpolar\"}],\"pie\":[{\"automargin\":true,\"type\":\"pie\"}]},\"layout\":{\"autotypenumbers\":\"strict\",\"colorway\":[\"#636efa\",\"#EF553B\",\"#00cc96\",\"#ab63fa\",\"#FFA15A\",\"#19d3f3\",\"#FF6692\",\"#B6E880\",\"#FF97FF\",\"#FECB52\"],\"font\":{\"color\":\"#2a3f5f\"},\"hovermode\":\"closest\",\"hoverlabel\":{\"align\":\"left\"},\"paper_bgcolor\":\"white\",\"plot_bgcolor\":\"#E5ECF6\",\"polar\":{\"bgcolor\":\"#E5ECF6\",\"angularaxis\":{\"gridcolor\":\"white\",\"linecolor\":\"white\",\"ticks\":\"\"},\"radialaxis\":{\"gridcolor\":\"white\",\"linecolor\":\"white\",\"ticks\":\"\"}},\"ternary\":{\"bgcolor\":\"#E5ECF6\",\"aaxis\":{\"gridcolor\":\"white\",\"linecolor\":\"white\",\"ticks\":\"\"},\"baxis\":{\"gridcolor\":\"white\",\"linecolor\":\"white\",\"ticks\":\"\"},\"caxis\":{\"gridcolor\":\"white\",\"linecolor\":\"white\",\"ticks\":\"\"}},\"coloraxis\":{\"colorbar\":{\"outlinewidth\":0,\"ticks\":\"\"}},\"colorscale\":{\"sequential\":[[0.0,\"#0d0887\"],[0.1111111111111111,\"#46039f\"],[0.2222222222222222,\"#7201a8\"],[0.3333333333333333,\"#9c179e\"],[0.4444444444444444,\"#bd3786\"],[0.5555555555555556,\"#d8576b\"],[0.6666666666666666,\"#ed7953\"],[0.7777777777777778,\"#fb9f3a\"],[0.8888888888888888,\"#fdca26\"],[1.0,\"#f0f921\"]],\"sequentialminus\":[[0.0,\"#0d0887\"],[0.1111111111111111,\"#46039f\"],[0.2222222222222222,\"#7201a8\"],[0.3333333333333333,\"#9c179e\"],[0.4444444444444444,\"#bd3786\"],[0.5555555555555556,\"#d8576b\"],[0.6666666666666666,\"#ed7953\"],[0.7777777777777778,\"#fb9f3a\"],[0.8888888888888888,\"#fdca26\"],[1.0,\"#f0f921\"]],\"diverging\":[[0,\"#8e0152\"],[0.1,\"#c51b7d\"],[0.2,\"#de77ae\"],[0.3,\"#f1b6da\"],[0.4,\"#fde0ef\"],[0.5,\"#f7f7f7\"],[0.6,\"#e6f5d0\"],[0.7,\"#b8e186\"],[0.8,\"#7fbc41\"],[0.9,\"#4d9221\"],[1,\"#276419\"]]},\"xaxis\":{\"gridcolor\":\"white\",\"linecolor\":\"white\",\"ticks\":\"\",\"title\":{\"standoff\":15},\"zerolinecolor\":\"white\",\"automargin\":true,\"zerolinewidth\":2},\"yaxis\":{\"gridcolor\":\"white\",\"linecolor\":\"white\",\"ticks\":\"\",\"title\":{\"standoff\":15},\"zerolinecolor\":\"white\",\"automargin\":true,\"zerolinewidth\":2},\"scene\":{\"xaxis\":{\"backgroundcolor\":\"#E5ECF6\",\"gridcolor\":\"white\",\"linecolor\":\"white\",\"showbackground\":true,\"ticks\":\"\",\"zerolinecolor\":\"white\",\"gridwidth\":2},\"yaxis\":{\"backgroundcolor\":\"#E5ECF6\",\"gridcolor\":\"white\",\"linecolor\":\"white\",\"showbackground\":true,\"ticks\":\"\",\"zerolinecolor\":\"white\",\"gridwidth\":2},\"zaxis\":{\"backgroundcolor\":\"#E5ECF6\",\"gridcolor\":\"white\",\"linecolor\":\"white\",\"showbackground\":true,\"ticks\":\"\",\"zerolinecolor\":\"white\",\"gridwidth\":2}},\"shapedefaults\":{\"line\":{\"color\":\"#2a3f5f\"}},\"annotationdefaults\":{\"arrowcolor\":\"#2a3f5f\",\"arrowhead\":0,\"arrowwidth\":1},\"geo\":{\"bgcolor\":\"white\",\"landcolor\":\"#E5ECF6\",\"subunitcolor\":\"white\",\"showland\":true,\"showlakes\":true,\"lakecolor\":\"white\"},\"title\":{\"x\":0.05},\"mapbox\":{\"style\":\"light\"}}},\"xaxis\":{\"anchor\":\"y\",\"domain\":[0.0,1.0],\"title\":{\"text\":\"Senador\"}},\"yaxis\":{\"anchor\":\"x\",\"domain\":[0.0,1.0],\"title\":{\"text\":\"GastoAnual\"}},\"legend\":{\"tracegroupgap\":0},\"title\":{\"text\":\"Gastos (R$) Senadores Brasileiros 2022\"},\"barmode\":\"relative\"},                        {\"responsive\": true}                    ).then(function(){\n",
       "                            \n",
       "var gd = document.getElementById('8cacfc55-647c-4363-984d-4501c05052c8');\n",
       "var x = new MutationObserver(function (mutations, observer) {{\n",
       "        var display = window.getComputedStyle(gd).display;\n",
       "        if (!display || display === 'none') {{\n",
       "            console.log([gd, 'removed!']);\n",
       "            Plotly.purge(gd);\n",
       "            observer.disconnect();\n",
       "        }}\n",
       "}});\n",
       "\n",
       "// Listen for the removal of the full notebook cells\n",
       "var notebookContainer = gd.closest('#notebook-container');\n",
       "if (notebookContainer) {{\n",
       "    x.observe(notebookContainer, {childList: true});\n",
       "}}\n",
       "\n",
       "// Listen for the clearing of the current output cell\n",
       "var outputEl = gd.closest('.output');\n",
       "if (outputEl) {{\n",
       "    x.observe(outputEl, {childList: true});\n",
       "}}\n",
       "\n",
       "                        })                };                });            </script>        </div>"
      ]
     },
     "metadata": {},
     "output_type": "display_data"
    }
   ],
   "source": [
    "ds[:10].plot(x='Senador', y='GastoAnual', title='Gastos (R$) Senadores Brasileiros 2022', kind='bar')"
   ]
  },
  {
   "cell_type": "markdown",
   "id": "9e519975-5fea-4075-9be6-1602f588e298",
   "metadata": {},
   "source": [
    "### 10 Senadores com mais ocorrência de falta de Documento comprobatório do gasto na Base de Dados"
   ]
  },
  {
   "cell_type": "code",
   "execution_count": 31,
   "id": "6b5feee1-3801-42a7-bc81-c3b2ee69af39",
   "metadata": {},
   "outputs": [
    {
     "data": {
      "application/vnd.plotly.v1+json": {
       "config": {
        "plotlyServerURL": "https://plot.ly"
       },
       "data": [
        {
         "alignmentgroup": "True",
         "hovertemplate": "Senador=%{x}<br>RegsSemDocumento=%{y}<extra></extra>",
         "legendgroup": "",
         "marker": {
          "color": "#636efa",
          "pattern": {
           "shape": ""
          }
         },
         "name": "",
         "offsetgroup": "",
         "orientation": "v",
         "showlegend": false,
         "textposition": "auto",
         "type": "bar",
         "x": [
          "FABIANO CONTARATO",
          "HUMBERTO COSTA",
          "FERNANDO BEZERRA COELHO",
          "JOSÉ SERRA",
          "MARIA DO CARMO ALVES",
          "JAQUES WAGNER",
          "RENAN CALHEIROS",
          "FLÁVIO BOLSONARO",
          "ZENAIDE MAIA",
          "ROGÉRIO CARVALHO"
         ],
         "xaxis": "x",
         "y": [
          276,
          114,
          84,
          80,
          39,
          38,
          30,
          27,
          25,
          21
         ],
         "yaxis": "y"
        }
       ],
       "layout": {
        "autosize": true,
        "barmode": "relative",
        "legend": {
         "tracegroupgap": 0
        },
        "template": {
         "data": {
          "bar": [
           {
            "error_x": {
             "color": "#2a3f5f"
            },
            "error_y": {
             "color": "#2a3f5f"
            },
            "marker": {
             "line": {
              "color": "#E5ECF6",
              "width": 0.5
             },
             "pattern": {
              "fillmode": "overlay",
              "size": 10,
              "solidity": 0.2
             }
            },
            "type": "bar"
           }
          ],
          "barpolar": [
           {
            "marker": {
             "line": {
              "color": "#E5ECF6",
              "width": 0.5
             },
             "pattern": {
              "fillmode": "overlay",
              "size": 10,
              "solidity": 0.2
             }
            },
            "type": "barpolar"
           }
          ],
          "carpet": [
           {
            "aaxis": {
             "endlinecolor": "#2a3f5f",
             "gridcolor": "white",
             "linecolor": "white",
             "minorgridcolor": "white",
             "startlinecolor": "#2a3f5f"
            },
            "baxis": {
             "endlinecolor": "#2a3f5f",
             "gridcolor": "white",
             "linecolor": "white",
             "minorgridcolor": "white",
             "startlinecolor": "#2a3f5f"
            },
            "type": "carpet"
           }
          ],
          "choropleth": [
           {
            "colorbar": {
             "outlinewidth": 0,
             "ticks": ""
            },
            "type": "choropleth"
           }
          ],
          "contour": [
           {
            "colorbar": {
             "outlinewidth": 0,
             "ticks": ""
            },
            "colorscale": [
             [
              0,
              "#0d0887"
             ],
             [
              0.1111111111111111,
              "#46039f"
             ],
             [
              0.2222222222222222,
              "#7201a8"
             ],
             [
              0.3333333333333333,
              "#9c179e"
             ],
             [
              0.4444444444444444,
              "#bd3786"
             ],
             [
              0.5555555555555556,
              "#d8576b"
             ],
             [
              0.6666666666666666,
              "#ed7953"
             ],
             [
              0.7777777777777778,
              "#fb9f3a"
             ],
             [
              0.8888888888888888,
              "#fdca26"
             ],
             [
              1,
              "#f0f921"
             ]
            ],
            "type": "contour"
           }
          ],
          "contourcarpet": [
           {
            "colorbar": {
             "outlinewidth": 0,
             "ticks": ""
            },
            "type": "contourcarpet"
           }
          ],
          "heatmap": [
           {
            "colorbar": {
             "outlinewidth": 0,
             "ticks": ""
            },
            "colorscale": [
             [
              0,
              "#0d0887"
             ],
             [
              0.1111111111111111,
              "#46039f"
             ],
             [
              0.2222222222222222,
              "#7201a8"
             ],
             [
              0.3333333333333333,
              "#9c179e"
             ],
             [
              0.4444444444444444,
              "#bd3786"
             ],
             [
              0.5555555555555556,
              "#d8576b"
             ],
             [
              0.6666666666666666,
              "#ed7953"
             ],
             [
              0.7777777777777778,
              "#fb9f3a"
             ],
             [
              0.8888888888888888,
              "#fdca26"
             ],
             [
              1,
              "#f0f921"
             ]
            ],
            "type": "heatmap"
           }
          ],
          "heatmapgl": [
           {
            "colorbar": {
             "outlinewidth": 0,
             "ticks": ""
            },
            "colorscale": [
             [
              0,
              "#0d0887"
             ],
             [
              0.1111111111111111,
              "#46039f"
             ],
             [
              0.2222222222222222,
              "#7201a8"
             ],
             [
              0.3333333333333333,
              "#9c179e"
             ],
             [
              0.4444444444444444,
              "#bd3786"
             ],
             [
              0.5555555555555556,
              "#d8576b"
             ],
             [
              0.6666666666666666,
              "#ed7953"
             ],
             [
              0.7777777777777778,
              "#fb9f3a"
             ],
             [
              0.8888888888888888,
              "#fdca26"
             ],
             [
              1,
              "#f0f921"
             ]
            ],
            "type": "heatmapgl"
           }
          ],
          "histogram": [
           {
            "marker": {
             "pattern": {
              "fillmode": "overlay",
              "size": 10,
              "solidity": 0.2
             }
            },
            "type": "histogram"
           }
          ],
          "histogram2d": [
           {
            "colorbar": {
             "outlinewidth": 0,
             "ticks": ""
            },
            "colorscale": [
             [
              0,
              "#0d0887"
             ],
             [
              0.1111111111111111,
              "#46039f"
             ],
             [
              0.2222222222222222,
              "#7201a8"
             ],
             [
              0.3333333333333333,
              "#9c179e"
             ],
             [
              0.4444444444444444,
              "#bd3786"
             ],
             [
              0.5555555555555556,
              "#d8576b"
             ],
             [
              0.6666666666666666,
              "#ed7953"
             ],
             [
              0.7777777777777778,
              "#fb9f3a"
             ],
             [
              0.8888888888888888,
              "#fdca26"
             ],
             [
              1,
              "#f0f921"
             ]
            ],
            "type": "histogram2d"
           }
          ],
          "histogram2dcontour": [
           {
            "colorbar": {
             "outlinewidth": 0,
             "ticks": ""
            },
            "colorscale": [
             [
              0,
              "#0d0887"
             ],
             [
              0.1111111111111111,
              "#46039f"
             ],
             [
              0.2222222222222222,
              "#7201a8"
             ],
             [
              0.3333333333333333,
              "#9c179e"
             ],
             [
              0.4444444444444444,
              "#bd3786"
             ],
             [
              0.5555555555555556,
              "#d8576b"
             ],
             [
              0.6666666666666666,
              "#ed7953"
             ],
             [
              0.7777777777777778,
              "#fb9f3a"
             ],
             [
              0.8888888888888888,
              "#fdca26"
             ],
             [
              1,
              "#f0f921"
             ]
            ],
            "type": "histogram2dcontour"
           }
          ],
          "mesh3d": [
           {
            "colorbar": {
             "outlinewidth": 0,
             "ticks": ""
            },
            "type": "mesh3d"
           }
          ],
          "parcoords": [
           {
            "line": {
             "colorbar": {
              "outlinewidth": 0,
              "ticks": ""
             }
            },
            "type": "parcoords"
           }
          ],
          "pie": [
           {
            "automargin": true,
            "type": "pie"
           }
          ],
          "scatter": [
           {
            "fillpattern": {
             "fillmode": "overlay",
             "size": 10,
             "solidity": 0.2
            },
            "type": "scatter"
           }
          ],
          "scatter3d": [
           {
            "line": {
             "colorbar": {
              "outlinewidth": 0,
              "ticks": ""
             }
            },
            "marker": {
             "colorbar": {
              "outlinewidth": 0,
              "ticks": ""
             }
            },
            "type": "scatter3d"
           }
          ],
          "scattercarpet": [
           {
            "marker": {
             "colorbar": {
              "outlinewidth": 0,
              "ticks": ""
             }
            },
            "type": "scattercarpet"
           }
          ],
          "scattergeo": [
           {
            "marker": {
             "colorbar": {
              "outlinewidth": 0,
              "ticks": ""
             }
            },
            "type": "scattergeo"
           }
          ],
          "scattergl": [
           {
            "marker": {
             "colorbar": {
              "outlinewidth": 0,
              "ticks": ""
             }
            },
            "type": "scattergl"
           }
          ],
          "scattermapbox": [
           {
            "marker": {
             "colorbar": {
              "outlinewidth": 0,
              "ticks": ""
             }
            },
            "type": "scattermapbox"
           }
          ],
          "scatterpolar": [
           {
            "marker": {
             "colorbar": {
              "outlinewidth": 0,
              "ticks": ""
             }
            },
            "type": "scatterpolar"
           }
          ],
          "scatterpolargl": [
           {
            "marker": {
             "colorbar": {
              "outlinewidth": 0,
              "ticks": ""
             }
            },
            "type": "scatterpolargl"
           }
          ],
          "scatterternary": [
           {
            "marker": {
             "colorbar": {
              "outlinewidth": 0,
              "ticks": ""
             }
            },
            "type": "scatterternary"
           }
          ],
          "surface": [
           {
            "colorbar": {
             "outlinewidth": 0,
             "ticks": ""
            },
            "colorscale": [
             [
              0,
              "#0d0887"
             ],
             [
              0.1111111111111111,
              "#46039f"
             ],
             [
              0.2222222222222222,
              "#7201a8"
             ],
             [
              0.3333333333333333,
              "#9c179e"
             ],
             [
              0.4444444444444444,
              "#bd3786"
             ],
             [
              0.5555555555555556,
              "#d8576b"
             ],
             [
              0.6666666666666666,
              "#ed7953"
             ],
             [
              0.7777777777777778,
              "#fb9f3a"
             ],
             [
              0.8888888888888888,
              "#fdca26"
             ],
             [
              1,
              "#f0f921"
             ]
            ],
            "type": "surface"
           }
          ],
          "table": [
           {
            "cells": {
             "fill": {
              "color": "#EBF0F8"
             },
             "line": {
              "color": "white"
             }
            },
            "header": {
             "fill": {
              "color": "#C8D4E3"
             },
             "line": {
              "color": "white"
             }
            },
            "type": "table"
           }
          ]
         },
         "layout": {
          "annotationdefaults": {
           "arrowcolor": "#2a3f5f",
           "arrowhead": 0,
           "arrowwidth": 1
          },
          "autotypenumbers": "strict",
          "coloraxis": {
           "colorbar": {
            "outlinewidth": 0,
            "ticks": ""
           }
          },
          "colorscale": {
           "diverging": [
            [
             0,
             "#8e0152"
            ],
            [
             0.1,
             "#c51b7d"
            ],
            [
             0.2,
             "#de77ae"
            ],
            [
             0.3,
             "#f1b6da"
            ],
            [
             0.4,
             "#fde0ef"
            ],
            [
             0.5,
             "#f7f7f7"
            ],
            [
             0.6,
             "#e6f5d0"
            ],
            [
             0.7,
             "#b8e186"
            ],
            [
             0.8,
             "#7fbc41"
            ],
            [
             0.9,
             "#4d9221"
            ],
            [
             1,
             "#276419"
            ]
           ],
           "sequential": [
            [
             0,
             "#0d0887"
            ],
            [
             0.1111111111111111,
             "#46039f"
            ],
            [
             0.2222222222222222,
             "#7201a8"
            ],
            [
             0.3333333333333333,
             "#9c179e"
            ],
            [
             0.4444444444444444,
             "#bd3786"
            ],
            [
             0.5555555555555556,
             "#d8576b"
            ],
            [
             0.6666666666666666,
             "#ed7953"
            ],
            [
             0.7777777777777778,
             "#fb9f3a"
            ],
            [
             0.8888888888888888,
             "#fdca26"
            ],
            [
             1,
             "#f0f921"
            ]
           ],
           "sequentialminus": [
            [
             0,
             "#0d0887"
            ],
            [
             0.1111111111111111,
             "#46039f"
            ],
            [
             0.2222222222222222,
             "#7201a8"
            ],
            [
             0.3333333333333333,
             "#9c179e"
            ],
            [
             0.4444444444444444,
             "#bd3786"
            ],
            [
             0.5555555555555556,
             "#d8576b"
            ],
            [
             0.6666666666666666,
             "#ed7953"
            ],
            [
             0.7777777777777778,
             "#fb9f3a"
            ],
            [
             0.8888888888888888,
             "#fdca26"
            ],
            [
             1,
             "#f0f921"
            ]
           ]
          },
          "colorway": [
           "#636efa",
           "#EF553B",
           "#00cc96",
           "#ab63fa",
           "#FFA15A",
           "#19d3f3",
           "#FF6692",
           "#B6E880",
           "#FF97FF",
           "#FECB52"
          ],
          "font": {
           "color": "#2a3f5f"
          },
          "geo": {
           "bgcolor": "white",
           "lakecolor": "white",
           "landcolor": "#E5ECF6",
           "showlakes": true,
           "showland": true,
           "subunitcolor": "white"
          },
          "hoverlabel": {
           "align": "left"
          },
          "hovermode": "closest",
          "mapbox": {
           "style": "light"
          },
          "paper_bgcolor": "white",
          "plot_bgcolor": "#E5ECF6",
          "polar": {
           "angularaxis": {
            "gridcolor": "white",
            "linecolor": "white",
            "ticks": ""
           },
           "bgcolor": "#E5ECF6",
           "radialaxis": {
            "gridcolor": "white",
            "linecolor": "white",
            "ticks": ""
           }
          },
          "scene": {
           "xaxis": {
            "backgroundcolor": "#E5ECF6",
            "gridcolor": "white",
            "gridwidth": 2,
            "linecolor": "white",
            "showbackground": true,
            "ticks": "",
            "zerolinecolor": "white"
           },
           "yaxis": {
            "backgroundcolor": "#E5ECF6",
            "gridcolor": "white",
            "gridwidth": 2,
            "linecolor": "white",
            "showbackground": true,
            "ticks": "",
            "zerolinecolor": "white"
           },
           "zaxis": {
            "backgroundcolor": "#E5ECF6",
            "gridcolor": "white",
            "gridwidth": 2,
            "linecolor": "white",
            "showbackground": true,
            "ticks": "",
            "zerolinecolor": "white"
           }
          },
          "shapedefaults": {
           "line": {
            "color": "#2a3f5f"
           }
          },
          "ternary": {
           "aaxis": {
            "gridcolor": "white",
            "linecolor": "white",
            "ticks": ""
           },
           "baxis": {
            "gridcolor": "white",
            "linecolor": "white",
            "ticks": ""
           },
           "bgcolor": "#E5ECF6",
           "caxis": {
            "gridcolor": "white",
            "linecolor": "white",
            "ticks": ""
           }
          },
          "title": {
           "x": 0.05
          },
          "xaxis": {
           "automargin": true,
           "gridcolor": "white",
           "linecolor": "white",
           "ticks": "",
           "title": {
            "standoff": 15
           },
           "zerolinecolor": "white",
           "zerolinewidth": 2
          },
          "yaxis": {
           "automargin": true,
           "gridcolor": "white",
           "linecolor": "white",
           "ticks": "",
           "title": {
            "standoff": 15
           },
           "zerolinecolor": "white",
           "zerolinewidth": 2
          }
         }
        },
        "title": {
         "text": "10 Sen. Sem Documento de Registro do Gasto"
        },
        "xaxis": {
         "anchor": "y",
         "autorange": true,
         "domain": [
          0,
          1
         ],
         "range": [
          -0.5,
          9.5
         ],
         "title": {
          "text": "Senador"
         },
         "type": "category"
        },
        "yaxis": {
         "anchor": "x",
         "autorange": true,
         "domain": [
          0,
          1
         ],
         "range": [
          0,
          290.5263157894737
         ],
         "title": {
          "text": "RegsSemDocumento"
         },
         "type": "linear"
        }
       }
      },
      "image/png": "[encoded data removed]",
      "text/html": [
       "<div>                            <div id=\"9f8256f3-e683-457a-bc7e-b97db8f6fc74\" class=\"plotly-graph-div\" style=\"height:525px; width:100%;\"></div>            <script type=\"text/javascript\">                require([\"plotly\"], function(Plotly) {                    window.PLOTLYENV=window.PLOTLYENV || {};                                    if (document.getElementById(\"9f8256f3-e683-457a-bc7e-b97db8f6fc74\")) {                    Plotly.newPlot(                        \"9f8256f3-e683-457a-bc7e-b97db8f6fc74\",                        [{\"alignmentgroup\":\"True\",\"hovertemplate\":\"Senador=%{x}<br>RegsSemDocumento=%{y}<extra></extra>\",\"legendgroup\":\"\",\"marker\":{\"color\":\"#636efa\",\"pattern\":{\"shape\":\"\"}},\"name\":\"\",\"offsetgroup\":\"\",\"orientation\":\"v\",\"showlegend\":false,\"textposition\":\"auto\",\"x\":[\"FABIANO CONTARATO\",\"HUMBERTO COSTA\",\"FERNANDO BEZERRA COELHO\",\"JOS\\u00c9 SERRA\",\"MARIA DO CARMO ALVES\",\"JAQUES WAGNER\",\"RENAN CALHEIROS\",\"FL\\u00c1VIO BOLSONARO\",\"ZENAIDE MAIA\",\"ROG\\u00c9RIO CARVALHO\"],\"xaxis\":\"x\",\"y\":[276.0,114.0,84.0,80.0,39.0,38.0,30.0,27.0,25.0,21.0],\"yaxis\":\"y\",\"type\":\"bar\"}],                        {\"template\":{\"data\":{\"histogram2dcontour\":[{\"type\":\"histogram2dcontour\",\"colorbar\":{\"outlinewidth\":0,\"ticks\":\"\"},\"colorscale\":[[0.0,\"#0d0887\"],[0.1111111111111111,\"#46039f\"],[0.2222222222222222,\"#7201a8\"],[0.3333333333333333,\"#9c179e\"],[0.4444444444444444,\"#bd3786\"],[0.5555555555555556,\"#d8576b\"],[0.6666666666666666,\"#ed7953\"],[0.7777777777777778,\"#fb9f3a\"],[0.8888888888888888,\"#fdca26\"],[1.0,\"#f0f921\"]]}],\"choropleth\":[{\"type\":\"choropleth\",\"colorbar\":{\"outlinewidth\":0,\"ticks\":\"\"}}],\"histogram2d\":[{\"type\":\"histogram2d\",\"colorbar\":{\"outlinewidth\":0,\"ticks\":\"\"},\"colorscale\":[[0.0,\"#0d0887\"],[0.1111111111111111,\"#46039f\"],[0.2222222222222222,\"#7201a8\"],[0.3333333333333333,\"#9c179e\"],[0.4444444444444444,\"#bd3786\"],[0.5555555555555556,\"#d8576b\"],[0.6666666666666666,\"#ed7953\"],[0.7777777777777778,\"#fb9f3a\"],[0.8888888888888888,\"#fdca26\"],[1.0,\"#f0f921\"]]}],\"heatmap\":[{\"type\":\"heatmap\",\"colorbar\":{\"outlinewidth\":0,\"ticks\":\"\"},\"colorscale\":[[0.0,\"#0d0887\"],[0.1111111111111111,\"#46039f\"],[0.2222222222222222,\"#7201a8\"],[0.3333333333333333,\"#9c179e\"],[0.4444444444444444,\"#bd3786\"],[0.5555555555555556,\"#d8576b\"],[0.6666666666666666,\"#ed7953\"],[0.7777777777777778,\"#fb9f3a\"],[0.8888888888888888,\"#fdca26\"],[1.0,\"#f0f921\"]]}],\"heatmapgl\":[{\"type\":\"heatmapgl\",\"colorbar\":{\"outlinewidth\":0,\"ticks\":\"\"},\"colorscale\":[[0.0,\"#0d0887\"],[0.1111111111111111,\"#46039f\"],[0.2222222222222222,\"#7201a8\"],[0.3333333333333333,\"#9c179e\"],[0.4444444444444444,\"#bd3786\"],[0.5555555555555556,\"#d8576b\"],[0.6666666666666666,\"#ed7953\"],[0.7777777777777778,\"#fb9f3a\"],[0.8888888888888888,\"#fdca26\"],[1.0,\"#f0f921\"]]}],\"contourcarpet\":[{\"type\":\"contourcarpet\",\"colorbar\":{\"outlinewidth\":0,\"ticks\":\"\"}}],\"contour\":[{\"type\":\"contour\",\"colorbar\":{\"outlinewidth\":0,\"ticks\":\"\"},\"colorscale\":[[0.0,\"#0d0887\"],[0.1111111111111111,\"#46039f\"],[0.2222222222222222,\"#7201a8\"],[0.3333333333333333,\"#9c179e\"],[0.4444444444444444,\"#bd3786\"],[0.5555555555555556,\"#d8576b\"],[0.6666666666666666,\"#ed7953\"],[0.7777777777777778,\"#fb9f3a\"],[0.8888888888888888,\"#fdca26\"],[1.0,\"#f0f921\"]]}],\"surface\":[{\"type\":\"surface\",\"colorbar\":{\"outlinewidth\":0,\"ticks\":\"\"},\"colorscale\":[[0.0,\"#0d0887\"],[0.1111111111111111,\"#46039f\"],[0.2222222222222222,\"#7201a8\"],[0.3333333333333333,\"#9c179e\"],[0.4444444444444444,\"#bd3786\"],[0.5555555555555556,\"#d8576b\"],[0.6666666666666666,\"#ed7953\"],[0.7777777777777778,\"#fb9f3a\"],[0.8888888888888888,\"#fdca26\"],[1.0,\"#f0f921\"]]}],\"mesh3d\":[{\"type\":\"mesh3d\",\"colorbar\":{\"outlinewidth\":0,\"ticks\":\"\"}}],\"scatter\":[{\"fillpattern\":{\"fillmode\":\"overlay\",\"size\":10,\"solidity\":0.2},\"type\":\"scatter\"}],\"parcoords\":[{\"type\":\"parcoords\",\"line\":{\"colorbar\":{\"outlinewidth\":0,\"ticks\":\"\"}}}],\"scatterpolargl\":[{\"type\":\"scatterpolargl\",\"marker\":{\"colorbar\":{\"outlinewidth\":0,\"ticks\":\"\"}}}],\"bar\":[{\"error_x\":{\"color\":\"#2a3f5f\"},\"error_y\":{\"color\":\"#2a3f5f\"},\"marker\":{\"line\":{\"color\":\"#E5ECF6\",\"width\":0.5},\"pattern\":{\"fillmode\":\"overlay\",\"size\":10,\"solidity\":0.2}},\"type\":\"bar\"}],\"scattergeo\":[{\"type\":\"scattergeo\",\"marker\":{\"colorbar\":{\"outlinewidth\":0,\"ticks\":\"\"}}}],\"scatterpolar\":[{\"type\":\"scatterpolar\",\"marker\":{\"colorbar\":{\"outlinewidth\":0,\"ticks\":\"\"}}}],\"histogram\":[{\"marker\":{\"pattern\":{\"fillmode\":\"overlay\",\"size\":10,\"solidity\":0.2}},\"type\":\"histogram\"}],\"scattergl\":[{\"type\":\"scattergl\",\"marker\":{\"colorbar\":{\"outlinewidth\":0,\"ticks\":\"\"}}}],\"scatter3d\":[{\"type\":\"scatter3d\",\"line\":{\"colorbar\":{\"outlinewidth\":0,\"ticks\":\"\"}},\"marker\":{\"colorbar\":{\"outlinewidth\":0,\"ticks\":\"\"}}}],\"scattermapbox\":[{\"type\":\"scattermapbox\",\"marker\":{\"colorbar\":{\"outlinewidth\":0,\"ticks\":\"\"}}}],\"scatterternary\":[{\"type\":\"scatterternary\",\"marker\":{\"colorbar\":{\"outlinewidth\":0,\"ticks\":\"\"}}}],\"scattercarpet\":[{\"type\":\"scattercarpet\",\"marker\":{\"colorbar\":{\"outlinewidth\":0,\"ticks\":\"\"}}}],\"carpet\":[{\"aaxis\":{\"endlinecolor\":\"#2a3f5f\",\"gridcolor\":\"white\",\"linecolor\":\"white\",\"minorgridcolor\":\"white\",\"startlinecolor\":\"#2a3f5f\"},\"baxis\":{\"endlinecolor\":\"#2a3f5f\",\"gridcolor\":\"white\",\"linecolor\":\"white\",\"minorgridcolor\":\"white\",\"startlinecolor\":\"#2a3f5f\"},\"type\":\"carpet\"}],\"table\":[{\"cells\":{\"fill\":{\"color\":\"#EBF0F8\"},\"line\":{\"color\":\"white\"}},\"header\":{\"fill\":{\"color\":\"#C8D4E3\"},\"line\":{\"color\":\"white\"}},\"type\":\"table\"}],\"barpolar\":[{\"marker\":{\"line\":{\"color\":\"#E5ECF6\",\"width\":0.5},\"pattern\":{\"fillmode\":\"overlay\",\"size\":10,\"solidity\":0.2}},\"type\":\"barpolar\"}],\"pie\":[{\"automargin\":true,\"type\":\"pie\"}]},\"layout\":{\"autotypenumbers\":\"strict\",\"colorway\":[\"#636efa\",\"#EF553B\",\"#00cc96\",\"#ab63fa\",\"#FFA15A\",\"#19d3f3\",\"#FF6692\",\"#B6E880\",\"#FF97FF\",\"#FECB52\"],\"font\":{\"color\":\"#2a3f5f\"},\"hovermode\":\"closest\",\"hoverlabel\":{\"align\":\"left\"},\"paper_bgcolor\":\"white\",\"plot_bgcolor\":\"#E5ECF6\",\"polar\":{\"bgcolor\":\"#E5ECF6\",\"angularaxis\":{\"gridcolor\":\"white\",\"linecolor\":\"white\",\"ticks\":\"\"},\"radialaxis\":{\"gridcolor\":\"white\",\"linecolor\":\"white\",\"ticks\":\"\"}},\"ternary\":{\"bgcolor\":\"#E5ECF6\",\"aaxis\":{\"gridcolor\":\"white\",\"linecolor\":\"white\",\"ticks\":\"\"},\"baxis\":{\"gridcolor\":\"white\",\"linecolor\":\"white\",\"ticks\":\"\"},\"caxis\":{\"gridcolor\":\"white\",\"linecolor\":\"white\",\"ticks\":\"\"}},\"coloraxis\":{\"colorbar\":{\"outlinewidth\":0,\"ticks\":\"\"}},\"colorscale\":{\"sequential\":[[0.0,\"#0d0887\"],[0.1111111111111111,\"#46039f\"],[0.2222222222222222,\"#7201a8\"],[0.3333333333333333,\"#9c179e\"],[0.4444444444444444,\"#bd3786\"],[0.5555555555555556,\"#d8576b\"],[0.6666666666666666,\"#ed7953\"],[0.7777777777777778,\"#fb9f3a\"],[0.8888888888888888,\"#fdca26\"],[1.0,\"#f0f921\"]],\"sequentialminus\":[[0.0,\"#0d0887\"],[0.1111111111111111,\"#46039f\"],[0.2222222222222222,\"#7201a8\"],[0.3333333333333333,\"#9c179e\"],[0.4444444444444444,\"#bd3786\"],[0.5555555555555556,\"#d8576b\"],[0.6666666666666666,\"#ed7953\"],[0.7777777777777778,\"#fb9f3a\"],[0.8888888888888888,\"#fdca26\"],[1.0,\"#f0f921\"]],\"diverging\":[[0,\"#8e0152\"],[0.1,\"#c51b7d\"],[0.2,\"#de77ae\"],[0.3,\"#f1b6da\"],[0.4,\"#fde0ef\"],[0.5,\"#f7f7f7\"],[0.6,\"#e6f5d0\"],[0.7,\"#b8e186\"],[0.8,\"#7fbc41\"],[0.9,\"#4d9221\"],[1,\"#276419\"]]},\"xaxis\":{\"gridcolor\":\"white\",\"linecolor\":\"white\",\"ticks\":\"\",\"title\":{\"standoff\":15},\"zerolinecolor\":\"white\",\"automargin\":true,\"zerolinewidth\":2},\"yaxis\":{\"gridcolor\":\"white\",\"linecolor\":\"white\",\"ticks\":\"\",\"title\":{\"standoff\":15},\"zerolinecolor\":\"white\",\"automargin\":true,\"zerolinewidth\":2},\"scene\":{\"xaxis\":{\"backgroundcolor\":\"#E5ECF6\",\"gridcolor\":\"white\",\"linecolor\":\"white\",\"showbackground\":true,\"ticks\":\"\",\"zerolinecolor\":\"white\",\"gridwidth\":2},\"yaxis\":{\"backgroundcolor\":\"#E5ECF6\",\"gridcolor\":\"white\",\"linecolor\":\"white\",\"showbackground\":true,\"ticks\":\"\",\"zerolinecolor\":\"white\",\"gridwidth\":2},\"zaxis\":{\"backgroundcolor\":\"#E5ECF6\",\"gridcolor\":\"white\",\"linecolor\":\"white\",\"showbackground\":true,\"ticks\":\"\",\"zerolinecolor\":\"white\",\"gridwidth\":2}},\"shapedefaults\":{\"line\":{\"color\":\"#2a3f5f\"}},\"annotationdefaults\":{\"arrowcolor\":\"#2a3f5f\",\"arrowhead\":0,\"arrowwidth\":1},\"geo\":{\"bgcolor\":\"white\",\"landcolor\":\"#E5ECF6\",\"subunitcolor\":\"white\",\"showland\":true,\"showlakes\":true,\"lakecolor\":\"white\"},\"title\":{\"x\":0.05},\"mapbox\":{\"style\":\"light\"}}},\"xaxis\":{\"anchor\":\"y\",\"domain\":[0.0,1.0],\"title\":{\"text\":\"Senador\"}},\"yaxis\":{\"anchor\":\"x\",\"domain\":[0.0,1.0],\"title\":{\"text\":\"RegsSemDocumento\"}},\"legend\":{\"tracegroupgap\":0},\"title\":{\"text\":\"10 Sen. Sem Documento de Registro do Gasto\"},\"barmode\":\"relative\"},                        {\"responsive\": true}                    ).then(function(){\n",
       "                            \n",
       "var gd = document.getElementById('9f8256f3-e683-457a-bc7e-b97db8f6fc74');\n",
       "var x = new MutationObserver(function (mutations, observer) {{\n",
       "        var display = window.getComputedStyle(gd).display;\n",
       "        if (!display || display === 'none') {{\n",
       "            console.log([gd, 'removed!']);\n",
       "            Plotly.purge(gd);\n",
       "            observer.disconnect();\n",
       "        }}\n",
       "}});\n",
       "\n",
       "// Listen for the removal of the full notebook cells\n",
       "var notebookContainer = gd.closest('#notebook-container');\n",
       "if (notebookContainer) {{\n",
       "    x.observe(notebookContainer, {childList: true});\n",
       "}}\n",
       "\n",
       "// Listen for the clearing of the current output cell\n",
       "var outputEl = gd.closest('.output');\n",
       "if (outputEl) {{\n",
       "    x.observe(outputEl, {childList: true});\n",
       "}}\n",
       "\n",
       "                        })                };                });            </script>        </div>"
      ]
     },
     "metadata": {},
     "output_type": "display_data"
    }
   ],
   "source": [
    "ds.sort_values(by=['RegsSemDocumento'], ascending=False)[:10].plot(x='Senador', y='RegsSemDocumento', title='10 Sen. Sem Documento de Registro do Gasto', kind='bar')"
   ]
  },
  {
   "cell_type": "code",
   "execution_count": 22,
   "id": "d7f9adac-b881-4732-b3cc-d41efe11ecac",
   "metadata": {},
   "outputs": [
    {
     "name": "stderr",
     "output_type": "stream",
     "text": [
      "/tmp/ipykernel_12323/2406578663.py:1: UserWarning:\n",
      "\n",
      "Boolean Series key will be reindexed to match DataFrame index.\n",
      "\n"
     ]
    },
    {
     "data": {
      "text/plain": [
       "ANO                   0\n",
       "MES                   0\n",
       "SENADOR               0\n",
       "TIPO_DESPESA          0\n",
       "CNPJ_CPF              0\n",
       "FORNECEDOR            0\n",
       "DOCUMENTO            25\n",
       "DATA                  0\n",
       "DETALHAMENTO         25\n",
       "VALOR_REEMBOLSADO     0\n",
       "COD_DOCUMENTO         0\n",
       "dtype: int64"
      ]
     },
     "execution_count": 22,
     "metadata": {},
     "output_type": "execute_result"
    }
   ],
   "source": [
    "df[ df['DOCUMENTO'].isna() == True][df['SENADOR'] == 'ZENAIDE MAIA'].isna().sum()"
   ]
  },
  {
   "cell_type": "code",
   "execution_count": null,
   "id": "322ef899-a3b2-4fb2-b80f-418313267a71",
   "metadata": {},
   "outputs": [],
   "source": []
  }
 ],
 "metadata": {
  "kernelspec": {
   "display_name": "Python 3 (ipykernel)",
   "language": "python",
   "name": "python3"
  },
  "language_info": {
   "codemirror_mode": {
    "name": "ipython",
    "version": 3
   },
   "file_extension": ".py",
   "mimetype": "text/x-python",
   "name": "python",
   "nbconvert_exporter": "python",
   "pygments_lexer": "ipython3",
   "version": "3.10.7"
  }
 },
 "nbformat": 4,
 "nbformat_minor": 5
}

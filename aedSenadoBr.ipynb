{
 "cells": [
  {
   "cell_type": "markdown",
   "id": "2d236b99-8ebe-4f26-967b-b4ecc20f1897",
   "metadata": {},
   "source": [
    "# Dados Abertos - Senado Brasileiro, CEAPS"
   ]
  },
  {
   "cell_type": "markdown",
   "id": "648090f5-d812-4d39-a4cd-a638f3caf962",
   "metadata": {},
   "source": [
    "## Carregando módulos usados na análise."
   ]
  },
  {
   "cell_type": "code",
   "execution_count": 1,
   "id": "31fd6a4e-ec51-4d5f-bdc2-33482a4b234c",
   "metadata": {},
   "outputs": [],
   "source": [
    "import numpy as np\n",
    "import pandas as pd\n",
    "import matplotlib.pyplot as plt\n",
    "import plotly.express as px\n",
    "import re\n",
    "import csv\n",
    "import glob\n",
    "%matplotlib inline\n",
    "\n",
    "#pd.options.plotting.backend = \"plotly\""
   ]
  },
  {
   "cell_type": "markdown",
   "id": "329d6dcf-899f-4489-954c-b5cfbf9655e6",
   "metadata": {},
   "source": [
    "## Carregando Dados"
   ]
  },
  {
   "cell_type": "markdown",
   "id": "c540ce34-ca46-4d28-b039-85290cd8201a",
   "metadata": {},
   "source": [
    "Diversas inconsistências e dados faltantes em campos."
   ]
  },
  {
   "cell_type": "markdown",
   "id": "49d6a818-c65e-4cee-89e6-c5e1014d4a8c",
   "metadata": {},
   "source": [
    "### Ano de 2022"
   ]
  },
  {
   "cell_type": "code",
   "execution_count": 2,
   "id": "34bbd83b-2ef7-4825-aa09-986b1357f1eb",
   "metadata": {},
   "outputs": [
    {
     "data": {
      "text/html": [
       "<div>\n",
       "<style scoped>\n",
       "    .dataframe tbody tr th:only-of-type {\n",
       "        vertical-align: middle;\n",
       "    }\n",
       "\n",
       "    .dataframe tbody tr th {\n",
       "        vertical-align: top;\n",
       "    }\n",
       "\n",
       "    .dataframe thead th {\n",
       "        text-align: right;\n",
       "    }\n",
       "</style>\n",
       "<table border=\"1\" class=\"dataframe\">\n",
       "  <thead>\n",
       "    <tr style=\"text-align: right;\">\n",
       "      <th></th>\n",
       "      <th>ANO</th>\n",
       "      <th>MES</th>\n",
       "      <th>SENADOR</th>\n",
       "      <th>TIPO_DESPESA</th>\n",
       "      <th>CNPJ_CPF</th>\n",
       "      <th>FORNECEDOR</th>\n",
       "      <th>DOCUMENTO</th>\n",
       "      <th>DATA</th>\n",
       "      <th>DETALHAMENTO</th>\n",
       "      <th>VALOR_REEMBOLSADO</th>\n",
       "      <th>COD_DOCUMENTO</th>\n",
       "    </tr>\n",
       "  </thead>\n",
       "  <tbody>\n",
       "    <tr>\n",
       "      <th>0</th>\n",
       "      <td>2022</td>\n",
       "      <td>1</td>\n",
       "      <td>ACIR GURGACZ</td>\n",
       "      <td>Aluguel de imóveis para escritório político, c...</td>\n",
       "      <td>004.948.028-63</td>\n",
       "      <td>GILBERTO PISELO DO NASCIMENTO</td>\n",
       "      <td>001/22</td>\n",
       "      <td>03/01/2022</td>\n",
       "      <td>Despesa com pagamento de aluguel de imóvel par...</td>\n",
       "      <td>6000</td>\n",
       "      <td>2173614</td>\n",
       "    </tr>\n",
       "    <tr>\n",
       "      <th>1</th>\n",
       "      <td>2022</td>\n",
       "      <td>1</td>\n",
       "      <td>ACIR GURGACZ</td>\n",
       "      <td>Divulgação da atividade parlamentar</td>\n",
       "      <td>26.320.603/0001-64</td>\n",
       "      <td>INFORMANAHORA</td>\n",
       "      <td>000000000000310/A</td>\n",
       "      <td>04/01/2022</td>\n",
       "      <td>Despesa com divulgação da atividade parlamenta...</td>\n",
       "      <td>1500</td>\n",
       "      <td>2173615</td>\n",
       "    </tr>\n",
       "    <tr>\n",
       "      <th>2</th>\n",
       "      <td>2022</td>\n",
       "      <td>1</td>\n",
       "      <td>ACIR GURGACZ</td>\n",
       "      <td>Divulgação da atividade parlamentar</td>\n",
       "      <td>13.659.201/0001-47</td>\n",
       "      <td>LINHA PURPURA FOTO E VIDEO LTDA</td>\n",
       "      <td>107</td>\n",
       "      <td>14/01/2022</td>\n",
       "      <td>Despesa com produção de texto e edição de víde...</td>\n",
       "      <td>6000</td>\n",
       "      <td>2173616</td>\n",
       "    </tr>\n",
       "    <tr>\n",
       "      <th>3</th>\n",
       "      <td>2022</td>\n",
       "      <td>1</td>\n",
       "      <td>ACIR GURGACZ</td>\n",
       "      <td>Divulgação da atividade parlamentar</td>\n",
       "      <td>23.652.846/0001-01</td>\n",
       "      <td>ROBERTO GUTIERREZ DA ROCHA M.E.I.</td>\n",
       "      <td>187</td>\n",
       "      <td>18/01/2022</td>\n",
       "      <td>Divulgação da atividade parlamentar</td>\n",
       "      <td>1000</td>\n",
       "      <td>2173618</td>\n",
       "    </tr>\n",
       "    <tr>\n",
       "      <th>4</th>\n",
       "      <td>2022</td>\n",
       "      <td>1</td>\n",
       "      <td>ACIR GURGACZ</td>\n",
       "      <td>Divulgação da atividade parlamentar</td>\n",
       "      <td>08.941.827/0001-01</td>\n",
       "      <td>RONDONIA DINÂMICA COM. E SERV. DE INFORMÁTICA ...</td>\n",
       "      <td>000000000001772/A</td>\n",
       "      <td>17/01/2022</td>\n",
       "      <td>Divulgação da atividade parlamentar</td>\n",
       "      <td>2000</td>\n",
       "      <td>2173617</td>\n",
       "    </tr>\n",
       "  </tbody>\n",
       "</table>\n",
       "</div>"
      ],
      "text/plain": [
       "    ANO  MES       SENADOR                                       TIPO_DESPESA  \\\n",
       "0  2022    1  ACIR GURGACZ  Aluguel de imóveis para escritório político, c...   \n",
       "1  2022    1  ACIR GURGACZ                Divulgação da atividade parlamentar   \n",
       "2  2022    1  ACIR GURGACZ                Divulgação da atividade parlamentar   \n",
       "3  2022    1  ACIR GURGACZ                Divulgação da atividade parlamentar   \n",
       "4  2022    1  ACIR GURGACZ                Divulgação da atividade parlamentar   \n",
       "\n",
       "             CNPJ_CPF                                         FORNECEDOR  \\\n",
       "0      004.948.028-63                      GILBERTO PISELO DO NASCIMENTO   \n",
       "1  26.320.603/0001-64                                      INFORMANAHORA   \n",
       "2  13.659.201/0001-47                    LINHA PURPURA FOTO E VIDEO LTDA   \n",
       "3  23.652.846/0001-01                  ROBERTO GUTIERREZ DA ROCHA M.E.I.   \n",
       "4  08.941.827/0001-01  RONDONIA DINÂMICA COM. E SERV. DE INFORMÁTICA ...   \n",
       "\n",
       "           DOCUMENTO        DATA  \\\n",
       "0             001/22  03/01/2022   \n",
       "1  000000000000310/A  04/01/2022   \n",
       "2                107  14/01/2022   \n",
       "3                187  18/01/2022   \n",
       "4  000000000001772/A  17/01/2022   \n",
       "\n",
       "                                        DETALHAMENTO VALOR_REEMBOLSADO  \\\n",
       "0  Despesa com pagamento de aluguel de imóvel par...              6000   \n",
       "1  Despesa com divulgação da atividade parlamenta...              1500   \n",
       "2  Despesa com produção de texto e edição de víde...              6000   \n",
       "3                Divulgação da atividade parlamentar              1000   \n",
       "4                Divulgação da atividade parlamentar              2000   \n",
       "\n",
       "   COD_DOCUMENTO  \n",
       "0        2173614  \n",
       "1        2173615  \n",
       "2        2173616  \n",
       "3        2173618  \n",
       "4        2173617  "
      ]
     },
     "execution_count": 2,
     "metadata": {},
     "output_type": "execute_result"
    }
   ],
   "source": [
    "# header=1 -> ignore first line header\n",
    "df = pd.read_csv('data/despesa_ceaps_2022.csv', delimiter=';', header=1, encoding='iso-8859-1')\n",
    "df.head()"
   ]
  },
  {
   "cell_type": "markdown",
   "id": "130c8c64-a27a-40e2-8177-29fc75a8972e",
   "metadata": {},
   "source": [
    "### Outros Anos"
   ]
  },
  {
   "cell_type": "code",
   "execution_count": 3,
   "id": "56671e69-a300-4f86-9115-03527493b235",
   "metadata": {},
   "outputs": [
    {
     "name": "stdout",
     "output_type": "stream",
     "text": [
      "> load...  data/despesa_ceaps_2008.csv\n",
      "> load...  data/despesa_ceaps_2009.csv\n",
      "> load...  data/despesa_ceaps_2010.csv\n",
      "> load...  data/despesa_ceaps_2011.csv\n",
      "> load...  data/despesa_ceaps_2012.csv\n",
      "> load...  data/despesa_ceaps_2013.csv\n",
      "> load...  data/despesa_ceaps_2014.csv\n",
      "> load...  data/despesa_ceaps_2015.csv\n",
      "> load...  data/despesa_ceaps_2016.csv\n",
      "> load...  data/despesa_ceaps_2017.csv\n",
      "> load...  data/despesa_ceaps_2018.csv\n",
      "> load...  data/despesa_ceaps_2019.csv\n",
      "> load...  data/despesa_ceaps_2020.csv\n",
      "> load...  data/despesa_ceaps_2021.csv\n",
      "> load...  data/despesa_ceaps_2022.csv\n"
     ]
    }
   ],
   "source": [
    "datas = {}\n",
    "for file in sorted(glob.glob('data/*.csv')):\n",
    "    \n",
    "    if re.search(r'[0-9]+(.csv)', file):\n",
    "        print('> load... ', file)\n",
    "        datas[ re.search(r'[0-9]+', file ).group(0) ] = pd.read_csv(file, delimiter=';', header=1, encoding='iso-8859-1')\n",
    "#(lambda d, x: [d.pop(i) for i in x] )(datas, ['2008','2009', '2010', '2011','2012'])"
   ]
  },
  {
   "cell_type": "code",
   "execution_count": 4,
   "id": "2354861d-39ce-4016-99a0-6a3de5371e9a",
   "metadata": {},
   "outputs": [],
   "source": [
    "dff = pd.concat(datas, ignore_index=True)\n"
   ]
  },
  {
   "cell_type": "code",
   "execution_count": null,
   "id": "f6fbbe02-692e-4d24-bfa4-6156cf2a8268",
   "metadata": {},
   "outputs": [],
   "source": [
    "dff.loc[0:dff.shape[0],'VALOR_REEMBOLSADO'].replace(r'(\\s)', '', regex=True, inplace=True)\n",
    "dff.loc[0:dff.shape[0],'VALOR_REEMBOLSADO'].replace(r'(\\n)','', regex=True, inplace=True)\n",
    "dff.loc[0:dff.shape[0], 'VALOR_REEMBOLSADO'].replace(r'(\\r)', '', regex=True, inplace=True)\n",
    "dff.head()"
   ]
  },
  {
   "cell_type": "code",
   "execution_count": null,
   "id": "abc6c960-a778-4c2a-b04c-252d6537b858",
   "metadata": {},
   "outputs": [],
   "source": [
    "dff.loc[0:,'VALOR_REEMBOLSADO'].replace( regex=r'(,)', value='.',  inplace=True )\n",
    "#dff.loc[0:dff.shape[0],'VALOR_REEMBOLSADO'] =dff.loc[0:dff.shape[0],'VALOR_REEMBOLSADO'].replace( regex={r'(,)':'.'} )\n",
    "#dfs['VALOR_REEMBOLSADO'] = pd.to_numeric(dff['VALOR_REEMBOLSADO'], downcast='float')\n",
    "dff.head()"
   ]
  },
  {
   "cell_type": "code",
   "execution_count": null,
   "id": "0ca00f7d-959c-45f3-9dc6-9dc27ca1597c",
   "metadata": {},
   "outputs": [],
   "source": [
    "dff.loc[0:dff.shape[0], 'VALOR_REEMBOLSADO'] = pd.to_numeric(dff['VALOR_REEMBOLSADO'], downcast='float')\n",
    "#dff.dropna(inplace=True)\n",
    "dff.to_csv('data.csv', index=False)"
   ]
  },
  {
   "cell_type": "markdown",
   "id": "e41c424f-ecd1-4721-b0c2-7efe46a6a7e2",
   "metadata": {},
   "source": [
    "## Tratamento e Limpeza dos Dados (Data Wrangling)"
   ]
  },
  {
   "cell_type": "markdown",
   "id": "5ad9f0ee-d317-440f-8962-f08b462e3840",
   "metadata": {},
   "source": [
    "No campo 'VALOR_REEMBOLSADO' trocar virgula por ponto e converter para tipo numérico (float)."
   ]
  },
  {
   "cell_type": "code",
   "execution_count": null,
   "id": "45de4a2a-7aa1-4b31-a6bf-97068df2de28",
   "metadata": {},
   "outputs": [],
   "source": [
    "df['VALOR_REEMBOLSADO'] = pd.to_numeric( df['VALOR_REEMBOLSADO'].replace(regex=r'(,)', value='.'), downcast='float')\n",
    "\n"
   ]
  },
  {
   "cell_type": "code",
   "execution_count": null,
   "id": "9d73cb12-3b1d-4aa7-abfd-71d770f5fe37",
   "metadata": {},
   "outputs": [],
   "source": [
    "df.head()"
   ]
  },
  {
   "cell_type": "markdown",
   "id": "381f17ff-9a08-43bc-8f04-18ec6fea6372",
   "metadata": {},
   "source": [
    "Converter campo 'DATA' do tipo string para tipo Date"
   ]
  },
  {
   "cell_type": "code",
   "execution_count": null,
   "id": "c870339d-2db6-490e-8c62-56a89c1cf4a4",
   "metadata": {},
   "outputs": [],
   "source": [
    "# Converter DATA para tipo Date\n",
    "df['DATA'] = pd.to_datetime(df['DATA'], dayfirst=True)"
   ]
  },
  {
   "cell_type": "code",
   "execution_count": null,
   "id": "98c757f9-ce59-4a21-8993-01147e51a237",
   "metadata": {},
   "outputs": [],
   "source": []
  },
  {
   "cell_type": "code",
   "execution_count": null,
   "id": "8df02057-aa9f-4ff7-8544-f7fe81b49e6f",
   "metadata": {},
   "outputs": [],
   "source": [
    "df"
   ]
  },
  {
   "cell_type": "markdown",
   "id": "1a4c260d-8e63-420b-8e8d-731641a5eca0",
   "metadata": {},
   "source": [
    "## Gastos Ano 2022"
   ]
  },
  {
   "cell_type": "code",
   "execution_count": null,
   "id": "e8cb59aa-c9a0-411a-942c-f12ddff7b6b0",
   "metadata": {},
   "outputs": [],
   "source": [
    "senadores = df['SENADOR'].unique()\n",
    "df_gastos_sn = { 'Senador':[], 'GastoAnual':[], 'RegsSemDocumento':[], 'RegsSemDetalhamentoDoGasto':[] }"
   ]
  },
  {
   "cell_type": "code",
   "execution_count": null,
   "id": "d8159395-9ac0-44e2-ae8a-930000280c14",
   "metadata": {},
   "outputs": [],
   "source": [
    "for i in senadores:\n",
    "    df_gastos_sn['Senador'].append(i)\n",
    "    df_gastos_sn['GastoAnual'].append( df[ df['SENADOR'] == i ]['VALOR_REEMBOLSADO'].sum() )\n",
    "    df_gastos_sn['RegsSemDocumento'].append( df[ df['DOCUMENTO'].isna() == True][df['SENADOR'] == i ].isna().sum()['DOCUMENTO'] )\n",
    "    df_gastos_sn['RegsSemDetalhamentoDoGasto'].append( df[ df['DETALHAMENTO'].isna() == True][df['SENADOR'] == i ].isna().sum()['DETALHAMENTO'] )\n"
   ]
  },
  {
   "cell_type": "code",
   "execution_count": null,
   "id": "49789fb5-af37-4e05-887c-1f3692597ba0",
   "metadata": {},
   "outputs": [],
   "source": [
    "#ds = pd.DataFrame( { 'Senador': df_gastos_sn['Senador'], 'Gastos': df_gastos_sn['GastoAnual'] })\n",
    "ds = pd.DataFrame( df_gastos_sn )\n",
    "ds = ds.sort_values(by=['GastoAnual'], ascending=False)\n",
    "ds"
   ]
  },
  {
   "cell_type": "markdown",
   "id": "52133833-798c-436f-be48-092cf71b537d",
   "metadata": {},
   "source": [
    "### 10 Senadores com Maior Gastos 2022"
   ]
  },
  {
   "cell_type": "code",
   "execution_count": null,
   "id": "8ca0b0f8-e69b-4507-8663-9644b0ac0923",
   "metadata": {},
   "outputs": [],
   "source": [
    "ds[:10].plot(x='Senador', y='GastoAnual', title='Gastos (R$) Senadores Brasileiros 2022', kind='bar')"
   ]
  },
  {
   "cell_type": "markdown",
   "id": "9e519975-5fea-4075-9be6-1602f588e298",
   "metadata": {},
   "source": [
    "### 10 Senadores com mais ocorrência de falta de Documento comprobatório do gasto na Base de Dados"
   ]
  },
  {
   "cell_type": "code",
   "execution_count": null,
   "id": "6b5feee1-3801-42a7-bc81-c3b2ee69af39",
   "metadata": {},
   "outputs": [],
   "source": [
    "ds.sort_values(by=['RegsSemDocumento'], ascending=False)[:10].plot(x='Senador', y='RegsSemDocumento', title='10 Sen. Sem Documento de Registro do Gasto', kind='bar')"
   ]
  },
  {
   "cell_type": "code",
   "execution_count": null,
   "id": "d7f9adac-b881-4732-b3cc-d41efe11ecac",
   "metadata": {},
   "outputs": [],
   "source": [
    "df[ df['DOCUMENTO'].isna() == True][df['SENADOR'] == 'ZENAIDE MAIA'].isna().sum()"
   ]
  },
  {
   "cell_type": "code",
   "execution_count": null,
   "id": "322ef899-a3b2-4fb2-b80f-418313267a71",
   "metadata": {},
   "outputs": [],
   "source": []
  }
 ],
 "metadata": {
  "kernelspec": {
   "display_name": "Python 3 (ipykernel)",
   "language": "python",
   "name": "python3"
  },
  "language_info": {
   "codemirror_mode": {
    "name": "ipython",
    "version": 3
   },
   "file_extension": ".py",
   "mimetype": "text/x-python",
   "name": "python",
   "nbconvert_exporter": "python",
   "pygments_lexer": "ipython3",
   "version": "3.10.7"
  }
 },
 "nbformat": 4,
 "nbformat_minor": 5
}

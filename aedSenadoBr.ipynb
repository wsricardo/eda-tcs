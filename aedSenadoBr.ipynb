{
 "cells": [
  {
   "cell_type": "markdown",
   "id": "2d236b99-8ebe-4f26-967b-b4ecc20f1897",
   "metadata": {},
   "source": [
    "# Dados Abertos - Senado Brasileiro, CEAPS"
   ]
  },
  {
   "cell_type": "markdown",
   "id": "a4fa96d9-c79a-46c8-b660-7fc25d5e1d5b",
   "metadata": {},
   "source": [
    "Os presentes dados estão disponíveis publicamente no site do governo brasileiro como parte da politica de acesso a dados públicos de forma aberta afim de ter-se transparência nos gastos públicos.\n"
   ]
  },
  {
   "cell_type": "markdown",
   "id": "17ad7a25-d309-448a-a284-9c8e26d39a2a",
   "metadata": {},
   "source": [
    "[Senado.leg.br Site dos dados](https://www12.senado.leg.br/transparencia/dados-abertos-transparencia/dados-abertos-ceaps)"
   ]
  },
  {
   "cell_type": "markdown",
   "id": "648090f5-d812-4d39-a4cd-a638f3caf962",
   "metadata": {},
   "source": [
    "## Carregando módulos usados na análise."
   ]
  },
  {
   "cell_type": "markdown",
   "id": "e894a702-712a-448d-ae21-fe445ff0187c",
   "metadata": {},
   "source": [
    "Bibliotecas usadas para carregamentos dos dados, cálculos e renderização dos gráficos.\n",
    "\n",
    "Incluem:\n",
    "\n",
    "[Numpy](https://numpy.org/)\n",
    "\n",
    "[Pandas](https://pandas.pydata.org/)\n",
    "\n",
    "[Matplotlib](https://matplotlib.org/)\n",
    "\n",
    "[Plotly - Visualização de dados](https://plotly.com/)"
   ]
  },
  {
   "cell_type": "code",
   "execution_count": 109,
   "id": "31fd6a4e-ec51-4d5f-bdc2-33482a4b234c",
   "metadata": {},
   "outputs": [],
   "source": [
    "import numpy as np\n",
    "import pandas as pd\n",
    "\n",
    "import matplotlib.pyplot as plt\n",
    "import plotly.express as px\n",
    "import re\n",
    "import csv\n",
    "import glob\n",
    "%matplotlib inline\n",
    "\n",
    "pd.options.plotting.backend = \"plotly\""
   ]
  },
  {
   "cell_type": "markdown",
   "id": "329d6dcf-899f-4489-954c-b5cfbf9655e6",
   "metadata": {},
   "source": [
    "## Carregamento dos Dados\n"
   ]
  },
  {
   "cell_type": "markdown",
   "id": "c540ce34-ca46-4d28-b039-85290cd8201a",
   "metadata": {},
   "source": [
    "### Sobre os Dados\n",
    "\n",
    "Diversas inconsistências e dados faltantes em campos. Detalhes como datas e informação de documento faltando, ou data não preenchida ou preenchida de forma incompleta.\n",
    "\n"
   ]
  },
  {
   "cell_type": "markdown",
   "id": "49d6a818-c65e-4cee-89e6-c5e1014d4a8c",
   "metadata": {},
   "source": [
    "### Ano de 2022"
   ]
  },
  {
   "cell_type": "markdown",
   "id": "7ae5b008-99d5-4c9c-8b07-c7189711e758",
   "metadata": {},
   "source": [
    "Amostra para o ano de 2022"
   ]
  },
  {
   "cell_type": "code",
   "execution_count": 110,
   "id": "34bbd83b-2ef7-4825-aa09-986b1357f1eb",
   "metadata": {},
   "outputs": [
    {
     "data": {
      "text/html": [
       "<div>\n",
       "<style scoped>\n",
       "    .dataframe tbody tr th:only-of-type {\n",
       "        vertical-align: middle;\n",
       "    }\n",
       "\n",
       "    .dataframe tbody tr th {\n",
       "        vertical-align: top;\n",
       "    }\n",
       "\n",
       "    .dataframe thead th {\n",
       "        text-align: right;\n",
       "    }\n",
       "</style>\n",
       "<table border=\"1\" class=\"dataframe\">\n",
       "  <thead>\n",
       "    <tr style=\"text-align: right;\">\n",
       "      <th></th>\n",
       "      <th>ANO</th>\n",
       "      <th>MES</th>\n",
       "      <th>SENADOR</th>\n",
       "      <th>TIPO_DESPESA</th>\n",
       "      <th>CNPJ_CPF</th>\n",
       "      <th>FORNECEDOR</th>\n",
       "      <th>DOCUMENTO</th>\n",
       "      <th>DATA</th>\n",
       "      <th>DETALHAMENTO</th>\n",
       "      <th>VALOR_REEMBOLSADO</th>\n",
       "      <th>COD_DOCUMENTO</th>\n",
       "    </tr>\n",
       "  </thead>\n",
       "  <tbody>\n",
       "    <tr>\n",
       "      <th>0</th>\n",
       "      <td>2022</td>\n",
       "      <td>1</td>\n",
       "      <td>ACIR GURGACZ</td>\n",
       "      <td>Aluguel de imóveis para escritório político, c...</td>\n",
       "      <td>004.948.028-63</td>\n",
       "      <td>GILBERTO PISELO DO NASCIMENTO</td>\n",
       "      <td>001/22</td>\n",
       "      <td>03/01/2022</td>\n",
       "      <td>Despesa com pagamento de aluguel de imóvel par...</td>\n",
       "      <td>6000</td>\n",
       "      <td>2173614</td>\n",
       "    </tr>\n",
       "    <tr>\n",
       "      <th>1</th>\n",
       "      <td>2022</td>\n",
       "      <td>1</td>\n",
       "      <td>ACIR GURGACZ</td>\n",
       "      <td>Divulgação da atividade parlamentar</td>\n",
       "      <td>26.320.603/0001-64</td>\n",
       "      <td>INFORMANAHORA</td>\n",
       "      <td>000000000000310/A</td>\n",
       "      <td>04/01/2022</td>\n",
       "      <td>Despesa com divulgação da atividade parlamenta...</td>\n",
       "      <td>1500</td>\n",
       "      <td>2173615</td>\n",
       "    </tr>\n",
       "    <tr>\n",
       "      <th>2</th>\n",
       "      <td>2022</td>\n",
       "      <td>1</td>\n",
       "      <td>ACIR GURGACZ</td>\n",
       "      <td>Divulgação da atividade parlamentar</td>\n",
       "      <td>13.659.201/0001-47</td>\n",
       "      <td>LINHA PURPURA FOTO E VIDEO LTDA</td>\n",
       "      <td>107</td>\n",
       "      <td>14/01/2022</td>\n",
       "      <td>Despesa com produção de texto e edição de víde...</td>\n",
       "      <td>6000</td>\n",
       "      <td>2173616</td>\n",
       "    </tr>\n",
       "    <tr>\n",
       "      <th>3</th>\n",
       "      <td>2022</td>\n",
       "      <td>1</td>\n",
       "      <td>ACIR GURGACZ</td>\n",
       "      <td>Divulgação da atividade parlamentar</td>\n",
       "      <td>23.652.846/0001-01</td>\n",
       "      <td>ROBERTO GUTIERREZ DA ROCHA M.E.I.</td>\n",
       "      <td>187</td>\n",
       "      <td>18/01/2022</td>\n",
       "      <td>Divulgação da atividade parlamentar</td>\n",
       "      <td>1000</td>\n",
       "      <td>2173618</td>\n",
       "    </tr>\n",
       "    <tr>\n",
       "      <th>4</th>\n",
       "      <td>2022</td>\n",
       "      <td>1</td>\n",
       "      <td>ACIR GURGACZ</td>\n",
       "      <td>Divulgação da atividade parlamentar</td>\n",
       "      <td>08.941.827/0001-01</td>\n",
       "      <td>RONDONIA DINÂMICA COM. E SERV. DE INFORMÁTICA ...</td>\n",
       "      <td>000000000001772/A</td>\n",
       "      <td>17/01/2022</td>\n",
       "      <td>Divulgação da atividade parlamentar</td>\n",
       "      <td>2000</td>\n",
       "      <td>2173617</td>\n",
       "    </tr>\n",
       "  </tbody>\n",
       "</table>\n",
       "</div>"
      ],
      "text/plain": [
       "    ANO  MES       SENADOR                                       TIPO_DESPESA  \\\n",
       "0  2022    1  ACIR GURGACZ  Aluguel de imóveis para escritório político, c...   \n",
       "1  2022    1  ACIR GURGACZ                Divulgação da atividade parlamentar   \n",
       "2  2022    1  ACIR GURGACZ                Divulgação da atividade parlamentar   \n",
       "3  2022    1  ACIR GURGACZ                Divulgação da atividade parlamentar   \n",
       "4  2022    1  ACIR GURGACZ                Divulgação da atividade parlamentar   \n",
       "\n",
       "             CNPJ_CPF                                         FORNECEDOR  \\\n",
       "0      004.948.028-63                      GILBERTO PISELO DO NASCIMENTO   \n",
       "1  26.320.603/0001-64                                      INFORMANAHORA   \n",
       "2  13.659.201/0001-47                    LINHA PURPURA FOTO E VIDEO LTDA   \n",
       "3  23.652.846/0001-01                  ROBERTO GUTIERREZ DA ROCHA M.E.I.   \n",
       "4  08.941.827/0001-01  RONDONIA DINÂMICA COM. E SERV. DE INFORMÁTICA ...   \n",
       "\n",
       "           DOCUMENTO        DATA  \\\n",
       "0             001/22  03/01/2022   \n",
       "1  000000000000310/A  04/01/2022   \n",
       "2                107  14/01/2022   \n",
       "3                187  18/01/2022   \n",
       "4  000000000001772/A  17/01/2022   \n",
       "\n",
       "                                        DETALHAMENTO VALOR_REEMBOLSADO  \\\n",
       "0  Despesa com pagamento de aluguel de imóvel par...              6000   \n",
       "1  Despesa com divulgação da atividade parlamenta...              1500   \n",
       "2  Despesa com produção de texto e edição de víde...              6000   \n",
       "3                Divulgação da atividade parlamentar              1000   \n",
       "4                Divulgação da atividade parlamentar              2000   \n",
       "\n",
       "   COD_DOCUMENTO  \n",
       "0        2173614  \n",
       "1        2173615  \n",
       "2        2173616  \n",
       "3        2173618  \n",
       "4        2173617  "
      ]
     },
     "execution_count": 110,
     "metadata": {},
     "output_type": "execute_result"
    }
   ],
   "source": [
    "# header=1 -> ignore first line header\n",
    "df = pd.read_csv('data/despesa_ceaps_2022.csv', delimiter=';', header=1, encoding='iso-8859-1')\n",
    "df.head()"
   ]
  },
  {
   "cell_type": "markdown",
   "id": "130c8c64-a27a-40e2-8177-29fc75a8972e",
   "metadata": {},
   "source": [
    "### Todos Anos 2008/2022"
   ]
  },
  {
   "cell_type": "markdown",
   "id": "a49f332d-176e-4d8e-810f-648d842e4d08",
   "metadata": {},
   "source": [
    "Carregando lista de arquivos contendo os dados para análise."
   ]
  },
  {
   "cell_type": "code",
   "execution_count": 111,
   "id": "56671e69-a300-4f86-9115-03527493b235",
   "metadata": {},
   "outputs": [
    {
     "name": "stdout",
     "output_type": "stream",
     "text": [
      "> load...  data/despesa_ceaps_2008.csv\n",
      "> load...  data/despesa_ceaps_2009.csv\n",
      "> load...  data/despesa_ceaps_2010.csv\n",
      "> load...  data/despesa_ceaps_2011.csv\n",
      "> load...  data/despesa_ceaps_2012.csv\n",
      "> load...  data/despesa_ceaps_2013.csv\n",
      "> load...  data/despesa_ceaps_2014.csv\n",
      "> load...  data/despesa_ceaps_2015.csv\n",
      "> load...  data/despesa_ceaps_2016.csv\n",
      "> load...  data/despesa_ceaps_2017.csv\n",
      "> load...  data/despesa_ceaps_2018.csv\n",
      "> load...  data/despesa_ceaps_2019.csv\n",
      "> load...  data/despesa_ceaps_2020.csv\n",
      "> load...  data/despesa_ceaps_2021.csv\n",
      "> load...  data/despesa_ceaps_2022.csv\n"
     ]
    }
   ],
   "source": [
    "datas = {}\n",
    "for file in sorted(glob.glob('data/*.csv')):\n",
    "    \n",
    "    if re.search(r'[0-9]+(.csv)', file):\n",
    "        print('> load... ', file)\n",
    "        datas[ re.search(r'[0-9]+', file ).group(0) ] = pd.read_csv(file, delimiter=';', header=1, encoding='iso-8859-1')\n",
    "#(lambda d, x: [d.pop(i) for i in x] )(datas, ['2008','2009', '2010', '2011','2012'])"
   ]
  },
  {
   "cell_type": "markdown",
   "id": "8baf3051-4732-46c7-b68b-629b1b8a7a29",
   "metadata": {},
   "source": [
    "### Pré-Processamento dos Dados"
   ]
  },
  {
   "cell_type": "markdown",
   "id": "87603c0b-3258-44ed-9fa2-00192c00c280",
   "metadata": {},
   "source": [
    "Concatenando as tabelas de dados para formar um único da dataframe com os dados para análise."
   ]
  },
  {
   "cell_type": "code",
   "execution_count": 112,
   "id": "2354861d-39ce-4016-99a0-6a3de5371e9a",
   "metadata": {},
   "outputs": [],
   "source": [
    "dff = pd.concat(datas, ignore_index=True)\n"
   ]
  },
  {
   "cell_type": "code",
   "execution_count": 113,
   "id": "f6fbbe02-692e-4d24-bfa4-6156cf2a8268",
   "metadata": {},
   "outputs": [
    {
     "data": {
      "text/html": [
       "<div>\n",
       "<style scoped>\n",
       "    .dataframe tbody tr th:only-of-type {\n",
       "        vertical-align: middle;\n",
       "    }\n",
       "\n",
       "    .dataframe tbody tr th {\n",
       "        vertical-align: top;\n",
       "    }\n",
       "\n",
       "    .dataframe thead th {\n",
       "        text-align: right;\n",
       "    }\n",
       "</style>\n",
       "<table border=\"1\" class=\"dataframe\">\n",
       "  <thead>\n",
       "    <tr style=\"text-align: right;\">\n",
       "      <th></th>\n",
       "      <th>ANO</th>\n",
       "      <th>MES</th>\n",
       "      <th>SENADOR</th>\n",
       "      <th>TIPO_DESPESA</th>\n",
       "      <th>CNPJ_CPF</th>\n",
       "      <th>FORNECEDOR</th>\n",
       "      <th>DOCUMENTO</th>\n",
       "      <th>DATA</th>\n",
       "      <th>DETALHAMENTO</th>\n",
       "      <th>VALOR_REEMBOLSADO</th>\n",
       "      <th>COD_DOCUMENTO</th>\n",
       "    </tr>\n",
       "  </thead>\n",
       "  <tbody>\n",
       "    <tr>\n",
       "      <th>0</th>\n",
       "      <td>2008</td>\n",
       "      <td>9</td>\n",
       "      <td>ADA MELLO</td>\n",
       "      <td>Contratação de consultorias, assessorias, pesq...</td>\n",
       "      <td>NaN</td>\n",
       "      <td>NaN</td>\n",
       "      <td>NaN</td>\n",
       "      <td>NaN</td>\n",
       "      <td>NaN</td>\n",
       "      <td>12351,52</td>\n",
       "      <td>2.008091e+12</td>\n",
       "    </tr>\n",
       "    <tr>\n",
       "      <th>1</th>\n",
       "      <td>2008</td>\n",
       "      <td>9</td>\n",
       "      <td>ADA MELLO</td>\n",
       "      <td>Locomoção, hospedagem, alimentação, combustíve...</td>\n",
       "      <td>NaN</td>\n",
       "      <td>NaN</td>\n",
       "      <td>NaN</td>\n",
       "      <td>NaN</td>\n",
       "      <td>NaN</td>\n",
       "      <td>386,6</td>\n",
       "      <td>2.008091e+12</td>\n",
       "    </tr>\n",
       "    <tr>\n",
       "      <th>2</th>\n",
       "      <td>2008</td>\n",
       "      <td>10</td>\n",
       "      <td>ADA MELLO</td>\n",
       "      <td>Contratação de consultorias, assessorias, pesq...</td>\n",
       "      <td>NaN</td>\n",
       "      <td>NaN</td>\n",
       "      <td>NaN</td>\n",
       "      <td>NaN</td>\n",
       "      <td>NaN</td>\n",
       "      <td>12351,52</td>\n",
       "      <td>2.008101e+12</td>\n",
       "    </tr>\n",
       "    <tr>\n",
       "      <th>3</th>\n",
       "      <td>2008</td>\n",
       "      <td>10</td>\n",
       "      <td>ADA MELLO</td>\n",
       "      <td>Locomoção, hospedagem, alimentação, combustíve...</td>\n",
       "      <td>NaN</td>\n",
       "      <td>NaN</td>\n",
       "      <td>NaN</td>\n",
       "      <td>NaN</td>\n",
       "      <td>NaN</td>\n",
       "      <td>2610,68</td>\n",
       "      <td>2.008101e+12</td>\n",
       "    </tr>\n",
       "    <tr>\n",
       "      <th>4</th>\n",
       "      <td>2008</td>\n",
       "      <td>11</td>\n",
       "      <td>ADA MELLO</td>\n",
       "      <td>Contratação de consultorias, assessorias, pesq...</td>\n",
       "      <td>NaN</td>\n",
       "      <td>NaN</td>\n",
       "      <td>NaN</td>\n",
       "      <td>NaN</td>\n",
       "      <td>NaN</td>\n",
       "      <td>12351,52</td>\n",
       "      <td>2.008111e+12</td>\n",
       "    </tr>\n",
       "  </tbody>\n",
       "</table>\n",
       "</div>"
      ],
      "text/plain": [
       "    ANO  MES    SENADOR                                       TIPO_DESPESA  \\\n",
       "0  2008    9  ADA MELLO  Contratação de consultorias, assessorias, pesq...   \n",
       "1  2008    9  ADA MELLO  Locomoção, hospedagem, alimentação, combustíve...   \n",
       "2  2008   10  ADA MELLO  Contratação de consultorias, assessorias, pesq...   \n",
       "3  2008   10  ADA MELLO  Locomoção, hospedagem, alimentação, combustíve...   \n",
       "4  2008   11  ADA MELLO  Contratação de consultorias, assessorias, pesq...   \n",
       "\n",
       "  CNPJ_CPF FORNECEDOR DOCUMENTO DATA DETALHAMENTO VALOR_REEMBOLSADO  \\\n",
       "0      NaN        NaN       NaN  NaN          NaN          12351,52   \n",
       "1      NaN        NaN       NaN  NaN          NaN             386,6   \n",
       "2      NaN        NaN       NaN  NaN          NaN          12351,52   \n",
       "3      NaN        NaN       NaN  NaN          NaN           2610,68   \n",
       "4      NaN        NaN       NaN  NaN          NaN          12351,52   \n",
       "\n",
       "   COD_DOCUMENTO  \n",
       "0   2.008091e+12  \n",
       "1   2.008091e+12  \n",
       "2   2.008101e+12  \n",
       "3   2.008101e+12  \n",
       "4   2.008111e+12  "
      ]
     },
     "execution_count": 113,
     "metadata": {},
     "output_type": "execute_result"
    }
   ],
   "source": [
    "dff.loc[0:dff.shape[0],'VALOR_REEMBOLSADO'].replace(r'(\\s)', '', regex=True, inplace=True)\n",
    "dff.loc[0:dff.shape[0],'VALOR_REEMBOLSADO'].replace(r'(\\n)','', regex=True, inplace=True)\n",
    "dff.loc[0:dff.shape[0], 'VALOR_REEMBOLSADO'].replace(r'(\\r)', '', regex=True, inplace=True)\n",
    "dff.head()"
   ]
  },
  {
   "cell_type": "code",
   "execution_count": 114,
   "id": "abc6c960-a778-4c2a-b04c-252d6537b858",
   "metadata": {},
   "outputs": [
    {
     "data": {
      "text/html": [
       "<div>\n",
       "<style scoped>\n",
       "    .dataframe tbody tr th:only-of-type {\n",
       "        vertical-align: middle;\n",
       "    }\n",
       "\n",
       "    .dataframe tbody tr th {\n",
       "        vertical-align: top;\n",
       "    }\n",
       "\n",
       "    .dataframe thead th {\n",
       "        text-align: right;\n",
       "    }\n",
       "</style>\n",
       "<table border=\"1\" class=\"dataframe\">\n",
       "  <thead>\n",
       "    <tr style=\"text-align: right;\">\n",
       "      <th></th>\n",
       "      <th>ANO</th>\n",
       "      <th>MES</th>\n",
       "      <th>SENADOR</th>\n",
       "      <th>TIPO_DESPESA</th>\n",
       "      <th>CNPJ_CPF</th>\n",
       "      <th>FORNECEDOR</th>\n",
       "      <th>DOCUMENTO</th>\n",
       "      <th>DATA</th>\n",
       "      <th>DETALHAMENTO</th>\n",
       "      <th>VALOR_REEMBOLSADO</th>\n",
       "      <th>COD_DOCUMENTO</th>\n",
       "    </tr>\n",
       "  </thead>\n",
       "  <tbody>\n",
       "    <tr>\n",
       "      <th>0</th>\n",
       "      <td>2008</td>\n",
       "      <td>9</td>\n",
       "      <td>ADA MELLO</td>\n",
       "      <td>Contratação de consultorias, assessorias, pesq...</td>\n",
       "      <td>NaN</td>\n",
       "      <td>NaN</td>\n",
       "      <td>NaN</td>\n",
       "      <td>NaN</td>\n",
       "      <td>NaN</td>\n",
       "      <td>12351.52</td>\n",
       "      <td>2.008091e+12</td>\n",
       "    </tr>\n",
       "    <tr>\n",
       "      <th>1</th>\n",
       "      <td>2008</td>\n",
       "      <td>9</td>\n",
       "      <td>ADA MELLO</td>\n",
       "      <td>Locomoção, hospedagem, alimentação, combustíve...</td>\n",
       "      <td>NaN</td>\n",
       "      <td>NaN</td>\n",
       "      <td>NaN</td>\n",
       "      <td>NaN</td>\n",
       "      <td>NaN</td>\n",
       "      <td>386.6</td>\n",
       "      <td>2.008091e+12</td>\n",
       "    </tr>\n",
       "    <tr>\n",
       "      <th>2</th>\n",
       "      <td>2008</td>\n",
       "      <td>10</td>\n",
       "      <td>ADA MELLO</td>\n",
       "      <td>Contratação de consultorias, assessorias, pesq...</td>\n",
       "      <td>NaN</td>\n",
       "      <td>NaN</td>\n",
       "      <td>NaN</td>\n",
       "      <td>NaN</td>\n",
       "      <td>NaN</td>\n",
       "      <td>12351.52</td>\n",
       "      <td>2.008101e+12</td>\n",
       "    </tr>\n",
       "    <tr>\n",
       "      <th>3</th>\n",
       "      <td>2008</td>\n",
       "      <td>10</td>\n",
       "      <td>ADA MELLO</td>\n",
       "      <td>Locomoção, hospedagem, alimentação, combustíve...</td>\n",
       "      <td>NaN</td>\n",
       "      <td>NaN</td>\n",
       "      <td>NaN</td>\n",
       "      <td>NaN</td>\n",
       "      <td>NaN</td>\n",
       "      <td>2610.68</td>\n",
       "      <td>2.008101e+12</td>\n",
       "    </tr>\n",
       "    <tr>\n",
       "      <th>4</th>\n",
       "      <td>2008</td>\n",
       "      <td>11</td>\n",
       "      <td>ADA MELLO</td>\n",
       "      <td>Contratação de consultorias, assessorias, pesq...</td>\n",
       "      <td>NaN</td>\n",
       "      <td>NaN</td>\n",
       "      <td>NaN</td>\n",
       "      <td>NaN</td>\n",
       "      <td>NaN</td>\n",
       "      <td>12351.52</td>\n",
       "      <td>2.008111e+12</td>\n",
       "    </tr>\n",
       "  </tbody>\n",
       "</table>\n",
       "</div>"
      ],
      "text/plain": [
       "    ANO  MES    SENADOR                                       TIPO_DESPESA  \\\n",
       "0  2008    9  ADA MELLO  Contratação de consultorias, assessorias, pesq...   \n",
       "1  2008    9  ADA MELLO  Locomoção, hospedagem, alimentação, combustíve...   \n",
       "2  2008   10  ADA MELLO  Contratação de consultorias, assessorias, pesq...   \n",
       "3  2008   10  ADA MELLO  Locomoção, hospedagem, alimentação, combustíve...   \n",
       "4  2008   11  ADA MELLO  Contratação de consultorias, assessorias, pesq...   \n",
       "\n",
       "  CNPJ_CPF FORNECEDOR DOCUMENTO DATA DETALHAMENTO VALOR_REEMBOLSADO  \\\n",
       "0      NaN        NaN       NaN  NaN          NaN          12351.52   \n",
       "1      NaN        NaN       NaN  NaN          NaN             386.6   \n",
       "2      NaN        NaN       NaN  NaN          NaN          12351.52   \n",
       "3      NaN        NaN       NaN  NaN          NaN           2610.68   \n",
       "4      NaN        NaN       NaN  NaN          NaN          12351.52   \n",
       "\n",
       "   COD_DOCUMENTO  \n",
       "0   2.008091e+12  \n",
       "1   2.008091e+12  \n",
       "2   2.008101e+12  \n",
       "3   2.008101e+12  \n",
       "4   2.008111e+12  "
      ]
     },
     "execution_count": 114,
     "metadata": {},
     "output_type": "execute_result"
    }
   ],
   "source": [
    "dff.loc[0:,'VALOR_REEMBOLSADO'].replace( regex=r'(,)', value='.',  inplace=True )\n",
    "#dff.loc[0:dff.shape[0],'VALOR_REEMBOLSADO'] =dff.loc[0:dff.shape[0],'VALOR_REEMBOLSADO'].replace( regex={r'(,)':'.'} )\n",
    "#dfs['VALOR_REEMBOLSADO'] = pd.to_numeric(dff['VALOR_REEMBOLSADO'], downcast='float')\n",
    "dff.head()"
   ]
  },
  {
   "cell_type": "code",
   "execution_count": 115,
   "id": "0ca00f7d-959c-45f3-9dc6-9dc27ca1597c",
   "metadata": {},
   "outputs": [],
   "source": [
    "dff[ 'VALOR_REEMBOLSADO'] = pd.to_numeric(dff['VALOR_REEMBOLSADO'], downcast='float')\n",
    "#dff.dropna(inplace=True)\n",
    "#dff.to_csv('data.csv', index=False)"
   ]
  },
  {
   "cell_type": "markdown",
   "id": "e41c424f-ecd1-4721-b0c2-7efe46a6a7e2",
   "metadata": {},
   "source": [
    "## Tratamento e Limpeza dos Dados (Data Wrangling)"
   ]
  },
  {
   "cell_type": "markdown",
   "id": "5ad9f0ee-d317-440f-8962-f08b462e3840",
   "metadata": {},
   "source": [
    "No campo 'VALOR_REEMBOLSADO' trocar virgula por ponto e converter para tipo numérico (float)."
   ]
  },
  {
   "cell_type": "code",
   "execution_count": 116,
   "id": "45de4a2a-7aa1-4b31-a6bf-97068df2de28",
   "metadata": {},
   "outputs": [],
   "source": [
    "df['VALOR_REEMBOLSADO'] = pd.to_numeric( df['VALOR_REEMBOLSADO'].replace(regex=r'(,)', value='.'), downcast='float')\n",
    "\n"
   ]
  },
  {
   "cell_type": "code",
   "execution_count": 117,
   "id": "9d73cb12-3b1d-4aa7-abfd-71d770f5fe37",
   "metadata": {},
   "outputs": [
    {
     "data": {
      "text/html": [
       "<div>\n",
       "<style scoped>\n",
       "    .dataframe tbody tr th:only-of-type {\n",
       "        vertical-align: middle;\n",
       "    }\n",
       "\n",
       "    .dataframe tbody tr th {\n",
       "        vertical-align: top;\n",
       "    }\n",
       "\n",
       "    .dataframe thead th {\n",
       "        text-align: right;\n",
       "    }\n",
       "</style>\n",
       "<table border=\"1\" class=\"dataframe\">\n",
       "  <thead>\n",
       "    <tr style=\"text-align: right;\">\n",
       "      <th></th>\n",
       "      <th>ANO</th>\n",
       "      <th>MES</th>\n",
       "      <th>SENADOR</th>\n",
       "      <th>TIPO_DESPESA</th>\n",
       "      <th>CNPJ_CPF</th>\n",
       "      <th>FORNECEDOR</th>\n",
       "      <th>DOCUMENTO</th>\n",
       "      <th>DATA</th>\n",
       "      <th>DETALHAMENTO</th>\n",
       "      <th>VALOR_REEMBOLSADO</th>\n",
       "      <th>COD_DOCUMENTO</th>\n",
       "    </tr>\n",
       "  </thead>\n",
       "  <tbody>\n",
       "    <tr>\n",
       "      <th>0</th>\n",
       "      <td>2022</td>\n",
       "      <td>1</td>\n",
       "      <td>ACIR GURGACZ</td>\n",
       "      <td>Aluguel de imóveis para escritório político, c...</td>\n",
       "      <td>004.948.028-63</td>\n",
       "      <td>GILBERTO PISELO DO NASCIMENTO</td>\n",
       "      <td>001/22</td>\n",
       "      <td>03/01/2022</td>\n",
       "      <td>Despesa com pagamento de aluguel de imóvel par...</td>\n",
       "      <td>6000.0</td>\n",
       "      <td>2173614</td>\n",
       "    </tr>\n",
       "    <tr>\n",
       "      <th>1</th>\n",
       "      <td>2022</td>\n",
       "      <td>1</td>\n",
       "      <td>ACIR GURGACZ</td>\n",
       "      <td>Divulgação da atividade parlamentar</td>\n",
       "      <td>26.320.603/0001-64</td>\n",
       "      <td>INFORMANAHORA</td>\n",
       "      <td>000000000000310/A</td>\n",
       "      <td>04/01/2022</td>\n",
       "      <td>Despesa com divulgação da atividade parlamenta...</td>\n",
       "      <td>1500.0</td>\n",
       "      <td>2173615</td>\n",
       "    </tr>\n",
       "    <tr>\n",
       "      <th>2</th>\n",
       "      <td>2022</td>\n",
       "      <td>1</td>\n",
       "      <td>ACIR GURGACZ</td>\n",
       "      <td>Divulgação da atividade parlamentar</td>\n",
       "      <td>13.659.201/0001-47</td>\n",
       "      <td>LINHA PURPURA FOTO E VIDEO LTDA</td>\n",
       "      <td>107</td>\n",
       "      <td>14/01/2022</td>\n",
       "      <td>Despesa com produção de texto e edição de víde...</td>\n",
       "      <td>6000.0</td>\n",
       "      <td>2173616</td>\n",
       "    </tr>\n",
       "    <tr>\n",
       "      <th>3</th>\n",
       "      <td>2022</td>\n",
       "      <td>1</td>\n",
       "      <td>ACIR GURGACZ</td>\n",
       "      <td>Divulgação da atividade parlamentar</td>\n",
       "      <td>23.652.846/0001-01</td>\n",
       "      <td>ROBERTO GUTIERREZ DA ROCHA M.E.I.</td>\n",
       "      <td>187</td>\n",
       "      <td>18/01/2022</td>\n",
       "      <td>Divulgação da atividade parlamentar</td>\n",
       "      <td>1000.0</td>\n",
       "      <td>2173618</td>\n",
       "    </tr>\n",
       "    <tr>\n",
       "      <th>4</th>\n",
       "      <td>2022</td>\n",
       "      <td>1</td>\n",
       "      <td>ACIR GURGACZ</td>\n",
       "      <td>Divulgação da atividade parlamentar</td>\n",
       "      <td>08.941.827/0001-01</td>\n",
       "      <td>RONDONIA DINÂMICA COM. E SERV. DE INFORMÁTICA ...</td>\n",
       "      <td>000000000001772/A</td>\n",
       "      <td>17/01/2022</td>\n",
       "      <td>Divulgação da atividade parlamentar</td>\n",
       "      <td>2000.0</td>\n",
       "      <td>2173617</td>\n",
       "    </tr>\n",
       "  </tbody>\n",
       "</table>\n",
       "</div>"
      ],
      "text/plain": [
       "    ANO  MES       SENADOR                                       TIPO_DESPESA  \\\n",
       "0  2022    1  ACIR GURGACZ  Aluguel de imóveis para escritório político, c...   \n",
       "1  2022    1  ACIR GURGACZ                Divulgação da atividade parlamentar   \n",
       "2  2022    1  ACIR GURGACZ                Divulgação da atividade parlamentar   \n",
       "3  2022    1  ACIR GURGACZ                Divulgação da atividade parlamentar   \n",
       "4  2022    1  ACIR GURGACZ                Divulgação da atividade parlamentar   \n",
       "\n",
       "             CNPJ_CPF                                         FORNECEDOR  \\\n",
       "0      004.948.028-63                      GILBERTO PISELO DO NASCIMENTO   \n",
       "1  26.320.603/0001-64                                      INFORMANAHORA   \n",
       "2  13.659.201/0001-47                    LINHA PURPURA FOTO E VIDEO LTDA   \n",
       "3  23.652.846/0001-01                  ROBERTO GUTIERREZ DA ROCHA M.E.I.   \n",
       "4  08.941.827/0001-01  RONDONIA DINÂMICA COM. E SERV. DE INFORMÁTICA ...   \n",
       "\n",
       "           DOCUMENTO        DATA  \\\n",
       "0             001/22  03/01/2022   \n",
       "1  000000000000310/A  04/01/2022   \n",
       "2                107  14/01/2022   \n",
       "3                187  18/01/2022   \n",
       "4  000000000001772/A  17/01/2022   \n",
       "\n",
       "                                        DETALHAMENTO  VALOR_REEMBOLSADO  \\\n",
       "0  Despesa com pagamento de aluguel de imóvel par...             6000.0   \n",
       "1  Despesa com divulgação da atividade parlamenta...             1500.0   \n",
       "2  Despesa com produção de texto e edição de víde...             6000.0   \n",
       "3                Divulgação da atividade parlamentar             1000.0   \n",
       "4                Divulgação da atividade parlamentar             2000.0   \n",
       "\n",
       "   COD_DOCUMENTO  \n",
       "0        2173614  \n",
       "1        2173615  \n",
       "2        2173616  \n",
       "3        2173618  \n",
       "4        2173617  "
      ]
     },
     "execution_count": 117,
     "metadata": {},
     "output_type": "execute_result"
    }
   ],
   "source": [
    "df.head()"
   ]
  },
  {
   "cell_type": "markdown",
   "id": "381f17ff-9a08-43bc-8f04-18ec6fea6372",
   "metadata": {},
   "source": [
    "Converter campo 'DATA' do tipo string para tipo Date. Campos de data não preenchidos ou preenchidos em formato incorreto será ignorados mantendo conteúdo antigo sem ser convertido para o tipo _\"datetime\"_ do Python."
   ]
  },
  {
   "cell_type": "code",
   "execution_count": 118,
   "id": "c870339d-2db6-490e-8c62-56a89c1cf4a4",
   "metadata": {},
   "outputs": [],
   "source": [
    "# Converter DATA para tipo Date\n",
    "df['DATA'] = pd.to_datetime(df['DATA'], dayfirst=True, errors='ignore')"
   ]
  },
  {
   "cell_type": "markdown",
   "id": "6f3a99c9-c337-457c-81f5-f7f7943dbe87",
   "metadata": {},
   "source": [
    "### Tabela dos Dados Pré-processada e Tratada"
   ]
  },
  {
   "cell_type": "code",
   "execution_count": 119,
   "id": "8df02057-aa9f-4ff7-8544-f7fe81b49e6f",
   "metadata": {},
   "outputs": [
    {
     "data": {
      "text/html": [
       "<div>\n",
       "<style scoped>\n",
       "    .dataframe tbody tr th:only-of-type {\n",
       "        vertical-align: middle;\n",
       "    }\n",
       "\n",
       "    .dataframe tbody tr th {\n",
       "        vertical-align: top;\n",
       "    }\n",
       "\n",
       "    .dataframe thead th {\n",
       "        text-align: right;\n",
       "    }\n",
       "</style>\n",
       "<table border=\"1\" class=\"dataframe\">\n",
       "  <thead>\n",
       "    <tr style=\"text-align: right;\">\n",
       "      <th></th>\n",
       "      <th>ANO</th>\n",
       "      <th>MES</th>\n",
       "      <th>SENADOR</th>\n",
       "      <th>TIPO_DESPESA</th>\n",
       "      <th>CNPJ_CPF</th>\n",
       "      <th>FORNECEDOR</th>\n",
       "      <th>DOCUMENTO</th>\n",
       "      <th>DATA</th>\n",
       "      <th>DETALHAMENTO</th>\n",
       "      <th>VALOR_REEMBOLSADO</th>\n",
       "      <th>COD_DOCUMENTO</th>\n",
       "    </tr>\n",
       "  </thead>\n",
       "  <tbody>\n",
       "    <tr>\n",
       "      <th>0</th>\n",
       "      <td>2022</td>\n",
       "      <td>1</td>\n",
       "      <td>ACIR GURGACZ</td>\n",
       "      <td>Aluguel de imóveis para escritório político, c...</td>\n",
       "      <td>004.948.028-63</td>\n",
       "      <td>GILBERTO PISELO DO NASCIMENTO</td>\n",
       "      <td>001/22</td>\n",
       "      <td>2022-01-03</td>\n",
       "      <td>Despesa com pagamento de aluguel de imóvel par...</td>\n",
       "      <td>6000.00</td>\n",
       "      <td>2173614</td>\n",
       "    </tr>\n",
       "    <tr>\n",
       "      <th>1</th>\n",
       "      <td>2022</td>\n",
       "      <td>1</td>\n",
       "      <td>ACIR GURGACZ</td>\n",
       "      <td>Divulgação da atividade parlamentar</td>\n",
       "      <td>26.320.603/0001-64</td>\n",
       "      <td>INFORMANAHORA</td>\n",
       "      <td>000000000000310/A</td>\n",
       "      <td>2022-01-04</td>\n",
       "      <td>Despesa com divulgação da atividade parlamenta...</td>\n",
       "      <td>1500.00</td>\n",
       "      <td>2173615</td>\n",
       "    </tr>\n",
       "    <tr>\n",
       "      <th>2</th>\n",
       "      <td>2022</td>\n",
       "      <td>1</td>\n",
       "      <td>ACIR GURGACZ</td>\n",
       "      <td>Divulgação da atividade parlamentar</td>\n",
       "      <td>13.659.201/0001-47</td>\n",
       "      <td>LINHA PURPURA FOTO E VIDEO LTDA</td>\n",
       "      <td>107</td>\n",
       "      <td>2022-01-14</td>\n",
       "      <td>Despesa com produção de texto e edição de víde...</td>\n",
       "      <td>6000.00</td>\n",
       "      <td>2173616</td>\n",
       "    </tr>\n",
       "    <tr>\n",
       "      <th>3</th>\n",
       "      <td>2022</td>\n",
       "      <td>1</td>\n",
       "      <td>ACIR GURGACZ</td>\n",
       "      <td>Divulgação da atividade parlamentar</td>\n",
       "      <td>23.652.846/0001-01</td>\n",
       "      <td>ROBERTO GUTIERREZ DA ROCHA M.E.I.</td>\n",
       "      <td>187</td>\n",
       "      <td>2022-01-18</td>\n",
       "      <td>Divulgação da atividade parlamentar</td>\n",
       "      <td>1000.00</td>\n",
       "      <td>2173618</td>\n",
       "    </tr>\n",
       "    <tr>\n",
       "      <th>4</th>\n",
       "      <td>2022</td>\n",
       "      <td>1</td>\n",
       "      <td>ACIR GURGACZ</td>\n",
       "      <td>Divulgação da atividade parlamentar</td>\n",
       "      <td>08.941.827/0001-01</td>\n",
       "      <td>RONDONIA DINÂMICA COM. E SERV. DE INFORMÁTICA ...</td>\n",
       "      <td>000000000001772/A</td>\n",
       "      <td>2022-01-17</td>\n",
       "      <td>Divulgação da atividade parlamentar</td>\n",
       "      <td>2000.00</td>\n",
       "      <td>2173617</td>\n",
       "    </tr>\n",
       "    <tr>\n",
       "      <th>...</th>\n",
       "      <td>...</td>\n",
       "      <td>...</td>\n",
       "      <td>...</td>\n",
       "      <td>...</td>\n",
       "      <td>...</td>\n",
       "      <td>...</td>\n",
       "      <td>...</td>\n",
       "      <td>...</td>\n",
       "      <td>...</td>\n",
       "      <td>...</td>\n",
       "      <td>...</td>\n",
       "    </tr>\n",
       "    <tr>\n",
       "      <th>16593</th>\n",
       "      <td>2022</td>\n",
       "      <td>12</td>\n",
       "      <td>ZEQUINHA MARINHO</td>\n",
       "      <td>Passagens aéreas, aquáticas e terrestres nacio...</td>\n",
       "      <td>22.052.777/0001-32</td>\n",
       "      <td>Exceller Tour</td>\n",
       "      <td>WIXHAI</td>\n",
       "      <td>2022-12-06</td>\n",
       "      <td>Companhia Aérea: LATAM, Localizador: WIXHAI. P...</td>\n",
       "      <td>2893.04</td>\n",
       "      <td>2191398</td>\n",
       "    </tr>\n",
       "    <tr>\n",
       "      <th>16594</th>\n",
       "      <td>2022</td>\n",
       "      <td>12</td>\n",
       "      <td>ZEQUINHA MARINHO</td>\n",
       "      <td>Passagens aéreas, aquáticas e terrestres nacio...</td>\n",
       "      <td>22.052.777/0001-32</td>\n",
       "      <td>Exceller Tour</td>\n",
       "      <td>WITOLM</td>\n",
       "      <td>2022-12-09</td>\n",
       "      <td>Companhia Aérea: GOL, Localizador: WITOLM. Pas...</td>\n",
       "      <td>1180.19</td>\n",
       "      <td>2192272</td>\n",
       "    </tr>\n",
       "    <tr>\n",
       "      <th>16595</th>\n",
       "      <td>2022</td>\n",
       "      <td>12</td>\n",
       "      <td>ZEQUINHA MARINHO</td>\n",
       "      <td>Passagens aéreas, aquáticas e terrestres nacio...</td>\n",
       "      <td>22.052.777/0001-32</td>\n",
       "      <td>Exceller Tour</td>\n",
       "      <td>THPKVQ</td>\n",
       "      <td>2022-12-20</td>\n",
       "      <td>Companhia Aérea: TAM, Localizador: THPKVQ. Pas...</td>\n",
       "      <td>2671.90</td>\n",
       "      <td>2192274</td>\n",
       "    </tr>\n",
       "    <tr>\n",
       "      <th>16596</th>\n",
       "      <td>2022</td>\n",
       "      <td>12</td>\n",
       "      <td>ZEQUINHA MARINHO</td>\n",
       "      <td>Passagens aéreas, aquáticas e terrestres nacio...</td>\n",
       "      <td>22.052.777/0001-32</td>\n",
       "      <td>Exceller Tour</td>\n",
       "      <td>QNN9HX</td>\n",
       "      <td>2022-12-21</td>\n",
       "      <td>Companhia Aérea: AZUL, Localizador: QNN9HX. Pa...</td>\n",
       "      <td>1334.31</td>\n",
       "      <td>2192244</td>\n",
       "    </tr>\n",
       "    <tr>\n",
       "      <th>16597</th>\n",
       "      <td>2022</td>\n",
       "      <td>12</td>\n",
       "      <td>ZEQUINHA MARINHO</td>\n",
       "      <td>Passagens aéreas, aquáticas e terrestres nacio...</td>\n",
       "      <td>22.052.777/0001-32</td>\n",
       "      <td>Exceller Tour</td>\n",
       "      <td>WMQWBX</td>\n",
       "      <td>2022-12-30</td>\n",
       "      <td>Companhia Aérea: TAM, Localizador: WMQWBX. Pas...</td>\n",
       "      <td>2250.72</td>\n",
       "      <td>2193622</td>\n",
       "    </tr>\n",
       "  </tbody>\n",
       "</table>\n",
       "<p>16598 rows × 11 columns</p>\n",
       "</div>"
      ],
      "text/plain": [
       "        ANO  MES           SENADOR  \\\n",
       "0      2022    1      ACIR GURGACZ   \n",
       "1      2022    1      ACIR GURGACZ   \n",
       "2      2022    1      ACIR GURGACZ   \n",
       "3      2022    1      ACIR GURGACZ   \n",
       "4      2022    1      ACIR GURGACZ   \n",
       "...     ...  ...               ...   \n",
       "16593  2022   12  ZEQUINHA MARINHO   \n",
       "16594  2022   12  ZEQUINHA MARINHO   \n",
       "16595  2022   12  ZEQUINHA MARINHO   \n",
       "16596  2022   12  ZEQUINHA MARINHO   \n",
       "16597  2022   12  ZEQUINHA MARINHO   \n",
       "\n",
       "                                            TIPO_DESPESA            CNPJ_CPF  \\\n",
       "0      Aluguel de imóveis para escritório político, c...      004.948.028-63   \n",
       "1                    Divulgação da atividade parlamentar  26.320.603/0001-64   \n",
       "2                    Divulgação da atividade parlamentar  13.659.201/0001-47   \n",
       "3                    Divulgação da atividade parlamentar  23.652.846/0001-01   \n",
       "4                    Divulgação da atividade parlamentar  08.941.827/0001-01   \n",
       "...                                                  ...                 ...   \n",
       "16593  Passagens aéreas, aquáticas e terrestres nacio...  22.052.777/0001-32   \n",
       "16594  Passagens aéreas, aquáticas e terrestres nacio...  22.052.777/0001-32   \n",
       "16595  Passagens aéreas, aquáticas e terrestres nacio...  22.052.777/0001-32   \n",
       "16596  Passagens aéreas, aquáticas e terrestres nacio...  22.052.777/0001-32   \n",
       "16597  Passagens aéreas, aquáticas e terrestres nacio...  22.052.777/0001-32   \n",
       "\n",
       "                                              FORNECEDOR          DOCUMENTO  \\\n",
       "0                          GILBERTO PISELO DO NASCIMENTO             001/22   \n",
       "1                                          INFORMANAHORA  000000000000310/A   \n",
       "2                        LINHA PURPURA FOTO E VIDEO LTDA                107   \n",
       "3                      ROBERTO GUTIERREZ DA ROCHA M.E.I.                187   \n",
       "4      RONDONIA DINÂMICA COM. E SERV. DE INFORMÁTICA ...  000000000001772/A   \n",
       "...                                                  ...                ...   \n",
       "16593                                      Exceller Tour             WIXHAI   \n",
       "16594                                      Exceller Tour             WITOLM   \n",
       "16595                                      Exceller Tour             THPKVQ   \n",
       "16596                                      Exceller Tour             QNN9HX   \n",
       "16597                                      Exceller Tour             WMQWBX   \n",
       "\n",
       "            DATA                                       DETALHAMENTO  \\\n",
       "0     2022-01-03  Despesa com pagamento de aluguel de imóvel par...   \n",
       "1     2022-01-04  Despesa com divulgação da atividade parlamenta...   \n",
       "2     2022-01-14  Despesa com produção de texto e edição de víde...   \n",
       "3     2022-01-18                Divulgação da atividade parlamentar   \n",
       "4     2022-01-17                Divulgação da atividade parlamentar   \n",
       "...          ...                                                ...   \n",
       "16593 2022-12-06  Companhia Aérea: LATAM, Localizador: WIXHAI. P...   \n",
       "16594 2022-12-09  Companhia Aérea: GOL, Localizador: WITOLM. Pas...   \n",
       "16595 2022-12-20  Companhia Aérea: TAM, Localizador: THPKVQ. Pas...   \n",
       "16596 2022-12-21  Companhia Aérea: AZUL, Localizador: QNN9HX. Pa...   \n",
       "16597 2022-12-30  Companhia Aérea: TAM, Localizador: WMQWBX. Pas...   \n",
       "\n",
       "       VALOR_REEMBOLSADO  COD_DOCUMENTO  \n",
       "0                6000.00        2173614  \n",
       "1                1500.00        2173615  \n",
       "2                6000.00        2173616  \n",
       "3                1000.00        2173618  \n",
       "4                2000.00        2173617  \n",
       "...                  ...            ...  \n",
       "16593            2893.04        2191398  \n",
       "16594            1180.19        2192272  \n",
       "16595            2671.90        2192274  \n",
       "16596            1334.31        2192244  \n",
       "16597            2250.72        2193622  \n",
       "\n",
       "[16598 rows x 11 columns]"
      ]
     },
     "execution_count": 119,
     "metadata": {},
     "output_type": "execute_result"
    }
   ],
   "source": [
    "df"
   ]
  },
  {
   "cell_type": "markdown",
   "id": "1a4c260d-8e63-420b-8e8d-731641a5eca0",
   "metadata": {},
   "source": [
    "## Gastos Para o Ano de 2022"
   ]
  },
  {
   "cell_type": "code",
   "execution_count": 120,
   "id": "e8cb59aa-c9a0-411a-942c-f12ddff7b6b0",
   "metadata": {},
   "outputs": [],
   "source": [
    "senadores = df['SENADOR'].unique()\n",
    "df_gastos_sn = { 'Senador':[], 'GastoAnual':[], 'RegsSemDocumento':[], 'RegsSemDetalhamentoDoGasto':[] }"
   ]
  },
  {
   "cell_type": "code",
   "execution_count": 121,
   "id": "1c70e4a6-16aa-43a2-a3e1-30889b728b48",
   "metadata": {
    "tags": []
   },
   "outputs": [
    {
     "data": {
      "text/plain": [
       "228"
      ]
     },
     "execution_count": 121,
     "metadata": {},
     "output_type": "execute_result"
    }
   ],
   "source": [
    "df.loc[ df['SENADOR'] == 'LUCAS BARRETO', 'DETALHAMENTO' ].isna().sum()"
   ]
  },
  {
   "cell_type": "code",
   "execution_count": 122,
   "id": "d8159395-9ac0-44e2-ae8a-930000280c14",
   "metadata": {},
   "outputs": [],
   "source": [
    "for i in senadores:\n",
    "    df_gastos_sn['Senador'].append(i)\n",
    "    df_gastos_sn['GastoAnual'].append( df.loc[ df['SENADOR'] == i, 'VALOR_REEMBOLSADO'].sum() )\n",
    "    #df_gastos_sn['RegsSemDocumento'].append( df[ df.loc[0:,'DOCUMENTO'].isna() == True][df.loc[0:,'SENADOR'] == i ].isna().sum()['DOCUMENTO'] )\n",
    "    df_gastos_sn['RegsSemDocumento'].append( df.loc[ df['SENADOR'] == i, 'DOCUMENTO'].isna().sum() )\n",
    "    #df_gastos_sn['RegsSemDetalhamentoDoGasto'].append( df[ df.loc[0:,'DETALHAMENTO'].isna() == True][df.loc[0:, 'SENADOR'] == i ].isna().sum()['DETALHAMENTO'] )\n",
    "    df_gastos_sn['RegsSemDetalhamentoDoGasto'].append( df.loc[ df['SENADOR'] == i, 'DETALHAMENTO'].isna().sum() )\n"
   ]
  },
  {
   "cell_type": "code",
   "execution_count": 123,
   "id": "ff91712f-6e2c-412a-9abf-689634ea26eb",
   "metadata": {
    "tags": []
   },
   "outputs": [
    {
     "name": "stdout",
     "output_type": "stream",
     "text": [
      "97 97 97 97\n"
     ]
    }
   ],
   "source": [
    "print( len(df_gastos_sn['GastoAnual']), len(df_gastos_sn['Senador']), len(df_gastos_sn['RegsSemDocumento']), len(df_gastos_sn['RegsSemDetalhamentoDoGasto']))"
   ]
  },
  {
   "cell_type": "code",
   "execution_count": 124,
   "id": "49789fb5-af37-4e05-887c-1f3692597ba0",
   "metadata": {},
   "outputs": [
    {
     "data": {
      "text/html": [
       "<div>\n",
       "<style scoped>\n",
       "    .dataframe tbody tr th:only-of-type {\n",
       "        vertical-align: middle;\n",
       "    }\n",
       "\n",
       "    .dataframe tbody tr th {\n",
       "        vertical-align: top;\n",
       "    }\n",
       "\n",
       "    .dataframe thead th {\n",
       "        text-align: right;\n",
       "    }\n",
       "</style>\n",
       "<table border=\"1\" class=\"dataframe\">\n",
       "  <thead>\n",
       "    <tr style=\"text-align: right;\">\n",
       "      <th></th>\n",
       "      <th>Senador</th>\n",
       "      <th>GastoAnual</th>\n",
       "      <th>RegsSemDocumento</th>\n",
       "      <th>RegsSemDetalhamentoDoGasto</th>\n",
       "    </tr>\n",
       "  </thead>\n",
       "  <tbody>\n",
       "    <tr>\n",
       "      <th>50</th>\n",
       "      <td>LUCAS BARRETO</td>\n",
       "      <td>511319.78</td>\n",
       "      <td>0</td>\n",
       "      <td>228</td>\n",
       "    </tr>\n",
       "    <tr>\n",
       "      <th>90</th>\n",
       "      <td>TELMÁRIO MOTA</td>\n",
       "      <td>488693.40</td>\n",
       "      <td>0</td>\n",
       "      <td>249</td>\n",
       "    </tr>\n",
       "    <tr>\n",
       "      <th>64</th>\n",
       "      <td>MECIAS DE JESUS</td>\n",
       "      <td>488586.66</td>\n",
       "      <td>0</td>\n",
       "      <td>127</td>\n",
       "    </tr>\n",
       "    <tr>\n",
       "      <th>68</th>\n",
       "      <td>OMAR AZIZ</td>\n",
       "      <td>487541.24</td>\n",
       "      <td>0</td>\n",
       "      <td>0</td>\n",
       "    </tr>\n",
       "    <tr>\n",
       "      <th>9</th>\n",
       "      <td>CHICO RODRIGUES</td>\n",
       "      <td>486958.05</td>\n",
       "      <td>0</td>\n",
       "      <td>72</td>\n",
       "    </tr>\n",
       "    <tr>\n",
       "      <th>...</th>\n",
       "      <td>...</td>\n",
       "      <td>...</td>\n",
       "      <td>...</td>\n",
       "      <td>...</td>\n",
       "    </tr>\n",
       "    <tr>\n",
       "      <th>5</th>\n",
       "      <td>ANTONIO ANASTASIA</td>\n",
       "      <td>19647.13</td>\n",
       "      <td>3</td>\n",
       "      <td>15</td>\n",
       "    </tr>\n",
       "    <tr>\n",
       "      <th>33</th>\n",
       "      <td>GUARACY SILVEIRA</td>\n",
       "      <td>19285.82</td>\n",
       "      <td>0</td>\n",
       "      <td>1</td>\n",
       "    </tr>\n",
       "    <tr>\n",
       "      <th>49</th>\n",
       "      <td>LEILA BARROS</td>\n",
       "      <td>10567.64</td>\n",
       "      <td>12</td>\n",
       "      <td>12</td>\n",
       "    </tr>\n",
       "    <tr>\n",
       "      <th>63</th>\n",
       "      <td>MARIA ELIZA DE AGUIAR E SILVA</td>\n",
       "      <td>10136.42</td>\n",
       "      <td>0</td>\n",
       "      <td>0</td>\n",
       "    </tr>\n",
       "    <tr>\n",
       "      <th>84</th>\n",
       "      <td>SAMUEL ARAUJO</td>\n",
       "      <td>3233.90</td>\n",
       "      <td>0</td>\n",
       "      <td>0</td>\n",
       "    </tr>\n",
       "  </tbody>\n",
       "</table>\n",
       "<p>97 rows × 4 columns</p>\n",
       "</div>"
      ],
      "text/plain": [
       "                          Senador  GastoAnual  RegsSemDocumento  \\\n",
       "50                  LUCAS BARRETO   511319.78                 0   \n",
       "90                  TELMÁRIO MOTA   488693.40                 0   \n",
       "64                MECIAS DE JESUS   488586.66                 0   \n",
       "68                      OMAR AZIZ   487541.24                 0   \n",
       "9                 CHICO RODRIGUES   486958.05                 0   \n",
       "..                            ...         ...               ...   \n",
       "5               ANTONIO ANASTASIA    19647.13                 3   \n",
       "33               GUARACY SILVEIRA    19285.82                 0   \n",
       "49                   LEILA BARROS    10567.64                12   \n",
       "63  MARIA ELIZA DE AGUIAR E SILVA    10136.42                 0   \n",
       "84                  SAMUEL ARAUJO     3233.90                 0   \n",
       "\n",
       "    RegsSemDetalhamentoDoGasto  \n",
       "50                         228  \n",
       "90                         249  \n",
       "64                         127  \n",
       "68                           0  \n",
       "9                           72  \n",
       "..                         ...  \n",
       "5                           15  \n",
       "33                           1  \n",
       "49                          12  \n",
       "63                           0  \n",
       "84                           0  \n",
       "\n",
       "[97 rows x 4 columns]"
      ]
     },
     "execution_count": 124,
     "metadata": {},
     "output_type": "execute_result"
    }
   ],
   "source": [
    "#ds = pd.DataFrame( { 'Senador': df_gastos_sn['Senador'], 'Gastos': df_gastos_sn['GastoAnual'] })\n",
    "ds = pd.DataFrame( df_gastos_sn )\n",
    "ds = ds.sort_values(by=['GastoAnual'], ascending=False)\n",
    "ds"
   ]
  },
  {
   "cell_type": "markdown",
   "id": "52133833-798c-436f-be48-092cf71b537d",
   "metadata": {},
   "source": [
    "### 10 Senadores com Maior Gastos 2022"
   ]
  },
  {
   "cell_type": "code",
   "execution_count": 125,
   "id": "8ca0b0f8-e69b-4507-8663-9644b0ac0923",
   "metadata": {},
   "outputs": [
    {
     "data": {
      "application/vnd.plotly.v1+json": {
       "config": {
        "plotlyServerURL": "https://plot.ly"
       },
       "data": [
        {
         "alignmentgroup": "True",
         "hovertemplate": "Senador=%{x}<br>GastoAnual=%{y}<extra></extra>",
         "legendgroup": "",
         "marker": {
          "color": "#636efa",
          "pattern": {
           "shape": ""
          }
         },
         "name": "",
         "offsetgroup": "",
         "orientation": "v",
         "showlegend": false,
         "textposition": "auto",
         "type": "bar",
         "x": [
          "LUCAS BARRETO",
          "TELMÁRIO MOTA",
          "MECIAS DE JESUS",
          "OMAR AZIZ",
          "CHICO RODRIGUES",
          "DAVI ALCOLUMBRE",
          "ROGÉRIO CARVALHO",
          "MAILZA GOMES",
          "ELMANO FÉRRER",
          "ELIZIANE GAMA"
         ],
         "xaxis": "x",
         "y": [
          511319.78,
          488693.39999999997,
          488586.66,
          487541.24000000005,
          486958.0500000001,
          486554.54000000004,
          479699.27,
          465899.61,
          465194.93000000005,
          444927.92000000004
         ],
         "yaxis": "y"
        }
       ],
       "layout": {
        "autosize": true,
        "barmode": "relative",
        "legend": {
         "tracegroupgap": 0
        },
        "template": {
         "data": {
          "bar": [
           {
            "error_x": {
             "color": "#2a3f5f"
            },
            "error_y": {
             "color": "#2a3f5f"
            },
            "marker": {
             "line": {
              "color": "#E5ECF6",
              "width": 0.5
             },
             "pattern": {
              "fillmode": "overlay",
              "size": 10,
              "solidity": 0.2
             }
            },
            "type": "bar"
           }
          ],
          "barpolar": [
           {
            "marker": {
             "line": {
              "color": "#E5ECF6",
              "width": 0.5
             },
             "pattern": {
              "fillmode": "overlay",
              "size": 10,
              "solidity": 0.2
             }
            },
            "type": "barpolar"
           }
          ],
          "carpet": [
           {
            "aaxis": {
             "endlinecolor": "#2a3f5f",
             "gridcolor": "white",
             "linecolor": "white",
             "minorgridcolor": "white",
             "startlinecolor": "#2a3f5f"
            },
            "baxis": {
             "endlinecolor": "#2a3f5f",
             "gridcolor": "white",
             "linecolor": "white",
             "minorgridcolor": "white",
             "startlinecolor": "#2a3f5f"
            },
            "type": "carpet"
           }
          ],
          "choropleth": [
           {
            "colorbar": {
             "outlinewidth": 0,
             "ticks": ""
            },
            "type": "choropleth"
           }
          ],
          "contour": [
           {
            "colorbar": {
             "outlinewidth": 0,
             "ticks": ""
            },
            "colorscale": [
             [
              0,
              "#0d0887"
             ],
             [
              0.1111111111111111,
              "#46039f"
             ],
             [
              0.2222222222222222,
              "#7201a8"
             ],
             [
              0.3333333333333333,
              "#9c179e"
             ],
             [
              0.4444444444444444,
              "#bd3786"
             ],
             [
              0.5555555555555556,
              "#d8576b"
             ],
             [
              0.6666666666666666,
              "#ed7953"
             ],
             [
              0.7777777777777778,
              "#fb9f3a"
             ],
             [
              0.8888888888888888,
              "#fdca26"
             ],
             [
              1,
              "#f0f921"
             ]
            ],
            "type": "contour"
           }
          ],
          "contourcarpet": [
           {
            "colorbar": {
             "outlinewidth": 0,
             "ticks": ""
            },
            "type": "contourcarpet"
           }
          ],
          "heatmap": [
           {
            "colorbar": {
             "outlinewidth": 0,
             "ticks": ""
            },
            "colorscale": [
             [
              0,
              "#0d0887"
             ],
             [
              0.1111111111111111,
              "#46039f"
             ],
             [
              0.2222222222222222,
              "#7201a8"
             ],
             [
              0.3333333333333333,
              "#9c179e"
             ],
             [
              0.4444444444444444,
              "#bd3786"
             ],
             [
              0.5555555555555556,
              "#d8576b"
             ],
             [
              0.6666666666666666,
              "#ed7953"
             ],
             [
              0.7777777777777778,
              "#fb9f3a"
             ],
             [
              0.8888888888888888,
              "#fdca26"
             ],
             [
              1,
              "#f0f921"
             ]
            ],
            "type": "heatmap"
           }
          ],
          "heatmapgl": [
           {
            "colorbar": {
             "outlinewidth": 0,
             "ticks": ""
            },
            "colorscale": [
             [
              0,
              "#0d0887"
             ],
             [
              0.1111111111111111,
              "#46039f"
             ],
             [
              0.2222222222222222,
              "#7201a8"
             ],
             [
              0.3333333333333333,
              "#9c179e"
             ],
             [
              0.4444444444444444,
              "#bd3786"
             ],
             [
              0.5555555555555556,
              "#d8576b"
             ],
             [
              0.6666666666666666,
              "#ed7953"
             ],
             [
              0.7777777777777778,
              "#fb9f3a"
             ],
             [
              0.8888888888888888,
              "#fdca26"
             ],
             [
              1,
              "#f0f921"
             ]
            ],
            "type": "heatmapgl"
           }
          ],
          "histogram": [
           {
            "marker": {
             "pattern": {
              "fillmode": "overlay",
              "size": 10,
              "solidity": 0.2
             }
            },
            "type": "histogram"
           }
          ],
          "histogram2d": [
           {
            "colorbar": {
             "outlinewidth": 0,
             "ticks": ""
            },
            "colorscale": [
             [
              0,
              "#0d0887"
             ],
             [
              0.1111111111111111,
              "#46039f"
             ],
             [
              0.2222222222222222,
              "#7201a8"
             ],
             [
              0.3333333333333333,
              "#9c179e"
             ],
             [
              0.4444444444444444,
              "#bd3786"
             ],
             [
              0.5555555555555556,
              "#d8576b"
             ],
             [
              0.6666666666666666,
              "#ed7953"
             ],
             [
              0.7777777777777778,
              "#fb9f3a"
             ],
             [
              0.8888888888888888,
              "#fdca26"
             ],
             [
              1,
              "#f0f921"
             ]
            ],
            "type": "histogram2d"
           }
          ],
          "histogram2dcontour": [
           {
            "colorbar": {
             "outlinewidth": 0,
             "ticks": ""
            },
            "colorscale": [
             [
              0,
              "#0d0887"
             ],
             [
              0.1111111111111111,
              "#46039f"
             ],
             [
              0.2222222222222222,
              "#7201a8"
             ],
             [
              0.3333333333333333,
              "#9c179e"
             ],
             [
              0.4444444444444444,
              "#bd3786"
             ],
             [
              0.5555555555555556,
              "#d8576b"
             ],
             [
              0.6666666666666666,
              "#ed7953"
             ],
             [
              0.7777777777777778,
              "#fb9f3a"
             ],
             [
              0.8888888888888888,
              "#fdca26"
             ],
             [
              1,
              "#f0f921"
             ]
            ],
            "type": "histogram2dcontour"
           }
          ],
          "mesh3d": [
           {
            "colorbar": {
             "outlinewidth": 0,
             "ticks": ""
            },
            "type": "mesh3d"
           }
          ],
          "parcoords": [
           {
            "line": {
             "colorbar": {
              "outlinewidth": 0,
              "ticks": ""
             }
            },
            "type": "parcoords"
           }
          ],
          "pie": [
           {
            "automargin": true,
            "type": "pie"
           }
          ],
          "scatter": [
           {
            "fillpattern": {
             "fillmode": "overlay",
             "size": 10,
             "solidity": 0.2
            },
            "type": "scatter"
           }
          ],
          "scatter3d": [
           {
            "line": {
             "colorbar": {
              "outlinewidth": 0,
              "ticks": ""
             }
            },
            "marker": {
             "colorbar": {
              "outlinewidth": 0,
              "ticks": ""
             }
            },
            "type": "scatter3d"
           }
          ],
          "scattercarpet": [
           {
            "marker": {
             "colorbar": {
              "outlinewidth": 0,
              "ticks": ""
             }
            },
            "type": "scattercarpet"
           }
          ],
          "scattergeo": [
           {
            "marker": {
             "colorbar": {
              "outlinewidth": 0,
              "ticks": ""
             }
            },
            "type": "scattergeo"
           }
          ],
          "scattergl": [
           {
            "marker": {
             "colorbar": {
              "outlinewidth": 0,
              "ticks": ""
             }
            },
            "type": "scattergl"
           }
          ],
          "scattermapbox": [
           {
            "marker": {
             "colorbar": {
              "outlinewidth": 0,
              "ticks": ""
             }
            },
            "type": "scattermapbox"
           }
          ],
          "scatterpolar": [
           {
            "marker": {
             "colorbar": {
              "outlinewidth": 0,
              "ticks": ""
             }
            },
            "type": "scatterpolar"
           }
          ],
          "scatterpolargl": [
           {
            "marker": {
             "colorbar": {
              "outlinewidth": 0,
              "ticks": ""
             }
            },
            "type": "scatterpolargl"
           }
          ],
          "scatterternary": [
           {
            "marker": {
             "colorbar": {
              "outlinewidth": 0,
              "ticks": ""
             }
            },
            "type": "scatterternary"
           }
          ],
          "surface": [
           {
            "colorbar": {
             "outlinewidth": 0,
             "ticks": ""
            },
            "colorscale": [
             [
              0,
              "#0d0887"
             ],
             [
              0.1111111111111111,
              "#46039f"
             ],
             [
              0.2222222222222222,
              "#7201a8"
             ],
             [
              0.3333333333333333,
              "#9c179e"
             ],
             [
              0.4444444444444444,
              "#bd3786"
             ],
             [
              0.5555555555555556,
              "#d8576b"
             ],
             [
              0.6666666666666666,
              "#ed7953"
             ],
             [
              0.7777777777777778,
              "#fb9f3a"
             ],
             [
              0.8888888888888888,
              "#fdca26"
             ],
             [
              1,
              "#f0f921"
             ]
            ],
            "type": "surface"
           }
          ],
          "table": [
           {
            "cells": {
             "fill": {
              "color": "#EBF0F8"
             },
             "line": {
              "color": "white"
             }
            },
            "header": {
             "fill": {
              "color": "#C8D4E3"
             },
             "line": {
              "color": "white"
             }
            },
            "type": "table"
           }
          ]
         },
         "layout": {
          "annotationdefaults": {
           "arrowcolor": "#2a3f5f",
           "arrowhead": 0,
           "arrowwidth": 1
          },
          "autotypenumbers": "strict",
          "coloraxis": {
           "colorbar": {
            "outlinewidth": 0,
            "ticks": ""
           }
          },
          "colorscale": {
           "diverging": [
            [
             0,
             "#8e0152"
            ],
            [
             0.1,
             "#c51b7d"
            ],
            [
             0.2,
             "#de77ae"
            ],
            [
             0.3,
             "#f1b6da"
            ],
            [
             0.4,
             "#fde0ef"
            ],
            [
             0.5,
             "#f7f7f7"
            ],
            [
             0.6,
             "#e6f5d0"
            ],
            [
             0.7,
             "#b8e186"
            ],
            [
             0.8,
             "#7fbc41"
            ],
            [
             0.9,
             "#4d9221"
            ],
            [
             1,
             "#276419"
            ]
           ],
           "sequential": [
            [
             0,
             "#0d0887"
            ],
            [
             0.1111111111111111,
             "#46039f"
            ],
            [
             0.2222222222222222,
             "#7201a8"
            ],
            [
             0.3333333333333333,
             "#9c179e"
            ],
            [
             0.4444444444444444,
             "#bd3786"
            ],
            [
             0.5555555555555556,
             "#d8576b"
            ],
            [
             0.6666666666666666,
             "#ed7953"
            ],
            [
             0.7777777777777778,
             "#fb9f3a"
            ],
            [
             0.8888888888888888,
             "#fdca26"
            ],
            [
             1,
             "#f0f921"
            ]
           ],
           "sequentialminus": [
            [
             0,
             "#0d0887"
            ],
            [
             0.1111111111111111,
             "#46039f"
            ],
            [
             0.2222222222222222,
             "#7201a8"
            ],
            [
             0.3333333333333333,
             "#9c179e"
            ],
            [
             0.4444444444444444,
             "#bd3786"
            ],
            [
             0.5555555555555556,
             "#d8576b"
            ],
            [
             0.6666666666666666,
             "#ed7953"
            ],
            [
             0.7777777777777778,
             "#fb9f3a"
            ],
            [
             0.8888888888888888,
             "#fdca26"
            ],
            [
             1,
             "#f0f921"
            ]
           ]
          },
          "colorway": [
           "#636efa",
           "#EF553B",
           "#00cc96",
           "#ab63fa",
           "#FFA15A",
           "#19d3f3",
           "#FF6692",
           "#B6E880",
           "#FF97FF",
           "#FECB52"
          ],
          "font": {
           "color": "#2a3f5f"
          },
          "geo": {
           "bgcolor": "white",
           "lakecolor": "white",
           "landcolor": "#E5ECF6",
           "showlakes": true,
           "showland": true,
           "subunitcolor": "white"
          },
          "hoverlabel": {
           "align": "left"
          },
          "hovermode": "closest",
          "mapbox": {
           "style": "light"
          },
          "paper_bgcolor": "white",
          "plot_bgcolor": "#E5ECF6",
          "polar": {
           "angularaxis": {
            "gridcolor": "white",
            "linecolor": "white",
            "ticks": ""
           },
           "bgcolor": "#E5ECF6",
           "radialaxis": {
            "gridcolor": "white",
            "linecolor": "white",
            "ticks": ""
           }
          },
          "scene": {
           "xaxis": {
            "backgroundcolor": "#E5ECF6",
            "gridcolor": "white",
            "gridwidth": 2,
            "linecolor": "white",
            "showbackground": true,
            "ticks": "",
            "zerolinecolor": "white"
           },
           "yaxis": {
            "backgroundcolor": "#E5ECF6",
            "gridcolor": "white",
            "gridwidth": 2,
            "linecolor": "white",
            "showbackground": true,
            "ticks": "",
            "zerolinecolor": "white"
           },
           "zaxis": {
            "backgroundcolor": "#E5ECF6",
            "gridcolor": "white",
            "gridwidth": 2,
            "linecolor": "white",
            "showbackground": true,
            "ticks": "",
            "zerolinecolor": "white"
           }
          },
          "shapedefaults": {
           "line": {
            "color": "#2a3f5f"
           }
          },
          "ternary": {
           "aaxis": {
            "gridcolor": "white",
            "linecolor": "white",
            "ticks": ""
           },
           "baxis": {
            "gridcolor": "white",
            "linecolor": "white",
            "ticks": ""
           },
           "bgcolor": "#E5ECF6",
           "caxis": {
            "gridcolor": "white",
            "linecolor": "white",
            "ticks": ""
           }
          },
          "title": {
           "x": 0.05
          },
          "xaxis": {
           "automargin": true,
           "gridcolor": "white",
           "linecolor": "white",
           "ticks": "",
           "title": {
            "standoff": 15
           },
           "zerolinecolor": "white",
           "zerolinewidth": 2
          },
          "yaxis": {
           "automargin": true,
           "gridcolor": "white",
           "linecolor": "white",
           "ticks": "",
           "title": {
            "standoff": 15
           },
           "zerolinecolor": "white",
           "zerolinewidth": 2
          }
         }
        },
        "title": {
         "text": "Gastos (R$) Senadores Brasileiros 2022"
        },
        "xaxis": {
         "anchor": "y",
         "autorange": true,
         "domain": [
          0,
          1
         ],
         "range": [
          -0.5,
          9.5
         ],
         "title": {
          "text": "Senador"
         },
         "type": "category"
        },
        "yaxis": {
         "anchor": "x",
         "autorange": true,
         "domain": [
          0,
          1
         ],
         "range": [
          0,
          538231.347368421
         ],
         "title": {
          "text": "GastoAnual"
         },
         "type": "linear"
        }
       }
      },
      "image/png": "[encoded data removed]",
      "text/html": [
       "<div>                            <div id=\"9cb372b2-ca56-4653-a71d-5cf84df58e34\" class=\"plotly-graph-div\" style=\"height:525px; width:100%;\"></div>            <script type=\"text/javascript\">                require([\"plotly\"], function(Plotly) {                    window.PLOTLYENV=window.PLOTLYENV || {};                                    if (document.getElementById(\"9cb372b2-ca56-4653-a71d-5cf84df58e34\")) {                    Plotly.newPlot(                        \"9cb372b2-ca56-4653-a71d-5cf84df58e34\",                        [{\"alignmentgroup\":\"True\",\"hovertemplate\":\"Senador=%{x}<br>GastoAnual=%{y}<extra></extra>\",\"legendgroup\":\"\",\"marker\":{\"color\":\"#636efa\",\"pattern\":{\"shape\":\"\"}},\"name\":\"\",\"offsetgroup\":\"\",\"orientation\":\"v\",\"showlegend\":false,\"textposition\":\"auto\",\"x\":[\"LUCAS BARRETO\",\"TELM\\u00c1RIO MOTA\",\"MECIAS DE JESUS\",\"OMAR AZIZ\",\"CHICO RODRIGUES\",\"DAVI ALCOLUMBRE\",\"ROG\\u00c9RIO CARVALHO\",\"MAILZA GOMES\",\"ELMANO F\\u00c9RRER\",\"ELIZIANE GAMA\"],\"xaxis\":\"x\",\"y\":[511319.78,488693.39999999997,488586.66,487541.24000000005,486958.0500000001,486554.54000000004,479699.27,465899.61,465194.93000000005,444927.92000000004],\"yaxis\":\"y\",\"type\":\"bar\"}],                        {\"template\":{\"data\":{\"histogram2dcontour\":[{\"type\":\"histogram2dcontour\",\"colorbar\":{\"outlinewidth\":0,\"ticks\":\"\"},\"colorscale\":[[0.0,\"#0d0887\"],[0.1111111111111111,\"#46039f\"],[0.2222222222222222,\"#7201a8\"],[0.3333333333333333,\"#9c179e\"],[0.4444444444444444,\"#bd3786\"],[0.5555555555555556,\"#d8576b\"],[0.6666666666666666,\"#ed7953\"],[0.7777777777777778,\"#fb9f3a\"],[0.8888888888888888,\"#fdca26\"],[1.0,\"#f0f921\"]]}],\"choropleth\":[{\"type\":\"choropleth\",\"colorbar\":{\"outlinewidth\":0,\"ticks\":\"\"}}],\"histogram2d\":[{\"type\":\"histogram2d\",\"colorbar\":{\"outlinewidth\":0,\"ticks\":\"\"},\"colorscale\":[[0.0,\"#0d0887\"],[0.1111111111111111,\"#46039f\"],[0.2222222222222222,\"#7201a8\"],[0.3333333333333333,\"#9c179e\"],[0.4444444444444444,\"#bd3786\"],[0.5555555555555556,\"#d8576b\"],[0.6666666666666666,\"#ed7953\"],[0.7777777777777778,\"#fb9f3a\"],[0.8888888888888888,\"#fdca26\"],[1.0,\"#f0f921\"]]}],\"heatmap\":[{\"type\":\"heatmap\",\"colorbar\":{\"outlinewidth\":0,\"ticks\":\"\"},\"colorscale\":[[0.0,\"#0d0887\"],[0.1111111111111111,\"#46039f\"],[0.2222222222222222,\"#7201a8\"],[0.3333333333333333,\"#9c179e\"],[0.4444444444444444,\"#bd3786\"],[0.5555555555555556,\"#d8576b\"],[0.6666666666666666,\"#ed7953\"],[0.7777777777777778,\"#fb9f3a\"],[0.8888888888888888,\"#fdca26\"],[1.0,\"#f0f921\"]]}],\"heatmapgl\":[{\"type\":\"heatmapgl\",\"colorbar\":{\"outlinewidth\":0,\"ticks\":\"\"},\"colorscale\":[[0.0,\"#0d0887\"],[0.1111111111111111,\"#46039f\"],[0.2222222222222222,\"#7201a8\"],[0.3333333333333333,\"#9c179e\"],[0.4444444444444444,\"#bd3786\"],[0.5555555555555556,\"#d8576b\"],[0.6666666666666666,\"#ed7953\"],[0.7777777777777778,\"#fb9f3a\"],[0.8888888888888888,\"#fdca26\"],[1.0,\"#f0f921\"]]}],\"contourcarpet\":[{\"type\":\"contourcarpet\",\"colorbar\":{\"outlinewidth\":0,\"ticks\":\"\"}}],\"contour\":[{\"type\":\"contour\",\"colorbar\":{\"outlinewidth\":0,\"ticks\":\"\"},\"colorscale\":[[0.0,\"#0d0887\"],[0.1111111111111111,\"#46039f\"],[0.2222222222222222,\"#7201a8\"],[0.3333333333333333,\"#9c179e\"],[0.4444444444444444,\"#bd3786\"],[0.5555555555555556,\"#d8576b\"],[0.6666666666666666,\"#ed7953\"],[0.7777777777777778,\"#fb9f3a\"],[0.8888888888888888,\"#fdca26\"],[1.0,\"#f0f921\"]]}],\"surface\":[{\"type\":\"surface\",\"colorbar\":{\"outlinewidth\":0,\"ticks\":\"\"},\"colorscale\":[[0.0,\"#0d0887\"],[0.1111111111111111,\"#46039f\"],[0.2222222222222222,\"#7201a8\"],[0.3333333333333333,\"#9c179e\"],[0.4444444444444444,\"#bd3786\"],[0.5555555555555556,\"#d8576b\"],[0.6666666666666666,\"#ed7953\"],[0.7777777777777778,\"#fb9f3a\"],[0.8888888888888888,\"#fdca26\"],[1.0,\"#f0f921\"]]}],\"mesh3d\":[{\"type\":\"mesh3d\",\"colorbar\":{\"outlinewidth\":0,\"ticks\":\"\"}}],\"scatter\":[{\"fillpattern\":{\"fillmode\":\"overlay\",\"size\":10,\"solidity\":0.2},\"type\":\"scatter\"}],\"parcoords\":[{\"type\":\"parcoords\",\"line\":{\"colorbar\":{\"outlinewidth\":0,\"ticks\":\"\"}}}],\"scatterpolargl\":[{\"type\":\"scatterpolargl\",\"marker\":{\"colorbar\":{\"outlinewidth\":0,\"ticks\":\"\"}}}],\"bar\":[{\"error_x\":{\"color\":\"#2a3f5f\"},\"error_y\":{\"color\":\"#2a3f5f\"},\"marker\":{\"line\":{\"color\":\"#E5ECF6\",\"width\":0.5},\"pattern\":{\"fillmode\":\"overlay\",\"size\":10,\"solidity\":0.2}},\"type\":\"bar\"}],\"scattergeo\":[{\"type\":\"scattergeo\",\"marker\":{\"colorbar\":{\"outlinewidth\":0,\"ticks\":\"\"}}}],\"scatterpolar\":[{\"type\":\"scatterpolar\",\"marker\":{\"colorbar\":{\"outlinewidth\":0,\"ticks\":\"\"}}}],\"histogram\":[{\"marker\":{\"pattern\":{\"fillmode\":\"overlay\",\"size\":10,\"solidity\":0.2}},\"type\":\"histogram\"}],\"scattergl\":[{\"type\":\"scattergl\",\"marker\":{\"colorbar\":{\"outlinewidth\":0,\"ticks\":\"\"}}}],\"scatter3d\":[{\"type\":\"scatter3d\",\"line\":{\"colorbar\":{\"outlinewidth\":0,\"ticks\":\"\"}},\"marker\":{\"colorbar\":{\"outlinewidth\":0,\"ticks\":\"\"}}}],\"scattermapbox\":[{\"type\":\"scattermapbox\",\"marker\":{\"colorbar\":{\"outlinewidth\":0,\"ticks\":\"\"}}}],\"scatterternary\":[{\"type\":\"scatterternary\",\"marker\":{\"colorbar\":{\"outlinewidth\":0,\"ticks\":\"\"}}}],\"scattercarpet\":[{\"type\":\"scattercarpet\",\"marker\":{\"colorbar\":{\"outlinewidth\":0,\"ticks\":\"\"}}}],\"carpet\":[{\"aaxis\":{\"endlinecolor\":\"#2a3f5f\",\"gridcolor\":\"white\",\"linecolor\":\"white\",\"minorgridcolor\":\"white\",\"startlinecolor\":\"#2a3f5f\"},\"baxis\":{\"endlinecolor\":\"#2a3f5f\",\"gridcolor\":\"white\",\"linecolor\":\"white\",\"minorgridcolor\":\"white\",\"startlinecolor\":\"#2a3f5f\"},\"type\":\"carpet\"}],\"table\":[{\"cells\":{\"fill\":{\"color\":\"#EBF0F8\"},\"line\":{\"color\":\"white\"}},\"header\":{\"fill\":{\"color\":\"#C8D4E3\"},\"line\":{\"color\":\"white\"}},\"type\":\"table\"}],\"barpolar\":[{\"marker\":{\"line\":{\"color\":\"#E5ECF6\",\"width\":0.5},\"pattern\":{\"fillmode\":\"overlay\",\"size\":10,\"solidity\":0.2}},\"type\":\"barpolar\"}],\"pie\":[{\"automargin\":true,\"type\":\"pie\"}]},\"layout\":{\"autotypenumbers\":\"strict\",\"colorway\":[\"#636efa\",\"#EF553B\",\"#00cc96\",\"#ab63fa\",\"#FFA15A\",\"#19d3f3\",\"#FF6692\",\"#B6E880\",\"#FF97FF\",\"#FECB52\"],\"font\":{\"color\":\"#2a3f5f\"},\"hovermode\":\"closest\",\"hoverlabel\":{\"align\":\"left\"},\"paper_bgcolor\":\"white\",\"plot_bgcolor\":\"#E5ECF6\",\"polar\":{\"bgcolor\":\"#E5ECF6\",\"angularaxis\":{\"gridcolor\":\"white\",\"linecolor\":\"white\",\"ticks\":\"\"},\"radialaxis\":{\"gridcolor\":\"white\",\"linecolor\":\"white\",\"ticks\":\"\"}},\"ternary\":{\"bgcolor\":\"#E5ECF6\",\"aaxis\":{\"gridcolor\":\"white\",\"linecolor\":\"white\",\"ticks\":\"\"},\"baxis\":{\"gridcolor\":\"white\",\"linecolor\":\"white\",\"ticks\":\"\"},\"caxis\":{\"gridcolor\":\"white\",\"linecolor\":\"white\",\"ticks\":\"\"}},\"coloraxis\":{\"colorbar\":{\"outlinewidth\":0,\"ticks\":\"\"}},\"colorscale\":{\"sequential\":[[0.0,\"#0d0887\"],[0.1111111111111111,\"#46039f\"],[0.2222222222222222,\"#7201a8\"],[0.3333333333333333,\"#9c179e\"],[0.4444444444444444,\"#bd3786\"],[0.5555555555555556,\"#d8576b\"],[0.6666666666666666,\"#ed7953\"],[0.7777777777777778,\"#fb9f3a\"],[0.8888888888888888,\"#fdca26\"],[1.0,\"#f0f921\"]],\"sequentialminus\":[[0.0,\"#0d0887\"],[0.1111111111111111,\"#46039f\"],[0.2222222222222222,\"#7201a8\"],[0.3333333333333333,\"#9c179e\"],[0.4444444444444444,\"#bd3786\"],[0.5555555555555556,\"#d8576b\"],[0.6666666666666666,\"#ed7953\"],[0.7777777777777778,\"#fb9f3a\"],[0.8888888888888888,\"#fdca26\"],[1.0,\"#f0f921\"]],\"diverging\":[[0,\"#8e0152\"],[0.1,\"#c51b7d\"],[0.2,\"#de77ae\"],[0.3,\"#f1b6da\"],[0.4,\"#fde0ef\"],[0.5,\"#f7f7f7\"],[0.6,\"#e6f5d0\"],[0.7,\"#b8e186\"],[0.8,\"#7fbc41\"],[0.9,\"#4d9221\"],[1,\"#276419\"]]},\"xaxis\":{\"gridcolor\":\"white\",\"linecolor\":\"white\",\"ticks\":\"\",\"title\":{\"standoff\":15},\"zerolinecolor\":\"white\",\"automargin\":true,\"zerolinewidth\":2},\"yaxis\":{\"gridcolor\":\"white\",\"linecolor\":\"white\",\"ticks\":\"\",\"title\":{\"standoff\":15},\"zerolinecolor\":\"white\",\"automargin\":true,\"zerolinewidth\":2},\"scene\":{\"xaxis\":{\"backgroundcolor\":\"#E5ECF6\",\"gridcolor\":\"white\",\"linecolor\":\"white\",\"showbackground\":true,\"ticks\":\"\",\"zerolinecolor\":\"white\",\"gridwidth\":2},\"yaxis\":{\"backgroundcolor\":\"#E5ECF6\",\"gridcolor\":\"white\",\"linecolor\":\"white\",\"showbackground\":true,\"ticks\":\"\",\"zerolinecolor\":\"white\",\"gridwidth\":2},\"zaxis\":{\"backgroundcolor\":\"#E5ECF6\",\"gridcolor\":\"white\",\"linecolor\":\"white\",\"showbackground\":true,\"ticks\":\"\",\"zerolinecolor\":\"white\",\"gridwidth\":2}},\"shapedefaults\":{\"line\":{\"color\":\"#2a3f5f\"}},\"annotationdefaults\":{\"arrowcolor\":\"#2a3f5f\",\"arrowhead\":0,\"arrowwidth\":1},\"geo\":{\"bgcolor\":\"white\",\"landcolor\":\"#E5ECF6\",\"subunitcolor\":\"white\",\"showland\":true,\"showlakes\":true,\"lakecolor\":\"white\"},\"title\":{\"x\":0.05},\"mapbox\":{\"style\":\"light\"}}},\"xaxis\":{\"anchor\":\"y\",\"domain\":[0.0,1.0],\"title\":{\"text\":\"Senador\"}},\"yaxis\":{\"anchor\":\"x\",\"domain\":[0.0,1.0],\"title\":{\"text\":\"GastoAnual\"}},\"legend\":{\"tracegroupgap\":0},\"title\":{\"text\":\"Gastos (R$) Senadores Brasileiros 2022\"},\"barmode\":\"relative\"},                        {\"responsive\": true}                    ).then(function(){\n",
       "                            \n",
       "var gd = document.getElementById('9cb372b2-ca56-4653-a71d-5cf84df58e34');\n",
       "var x = new MutationObserver(function (mutations, observer) {{\n",
       "        var display = window.getComputedStyle(gd).display;\n",
       "        if (!display || display === 'none') {{\n",
       "            console.log([gd, 'removed!']);\n",
       "            Plotly.purge(gd);\n",
       "            observer.disconnect();\n",
       "        }}\n",
       "}});\n",
       "\n",
       "// Listen for the removal of the full notebook cells\n",
       "var notebookContainer = gd.closest('#notebook-container');\n",
       "if (notebookContainer) {{\n",
       "    x.observe(notebookContainer, {childList: true});\n",
       "}}\n",
       "\n",
       "// Listen for the clearing of the current output cell\n",
       "var outputEl = gd.closest('.output');\n",
       "if (outputEl) {{\n",
       "    x.observe(outputEl, {childList: true});\n",
       "}}\n",
       "\n",
       "                        })                };                });            </script>        </div>"
      ]
     },
     "metadata": {},
     "output_type": "display_data"
    }
   ],
   "source": [
    "ds[:10].plot(x='Senador', y='GastoAnual', title='Gastos (R$) Senadores Brasileiros 2022', kind='bar')"
   ]
  },
  {
   "cell_type": "markdown",
   "id": "9e519975-5fea-4075-9be6-1602f588e298",
   "metadata": {},
   "source": [
    "### 10 Senadores com mais ocorrência de falta de Documento comprobatório do gasto na Base de Dados"
   ]
  },
  {
   "cell_type": "code",
   "execution_count": 126,
   "id": "6b5feee1-3801-42a7-bc81-c3b2ee69af39",
   "metadata": {},
   "outputs": [
    {
     "data": {
      "application/vnd.plotly.v1+json": {
       "config": {
        "plotlyServerURL": "https://plot.ly"
       },
       "data": [
        {
         "alignmentgroup": "True",
         "hovertemplate": "Senador=%{x}<br>RegsSemDocumento=%{y}<extra></extra>",
         "legendgroup": "",
         "marker": {
          "color": "#636efa",
          "pattern": {
           "shape": ""
          }
         },
         "name": "",
         "offsetgroup": "",
         "orientation": "v",
         "showlegend": false,
         "textposition": "auto",
         "type": "bar",
         "x": [
          "FABIANO CONTARATO",
          "HUMBERTO COSTA",
          "FERNANDO BEZERRA COELHO",
          "JOSÉ SERRA",
          "MARIA DO CARMO ALVES",
          "JAQUES WAGNER",
          "RENAN CALHEIROS",
          "FLÁVIO BOLSONARO",
          "ZENAIDE MAIA",
          "ROGÉRIO CARVALHO"
         ],
         "xaxis": "x",
         "y": [
          276,
          114,
          84,
          80,
          39,
          38,
          30,
          27,
          25,
          21
         ],
         "yaxis": "y"
        }
       ],
       "layout": {
        "autosize": true,
        "barmode": "relative",
        "legend": {
         "tracegroupgap": 0
        },
        "template": {
         "data": {
          "bar": [
           {
            "error_x": {
             "color": "#2a3f5f"
            },
            "error_y": {
             "color": "#2a3f5f"
            },
            "marker": {
             "line": {
              "color": "#E5ECF6",
              "width": 0.5
             },
             "pattern": {
              "fillmode": "overlay",
              "size": 10,
              "solidity": 0.2
             }
            },
            "type": "bar"
           }
          ],
          "barpolar": [
           {
            "marker": {
             "line": {
              "color": "#E5ECF6",
              "width": 0.5
             },
             "pattern": {
              "fillmode": "overlay",
              "size": 10,
              "solidity": 0.2
             }
            },
            "type": "barpolar"
           }
          ],
          "carpet": [
           {
            "aaxis": {
             "endlinecolor": "#2a3f5f",
             "gridcolor": "white",
             "linecolor": "white",
             "minorgridcolor": "white",
             "startlinecolor": "#2a3f5f"
            },
            "baxis": {
             "endlinecolor": "#2a3f5f",
             "gridcolor": "white",
             "linecolor": "white",
             "minorgridcolor": "white",
             "startlinecolor": "#2a3f5f"
            },
            "type": "carpet"
           }
          ],
          "choropleth": [
           {
            "colorbar": {
             "outlinewidth": 0,
             "ticks": ""
            },
            "type": "choropleth"
           }
          ],
          "contour": [
           {
            "colorbar": {
             "outlinewidth": 0,
             "ticks": ""
            },
            "colorscale": [
             [
              0,
              "#0d0887"
             ],
             [
              0.1111111111111111,
              "#46039f"
             ],
             [
              0.2222222222222222,
              "#7201a8"
             ],
             [
              0.3333333333333333,
              "#9c179e"
             ],
             [
              0.4444444444444444,
              "#bd3786"
             ],
             [
              0.5555555555555556,
              "#d8576b"
             ],
             [
              0.6666666666666666,
              "#ed7953"
             ],
             [
              0.7777777777777778,
              "#fb9f3a"
             ],
             [
              0.8888888888888888,
              "#fdca26"
             ],
             [
              1,
              "#f0f921"
             ]
            ],
            "type": "contour"
           }
          ],
          "contourcarpet": [
           {
            "colorbar": {
             "outlinewidth": 0,
             "ticks": ""
            },
            "type": "contourcarpet"
           }
          ],
          "heatmap": [
           {
            "colorbar": {
             "outlinewidth": 0,
             "ticks": ""
            },
            "colorscale": [
             [
              0,
              "#0d0887"
             ],
             [
              0.1111111111111111,
              "#46039f"
             ],
             [
              0.2222222222222222,
              "#7201a8"
             ],
             [
              0.3333333333333333,
              "#9c179e"
             ],
             [
              0.4444444444444444,
              "#bd3786"
             ],
             [
              0.5555555555555556,
              "#d8576b"
             ],
             [
              0.6666666666666666,
              "#ed7953"
             ],
             [
              0.7777777777777778,
              "#fb9f3a"
             ],
             [
              0.8888888888888888,
              "#fdca26"
             ],
             [
              1,
              "#f0f921"
             ]
            ],
            "type": "heatmap"
           }
          ],
          "heatmapgl": [
           {
            "colorbar": {
             "outlinewidth": 0,
             "ticks": ""
            },
            "colorscale": [
             [
              0,
              "#0d0887"
             ],
             [
              0.1111111111111111,
              "#46039f"
             ],
             [
              0.2222222222222222,
              "#7201a8"
             ],
             [
              0.3333333333333333,
              "#9c179e"
             ],
             [
              0.4444444444444444,
              "#bd3786"
             ],
             [
              0.5555555555555556,
              "#d8576b"
             ],
             [
              0.6666666666666666,
              "#ed7953"
             ],
             [
              0.7777777777777778,
              "#fb9f3a"
             ],
             [
              0.8888888888888888,
              "#fdca26"
             ],
             [
              1,
              "#f0f921"
             ]
            ],
            "type": "heatmapgl"
           }
          ],
          "histogram": [
           {
            "marker": {
             "pattern": {
              "fillmode": "overlay",
              "size": 10,
              "solidity": 0.2
             }
            },
            "type": "histogram"
           }
          ],
          "histogram2d": [
           {
            "colorbar": {
             "outlinewidth": 0,
             "ticks": ""
            },
            "colorscale": [
             [
              0,
              "#0d0887"
             ],
             [
              0.1111111111111111,
              "#46039f"
             ],
             [
              0.2222222222222222,
              "#7201a8"
             ],
             [
              0.3333333333333333,
              "#9c179e"
             ],
             [
              0.4444444444444444,
              "#bd3786"
             ],
             [
              0.5555555555555556,
              "#d8576b"
             ],
             [
              0.6666666666666666,
              "#ed7953"
             ],
             [
              0.7777777777777778,
              "#fb9f3a"
             ],
             [
              0.8888888888888888,
              "#fdca26"
             ],
             [
              1,
              "#f0f921"
             ]
            ],
            "type": "histogram2d"
           }
          ],
          "histogram2dcontour": [
           {
            "colorbar": {
             "outlinewidth": 0,
             "ticks": ""
            },
            "colorscale": [
             [
              0,
              "#0d0887"
             ],
             [
              0.1111111111111111,
              "#46039f"
             ],
             [
              0.2222222222222222,
              "#7201a8"
             ],
             [
              0.3333333333333333,
              "#9c179e"
             ],
             [
              0.4444444444444444,
              "#bd3786"
             ],
             [
              0.5555555555555556,
              "#d8576b"
             ],
             [
              0.6666666666666666,
              "#ed7953"
             ],
             [
              0.7777777777777778,
              "#fb9f3a"
             ],
             [
              0.8888888888888888,
              "#fdca26"
             ],
             [
              1,
              "#f0f921"
             ]
            ],
            "type": "histogram2dcontour"
           }
          ],
          "mesh3d": [
           {
            "colorbar": {
             "outlinewidth": 0,
             "ticks": ""
            },
            "type": "mesh3d"
           }
          ],
          "parcoords": [
           {
            "line": {
             "colorbar": {
              "outlinewidth": 0,
              "ticks": ""
             }
            },
            "type": "parcoords"
           }
          ],
          "pie": [
           {
            "automargin": true,
            "type": "pie"
           }
          ],
          "scatter": [
           {
            "fillpattern": {
             "fillmode": "overlay",
             "size": 10,
             "solidity": 0.2
            },
            "type": "scatter"
           }
          ],
          "scatter3d": [
           {
            "line": {
             "colorbar": {
              "outlinewidth": 0,
              "ticks": ""
             }
            },
            "marker": {
             "colorbar": {
              "outlinewidth": 0,
              "ticks": ""
             }
            },
            "type": "scatter3d"
           }
          ],
          "scattercarpet": [
           {
            "marker": {
             "colorbar": {
              "outlinewidth": 0,
              "ticks": ""
             }
            },
            "type": "scattercarpet"
           }
          ],
          "scattergeo": [
           {
            "marker": {
             "colorbar": {
              "outlinewidth": 0,
              "ticks": ""
             }
            },
            "type": "scattergeo"
           }
          ],
          "scattergl": [
           {
            "marker": {
             "colorbar": {
              "outlinewidth": 0,
              "ticks": ""
             }
            },
            "type": "scattergl"
           }
          ],
          "scattermapbox": [
           {
            "marker": {
             "colorbar": {
              "outlinewidth": 0,
              "ticks": ""
             }
            },
            "type": "scattermapbox"
           }
          ],
          "scatterpolar": [
           {
            "marker": {
             "colorbar": {
              "outlinewidth": 0,
              "ticks": ""
             }
            },
            "type": "scatterpolar"
           }
          ],
          "scatterpolargl": [
           {
            "marker": {
             "colorbar": {
              "outlinewidth": 0,
              "ticks": ""
             }
            },
            "type": "scatterpolargl"
           }
          ],
          "scatterternary": [
           {
            "marker": {
             "colorbar": {
              "outlinewidth": 0,
              "ticks": ""
             }
            },
            "type": "scatterternary"
           }
          ],
          "surface": [
           {
            "colorbar": {
             "outlinewidth": 0,
             "ticks": ""
            },
            "colorscale": [
             [
              0,
              "#0d0887"
             ],
             [
              0.1111111111111111,
              "#46039f"
             ],
             [
              0.2222222222222222,
              "#7201a8"
             ],
             [
              0.3333333333333333,
              "#9c179e"
             ],
             [
              0.4444444444444444,
              "#bd3786"
             ],
             [
              0.5555555555555556,
              "#d8576b"
             ],
             [
              0.6666666666666666,
              "#ed7953"
             ],
             [
              0.7777777777777778,
              "#fb9f3a"
             ],
             [
              0.8888888888888888,
              "#fdca26"
             ],
             [
              1,
              "#f0f921"
             ]
            ],
            "type": "surface"
           }
          ],
          "table": [
           {
            "cells": {
             "fill": {
              "color": "#EBF0F8"
             },
             "line": {
              "color": "white"
             }
            },
            "header": {
             "fill": {
              "color": "#C8D4E3"
             },
             "line": {
              "color": "white"
             }
            },
            "type": "table"
           }
          ]
         },
         "layout": {
          "annotationdefaults": {
           "arrowcolor": "#2a3f5f",
           "arrowhead": 0,
           "arrowwidth": 1
          },
          "autotypenumbers": "strict",
          "coloraxis": {
           "colorbar": {
            "outlinewidth": 0,
            "ticks": ""
           }
          },
          "colorscale": {
           "diverging": [
            [
             0,
             "#8e0152"
            ],
            [
             0.1,
             "#c51b7d"
            ],
            [
             0.2,
             "#de77ae"
            ],
            [
             0.3,
             "#f1b6da"
            ],
            [
             0.4,
             "#fde0ef"
            ],
            [
             0.5,
             "#f7f7f7"
            ],
            [
             0.6,
             "#e6f5d0"
            ],
            [
             0.7,
             "#b8e186"
            ],
            [
             0.8,
             "#7fbc41"
            ],
            [
             0.9,
             "#4d9221"
            ],
            [
             1,
             "#276419"
            ]
           ],
           "sequential": [
            [
             0,
             "#0d0887"
            ],
            [
             0.1111111111111111,
             "#46039f"
            ],
            [
             0.2222222222222222,
             "#7201a8"
            ],
            [
             0.3333333333333333,
             "#9c179e"
            ],
            [
             0.4444444444444444,
             "#bd3786"
            ],
            [
             0.5555555555555556,
             "#d8576b"
            ],
            [
             0.6666666666666666,
             "#ed7953"
            ],
            [
             0.7777777777777778,
             "#fb9f3a"
            ],
            [
             0.8888888888888888,
             "#fdca26"
            ],
            [
             1,
             "#f0f921"
            ]
           ],
           "sequentialminus": [
            [
             0,
             "#0d0887"
            ],
            [
             0.1111111111111111,
             "#46039f"
            ],
            [
             0.2222222222222222,
             "#7201a8"
            ],
            [
             0.3333333333333333,
             "#9c179e"
            ],
            [
             0.4444444444444444,
             "#bd3786"
            ],
            [
             0.5555555555555556,
             "#d8576b"
            ],
            [
             0.6666666666666666,
             "#ed7953"
            ],
            [
             0.7777777777777778,
             "#fb9f3a"
            ],
            [
             0.8888888888888888,
             "#fdca26"
            ],
            [
             1,
             "#f0f921"
            ]
           ]
          },
          "colorway": [
           "#636efa",
           "#EF553B",
           "#00cc96",
           "#ab63fa",
           "#FFA15A",
           "#19d3f3",
           "#FF6692",
           "#B6E880",
           "#FF97FF",
           "#FECB52"
          ],
          "font": {
           "color": "#2a3f5f"
          },
          "geo": {
           "bgcolor": "white",
           "lakecolor": "white",
           "landcolor": "#E5ECF6",
           "showlakes": true,
           "showland": true,
           "subunitcolor": "white"
          },
          "hoverlabel": {
           "align": "left"
          },
          "hovermode": "closest",
          "mapbox": {
           "style": "light"
          },
          "paper_bgcolor": "white",
          "plot_bgcolor": "#E5ECF6",
          "polar": {
           "angularaxis": {
            "gridcolor": "white",
            "linecolor": "white",
            "ticks": ""
           },
           "bgcolor": "#E5ECF6",
           "radialaxis": {
            "gridcolor": "white",
            "linecolor": "white",
            "ticks": ""
           }
          },
          "scene": {
           "xaxis": {
            "backgroundcolor": "#E5ECF6",
            "gridcolor": "white",
            "gridwidth": 2,
            "linecolor": "white",
            "showbackground": true,
            "ticks": "",
            "zerolinecolor": "white"
           },
           "yaxis": {
            "backgroundcolor": "#E5ECF6",
            "gridcolor": "white",
            "gridwidth": 2,
            "linecolor": "white",
            "showbackground": true,
            "ticks": "",
            "zerolinecolor": "white"
           },
           "zaxis": {
            "backgroundcolor": "#E5ECF6",
            "gridcolor": "white",
            "gridwidth": 2,
            "linecolor": "white",
            "showbackground": true,
            "ticks": "",
            "zerolinecolor": "white"
           }
          },
          "shapedefaults": {
           "line": {
            "color": "#2a3f5f"
           }
          },
          "ternary": {
           "aaxis": {
            "gridcolor": "white",
            "linecolor": "white",
            "ticks": ""
           },
           "baxis": {
            "gridcolor": "white",
            "linecolor": "white",
            "ticks": ""
           },
           "bgcolor": "#E5ECF6",
           "caxis": {
            "gridcolor": "white",
            "linecolor": "white",
            "ticks": ""
           }
          },
          "title": {
           "x": 0.05
          },
          "xaxis": {
           "automargin": true,
           "gridcolor": "white",
           "linecolor": "white",
           "ticks": "",
           "title": {
            "standoff": 15
           },
           "zerolinecolor": "white",
           "zerolinewidth": 2
          },
          "yaxis": {
           "automargin": true,
           "gridcolor": "white",
           "linecolor": "white",
           "ticks": "",
           "title": {
            "standoff": 15
           },
           "zerolinecolor": "white",
           "zerolinewidth": 2
          }
         }
        },
        "title": {
         "text": "10 Sen. Sem Documento de Registro do Gasto"
        },
        "xaxis": {
         "anchor": "y",
         "autorange": true,
         "domain": [
          0,
          1
         ],
         "range": [
          -0.5,
          9.5
         ],
         "title": {
          "text": "Senador"
         },
         "type": "category"
        },
        "yaxis": {
         "anchor": "x",
         "autorange": true,
         "domain": [
          0,
          1
         ],
         "range": [
          0,
          290.5263157894737
         ],
         "title": {
          "text": "RegsSemDocumento"
         },
         "type": "linear"
        }
       }
      },
      "image/png": "[encoded data removed]",
      "text/html": [
       "<div>                            <div id=\"0d9358f1-2c52-4ae4-a97b-90c244375c61\" class=\"plotly-graph-div\" style=\"height:525px; width:100%;\"></div>            <script type=\"text/javascript\">                require([\"plotly\"], function(Plotly) {                    window.PLOTLYENV=window.PLOTLYENV || {};                                    if (document.getElementById(\"0d9358f1-2c52-4ae4-a97b-90c244375c61\")) {                    Plotly.newPlot(                        \"0d9358f1-2c52-4ae4-a97b-90c244375c61\",                        [{\"alignmentgroup\":\"True\",\"hovertemplate\":\"Senador=%{x}<br>RegsSemDocumento=%{y}<extra></extra>\",\"legendgroup\":\"\",\"marker\":{\"color\":\"#636efa\",\"pattern\":{\"shape\":\"\"}},\"name\":\"\",\"offsetgroup\":\"\",\"orientation\":\"v\",\"showlegend\":false,\"textposition\":\"auto\",\"x\":[\"FABIANO CONTARATO\",\"HUMBERTO COSTA\",\"FERNANDO BEZERRA COELHO\",\"JOS\\u00c9 SERRA\",\"MARIA DO CARMO ALVES\",\"JAQUES WAGNER\",\"RENAN CALHEIROS\",\"FL\\u00c1VIO BOLSONARO\",\"ZENAIDE MAIA\",\"ROG\\u00c9RIO CARVALHO\"],\"xaxis\":\"x\",\"y\":[276,114,84,80,39,38,30,27,25,21],\"yaxis\":\"y\",\"type\":\"bar\"}],                        {\"template\":{\"data\":{\"histogram2dcontour\":[{\"type\":\"histogram2dcontour\",\"colorbar\":{\"outlinewidth\":0,\"ticks\":\"\"},\"colorscale\":[[0.0,\"#0d0887\"],[0.1111111111111111,\"#46039f\"],[0.2222222222222222,\"#7201a8\"],[0.3333333333333333,\"#9c179e\"],[0.4444444444444444,\"#bd3786\"],[0.5555555555555556,\"#d8576b\"],[0.6666666666666666,\"#ed7953\"],[0.7777777777777778,\"#fb9f3a\"],[0.8888888888888888,\"#fdca26\"],[1.0,\"#f0f921\"]]}],\"choropleth\":[{\"type\":\"choropleth\",\"colorbar\":{\"outlinewidth\":0,\"ticks\":\"\"}}],\"histogram2d\":[{\"type\":\"histogram2d\",\"colorbar\":{\"outlinewidth\":0,\"ticks\":\"\"},\"colorscale\":[[0.0,\"#0d0887\"],[0.1111111111111111,\"#46039f\"],[0.2222222222222222,\"#7201a8\"],[0.3333333333333333,\"#9c179e\"],[0.4444444444444444,\"#bd3786\"],[0.5555555555555556,\"#d8576b\"],[0.6666666666666666,\"#ed7953\"],[0.7777777777777778,\"#fb9f3a\"],[0.8888888888888888,\"#fdca26\"],[1.0,\"#f0f921\"]]}],\"heatmap\":[{\"type\":\"heatmap\",\"colorbar\":{\"outlinewidth\":0,\"ticks\":\"\"},\"colorscale\":[[0.0,\"#0d0887\"],[0.1111111111111111,\"#46039f\"],[0.2222222222222222,\"#7201a8\"],[0.3333333333333333,\"#9c179e\"],[0.4444444444444444,\"#bd3786\"],[0.5555555555555556,\"#d8576b\"],[0.6666666666666666,\"#ed7953\"],[0.7777777777777778,\"#fb9f3a\"],[0.8888888888888888,\"#fdca26\"],[1.0,\"#f0f921\"]]}],\"heatmapgl\":[{\"type\":\"heatmapgl\",\"colorbar\":{\"outlinewidth\":0,\"ticks\":\"\"},\"colorscale\":[[0.0,\"#0d0887\"],[0.1111111111111111,\"#46039f\"],[0.2222222222222222,\"#7201a8\"],[0.3333333333333333,\"#9c179e\"],[0.4444444444444444,\"#bd3786\"],[0.5555555555555556,\"#d8576b\"],[0.6666666666666666,\"#ed7953\"],[0.7777777777777778,\"#fb9f3a\"],[0.8888888888888888,\"#fdca26\"],[1.0,\"#f0f921\"]]}],\"contourcarpet\":[{\"type\":\"contourcarpet\",\"colorbar\":{\"outlinewidth\":0,\"ticks\":\"\"}}],\"contour\":[{\"type\":\"contour\",\"colorbar\":{\"outlinewidth\":0,\"ticks\":\"\"},\"colorscale\":[[0.0,\"#0d0887\"],[0.1111111111111111,\"#46039f\"],[0.2222222222222222,\"#7201a8\"],[0.3333333333333333,\"#9c179e\"],[0.4444444444444444,\"#bd3786\"],[0.5555555555555556,\"#d8576b\"],[0.6666666666666666,\"#ed7953\"],[0.7777777777777778,\"#fb9f3a\"],[0.8888888888888888,\"#fdca26\"],[1.0,\"#f0f921\"]]}],\"surface\":[{\"type\":\"surface\",\"colorbar\":{\"outlinewidth\":0,\"ticks\":\"\"},\"colorscale\":[[0.0,\"#0d0887\"],[0.1111111111111111,\"#46039f\"],[0.2222222222222222,\"#7201a8\"],[0.3333333333333333,\"#9c179e\"],[0.4444444444444444,\"#bd3786\"],[0.5555555555555556,\"#d8576b\"],[0.6666666666666666,\"#ed7953\"],[0.7777777777777778,\"#fb9f3a\"],[0.8888888888888888,\"#fdca26\"],[1.0,\"#f0f921\"]]}],\"mesh3d\":[{\"type\":\"mesh3d\",\"colorbar\":{\"outlinewidth\":0,\"ticks\":\"\"}}],\"scatter\":[{\"fillpattern\":{\"fillmode\":\"overlay\",\"size\":10,\"solidity\":0.2},\"type\":\"scatter\"}],\"parcoords\":[{\"type\":\"parcoords\",\"line\":{\"colorbar\":{\"outlinewidth\":0,\"ticks\":\"\"}}}],\"scatterpolargl\":[{\"type\":\"scatterpolargl\",\"marker\":{\"colorbar\":{\"outlinewidth\":0,\"ticks\":\"\"}}}],\"bar\":[{\"error_x\":{\"color\":\"#2a3f5f\"},\"error_y\":{\"color\":\"#2a3f5f\"},\"marker\":{\"line\":{\"color\":\"#E5ECF6\",\"width\":0.5},\"pattern\":{\"fillmode\":\"overlay\",\"size\":10,\"solidity\":0.2}},\"type\":\"bar\"}],\"scattergeo\":[{\"type\":\"scattergeo\",\"marker\":{\"colorbar\":{\"outlinewidth\":0,\"ticks\":\"\"}}}],\"scatterpolar\":[{\"type\":\"scatterpolar\",\"marker\":{\"colorbar\":{\"outlinewidth\":0,\"ticks\":\"\"}}}],\"histogram\":[{\"marker\":{\"pattern\":{\"fillmode\":\"overlay\",\"size\":10,\"solidity\":0.2}},\"type\":\"histogram\"}],\"scattergl\":[{\"type\":\"scattergl\",\"marker\":{\"colorbar\":{\"outlinewidth\":0,\"ticks\":\"\"}}}],\"scatter3d\":[{\"type\":\"scatter3d\",\"line\":{\"colorbar\":{\"outlinewidth\":0,\"ticks\":\"\"}},\"marker\":{\"colorbar\":{\"outlinewidth\":0,\"ticks\":\"\"}}}],\"scattermapbox\":[{\"type\":\"scattermapbox\",\"marker\":{\"colorbar\":{\"outlinewidth\":0,\"ticks\":\"\"}}}],\"scatterternary\":[{\"type\":\"scatterternary\",\"marker\":{\"colorbar\":{\"outlinewidth\":0,\"ticks\":\"\"}}}],\"scattercarpet\":[{\"type\":\"scattercarpet\",\"marker\":{\"colorbar\":{\"outlinewidth\":0,\"ticks\":\"\"}}}],\"carpet\":[{\"aaxis\":{\"endlinecolor\":\"#2a3f5f\",\"gridcolor\":\"white\",\"linecolor\":\"white\",\"minorgridcolor\":\"white\",\"startlinecolor\":\"#2a3f5f\"},\"baxis\":{\"endlinecolor\":\"#2a3f5f\",\"gridcolor\":\"white\",\"linecolor\":\"white\",\"minorgridcolor\":\"white\",\"startlinecolor\":\"#2a3f5f\"},\"type\":\"carpet\"}],\"table\":[{\"cells\":{\"fill\":{\"color\":\"#EBF0F8\"},\"line\":{\"color\":\"white\"}},\"header\":{\"fill\":{\"color\":\"#C8D4E3\"},\"line\":{\"color\":\"white\"}},\"type\":\"table\"}],\"barpolar\":[{\"marker\":{\"line\":{\"color\":\"#E5ECF6\",\"width\":0.5},\"pattern\":{\"fillmode\":\"overlay\",\"size\":10,\"solidity\":0.2}},\"type\":\"barpolar\"}],\"pie\":[{\"automargin\":true,\"type\":\"pie\"}]},\"layout\":{\"autotypenumbers\":\"strict\",\"colorway\":[\"#636efa\",\"#EF553B\",\"#00cc96\",\"#ab63fa\",\"#FFA15A\",\"#19d3f3\",\"#FF6692\",\"#B6E880\",\"#FF97FF\",\"#FECB52\"],\"font\":{\"color\":\"#2a3f5f\"},\"hovermode\":\"closest\",\"hoverlabel\":{\"align\":\"left\"},\"paper_bgcolor\":\"white\",\"plot_bgcolor\":\"#E5ECF6\",\"polar\":{\"bgcolor\":\"#E5ECF6\",\"angularaxis\":{\"gridcolor\":\"white\",\"linecolor\":\"white\",\"ticks\":\"\"},\"radialaxis\":{\"gridcolor\":\"white\",\"linecolor\":\"white\",\"ticks\":\"\"}},\"ternary\":{\"bgcolor\":\"#E5ECF6\",\"aaxis\":{\"gridcolor\":\"white\",\"linecolor\":\"white\",\"ticks\":\"\"},\"baxis\":{\"gridcolor\":\"white\",\"linecolor\":\"white\",\"ticks\":\"\"},\"caxis\":{\"gridcolor\":\"white\",\"linecolor\":\"white\",\"ticks\":\"\"}},\"coloraxis\":{\"colorbar\":{\"outlinewidth\":0,\"ticks\":\"\"}},\"colorscale\":{\"sequential\":[[0.0,\"#0d0887\"],[0.1111111111111111,\"#46039f\"],[0.2222222222222222,\"#7201a8\"],[0.3333333333333333,\"#9c179e\"],[0.4444444444444444,\"#bd3786\"],[0.5555555555555556,\"#d8576b\"],[0.6666666666666666,\"#ed7953\"],[0.7777777777777778,\"#fb9f3a\"],[0.8888888888888888,\"#fdca26\"],[1.0,\"#f0f921\"]],\"sequentialminus\":[[0.0,\"#0d0887\"],[0.1111111111111111,\"#46039f\"],[0.2222222222222222,\"#7201a8\"],[0.3333333333333333,\"#9c179e\"],[0.4444444444444444,\"#bd3786\"],[0.5555555555555556,\"#d8576b\"],[0.6666666666666666,\"#ed7953\"],[0.7777777777777778,\"#fb9f3a\"],[0.8888888888888888,\"#fdca26\"],[1.0,\"#f0f921\"]],\"diverging\":[[0,\"#8e0152\"],[0.1,\"#c51b7d\"],[0.2,\"#de77ae\"],[0.3,\"#f1b6da\"],[0.4,\"#fde0ef\"],[0.5,\"#f7f7f7\"],[0.6,\"#e6f5d0\"],[0.7,\"#b8e186\"],[0.8,\"#7fbc41\"],[0.9,\"#4d9221\"],[1,\"#276419\"]]},\"xaxis\":{\"gridcolor\":\"white\",\"linecolor\":\"white\",\"ticks\":\"\",\"title\":{\"standoff\":15},\"zerolinecolor\":\"white\",\"automargin\":true,\"zerolinewidth\":2},\"yaxis\":{\"gridcolor\":\"white\",\"linecolor\":\"white\",\"ticks\":\"\",\"title\":{\"standoff\":15},\"zerolinecolor\":\"white\",\"automargin\":true,\"zerolinewidth\":2},\"scene\":{\"xaxis\":{\"backgroundcolor\":\"#E5ECF6\",\"gridcolor\":\"white\",\"linecolor\":\"white\",\"showbackground\":true,\"ticks\":\"\",\"zerolinecolor\":\"white\",\"gridwidth\":2},\"yaxis\":{\"backgroundcolor\":\"#E5ECF6\",\"gridcolor\":\"white\",\"linecolor\":\"white\",\"showbackground\":true,\"ticks\":\"\",\"zerolinecolor\":\"white\",\"gridwidth\":2},\"zaxis\":{\"backgroundcolor\":\"#E5ECF6\",\"gridcolor\":\"white\",\"linecolor\":\"white\",\"showbackground\":true,\"ticks\":\"\",\"zerolinecolor\":\"white\",\"gridwidth\":2}},\"shapedefaults\":{\"line\":{\"color\":\"#2a3f5f\"}},\"annotationdefaults\":{\"arrowcolor\":\"#2a3f5f\",\"arrowhead\":0,\"arrowwidth\":1},\"geo\":{\"bgcolor\":\"white\",\"landcolor\":\"#E5ECF6\",\"subunitcolor\":\"white\",\"showland\":true,\"showlakes\":true,\"lakecolor\":\"white\"},\"title\":{\"x\":0.05},\"mapbox\":{\"style\":\"light\"}}},\"xaxis\":{\"anchor\":\"y\",\"domain\":[0.0,1.0],\"title\":{\"text\":\"Senador\"}},\"yaxis\":{\"anchor\":\"x\",\"domain\":[0.0,1.0],\"title\":{\"text\":\"RegsSemDocumento\"}},\"legend\":{\"tracegroupgap\":0},\"title\":{\"text\":\"10 Sen. Sem Documento de Registro do Gasto\"},\"barmode\":\"relative\"},                        {\"responsive\": true}                    ).then(function(){\n",
       "                            \n",
       "var gd = document.getElementById('0d9358f1-2c52-4ae4-a97b-90c244375c61');\n",
       "var x = new MutationObserver(function (mutations, observer) {{\n",
       "        var display = window.getComputedStyle(gd).display;\n",
       "        if (!display || display === 'none') {{\n",
       "            console.log([gd, 'removed!']);\n",
       "            Plotly.purge(gd);\n",
       "            observer.disconnect();\n",
       "        }}\n",
       "}});\n",
       "\n",
       "// Listen for the removal of the full notebook cells\n",
       "var notebookContainer = gd.closest('#notebook-container');\n",
       "if (notebookContainer) {{\n",
       "    x.observe(notebookContainer, {childList: true});\n",
       "}}\n",
       "\n",
       "// Listen for the clearing of the current output cell\n",
       "var outputEl = gd.closest('.output');\n",
       "if (outputEl) {{\n",
       "    x.observe(outputEl, {childList: true});\n",
       "}}\n",
       "\n",
       "                        })                };                });            </script>        </div>"
      ]
     },
     "metadata": {},
     "output_type": "display_data"
    }
   ],
   "source": [
    "ds.sort_values(by=['RegsSemDocumento'], ascending=False)[:10].plot(x='Senador', y='RegsSemDocumento', title='10 Sen. Sem Documento de Registro do Gasto', kind='bar')"
   ]
  },
  {
   "cell_type": "code",
   "execution_count": 127,
   "id": "d7f9adac-b881-4732-b3cc-d41efe11ecac",
   "metadata": {},
   "outputs": [],
   "source": [
    "# Número de campos não preenchidos para senadora 'Zenaide Maia'. Neste trecho é possível contar quantos senadores não\n",
    "# preencheram o campo para o documento do gasto declarado.\n",
    "#df[ df['DOCUMENTO'].isna() == True][df['SENADOR'] == 'ZENAIDE MAIA'].isna().sum()"
   ]
  },
  {
   "cell_type": "code",
   "execution_count": 128,
   "id": "322ef899-a3b2-4fb2-b80f-418313267a71",
   "metadata": {},
   "outputs": [],
   "source": [
    "# Plotly geneate fle to graphics host\n",
    "#import plotly.io as pio\n",
    "#fig_a = ds[:10].plot(x='Senador', y='GastoAnual', title='Gastos (R$) Senadores Brasileiros 2022', kind='bar')\n",
    "#fig_b = ds.sort_values(by=['RegsSemDocumento'], ascending=False)[:10].plot(x='Senador', y='RegsSemDocumento', title='10 Sen. Sem Documento de Registro do Gasto', kind='bar')\n",
    "#pio.write_html(fig_a, file='figa.html', auto_open=True)\n",
    "#pio.write_html(fig_b, file='figb.html', auto_open=True)"
   ]
  },
  {
   "cell_type": "code",
   "execution_count": 129,
   "id": "90a2dd09-58ed-46a2-b394-5d7ce7c20056",
   "metadata": {},
   "outputs": [
    {
     "data": {
      "text/plain": [
       "11575947.4"
      ]
     },
     "execution_count": 129,
     "metadata": {},
     "output_type": "execute_result"
    }
   ],
   "source": [
    "dff[dff[\"ANO\"] == 2008 ][\"VALOR_REEMBOLSADO\"].sum()"
   ]
  },
  {
   "cell_type": "markdown",
   "id": "d96aca6e-5c87-4e86-8b61-a8f3efe269d6",
   "metadata": {},
   "source": [
    "### Total gastos Por Mês"
   ]
  },
  {
   "cell_type": "code",
   "execution_count": 130,
   "id": "65976378-b48b-4198-bbe8-fc276b82107f",
   "metadata": {},
   "outputs": [],
   "source": [
    "anos = [ i for i in range(2008, 2023) ]\n",
    "mes = ['Jan', 'Fev', 'Mar', 'Abr', 'Mai', 'Jul', 'Jun', 'Agos', 'Set', 'Nov', 'Dez']\n"
   ]
  },
  {
   "cell_type": "code",
   "execution_count": 131,
   "id": "c441373d-f914-48cc-a68b-2eab5cff3c62",
   "metadata": {},
   "outputs": [],
   "source": [
    "data = {'Data': [], 'Gasto': []}\n",
    "for i in anos:\n",
    "    for j in mes:\n",
    "        data['Data'].append(j+'/'+str(i))\n",
    "        data['Gasto'].append( dff[ (dff['ANO'] == i ) & ( dff['MES']  == mes.index(j) + 1 ) ]['VALOR_REEMBOLSADO'].sum() )"
   ]
  },
  {
   "cell_type": "code",
   "execution_count": 132,
   "id": "5f129c7b-0d99-4d0b-b9d3-8cfad18923c6",
   "metadata": {},
   "outputs": [],
   "source": [
    "dl = pd.DataFrame(data, columns=['Data', 'Gasto'])"
   ]
  },
  {
   "cell_type": "code",
   "execution_count": 133,
   "id": "6a836bbd-ea4f-45ef-90c1-5f4fe34f5fb2",
   "metadata": {},
   "outputs": [],
   "source": [
    "dl.to_csv('sgasto.csv', index=False)"
   ]
  },
  {
   "cell_type": "code",
   "execution_count": 134,
   "id": "91f46995-5fed-48b8-8589-502d27962921",
   "metadata": {},
   "outputs": [
    {
     "data": {
      "text/plain": [
       "1.0"
      ]
     },
     "execution_count": 134,
     "metadata": {},
     "output_type": "execute_result"
    }
   ],
   "source": [
    "#dl.drop([0], inplace=True)\n",
    "A = np.array([dl.index, dl['Gasto'] ] )\n",
    "A[0][1]"
   ]
  },
  {
   "cell_type": "code",
   "execution_count": 135,
   "id": "0ebb73b5-dbdb-4fe5-bcf4-4950b0904a53",
   "metadata": {},
   "outputs": [],
   "source": [
    "asize = int( (75/100.0)*dl.shape[0] ) + 1\n",
    "tsize = dl.shape[0] - asize\n",
    "\n",
    "ds_train = dl[0:asize].copy()\n",
    "ds_test = dl[asize:].copy() \n",
    "\n"
   ]
  },
  {
   "cell_type": "code",
   "execution_count": 136,
   "id": "2e4ce438-8b04-4155-9ee4-ef671af3a220",
   "metadata": {},
   "outputs": [
    {
     "data": {
      "text/html": [
       "<div>\n",
       "<style scoped>\n",
       "    .dataframe tbody tr th:only-of-type {\n",
       "        vertical-align: middle;\n",
       "    }\n",
       "\n",
       "    .dataframe tbody tr th {\n",
       "        vertical-align: top;\n",
       "    }\n",
       "\n",
       "    .dataframe thead th {\n",
       "        text-align: right;\n",
       "    }\n",
       "</style>\n",
       "<table border=\"1\" class=\"dataframe\">\n",
       "  <thead>\n",
       "    <tr style=\"text-align: right;\">\n",
       "      <th></th>\n",
       "      <th>Data</th>\n",
       "      <th>Gasto</th>\n",
       "    </tr>\n",
       "  </thead>\n",
       "  <tbody>\n",
       "    <tr>\n",
       "      <th>0</th>\n",
       "      <td>Jan/2008</td>\n",
       "      <td>0.00</td>\n",
       "    </tr>\n",
       "    <tr>\n",
       "      <th>1</th>\n",
       "      <td>Fev/2008</td>\n",
       "      <td>900507.98</td>\n",
       "    </tr>\n",
       "    <tr>\n",
       "      <th>2</th>\n",
       "      <td>Mar/2008</td>\n",
       "      <td>1064673.39</td>\n",
       "    </tr>\n",
       "    <tr>\n",
       "      <th>3</th>\n",
       "      <td>Abr/2008</td>\n",
       "      <td>1032569.59</td>\n",
       "    </tr>\n",
       "    <tr>\n",
       "      <th>4</th>\n",
       "      <td>Mai/2008</td>\n",
       "      <td>918064.51</td>\n",
       "    </tr>\n",
       "  </tbody>\n",
       "</table>\n",
       "</div>"
      ],
      "text/plain": [
       "       Data       Gasto\n",
       "0  Jan/2008        0.00\n",
       "1  Fev/2008   900507.98\n",
       "2  Mar/2008  1064673.39\n",
       "3  Abr/2008  1032569.59\n",
       "4  Mai/2008   918064.51"
      ]
     },
     "execution_count": 136,
     "metadata": {},
     "output_type": "execute_result"
    }
   ],
   "source": [
    "ds_train.head()"
   ]
  },
  {
   "cell_type": "code",
   "execution_count": 137,
   "id": "23ab0edb-e4d0-4700-8c80-644ef2208a03",
   "metadata": {},
   "outputs": [
    {
     "data": {
      "text/html": [
       "<div>\n",
       "<style scoped>\n",
       "    .dataframe tbody tr th:only-of-type {\n",
       "        vertical-align: middle;\n",
       "    }\n",
       "\n",
       "    .dataframe tbody tr th {\n",
       "        vertical-align: top;\n",
       "    }\n",
       "\n",
       "    .dataframe thead th {\n",
       "        text-align: right;\n",
       "    }\n",
       "</style>\n",
       "<table border=\"1\" class=\"dataframe\">\n",
       "  <thead>\n",
       "    <tr style=\"text-align: right;\">\n",
       "      <th></th>\n",
       "      <th>Data</th>\n",
       "      <th>Gasto</th>\n",
       "    </tr>\n",
       "  </thead>\n",
       "  <tbody>\n",
       "    <tr>\n",
       "      <th>124</th>\n",
       "      <td>Abr/2019</td>\n",
       "      <td>2036964.21</td>\n",
       "    </tr>\n",
       "    <tr>\n",
       "      <th>125</th>\n",
       "      <td>Mai/2019</td>\n",
       "      <td>2197949.53</td>\n",
       "    </tr>\n",
       "    <tr>\n",
       "      <th>126</th>\n",
       "      <td>Jul/2019</td>\n",
       "      <td>2199537.09</td>\n",
       "    </tr>\n",
       "    <tr>\n",
       "      <th>127</th>\n",
       "      <td>Jun/2019</td>\n",
       "      <td>1880208.80</td>\n",
       "    </tr>\n",
       "    <tr>\n",
       "      <th>128</th>\n",
       "      <td>Agos/2019</td>\n",
       "      <td>2185251.87</td>\n",
       "    </tr>\n",
       "  </tbody>\n",
       "</table>\n",
       "</div>"
      ],
      "text/plain": [
       "          Data       Gasto\n",
       "124   Abr/2019  2036964.21\n",
       "125   Mai/2019  2197949.53\n",
       "126   Jul/2019  2199537.09\n",
       "127   Jun/2019  1880208.80\n",
       "128  Agos/2019  2185251.87"
      ]
     },
     "execution_count": 137,
     "metadata": {},
     "output_type": "execute_result"
    }
   ],
   "source": [
    "\n",
    "#ds_test = ds_test.reindex([ i+1 for i in range(tsize) ], method='bfill', copy=True)\n",
    "ds_test.head()"
   ]
  },
  {
   "cell_type": "code",
   "execution_count": 138,
   "id": "4c1e9cfd-c479-4819-94e4-c27b8f37e5b7",
   "metadata": {},
   "outputs": [],
   "source": [
    "from sklearn.linear_model import LinearRegression\n",
    "from sklearn.model_selection import train_test_split"
   ]
  },
  {
   "cell_type": "code",
   "execution_count": 139,
   "id": "cb808e80-685b-4441-8069-121f6b3a4428",
   "metadata": {},
   "outputs": [],
   "source": [
    "dl = dl.drop([0])"
   ]
  },
  {
   "cell_type": "code",
   "execution_count": 140,
   "id": "38cc3738-05da-4eeb-ac6c-7f75ef1d80c2",
   "metadata": {
    "tags": []
   },
   "outputs": [
    {
     "data": {
      "text/plain": [
       "array([  1,   2,   3,   4,   5,   6,   7,   8,   9,  10,  11,  12,  13,\n",
       "        14,  15,  16,  17,  18,  19,  20,  21,  22,  23,  24,  25,  26,\n",
       "        27,  28,  29,  30,  31,  32,  33,  34,  35,  36,  37,  38,  39,\n",
       "        40,  41,  42,  43,  44,  45,  46,  47,  48,  49,  50,  51,  52,\n",
       "        53,  54,  55,  56,  57,  58,  59,  60,  61,  62,  63,  64,  65,\n",
       "        66,  67,  68,  69,  70,  71,  72,  73,  74,  75,  76,  77,  78,\n",
       "        79,  80,  81,  82,  83,  84,  85,  86,  87,  88,  89,  90,  91,\n",
       "        92,  93,  94,  95,  96,  97,  98,  99, 100, 101, 102, 103, 104,\n",
       "       105, 106, 107, 108, 109, 110, 111, 112, 113, 114, 115, 116, 117,\n",
       "       118, 119, 120, 121, 122, 123, 124, 125, 126, 127, 128, 129, 130,\n",
       "       131, 132, 133, 134, 135, 136, 137, 138, 139, 140, 141, 142, 143,\n",
       "       144, 145, 146, 147, 148, 149, 150, 151, 152, 153, 154, 155, 156,\n",
       "       157, 158, 159, 160, 161, 162, 163, 164])"
      ]
     },
     "execution_count": 140,
     "metadata": {},
     "output_type": "execute_result"
    }
   ],
   "source": [
    "np.array(dl.index)"
   ]
  },
  {
   "cell_type": "code",
   "execution_count": 141,
   "id": "b28859e3-a336-4035-b99a-1b56a0718e89",
   "metadata": {},
   "outputs": [
    {
     "name": "stdout",
     "output_type": "stream",
     "text": [
      "Score:  24.952%\n"
     ]
    }
   ],
   "source": [
    "X_train, X_test, y_train, y_test = train_test_split(np.array(dl.index).reshape(-1,1), np.array(dl['Gasto']).reshape(-1,1), test_size = 0.30)\n",
    "\n",
    "regr = LinearRegression()\n",
    "  \n",
    "regr.fit(X_train, y_train)\n",
    "print(f'Score:  {round(regr.score(X_test, y_test)*100, 3)}%')"
   ]
  },
  {
   "cell_type": "code",
   "execution_count": 142,
   "id": "2fca7d93-75b3-4710-a47a-2da8a8545d4f",
   "metadata": {},
   "outputs": [
    {
     "name": "stdout",
     "output_type": "stream",
     "text": [
      "(50, 1) (50, 1)\n"
     ]
    }
   ],
   "source": [
    "print(X_test.shape, y_test.shape)"
   ]
  },
  {
   "cell_type": "code",
   "execution_count": 143,
   "id": "59267055-8f87-46b1-affa-d57f46cdb140",
   "metadata": {},
   "outputs": [
    {
     "data": {
      "image/png": "[encoded data removed]",
      "text/plain": [
       "<Figure size 640x480 with 1 Axes>"
      ]
     },
     "metadata": {},
     "output_type": "display_data"
    }
   ],
   "source": [
    "y_pred = regr.predict(X_test)\n",
    "plt.scatter(X_test, y_test, color ='b')\n",
    "plt.plot(X_test, y_pred, color ='k')\n",
    "  \n",
    "plt.show()"
   ]
  },
  {
   "cell_type": "markdown",
   "id": "c5461c41-a247-4424-8b92-1fba3dfd1052",
   "metadata": {},
   "source": [
    "## Gastos Mensais (Total) Senado"
   ]
  },
  {
   "cell_type": "code",
   "execution_count": null,
   "id": "e01f64fb-1e3e-4f6d-ba81-9c7c9e1ce03e",
   "metadata": {},
   "outputs": [],
   "source": []
  },
  {
   "cell_type": "code",
   "execution_count": 144,
   "id": "8fd9953b-9fc4-4ef8-959f-929ea4bdf6f4",
   "metadata": {},
   "outputs": [
    {
     "data": {
      "application/vnd.plotly.v1+json": {
       "config": {
        "plotlyServerURL": "https://plot.ly"
       },
       "data": [
        {
         "alignmentgroup": "True",
         "hovertemplate": "Data=%{x}<br>Gasto=%{y}<extra></extra>",
         "legendgroup": "",
         "marker": {
          "color": "#636efa",
          "pattern": {
           "shape": ""
          }
         },
         "name": "",
         "offsetgroup": "",
         "orientation": "v",
         "showlegend": false,
         "textposition": "auto",
         "type": "bar",
         "x": [
          "Fev/2008",
          "Mar/2008",
          "Abr/2008",
          "Mai/2008",
          "Jul/2008",
          "Jun/2008",
          "Agos/2008",
          "Set/2008",
          "Nov/2008",
          "Dez/2008",
          "Jan/2009",
          "Fev/2009",
          "Mar/2009",
          "Abr/2009",
          "Mai/2009",
          "Jul/2009",
          "Jun/2009",
          "Agos/2009",
          "Set/2009",
          "Nov/2009",
          "Dez/2009",
          "Jan/2010",
          "Fev/2010",
          "Mar/2010",
          "Abr/2010",
          "Mai/2010",
          "Jul/2010",
          "Jun/2010",
          "Agos/2010",
          "Set/2010",
          "Nov/2010",
          "Dez/2010",
          "Jan/2011",
          "Fev/2011",
          "Mar/2011",
          "Abr/2011",
          "Mai/2011",
          "Jul/2011",
          "Jun/2011",
          "Agos/2011",
          "Set/2011",
          "Nov/2011",
          "Dez/2011",
          "Jan/2012",
          "Fev/2012",
          "Mar/2012",
          "Abr/2012",
          "Mai/2012",
          "Jul/2012",
          "Jun/2012",
          "Agos/2012",
          "Set/2012",
          "Nov/2012",
          "Dez/2012",
          "Jan/2013",
          "Fev/2013",
          "Mar/2013",
          "Abr/2013",
          "Mai/2013",
          "Jul/2013",
          "Jun/2013",
          "Agos/2013",
          "Set/2013",
          "Nov/2013",
          "Dez/2013",
          "Jan/2014",
          "Fev/2014",
          "Mar/2014",
          "Abr/2014",
          "Mai/2014",
          "Jul/2014",
          "Jun/2014",
          "Agos/2014",
          "Set/2014",
          "Nov/2014",
          "Dez/2014",
          "Jan/2015",
          "Fev/2015",
          "Mar/2015",
          "Abr/2015",
          "Mai/2015",
          "Jul/2015",
          "Jun/2015",
          "Agos/2015",
          "Set/2015",
          "Nov/2015",
          "Dez/2015",
          "Jan/2016",
          "Fev/2016",
          "Mar/2016",
          "Abr/2016",
          "Mai/2016",
          "Jul/2016",
          "Jun/2016",
          "Agos/2016",
          "Set/2016",
          "Nov/2016",
          "Dez/2016",
          "Jan/2017",
          "Fev/2017",
          "Mar/2017",
          "Abr/2017",
          "Mai/2017",
          "Jul/2017",
          "Jun/2017",
          "Agos/2017",
          "Set/2017",
          "Nov/2017",
          "Dez/2017",
          "Jan/2018",
          "Fev/2018",
          "Mar/2018",
          "Abr/2018",
          "Mai/2018",
          "Jul/2018",
          "Jun/2018",
          "Agos/2018",
          "Set/2018",
          "Nov/2018",
          "Dez/2018",
          "Jan/2019",
          "Fev/2019",
          "Mar/2019",
          "Abr/2019",
          "Mai/2019",
          "Jul/2019",
          "Jun/2019",
          "Agos/2019",
          "Set/2019",
          "Nov/2019",
          "Dez/2019",
          "Jan/2020",
          "Fev/2020",
          "Mar/2020",
          "Abr/2020",
          "Mai/2020",
          "Jul/2020",
          "Jun/2020",
          "Agos/2020",
          "Set/2020",
          "Nov/2020",
          "Dez/2020",
          "Jan/2021",
          "Fev/2021",
          "Mar/2021",
          "Abr/2021",
          "Mai/2021",
          "Jul/2021",
          "Jun/2021",
          "Agos/2021",
          "Set/2021",
          "Nov/2021",
          "Dez/2021",
          "Jan/2022",
          "Fev/2022",
          "Mar/2022",
          "Abr/2022",
          "Mai/2022",
          "Jul/2022",
          "Jun/2022",
          "Agos/2022",
          "Set/2022",
          "Nov/2022",
          "Dez/2022"
         ],
         "xaxis": "x",
         "y": [
          900507.98,
          1064673.39,
          1032569.5900000001,
          918064.51,
          922815.5,
          938308.2499999999,
          1047746.07,
          968794.52,
          1035147.45,
          1179898.5,
          911284.9199999999,
          973690.42,
          915849.11,
          864594.4400000001,
          897612.8099999999,
          879017.97,
          895243.6799999999,
          921076.94,
          970207.9999999999,
          1018413.71,
          1149436.24,
          797009.9,
          836040.72,
          1077340.24,
          900934.9,
          897544.91,
          830251.6799999999,
          801239.1000000001,
          624198.3899999999,
          612103.4200000002,
          815833.86,
          1239798.3800000001,
          637051.8300000001,
          742025.83,
          949478.93,
          956659.54,
          992217.1699999999,
          1808702.49,
          1738878.6099999999,
          2047082.77,
          2088794.0699999998,
          2107203.49,
          2354129.5999999996,
          1316532.7999999998,
          1780474.06,
          2151847.67,
          1951079.3,
          2027543.13,
          1996453.08,
          1889574.77,
          1864411.2599999998,
          1705912.77,
          1723578.42,
          2223574.8,
          1480791.5,
          1757561.2400000002,
          2063137.25,
          2216002.79,
          2093750.01,
          2124394.71,
          2129996.49,
          2085751.4900000002,
          2072084.12,
          2106615.7600000002,
          2147333,
          1475224.76,
          2074178.42,
          1997448.9000000001,
          2042323.3199999998,
          1970097.2799999998,
          1650108.81,
          1667902.7899999998,
          1587532.3199999998,
          1367360.4699999997,
          1713372.13,
          2366020.52,
          1445822.6800000002,
          1662681.34,
          2151513.96,
          2098678.03,
          2174645.24,
          2050800.47,
          1933289.25,
          6159167.96,
          2202797.8899999997,
          2075630.2000000002,
          2139239.77,
          1465053.54,
          1978217.6,
          2275994.2,
          2102379.81,
          2144163.8,
          2211149.1799999997,
          2096954.63,
          2226048.46,
          2087251.3599999999,
          2021035.96,
          2040739.7400000002,
          1560950.2800000003,
          1953079.06,
          2227005.47,
          2258979.92,
          2255582.73,
          2218084.21,
          2053953.83,
          2376442.77,
          2165444.4299999997,
          2357533.0700000003,
          2309031.8899999997,
          1762415.31,
          2108974.19,
          2605619.03,
          2349894.8200000003,
          2273119.95,
          2106459.8899999997,
          2119496.48,
          1646580.48,
          1249302.86,
          2000296.56,
          2513361.76,
          1598389.68,
          1720293.88,
          1879841.79,
          2036964.2100000002,
          2197949.5300000003,
          2199537.09,
          1880208.8,
          2185251.87,
          2194227.97,
          2498802.2399999998,
          2409187.95,
          1394867.8099999998,
          1995004.61,
          1898897.77,
          1370273.52,
          1424952.3599999999,
          1337697.2800000003,
          1443425.1,
          1474374.8200000003,
          1699203.9899999998,
          1740068,
          1816168.43,
          1480043.35,
          1722629.43,
          1789766.3399999999,
          1729045.6199999999,
          2012278.79,
          2124626.29,
          2047952.63,
          2542257.54,
          2294229.2699999996,
          2337155.23,
          2529827.34,
          1799149.29,
          2227932.79,
          2706682.18,
          2401028.74,
          2557140.17,
          2207506.92,
          2184849.78,
          2095483.9299999997,
          1623089.35,
          2085829.2499999998,
          2401074.27
         ],
         "yaxis": "y"
        }
       ],
       "layout": {
        "autosize": true,
        "barmode": "relative",
        "legend": {
         "tracegroupgap": 0
        },
        "template": {
         "data": {
          "bar": [
           {
            "error_x": {
             "color": "#2a3f5f"
            },
            "error_y": {
             "color": "#2a3f5f"
            },
            "marker": {
             "line": {
              "color": "#E5ECF6",
              "width": 0.5
             },
             "pattern": {
              "fillmode": "overlay",
              "size": 10,
              "solidity": 0.2
             }
            },
            "type": "bar"
           }
          ],
          "barpolar": [
           {
            "marker": {
             "line": {
              "color": "#E5ECF6",
              "width": 0.5
             },
             "pattern": {
              "fillmode": "overlay",
              "size": 10,
              "solidity": 0.2
             }
            },
            "type": "barpolar"
           }
          ],
          "carpet": [
           {
            "aaxis": {
             "endlinecolor": "#2a3f5f",
             "gridcolor": "white",
             "linecolor": "white",
             "minorgridcolor": "white",
             "startlinecolor": "#2a3f5f"
            },
            "baxis": {
             "endlinecolor": "#2a3f5f",
             "gridcolor": "white",
             "linecolor": "white",
             "minorgridcolor": "white",
             "startlinecolor": "#2a3f5f"
            },
            "type": "carpet"
           }
          ],
          "choropleth": [
           {
            "colorbar": {
             "outlinewidth": 0,
             "ticks": ""
            },
            "type": "choropleth"
           }
          ],
          "contour": [
           {
            "colorbar": {
             "outlinewidth": 0,
             "ticks": ""
            },
            "colorscale": [
             [
              0,
              "#0d0887"
             ],
             [
              0.1111111111111111,
              "#46039f"
             ],
             [
              0.2222222222222222,
              "#7201a8"
             ],
             [
              0.3333333333333333,
              "#9c179e"
             ],
             [
              0.4444444444444444,
              "#bd3786"
             ],
             [
              0.5555555555555556,
              "#d8576b"
             ],
             [
              0.6666666666666666,
              "#ed7953"
             ],
             [
              0.7777777777777778,
              "#fb9f3a"
             ],
             [
              0.8888888888888888,
              "#fdca26"
             ],
             [
              1,
              "#f0f921"
             ]
            ],
            "type": "contour"
           }
          ],
          "contourcarpet": [
           {
            "colorbar": {
             "outlinewidth": 0,
             "ticks": ""
            },
            "type": "contourcarpet"
           }
          ],
          "heatmap": [
           {
            "colorbar": {
             "outlinewidth": 0,
             "ticks": ""
            },
            "colorscale": [
             [
              0,
              "#0d0887"
             ],
             [
              0.1111111111111111,
              "#46039f"
             ],
             [
              0.2222222222222222,
              "#7201a8"
             ],
             [
              0.3333333333333333,
              "#9c179e"
             ],
             [
              0.4444444444444444,
              "#bd3786"
             ],
             [
              0.5555555555555556,
              "#d8576b"
             ],
             [
              0.6666666666666666,
              "#ed7953"
             ],
             [
              0.7777777777777778,
              "#fb9f3a"
             ],
             [
              0.8888888888888888,
              "#fdca26"
             ],
             [
              1,
              "#f0f921"
             ]
            ],
            "type": "heatmap"
           }
          ],
          "heatmapgl": [
           {
            "colorbar": {
             "outlinewidth": 0,
             "ticks": ""
            },
            "colorscale": [
             [
              0,
              "#0d0887"
             ],
             [
              0.1111111111111111,
              "#46039f"
             ],
             [
              0.2222222222222222,
              "#7201a8"
             ],
             [
              0.3333333333333333,
              "#9c179e"
             ],
             [
              0.4444444444444444,
              "#bd3786"
             ],
             [
              0.5555555555555556,
              "#d8576b"
             ],
             [
              0.6666666666666666,
              "#ed7953"
             ],
             [
              0.7777777777777778,
              "#fb9f3a"
             ],
             [
              0.8888888888888888,
              "#fdca26"
             ],
             [
              1,
              "#f0f921"
             ]
            ],
            "type": "heatmapgl"
           }
          ],
          "histogram": [
           {
            "marker": {
             "pattern": {
              "fillmode": "overlay",
              "size": 10,
              "solidity": 0.2
             }
            },
            "type": "histogram"
           }
          ],
          "histogram2d": [
           {
            "colorbar": {
             "outlinewidth": 0,
             "ticks": ""
            },
            "colorscale": [
             [
              0,
              "#0d0887"
             ],
             [
              0.1111111111111111,
              "#46039f"
             ],
             [
              0.2222222222222222,
              "#7201a8"
             ],
             [
              0.3333333333333333,
              "#9c179e"
             ],
             [
              0.4444444444444444,
              "#bd3786"
             ],
             [
              0.5555555555555556,
              "#d8576b"
             ],
             [
              0.6666666666666666,
              "#ed7953"
             ],
             [
              0.7777777777777778,
              "#fb9f3a"
             ],
             [
              0.8888888888888888,
              "#fdca26"
             ],
             [
              1,
              "#f0f921"
             ]
            ],
            "type": "histogram2d"
           }
          ],
          "histogram2dcontour": [
           {
            "colorbar": {
             "outlinewidth": 0,
             "ticks": ""
            },
            "colorscale": [
             [
              0,
              "#0d0887"
             ],
             [
              0.1111111111111111,
              "#46039f"
             ],
             [
              0.2222222222222222,
              "#7201a8"
             ],
             [
              0.3333333333333333,
              "#9c179e"
             ],
             [
              0.4444444444444444,
              "#bd3786"
             ],
             [
              0.5555555555555556,
              "#d8576b"
             ],
             [
              0.6666666666666666,
              "#ed7953"
             ],
             [
              0.7777777777777778,
              "#fb9f3a"
             ],
             [
              0.8888888888888888,
              "#fdca26"
             ],
             [
              1,
              "#f0f921"
             ]
            ],
            "type": "histogram2dcontour"
           }
          ],
          "mesh3d": [
           {
            "colorbar": {
             "outlinewidth": 0,
             "ticks": ""
            },
            "type": "mesh3d"
           }
          ],
          "parcoords": [
           {
            "line": {
             "colorbar": {
              "outlinewidth": 0,
              "ticks": ""
             }
            },
            "type": "parcoords"
           }
          ],
          "pie": [
           {
            "automargin": true,
            "type": "pie"
           }
          ],
          "scatter": [
           {
            "fillpattern": {
             "fillmode": "overlay",
             "size": 10,
             "solidity": 0.2
            },
            "type": "scatter"
           }
          ],
          "scatter3d": [
           {
            "line": {
             "colorbar": {
              "outlinewidth": 0,
              "ticks": ""
             }
            },
            "marker": {
             "colorbar": {
              "outlinewidth": 0,
              "ticks": ""
             }
            },
            "type": "scatter3d"
           }
          ],
          "scattercarpet": [
           {
            "marker": {
             "colorbar": {
              "outlinewidth": 0,
              "ticks": ""
             }
            },
            "type": "scattercarpet"
           }
          ],
          "scattergeo": [
           {
            "marker": {
             "colorbar": {
              "outlinewidth": 0,
              "ticks": ""
             }
            },
            "type": "scattergeo"
           }
          ],
          "scattergl": [
           {
            "marker": {
             "colorbar": {
              "outlinewidth": 0,
              "ticks": ""
             }
            },
            "type": "scattergl"
           }
          ],
          "scattermapbox": [
           {
            "marker": {
             "colorbar": {
              "outlinewidth": 0,
              "ticks": ""
             }
            },
            "type": "scattermapbox"
           }
          ],
          "scatterpolar": [
           {
            "marker": {
             "colorbar": {
              "outlinewidth": 0,
              "ticks": ""
             }
            },
            "type": "scatterpolar"
           }
          ],
          "scatterpolargl": [
           {
            "marker": {
             "colorbar": {
              "outlinewidth": 0,
              "ticks": ""
             }
            },
            "type": "scatterpolargl"
           }
          ],
          "scatterternary": [
           {
            "marker": {
             "colorbar": {
              "outlinewidth": 0,
              "ticks": ""
             }
            },
            "type": "scatterternary"
           }
          ],
          "surface": [
           {
            "colorbar": {
             "outlinewidth": 0,
             "ticks": ""
            },
            "colorscale": [
             [
              0,
              "#0d0887"
             ],
             [
              0.1111111111111111,
              "#46039f"
             ],
             [
              0.2222222222222222,
              "#7201a8"
             ],
             [
              0.3333333333333333,
              "#9c179e"
             ],
             [
              0.4444444444444444,
              "#bd3786"
             ],
             [
              0.5555555555555556,
              "#d8576b"
             ],
             [
              0.6666666666666666,
              "#ed7953"
             ],
             [
              0.7777777777777778,
              "#fb9f3a"
             ],
             [
              0.8888888888888888,
              "#fdca26"
             ],
             [
              1,
              "#f0f921"
             ]
            ],
            "type": "surface"
           }
          ],
          "table": [
           {
            "cells": {
             "fill": {
              "color": "#EBF0F8"
             },
             "line": {
              "color": "white"
             }
            },
            "header": {
             "fill": {
              "color": "#C8D4E3"
             },
             "line": {
              "color": "white"
             }
            },
            "type": "table"
           }
          ]
         },
         "layout": {
          "annotationdefaults": {
           "arrowcolor": "#2a3f5f",
           "arrowhead": 0,
           "arrowwidth": 1
          },
          "autotypenumbers": "strict",
          "coloraxis": {
           "colorbar": {
            "outlinewidth": 0,
            "ticks": ""
           }
          },
          "colorscale": {
           "diverging": [
            [
             0,
             "#8e0152"
            ],
            [
             0.1,
             "#c51b7d"
            ],
            [
             0.2,
             "#de77ae"
            ],
            [
             0.3,
             "#f1b6da"
            ],
            [
             0.4,
             "#fde0ef"
            ],
            [
             0.5,
             "#f7f7f7"
            ],
            [
             0.6,
             "#e6f5d0"
            ],
            [
             0.7,
             "#b8e186"
            ],
            [
             0.8,
             "#7fbc41"
            ],
            [
             0.9,
             "#4d9221"
            ],
            [
             1,
             "#276419"
            ]
           ],
           "sequential": [
            [
             0,
             "#0d0887"
            ],
            [
             0.1111111111111111,
             "#46039f"
            ],
            [
             0.2222222222222222,
             "#7201a8"
            ],
            [
             0.3333333333333333,
             "#9c179e"
            ],
            [
             0.4444444444444444,
             "#bd3786"
            ],
            [
             0.5555555555555556,
             "#d8576b"
            ],
            [
             0.6666666666666666,
             "#ed7953"
            ],
            [
             0.7777777777777778,
             "#fb9f3a"
            ],
            [
             0.8888888888888888,
             "#fdca26"
            ],
            [
             1,
             "#f0f921"
            ]
           ],
           "sequentialminus": [
            [
             0,
             "#0d0887"
            ],
            [
             0.1111111111111111,
             "#46039f"
            ],
            [
             0.2222222222222222,
             "#7201a8"
            ],
            [
             0.3333333333333333,
             "#9c179e"
            ],
            [
             0.4444444444444444,
             "#bd3786"
            ],
            [
             0.5555555555555556,
             "#d8576b"
            ],
            [
             0.6666666666666666,
             "#ed7953"
            ],
            [
             0.7777777777777778,
             "#fb9f3a"
            ],
            [
             0.8888888888888888,
             "#fdca26"
            ],
            [
             1,
             "#f0f921"
            ]
           ]
          },
          "colorway": [
           "#636efa",
           "#EF553B",
           "#00cc96",
           "#ab63fa",
           "#FFA15A",
           "#19d3f3",
           "#FF6692",
           "#B6E880",
           "#FF97FF",
           "#FECB52"
          ],
          "font": {
           "color": "#2a3f5f"
          },
          "geo": {
           "bgcolor": "white",
           "lakecolor": "white",
           "landcolor": "#E5ECF6",
           "showlakes": true,
           "showland": true,
           "subunitcolor": "white"
          },
          "hoverlabel": {
           "align": "left"
          },
          "hovermode": "closest",
          "mapbox": {
           "style": "light"
          },
          "paper_bgcolor": "white",
          "plot_bgcolor": "#E5ECF6",
          "polar": {
           "angularaxis": {
            "gridcolor": "white",
            "linecolor": "white",
            "ticks": ""
           },
           "bgcolor": "#E5ECF6",
           "radialaxis": {
            "gridcolor": "white",
            "linecolor": "white",
            "ticks": ""
           }
          },
          "scene": {
           "xaxis": {
            "backgroundcolor": "#E5ECF6",
            "gridcolor": "white",
            "gridwidth": 2,
            "linecolor": "white",
            "showbackground": true,
            "ticks": "",
            "zerolinecolor": "white"
           },
           "yaxis": {
            "backgroundcolor": "#E5ECF6",
            "gridcolor": "white",
            "gridwidth": 2,
            "linecolor": "white",
            "showbackground": true,
            "ticks": "",
            "zerolinecolor": "white"
           },
           "zaxis": {
            "backgroundcolor": "#E5ECF6",
            "gridcolor": "white",
            "gridwidth": 2,
            "linecolor": "white",
            "showbackground": true,
            "ticks": "",
            "zerolinecolor": "white"
           }
          },
          "shapedefaults": {
           "line": {
            "color": "#2a3f5f"
           }
          },
          "ternary": {
           "aaxis": {
            "gridcolor": "white",
            "linecolor": "white",
            "ticks": ""
           },
           "baxis": {
            "gridcolor": "white",
            "linecolor": "white",
            "ticks": ""
           },
           "bgcolor": "#E5ECF6",
           "caxis": {
            "gridcolor": "white",
            "linecolor": "white",
            "ticks": ""
           }
          },
          "title": {
           "x": 0.05
          },
          "xaxis": {
           "automargin": true,
           "gridcolor": "white",
           "linecolor": "white",
           "ticks": "",
           "title": {
            "standoff": 15
           },
           "zerolinecolor": "white",
           "zerolinewidth": 2
          },
          "yaxis": {
           "automargin": true,
           "gridcolor": "white",
           "linecolor": "white",
           "ticks": "",
           "title": {
            "standoff": 15
           },
           "zerolinecolor": "white",
           "zerolinewidth": 2
          }
         }
        },
        "title": {
         "text": "Gastos Mensais"
        },
        "xaxis": {
         "anchor": "y",
         "autorange": true,
         "domain": [
          0,
          1
         ],
         "range": [
          -0.5,
          163.5
         ],
         "title": {
          "text": "Data"
         },
         "type": "category"
        },
        "yaxis": {
         "anchor": "x",
         "autorange": true,
         "domain": [
          0,
          1
         ],
         "range": [
          0,
          6483334.694736842
         ],
         "title": {
          "text": "Gasto"
         },
         "type": "linear"
        }
       }
      },
      "image/png": "[encoded data removed]",
      "text/html": [
       "<div>                            <div id=\"886f91d3-1902-494d-a5a9-63a066fff345\" class=\"plotly-graph-div\" style=\"height:525px; width:100%;\"></div>            <script type=\"text/javascript\">                require([\"plotly\"], function(Plotly) {                    window.PLOTLYENV=window.PLOTLYENV || {};                                    if (document.getElementById(\"886f91d3-1902-494d-a5a9-63a066fff345\")) {                    Plotly.newPlot(                        \"886f91d3-1902-494d-a5a9-63a066fff345\",                        [{\"alignmentgroup\":\"True\",\"hovertemplate\":\"Data=%{x}<br>Gasto=%{y}<extra></extra>\",\"legendgroup\":\"\",\"marker\":{\"color\":\"#636efa\",\"pattern\":{\"shape\":\"\"}},\"name\":\"\",\"offsetgroup\":\"\",\"orientation\":\"v\",\"showlegend\":false,\"textposition\":\"auto\",\"x\":[\"Fev/2008\",\"Mar/2008\",\"Abr/2008\",\"Mai/2008\",\"Jul/2008\",\"Jun/2008\",\"Agos/2008\",\"Set/2008\",\"Nov/2008\",\"Dez/2008\",\"Jan/2009\",\"Fev/2009\",\"Mar/2009\",\"Abr/2009\",\"Mai/2009\",\"Jul/2009\",\"Jun/2009\",\"Agos/2009\",\"Set/2009\",\"Nov/2009\",\"Dez/2009\",\"Jan/2010\",\"Fev/2010\",\"Mar/2010\",\"Abr/2010\",\"Mai/2010\",\"Jul/2010\",\"Jun/2010\",\"Agos/2010\",\"Set/2010\",\"Nov/2010\",\"Dez/2010\",\"Jan/2011\",\"Fev/2011\",\"Mar/2011\",\"Abr/2011\",\"Mai/2011\",\"Jul/2011\",\"Jun/2011\",\"Agos/2011\",\"Set/2011\",\"Nov/2011\",\"Dez/2011\",\"Jan/2012\",\"Fev/2012\",\"Mar/2012\",\"Abr/2012\",\"Mai/2012\",\"Jul/2012\",\"Jun/2012\",\"Agos/2012\",\"Set/2012\",\"Nov/2012\",\"Dez/2012\",\"Jan/2013\",\"Fev/2013\",\"Mar/2013\",\"Abr/2013\",\"Mai/2013\",\"Jul/2013\",\"Jun/2013\",\"Agos/2013\",\"Set/2013\",\"Nov/2013\",\"Dez/2013\",\"Jan/2014\",\"Fev/2014\",\"Mar/2014\",\"Abr/2014\",\"Mai/2014\",\"Jul/2014\",\"Jun/2014\",\"Agos/2014\",\"Set/2014\",\"Nov/2014\",\"Dez/2014\",\"Jan/2015\",\"Fev/2015\",\"Mar/2015\",\"Abr/2015\",\"Mai/2015\",\"Jul/2015\",\"Jun/2015\",\"Agos/2015\",\"Set/2015\",\"Nov/2015\",\"Dez/2015\",\"Jan/2016\",\"Fev/2016\",\"Mar/2016\",\"Abr/2016\",\"Mai/2016\",\"Jul/2016\",\"Jun/2016\",\"Agos/2016\",\"Set/2016\",\"Nov/2016\",\"Dez/2016\",\"Jan/2017\",\"Fev/2017\",\"Mar/2017\",\"Abr/2017\",\"Mai/2017\",\"Jul/2017\",\"Jun/2017\",\"Agos/2017\",\"Set/2017\",\"Nov/2017\",\"Dez/2017\",\"Jan/2018\",\"Fev/2018\",\"Mar/2018\",\"Abr/2018\",\"Mai/2018\",\"Jul/2018\",\"Jun/2018\",\"Agos/2018\",\"Set/2018\",\"Nov/2018\",\"Dez/2018\",\"Jan/2019\",\"Fev/2019\",\"Mar/2019\",\"Abr/2019\",\"Mai/2019\",\"Jul/2019\",\"Jun/2019\",\"Agos/2019\",\"Set/2019\",\"Nov/2019\",\"Dez/2019\",\"Jan/2020\",\"Fev/2020\",\"Mar/2020\",\"Abr/2020\",\"Mai/2020\",\"Jul/2020\",\"Jun/2020\",\"Agos/2020\",\"Set/2020\",\"Nov/2020\",\"Dez/2020\",\"Jan/2021\",\"Fev/2021\",\"Mar/2021\",\"Abr/2021\",\"Mai/2021\",\"Jul/2021\",\"Jun/2021\",\"Agos/2021\",\"Set/2021\",\"Nov/2021\",\"Dez/2021\",\"Jan/2022\",\"Fev/2022\",\"Mar/2022\",\"Abr/2022\",\"Mai/2022\",\"Jul/2022\",\"Jun/2022\",\"Agos/2022\",\"Set/2022\",\"Nov/2022\",\"Dez/2022\"],\"xaxis\":\"x\",\"y\":[900507.98,1064673.39,1032569.5900000001,918064.51,922815.5,938308.2499999999,1047746.07,968794.52,1035147.45,1179898.5,911284.9199999999,973690.42,915849.11,864594.4400000001,897612.8099999999,879017.97,895243.6799999999,921076.94,970207.9999999999,1018413.71,1149436.24,797009.9,836040.72,1077340.24,900934.9,897544.91,830251.6799999999,801239.1000000001,624198.3899999999,612103.4200000002,815833.86,1239798.3800000001,637051.8300000001,742025.83,949478.93,956659.54,992217.1699999999,1808702.49,1738878.6099999999,2047082.77,2088794.0699999998,2107203.49,2354129.5999999996,1316532.7999999998,1780474.06,2151847.67,1951079.3,2027543.13,1996453.08,1889574.77,1864411.2599999998,1705912.77,1723578.42,2223574.8,1480791.5,1757561.2400000002,2063137.25,2216002.79,2093750.01,2124394.71,2129996.49,2085751.4900000002,2072084.12,2106615.7600000002,2147333.0,1475224.76,2074178.42,1997448.9000000001,2042323.3199999998,1970097.2799999998,1650108.81,1667902.7899999998,1587532.3199999998,1367360.4699999997,1713372.13,2366020.52,1445822.6800000002,1662681.34,2151513.96,2098678.03,2174645.24,2050800.47,1933289.25,6159167.96,2202797.8899999997,2075630.2000000002,2139239.77,1465053.54,1978217.6,2275994.2,2102379.81,2144163.8,2211149.1799999997,2096954.63,2226048.46,2087251.3599999999,2021035.96,2040739.7400000002,1560950.2800000003,1953079.06,2227005.47,2258979.92,2255582.73,2218084.21,2053953.83,2376442.77,2165444.4299999997,2357533.0700000003,2309031.8899999997,1762415.31,2108974.19,2605619.03,2349894.8200000003,2273119.95,2106459.8899999997,2119496.48,1646580.48,1249302.86,2000296.56,2513361.76,1598389.68,1720293.88,1879841.79,2036964.2100000002,2197949.5300000003,2199537.09,1880208.8,2185251.87,2194227.97,2498802.2399999998,2409187.95,1394867.8099999998,1995004.61,1898897.77,1370273.52,1424952.3599999999,1337697.2800000003,1443425.1,1474374.8200000003,1699203.9899999998,1740068.0,1816168.43,1480043.35,1722629.43,1789766.3399999999,1729045.6199999999,2012278.79,2124626.29,2047952.63,2542257.54,2294229.2699999996,2337155.23,2529827.34,1799149.29,2227932.79,2706682.18,2401028.74,2557140.17,2207506.92,2184849.78,2095483.9299999997,1623089.35,2085829.2499999998,2401074.27],\"yaxis\":\"y\",\"type\":\"bar\"}],                        {\"template\":{\"data\":{\"histogram2dcontour\":[{\"type\":\"histogram2dcontour\",\"colorbar\":{\"outlinewidth\":0,\"ticks\":\"\"},\"colorscale\":[[0.0,\"#0d0887\"],[0.1111111111111111,\"#46039f\"],[0.2222222222222222,\"#7201a8\"],[0.3333333333333333,\"#9c179e\"],[0.4444444444444444,\"#bd3786\"],[0.5555555555555556,\"#d8576b\"],[0.6666666666666666,\"#ed7953\"],[0.7777777777777778,\"#fb9f3a\"],[0.8888888888888888,\"#fdca26\"],[1.0,\"#f0f921\"]]}],\"choropleth\":[{\"type\":\"choropleth\",\"colorbar\":{\"outlinewidth\":0,\"ticks\":\"\"}}],\"histogram2d\":[{\"type\":\"histogram2d\",\"colorbar\":{\"outlinewidth\":0,\"ticks\":\"\"},\"colorscale\":[[0.0,\"#0d0887\"],[0.1111111111111111,\"#46039f\"],[0.2222222222222222,\"#7201a8\"],[0.3333333333333333,\"#9c179e\"],[0.4444444444444444,\"#bd3786\"],[0.5555555555555556,\"#d8576b\"],[0.6666666666666666,\"#ed7953\"],[0.7777777777777778,\"#fb9f3a\"],[0.8888888888888888,\"#fdca26\"],[1.0,\"#f0f921\"]]}],\"heatmap\":[{\"type\":\"heatmap\",\"colorbar\":{\"outlinewidth\":0,\"ticks\":\"\"},\"colorscale\":[[0.0,\"#0d0887\"],[0.1111111111111111,\"#46039f\"],[0.2222222222222222,\"#7201a8\"],[0.3333333333333333,\"#9c179e\"],[0.4444444444444444,\"#bd3786\"],[0.5555555555555556,\"#d8576b\"],[0.6666666666666666,\"#ed7953\"],[0.7777777777777778,\"#fb9f3a\"],[0.8888888888888888,\"#fdca26\"],[1.0,\"#f0f921\"]]}],\"heatmapgl\":[{\"type\":\"heatmapgl\",\"colorbar\":{\"outlinewidth\":0,\"ticks\":\"\"},\"colorscale\":[[0.0,\"#0d0887\"],[0.1111111111111111,\"#46039f\"],[0.2222222222222222,\"#7201a8\"],[0.3333333333333333,\"#9c179e\"],[0.4444444444444444,\"#bd3786\"],[0.5555555555555556,\"#d8576b\"],[0.6666666666666666,\"#ed7953\"],[0.7777777777777778,\"#fb9f3a\"],[0.8888888888888888,\"#fdca26\"],[1.0,\"#f0f921\"]]}],\"contourcarpet\":[{\"type\":\"contourcarpet\",\"colorbar\":{\"outlinewidth\":0,\"ticks\":\"\"}}],\"contour\":[{\"type\":\"contour\",\"colorbar\":{\"outlinewidth\":0,\"ticks\":\"\"},\"colorscale\":[[0.0,\"#0d0887\"],[0.1111111111111111,\"#46039f\"],[0.2222222222222222,\"#7201a8\"],[0.3333333333333333,\"#9c179e\"],[0.4444444444444444,\"#bd3786\"],[0.5555555555555556,\"#d8576b\"],[0.6666666666666666,\"#ed7953\"],[0.7777777777777778,\"#fb9f3a\"],[0.8888888888888888,\"#fdca26\"],[1.0,\"#f0f921\"]]}],\"surface\":[{\"type\":\"surface\",\"colorbar\":{\"outlinewidth\":0,\"ticks\":\"\"},\"colorscale\":[[0.0,\"#0d0887\"],[0.1111111111111111,\"#46039f\"],[0.2222222222222222,\"#7201a8\"],[0.3333333333333333,\"#9c179e\"],[0.4444444444444444,\"#bd3786\"],[0.5555555555555556,\"#d8576b\"],[0.6666666666666666,\"#ed7953\"],[0.7777777777777778,\"#fb9f3a\"],[0.8888888888888888,\"#fdca26\"],[1.0,\"#f0f921\"]]}],\"mesh3d\":[{\"type\":\"mesh3d\",\"colorbar\":{\"outlinewidth\":0,\"ticks\":\"\"}}],\"scatter\":[{\"fillpattern\":{\"fillmode\":\"overlay\",\"size\":10,\"solidity\":0.2},\"type\":\"scatter\"}],\"parcoords\":[{\"type\":\"parcoords\",\"line\":{\"colorbar\":{\"outlinewidth\":0,\"ticks\":\"\"}}}],\"scatterpolargl\":[{\"type\":\"scatterpolargl\",\"marker\":{\"colorbar\":{\"outlinewidth\":0,\"ticks\":\"\"}}}],\"bar\":[{\"error_x\":{\"color\":\"#2a3f5f\"},\"error_y\":{\"color\":\"#2a3f5f\"},\"marker\":{\"line\":{\"color\":\"#E5ECF6\",\"width\":0.5},\"pattern\":{\"fillmode\":\"overlay\",\"size\":10,\"solidity\":0.2}},\"type\":\"bar\"}],\"scattergeo\":[{\"type\":\"scattergeo\",\"marker\":{\"colorbar\":{\"outlinewidth\":0,\"ticks\":\"\"}}}],\"scatterpolar\":[{\"type\":\"scatterpolar\",\"marker\":{\"colorbar\":{\"outlinewidth\":0,\"ticks\":\"\"}}}],\"histogram\":[{\"marker\":{\"pattern\":{\"fillmode\":\"overlay\",\"size\":10,\"solidity\":0.2}},\"type\":\"histogram\"}],\"scattergl\":[{\"type\":\"scattergl\",\"marker\":{\"colorbar\":{\"outlinewidth\":0,\"ticks\":\"\"}}}],\"scatter3d\":[{\"type\":\"scatter3d\",\"line\":{\"colorbar\":{\"outlinewidth\":0,\"ticks\":\"\"}},\"marker\":{\"colorbar\":{\"outlinewidth\":0,\"ticks\":\"\"}}}],\"scattermapbox\":[{\"type\":\"scattermapbox\",\"marker\":{\"colorbar\":{\"outlinewidth\":0,\"ticks\":\"\"}}}],\"scatterternary\":[{\"type\":\"scatterternary\",\"marker\":{\"colorbar\":{\"outlinewidth\":0,\"ticks\":\"\"}}}],\"scattercarpet\":[{\"type\":\"scattercarpet\",\"marker\":{\"colorbar\":{\"outlinewidth\":0,\"ticks\":\"\"}}}],\"carpet\":[{\"aaxis\":{\"endlinecolor\":\"#2a3f5f\",\"gridcolor\":\"white\",\"linecolor\":\"white\",\"minorgridcolor\":\"white\",\"startlinecolor\":\"#2a3f5f\"},\"baxis\":{\"endlinecolor\":\"#2a3f5f\",\"gridcolor\":\"white\",\"linecolor\":\"white\",\"minorgridcolor\":\"white\",\"startlinecolor\":\"#2a3f5f\"},\"type\":\"carpet\"}],\"table\":[{\"cells\":{\"fill\":{\"color\":\"#EBF0F8\"},\"line\":{\"color\":\"white\"}},\"header\":{\"fill\":{\"color\":\"#C8D4E3\"},\"line\":{\"color\":\"white\"}},\"type\":\"table\"}],\"barpolar\":[{\"marker\":{\"line\":{\"color\":\"#E5ECF6\",\"width\":0.5},\"pattern\":{\"fillmode\":\"overlay\",\"size\":10,\"solidity\":0.2}},\"type\":\"barpolar\"}],\"pie\":[{\"automargin\":true,\"type\":\"pie\"}]},\"layout\":{\"autotypenumbers\":\"strict\",\"colorway\":[\"#636efa\",\"#EF553B\",\"#00cc96\",\"#ab63fa\",\"#FFA15A\",\"#19d3f3\",\"#FF6692\",\"#B6E880\",\"#FF97FF\",\"#FECB52\"],\"font\":{\"color\":\"#2a3f5f\"},\"hovermode\":\"closest\",\"hoverlabel\":{\"align\":\"left\"},\"paper_bgcolor\":\"white\",\"plot_bgcolor\":\"#E5ECF6\",\"polar\":{\"bgcolor\":\"#E5ECF6\",\"angularaxis\":{\"gridcolor\":\"white\",\"linecolor\":\"white\",\"ticks\":\"\"},\"radialaxis\":{\"gridcolor\":\"white\",\"linecolor\":\"white\",\"ticks\":\"\"}},\"ternary\":{\"bgcolor\":\"#E5ECF6\",\"aaxis\":{\"gridcolor\":\"white\",\"linecolor\":\"white\",\"ticks\":\"\"},\"baxis\":{\"gridcolor\":\"white\",\"linecolor\":\"white\",\"ticks\":\"\"},\"caxis\":{\"gridcolor\":\"white\",\"linecolor\":\"white\",\"ticks\":\"\"}},\"coloraxis\":{\"colorbar\":{\"outlinewidth\":0,\"ticks\":\"\"}},\"colorscale\":{\"sequential\":[[0.0,\"#0d0887\"],[0.1111111111111111,\"#46039f\"],[0.2222222222222222,\"#7201a8\"],[0.3333333333333333,\"#9c179e\"],[0.4444444444444444,\"#bd3786\"],[0.5555555555555556,\"#d8576b\"],[0.6666666666666666,\"#ed7953\"],[0.7777777777777778,\"#fb9f3a\"],[0.8888888888888888,\"#fdca26\"],[1.0,\"#f0f921\"]],\"sequentialminus\":[[0.0,\"#0d0887\"],[0.1111111111111111,\"#46039f\"],[0.2222222222222222,\"#7201a8\"],[0.3333333333333333,\"#9c179e\"],[0.4444444444444444,\"#bd3786\"],[0.5555555555555556,\"#d8576b\"],[0.6666666666666666,\"#ed7953\"],[0.7777777777777778,\"#fb9f3a\"],[0.8888888888888888,\"#fdca26\"],[1.0,\"#f0f921\"]],\"diverging\":[[0,\"#8e0152\"],[0.1,\"#c51b7d\"],[0.2,\"#de77ae\"],[0.3,\"#f1b6da\"],[0.4,\"#fde0ef\"],[0.5,\"#f7f7f7\"],[0.6,\"#e6f5d0\"],[0.7,\"#b8e186\"],[0.8,\"#7fbc41\"],[0.9,\"#4d9221\"],[1,\"#276419\"]]},\"xaxis\":{\"gridcolor\":\"white\",\"linecolor\":\"white\",\"ticks\":\"\",\"title\":{\"standoff\":15},\"zerolinecolor\":\"white\",\"automargin\":true,\"zerolinewidth\":2},\"yaxis\":{\"gridcolor\":\"white\",\"linecolor\":\"white\",\"ticks\":\"\",\"title\":{\"standoff\":15},\"zerolinecolor\":\"white\",\"automargin\":true,\"zerolinewidth\":2},\"scene\":{\"xaxis\":{\"backgroundcolor\":\"#E5ECF6\",\"gridcolor\":\"white\",\"linecolor\":\"white\",\"showbackground\":true,\"ticks\":\"\",\"zerolinecolor\":\"white\",\"gridwidth\":2},\"yaxis\":{\"backgroundcolor\":\"#E5ECF6\",\"gridcolor\":\"white\",\"linecolor\":\"white\",\"showbackground\":true,\"ticks\":\"\",\"zerolinecolor\":\"white\",\"gridwidth\":2},\"zaxis\":{\"backgroundcolor\":\"#E5ECF6\",\"gridcolor\":\"white\",\"linecolor\":\"white\",\"showbackground\":true,\"ticks\":\"\",\"zerolinecolor\":\"white\",\"gridwidth\":2}},\"shapedefaults\":{\"line\":{\"color\":\"#2a3f5f\"}},\"annotationdefaults\":{\"arrowcolor\":\"#2a3f5f\",\"arrowhead\":0,\"arrowwidth\":1},\"geo\":{\"bgcolor\":\"white\",\"landcolor\":\"#E5ECF6\",\"subunitcolor\":\"white\",\"showland\":true,\"showlakes\":true,\"lakecolor\":\"white\"},\"title\":{\"x\":0.05},\"mapbox\":{\"style\":\"light\"}}},\"xaxis\":{\"anchor\":\"y\",\"domain\":[0.0,1.0],\"title\":{\"text\":\"Data\"}},\"yaxis\":{\"anchor\":\"x\",\"domain\":[0.0,1.0],\"title\":{\"text\":\"Gasto\"}},\"legend\":{\"tracegroupgap\":0},\"title\":{\"text\":\"Gastos Mensais\"},\"barmode\":\"relative\"},                        {\"responsive\": true}                    ).then(function(){\n",
       "                            \n",
       "var gd = document.getElementById('886f91d3-1902-494d-a5a9-63a066fff345');\n",
       "var x = new MutationObserver(function (mutations, observer) {{\n",
       "        var display = window.getComputedStyle(gd).display;\n",
       "        if (!display || display === 'none') {{\n",
       "            console.log([gd, 'removed!']);\n",
       "            Plotly.purge(gd);\n",
       "            observer.disconnect();\n",
       "        }}\n",
       "}});\n",
       "\n",
       "// Listen for the removal of the full notebook cells\n",
       "var notebookContainer = gd.closest('#notebook-container');\n",
       "if (notebookContainer) {{\n",
       "    x.observe(notebookContainer, {childList: true});\n",
       "}}\n",
       "\n",
       "// Listen for the clearing of the current output cell\n",
       "var outputEl = gd.closest('.output');\n",
       "if (outputEl) {{\n",
       "    x.observe(outputEl, {childList: true});\n",
       "}}\n",
       "\n",
       "                        })                };                });            </script>        </div>"
      ]
     },
     "metadata": {},
     "output_type": "display_data"
    }
   ],
   "source": [
    "dl.plot(x='Data', y='Gasto', title='Gastos Mensais', kind='bar')"
   ]
  },
  {
   "cell_type": "code",
   "execution_count": 145,
   "id": "934ca910-8400-4108-af32-1a15e1e8a6c1",
   "metadata": {},
   "outputs": [
    {
     "data": {
      "text/html": [
       "<div>\n",
       "<style scoped>\n",
       "    .dataframe tbody tr th:only-of-type {\n",
       "        vertical-align: middle;\n",
       "    }\n",
       "\n",
       "    .dataframe tbody tr th {\n",
       "        vertical-align: top;\n",
       "    }\n",
       "\n",
       "    .dataframe thead th {\n",
       "        text-align: right;\n",
       "    }\n",
       "</style>\n",
       "<table border=\"1\" class=\"dataframe\">\n",
       "  <thead>\n",
       "    <tr style=\"text-align: right;\">\n",
       "      <th></th>\n",
       "      <th>ANO</th>\n",
       "      <th>MES</th>\n",
       "      <th>SENADOR</th>\n",
       "      <th>TIPO_DESPESA</th>\n",
       "      <th>CNPJ_CPF</th>\n",
       "      <th>FORNECEDOR</th>\n",
       "      <th>DOCUMENTO</th>\n",
       "      <th>DATA</th>\n",
       "      <th>DETALHAMENTO</th>\n",
       "      <th>VALOR_REEMBOLSADO</th>\n",
       "      <th>COD_DOCUMENTO</th>\n",
       "    </tr>\n",
       "  </thead>\n",
       "  <tbody>\n",
       "    <tr>\n",
       "      <th>8</th>\n",
       "      <td>2008</td>\n",
       "      <td>2</td>\n",
       "      <td>ADELMIR SANTANA</td>\n",
       "      <td>Contratação de consultorias, assessorias, pesq...</td>\n",
       "      <td>NaN</td>\n",
       "      <td>NaN</td>\n",
       "      <td>NaN</td>\n",
       "      <td>NaN</td>\n",
       "      <td>NaN</td>\n",
       "      <td>13800.00</td>\n",
       "      <td>2.008021e+12</td>\n",
       "    </tr>\n",
       "    <tr>\n",
       "      <th>9</th>\n",
       "      <td>2008</td>\n",
       "      <td>2</td>\n",
       "      <td>ADELMIR SANTANA</td>\n",
       "      <td>Locomoção, hospedagem, alimentação, combustíve...</td>\n",
       "      <td>NaN</td>\n",
       "      <td>NaN</td>\n",
       "      <td>NaN</td>\n",
       "      <td>NaN</td>\n",
       "      <td>NaN</td>\n",
       "      <td>1151.13</td>\n",
       "      <td>2.008021e+12</td>\n",
       "    </tr>\n",
       "    <tr>\n",
       "      <th>30</th>\n",
       "      <td>2008</td>\n",
       "      <td>2</td>\n",
       "      <td>ALMEIDA LIMA</td>\n",
       "      <td>Aluguel de imóveis para escritório político, c...</td>\n",
       "      <td>NaN</td>\n",
       "      <td>NaN</td>\n",
       "      <td>NaN</td>\n",
       "      <td>NaN</td>\n",
       "      <td>NaN</td>\n",
       "      <td>2279.98</td>\n",
       "      <td>2.008020e+12</td>\n",
       "    </tr>\n",
       "    <tr>\n",
       "      <th>31</th>\n",
       "      <td>2008</td>\n",
       "      <td>2</td>\n",
       "      <td>ALMEIDA LIMA</td>\n",
       "      <td>Aquisição de material de consumo para uso no e...</td>\n",
       "      <td>NaN</td>\n",
       "      <td>NaN</td>\n",
       "      <td>NaN</td>\n",
       "      <td>NaN</td>\n",
       "      <td>NaN</td>\n",
       "      <td>140.90</td>\n",
       "      <td>2.008020e+12</td>\n",
       "    </tr>\n",
       "    <tr>\n",
       "      <th>32</th>\n",
       "      <td>2008</td>\n",
       "      <td>2</td>\n",
       "      <td>ALMEIDA LIMA</td>\n",
       "      <td>Contratação de consultorias, assessorias, pesq...</td>\n",
       "      <td>NaN</td>\n",
       "      <td>NaN</td>\n",
       "      <td>NaN</td>\n",
       "      <td>NaN</td>\n",
       "      <td>NaN</td>\n",
       "      <td>41.22</td>\n",
       "      <td>2.008020e+12</td>\n",
       "    </tr>\n",
       "    <tr>\n",
       "      <th>...</th>\n",
       "      <td>...</td>\n",
       "      <td>...</td>\n",
       "      <td>...</td>\n",
       "      <td>...</td>\n",
       "      <td>...</td>\n",
       "      <td>...</td>\n",
       "      <td>...</td>\n",
       "      <td>...</td>\n",
       "      <td>...</td>\n",
       "      <td>...</td>\n",
       "      <td>...</td>\n",
       "    </tr>\n",
       "    <tr>\n",
       "      <th>2352</th>\n",
       "      <td>2008</td>\n",
       "      <td>2</td>\n",
       "      <td>VALTER PEREIRA</td>\n",
       "      <td>Locomoção, hospedagem, alimentação, combustíve...</td>\n",
       "      <td>NaN</td>\n",
       "      <td>NaN</td>\n",
       "      <td>NaN</td>\n",
       "      <td>NaN</td>\n",
       "      <td>NaN</td>\n",
       "      <td>10403.56</td>\n",
       "      <td>2.008021e+12</td>\n",
       "    </tr>\n",
       "    <tr>\n",
       "      <th>2406</th>\n",
       "      <td>2008</td>\n",
       "      <td>2</td>\n",
       "      <td>WELLINGTON SALGADO DE OLIVEIRA</td>\n",
       "      <td>Aluguel de imóveis para escritório político, c...</td>\n",
       "      <td>NaN</td>\n",
       "      <td>NaN</td>\n",
       "      <td>NaN</td>\n",
       "      <td>NaN</td>\n",
       "      <td>NaN</td>\n",
       "      <td>1796.21</td>\n",
       "      <td>2.008021e+12</td>\n",
       "    </tr>\n",
       "    <tr>\n",
       "      <th>2407</th>\n",
       "      <td>2008</td>\n",
       "      <td>2</td>\n",
       "      <td>WELLINGTON SALGADO DE OLIVEIRA</td>\n",
       "      <td>Aquisição de material de consumo para uso no e...</td>\n",
       "      <td>NaN</td>\n",
       "      <td>NaN</td>\n",
       "      <td>NaN</td>\n",
       "      <td>NaN</td>\n",
       "      <td>NaN</td>\n",
       "      <td>247.59</td>\n",
       "      <td>2.008021e+12</td>\n",
       "    </tr>\n",
       "    <tr>\n",
       "      <th>2408</th>\n",
       "      <td>2008</td>\n",
       "      <td>2</td>\n",
       "      <td>WELLINGTON SALGADO DE OLIVEIRA</td>\n",
       "      <td>Contratação de consultorias, assessorias, pesq...</td>\n",
       "      <td>NaN</td>\n",
       "      <td>NaN</td>\n",
       "      <td>NaN</td>\n",
       "      <td>NaN</td>\n",
       "      <td>NaN</td>\n",
       "      <td>450.00</td>\n",
       "      <td>2.008021e+12</td>\n",
       "    </tr>\n",
       "    <tr>\n",
       "      <th>2409</th>\n",
       "      <td>2008</td>\n",
       "      <td>2</td>\n",
       "      <td>WELLINGTON SALGADO DE OLIVEIRA</td>\n",
       "      <td>Locomoção, hospedagem, alimentação, combustíve...</td>\n",
       "      <td>NaN</td>\n",
       "      <td>NaN</td>\n",
       "      <td>NaN</td>\n",
       "      <td>NaN</td>\n",
       "      <td>NaN</td>\n",
       "      <td>2895.01</td>\n",
       "      <td>2.008021e+12</td>\n",
       "    </tr>\n",
       "  </tbody>\n",
       "</table>\n",
       "<p>231 rows × 11 columns</p>\n",
       "</div>"
      ],
      "text/plain": [
       "       ANO  MES                         SENADOR  \\\n",
       "8     2008    2                 ADELMIR SANTANA   \n",
       "9     2008    2                 ADELMIR SANTANA   \n",
       "30    2008    2                    ALMEIDA LIMA   \n",
       "31    2008    2                    ALMEIDA LIMA   \n",
       "32    2008    2                    ALMEIDA LIMA   \n",
       "...    ...  ...                             ...   \n",
       "2352  2008    2                  VALTER PEREIRA   \n",
       "2406  2008    2  WELLINGTON SALGADO DE OLIVEIRA   \n",
       "2407  2008    2  WELLINGTON SALGADO DE OLIVEIRA   \n",
       "2408  2008    2  WELLINGTON SALGADO DE OLIVEIRA   \n",
       "2409  2008    2  WELLINGTON SALGADO DE OLIVEIRA   \n",
       "\n",
       "                                           TIPO_DESPESA CNPJ_CPF FORNECEDOR  \\\n",
       "8     Contratação de consultorias, assessorias, pesq...      NaN        NaN   \n",
       "9     Locomoção, hospedagem, alimentação, combustíve...      NaN        NaN   \n",
       "30    Aluguel de imóveis para escritório político, c...      NaN        NaN   \n",
       "31    Aquisição de material de consumo para uso no e...      NaN        NaN   \n",
       "32    Contratação de consultorias, assessorias, pesq...      NaN        NaN   \n",
       "...                                                 ...      ...        ...   \n",
       "2352  Locomoção, hospedagem, alimentação, combustíve...      NaN        NaN   \n",
       "2406  Aluguel de imóveis para escritório político, c...      NaN        NaN   \n",
       "2407  Aquisição de material de consumo para uso no e...      NaN        NaN   \n",
       "2408  Contratação de consultorias, assessorias, pesq...      NaN        NaN   \n",
       "2409  Locomoção, hospedagem, alimentação, combustíve...      NaN        NaN   \n",
       "\n",
       "     DOCUMENTO DATA DETALHAMENTO  VALOR_REEMBOLSADO  COD_DOCUMENTO  \n",
       "8          NaN  NaN          NaN           13800.00   2.008021e+12  \n",
       "9          NaN  NaN          NaN            1151.13   2.008021e+12  \n",
       "30         NaN  NaN          NaN            2279.98   2.008020e+12  \n",
       "31         NaN  NaN          NaN             140.90   2.008020e+12  \n",
       "32         NaN  NaN          NaN              41.22   2.008020e+12  \n",
       "...        ...  ...          ...                ...            ...  \n",
       "2352       NaN  NaN          NaN           10403.56   2.008021e+12  \n",
       "2406       NaN  NaN          NaN            1796.21   2.008021e+12  \n",
       "2407       NaN  NaN          NaN             247.59   2.008021e+12  \n",
       "2408       NaN  NaN          NaN             450.00   2.008021e+12  \n",
       "2409       NaN  NaN          NaN            2895.01   2.008021e+12  \n",
       "\n",
       "[231 rows x 11 columns]"
      ]
     },
     "execution_count": 145,
     "metadata": {},
     "output_type": "execute_result"
    }
   ],
   "source": [
    "dff[ ( dff['MES']  == mes.index('Fev')+1 ) & (dff['ANO'] == 2008) ]"
   ]
  },
  {
   "cell_type": "code",
   "execution_count": 146,
   "id": "49ece38c-12e4-406b-8a1a-20a45181fae3",
   "metadata": {},
   "outputs": [
    {
     "data": {
      "text/html": [
       "<div>\n",
       "<style scoped>\n",
       "    .dataframe tbody tr th:only-of-type {\n",
       "        vertical-align: middle;\n",
       "    }\n",
       "\n",
       "    .dataframe tbody tr th {\n",
       "        vertical-align: top;\n",
       "    }\n",
       "\n",
       "    .dataframe thead th {\n",
       "        text-align: right;\n",
       "    }\n",
       "</style>\n",
       "<table border=\"1\" class=\"dataframe\">\n",
       "  <thead>\n",
       "    <tr style=\"text-align: right;\">\n",
       "      <th></th>\n",
       "      <th>ANO</th>\n",
       "      <th>MES</th>\n",
       "      <th>SENADOR</th>\n",
       "      <th>TIPO_DESPESA</th>\n",
       "      <th>CNPJ_CPF</th>\n",
       "      <th>FORNECEDOR</th>\n",
       "      <th>DOCUMENTO</th>\n",
       "      <th>DATA</th>\n",
       "      <th>DETALHAMENTO</th>\n",
       "      <th>VALOR_REEMBOLSADO</th>\n",
       "      <th>COD_DOCUMENTO</th>\n",
       "    </tr>\n",
       "  </thead>\n",
       "  <tbody>\n",
       "    <tr>\n",
       "      <th>144393</th>\n",
       "      <td>2015</td>\n",
       "      <td>8</td>\n",
       "      <td>ACIR GURGACZ</td>\n",
       "      <td>Aluguel de imóveis para escritório político, c...</td>\n",
       "      <td>004.948.028-63</td>\n",
       "      <td>GILBERTO PISELO DO NASCIMENTO</td>\n",
       "      <td>008/15</td>\n",
       "      <td>03/08/2015</td>\n",
       "      <td>Despesa com pagamento de aluguel de imóvel par...</td>\n",
       "      <td>6000.00</td>\n",
       "      <td>2015568.0</td>\n",
       "    </tr>\n",
       "    <tr>\n",
       "      <th>144394</th>\n",
       "      <td>2015</td>\n",
       "      <td>8</td>\n",
       "      <td>ACIR GURGACZ</td>\n",
       "      <td>Locomoção, hospedagem, alimentação, combustíve...</td>\n",
       "      <td>34.274.233/0097-46</td>\n",
       "      <td>PETROBRAS DISTRIBUIDORA</td>\n",
       "      <td>000539271</td>\n",
       "      <td>06/08/2015</td>\n",
       "      <td>Despesa com aquisição de combustível para abas...</td>\n",
       "      <td>1960.11</td>\n",
       "      <td>2015569.0</td>\n",
       "    </tr>\n",
       "    <tr>\n",
       "      <th>144395</th>\n",
       "      <td>2015</td>\n",
       "      <td>8</td>\n",
       "      <td>ACIR GURGACZ</td>\n",
       "      <td>Locomoção, hospedagem, alimentação, combustíve...</td>\n",
       "      <td>34.274.233/0097-46</td>\n",
       "      <td>PETROBRAS DISTRIBUIDORA</td>\n",
       "      <td>000539459</td>\n",
       "      <td>07/08/2015</td>\n",
       "      <td>Despesa com aquisição de combustível para abas...</td>\n",
       "      <td>1538.08</td>\n",
       "      <td>2015570.0</td>\n",
       "    </tr>\n",
       "    <tr>\n",
       "      <th>144396</th>\n",
       "      <td>2015</td>\n",
       "      <td>8</td>\n",
       "      <td>ACIR GURGACZ</td>\n",
       "      <td>Locomoção, hospedagem, alimentação, combustíve...</td>\n",
       "      <td>34.274.233/0097-46</td>\n",
       "      <td>PETROBRAS DISTRIBUIDORA</td>\n",
       "      <td>000539877</td>\n",
       "      <td>10/08/2015</td>\n",
       "      <td>Despesa com aquisição de combustível para abas...</td>\n",
       "      <td>1960.11</td>\n",
       "      <td>2015571.0</td>\n",
       "    </tr>\n",
       "    <tr>\n",
       "      <th>144397</th>\n",
       "      <td>2015</td>\n",
       "      <td>8</td>\n",
       "      <td>ACIR GURGACZ</td>\n",
       "      <td>Locomoção, hospedagem, alimentação, combustíve...</td>\n",
       "      <td>34.274.233/0112-10</td>\n",
       "      <td>PETROBRAS DISTRIBUIDORA</td>\n",
       "      <td>000067584</td>\n",
       "      <td>12/08/2015</td>\n",
       "      <td>Despesa com aquisição de combustível para abas...</td>\n",
       "      <td>4575.22</td>\n",
       "      <td>2015573.0</td>\n",
       "    </tr>\n",
       "    <tr>\n",
       "      <th>...</th>\n",
       "      <td>...</td>\n",
       "      <td>...</td>\n",
       "      <td>...</td>\n",
       "      <td>...</td>\n",
       "      <td>...</td>\n",
       "      <td>...</td>\n",
       "      <td>...</td>\n",
       "      <td>...</td>\n",
       "      <td>...</td>\n",
       "      <td>...</td>\n",
       "      <td>...</td>\n",
       "    </tr>\n",
       "    <tr>\n",
       "      <th>170225</th>\n",
       "      <td>2015</td>\n",
       "      <td>8</td>\n",
       "      <td>ZEZÉ PERRELLA</td>\n",
       "      <td>Passagens aéreas, aquáticas e terrestres nacio...</td>\n",
       "      <td>02.575.829/0001-48</td>\n",
       "      <td>Avianca</td>\n",
       "      <td>Z8WCDT</td>\n",
       "      <td>28/08/2015</td>\n",
       "      <td>Companhia Aérea: AVIANCA, Localizador: Z8WCDT....</td>\n",
       "      <td>1638.87</td>\n",
       "      <td>2018391.0</td>\n",
       "    </tr>\n",
       "    <tr>\n",
       "      <th>170226</th>\n",
       "      <td>2015</td>\n",
       "      <td>8</td>\n",
       "      <td>ZEZÉ PERRELLA</td>\n",
       "      <td>Passagens aéreas, aquáticas e terrestres nacio...</td>\n",
       "      <td>09.296.295/0001-60</td>\n",
       "      <td>Azul</td>\n",
       "      <td>F65KMV</td>\n",
       "      <td>06/08/2015</td>\n",
       "      <td>Companhia Aérea: AZUL, Localizador: F65KMV. Pa...</td>\n",
       "      <td>724.93</td>\n",
       "      <td>2018369.0</td>\n",
       "    </tr>\n",
       "    <tr>\n",
       "      <th>170227</th>\n",
       "      <td>2015</td>\n",
       "      <td>8</td>\n",
       "      <td>ZEZÉ PERRELLA</td>\n",
       "      <td>Passagens aéreas, aquáticas e terrestres nacio...</td>\n",
       "      <td>09.296.295/0001-60</td>\n",
       "      <td>Azul</td>\n",
       "      <td>WE9I5N</td>\n",
       "      <td>10/08/2015</td>\n",
       "      <td>Companhia Aérea: AZUL, Localizador: WE9I5N. Pa...</td>\n",
       "      <td>676.35</td>\n",
       "      <td>2018371.0</td>\n",
       "    </tr>\n",
       "    <tr>\n",
       "      <th>170228</th>\n",
       "      <td>2015</td>\n",
       "      <td>8</td>\n",
       "      <td>ZEZÉ PERRELLA</td>\n",
       "      <td>Passagens aéreas, aquáticas e terrestres nacio...</td>\n",
       "      <td>09.296.295/0001-60</td>\n",
       "      <td>Azul</td>\n",
       "      <td>YDIFND</td>\n",
       "      <td>28/08/2015</td>\n",
       "      <td>Companhia Aérea: AZUL, Localizador: YDIFND. Pa...</td>\n",
       "      <td>674.73</td>\n",
       "      <td>2018389.0</td>\n",
       "    </tr>\n",
       "    <tr>\n",
       "      <th>170229</th>\n",
       "      <td>2015</td>\n",
       "      <td>8</td>\n",
       "      <td>ZEZÉ PERRELLA</td>\n",
       "      <td>Passagens aéreas, aquáticas e terrestres nacio...</td>\n",
       "      <td>02.012.862/0001-60</td>\n",
       "      <td>TAM</td>\n",
       "      <td>ZX2CDH</td>\n",
       "      <td>27/08/2015</td>\n",
       "      <td>Companhia Aérea: TAM, Localizador: ZX2CDH. Pas...</td>\n",
       "      <td>930.18</td>\n",
       "      <td>2018387.0</td>\n",
       "    </tr>\n",
       "  </tbody>\n",
       "</table>\n",
       "<p>2494 rows × 11 columns</p>\n",
       "</div>"
      ],
      "text/plain": [
       "         ANO  MES        SENADOR  \\\n",
       "144393  2015    8   ACIR GURGACZ   \n",
       "144394  2015    8   ACIR GURGACZ   \n",
       "144395  2015    8   ACIR GURGACZ   \n",
       "144396  2015    8   ACIR GURGACZ   \n",
       "144397  2015    8   ACIR GURGACZ   \n",
       "...      ...  ...            ...   \n",
       "170225  2015    8  ZEZÉ PERRELLA   \n",
       "170226  2015    8  ZEZÉ PERRELLA   \n",
       "170227  2015    8  ZEZÉ PERRELLA   \n",
       "170228  2015    8  ZEZÉ PERRELLA   \n",
       "170229  2015    8  ZEZÉ PERRELLA   \n",
       "\n",
       "                                             TIPO_DESPESA            CNPJ_CPF  \\\n",
       "144393  Aluguel de imóveis para escritório político, c...      004.948.028-63   \n",
       "144394  Locomoção, hospedagem, alimentação, combustíve...  34.274.233/0097-46   \n",
       "144395  Locomoção, hospedagem, alimentação, combustíve...  34.274.233/0097-46   \n",
       "144396  Locomoção, hospedagem, alimentação, combustíve...  34.274.233/0097-46   \n",
       "144397  Locomoção, hospedagem, alimentação, combustíve...  34.274.233/0112-10   \n",
       "...                                                   ...                 ...   \n",
       "170225  Passagens aéreas, aquáticas e terrestres nacio...  02.575.829/0001-48   \n",
       "170226  Passagens aéreas, aquáticas e terrestres nacio...  09.296.295/0001-60   \n",
       "170227  Passagens aéreas, aquáticas e terrestres nacio...  09.296.295/0001-60   \n",
       "170228  Passagens aéreas, aquáticas e terrestres nacio...  09.296.295/0001-60   \n",
       "170229  Passagens aéreas, aquáticas e terrestres nacio...  02.012.862/0001-60   \n",
       "\n",
       "                           FORNECEDOR  DOCUMENTO        DATA  \\\n",
       "144393  GILBERTO PISELO DO NASCIMENTO     008/15  03/08/2015   \n",
       "144394        PETROBRAS DISTRIBUIDORA  000539271  06/08/2015   \n",
       "144395        PETROBRAS DISTRIBUIDORA  000539459  07/08/2015   \n",
       "144396        PETROBRAS DISTRIBUIDORA  000539877  10/08/2015   \n",
       "144397        PETROBRAS DISTRIBUIDORA  000067584  12/08/2015   \n",
       "...                               ...        ...         ...   \n",
       "170225                        Avianca     Z8WCDT  28/08/2015   \n",
       "170226                           Azul     F65KMV  06/08/2015   \n",
       "170227                           Azul     WE9I5N  10/08/2015   \n",
       "170228                           Azul     YDIFND  28/08/2015   \n",
       "170229                            TAM     ZX2CDH  27/08/2015   \n",
       "\n",
       "                                             DETALHAMENTO  VALOR_REEMBOLSADO  \\\n",
       "144393  Despesa com pagamento de aluguel de imóvel par...            6000.00   \n",
       "144394  Despesa com aquisição de combustível para abas...            1960.11   \n",
       "144395  Despesa com aquisição de combustível para abas...            1538.08   \n",
       "144396  Despesa com aquisição de combustível para abas...            1960.11   \n",
       "144397  Despesa com aquisição de combustível para abas...            4575.22   \n",
       "...                                                   ...                ...   \n",
       "170225  Companhia Aérea: AVIANCA, Localizador: Z8WCDT....            1638.87   \n",
       "170226  Companhia Aérea: AZUL, Localizador: F65KMV. Pa...             724.93   \n",
       "170227  Companhia Aérea: AZUL, Localizador: WE9I5N. Pa...             676.35   \n",
       "170228  Companhia Aérea: AZUL, Localizador: YDIFND. Pa...             674.73   \n",
       "170229  Companhia Aérea: TAM, Localizador: ZX2CDH. Pas...             930.18   \n",
       "\n",
       "        COD_DOCUMENTO  \n",
       "144393      2015568.0  \n",
       "144394      2015569.0  \n",
       "144395      2015570.0  \n",
       "144396      2015571.0  \n",
       "144397      2015573.0  \n",
       "...               ...  \n",
       "170225      2018391.0  \n",
       "170226      2018369.0  \n",
       "170227      2018371.0  \n",
       "170228      2018389.0  \n",
       "170229      2018387.0  \n",
       "\n",
       "[2494 rows x 11 columns]"
      ]
     },
     "execution_count": 146,
     "metadata": {},
     "output_type": "execute_result"
    }
   ],
   "source": [
    "dff[ (dff['MES'] == 8) & (dff['ANO'] == 2015) ]"
   ]
  }
 ],
 "metadata": {
  "kernelspec": {
   "display_name": "Python 3 (ipykernel)",
   "language": "python",
   "name": "python3"
  },
  "language_info": {
   "codemirror_mode": {
    "name": "ipython",
    "version": 3
   },
   "file_extension": ".py",
   "mimetype": "text/x-python",
   "name": "python",
   "nbconvert_exporter": "python",
   "pygments_lexer": "ipython3",
   "version": "3.10.7"
  }
 },
 "nbformat": 4,
 "nbformat_minor": 5
}
